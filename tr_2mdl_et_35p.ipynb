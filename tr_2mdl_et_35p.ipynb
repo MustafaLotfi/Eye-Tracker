{
  "nbformat": 4,
  "nbformat_minor": 0,
  "metadata": {
    "colab": {
      "name": "tr_2mdl_et_35p.ipynb",
      "provenance": [],
      "collapsed_sections": []
    },
    "kernelspec": {
      "name": "python3",
      "display_name": "Python 3"
    },
    "language_info": {
      "name": "python"
    },
    "accelerator": "GPU"
  },
  "cells": [
    {
      "cell_type": "code",
      "metadata": {
        "id": "Ks_AbdKIb-xZ"
      },
      "source": [
        "from tensorflow.keras.callbacks import EarlyStopping\n",
        "from tensorflow.keras.models import load_model\n",
        "from sklearn.preprocessing import StandardScaler\n",
        "import numpy as np\n",
        "import pickle\n",
        "from sklearn.utils import shuffle\n",
        "import matplotlib.pyplot as plt\n",
        "from joblib import dump as jdump\n",
        "import time\n",
        "import random\n",
        "import os"
      ],
      "execution_count": null,
      "outputs": []
    },
    {
      "cell_type": "code",
      "metadata": {
        "id": "T5XUNQBvcGf6"
      },
      "source": [
        "PATH2PROJECT = \"/content/drive/MyDrive/Projects/EyeTracker/\"\n",
        "raw_models_dir = PATH2PROJECT + \"models/eye_tracking/raw/\"\n",
        "trained_models_dir = PATH2PROJECT + \"models/eye_tracking/trained/\"\n",
        "scaler_dir = PATH2PROJECT + \"models/eye_tracking/trained/scalers.bin\"\n",
        "MODEL_FOL = \"model2\"\n",
        "R_TRAIN = 0.85\n",
        "CHOSEN_INPUTS = [0, 1, 2, 6, 7, 8, 9]\n",
        "N_EPOCHS = 64\n",
        "PATIENCE = 8\n",
        "MIN_BRIGHTNESS_RATIO = 0.7\n",
        "MAX_BRIGHTNESS_RATIO = 1.4"
      ],
      "execution_count": null,
      "outputs": []
    },
    {
      "cell_type": "code",
      "metadata": {
        "colab": {
          "base_uri": "https://localhost:8080/"
        },
        "id": "W471W2kGcGct",
        "outputId": "06891efd-e6d9-4bbd-938a-7679ccceff8c"
      },
      "source": [
        "x1_load = []\n",
        "x2_load = []\n",
        "y_load = []\n",
        "dataset_dir = PATH2PROJECT + \"dataset/\"\n",
        "datasets_folders = os.listdir(dataset_dir)\n",
        "\n",
        "for data_fol in datasets_folders:\n",
        "    with open(dataset_dir + data_fol +\n",
        "              \"/eye_tracking_calibration_modified/x1.pickle\", \"rb\") as f:\n",
        "        x1_load0 = pickle.load(f)\n",
        "    with open(dataset_dir + data_fol +\n",
        "              \"/eye_tracking_calibration_modified/x2.pickle\", \"rb\") as f:\n",
        "        x2_load0 = pickle.load(f)\n",
        "    with open(dataset_dir + data_fol +\n",
        "              \"/eye_tracking_calibration_modified/y.pickle\", \"rb\") as f:\n",
        "        y_load0 = pickle.load(f)\n",
        "    for (x10, x20, y10) in zip(x1_load0, x2_load0, y_load0):\n",
        "        x1_load.append(x10)\n",
        "        x2_load.append(x20)\n",
        "        y_load.append(y10)\n",
        "\n",
        "x1_load = np.array(x1_load)\n",
        "x2_load = np.array(x2_load)\n",
        "y_load = np.array(y_load)\n",
        "\n",
        "n_smp, frame_height, frame_width = x1_load.shape[:-1]\n",
        "print(n_smp, frame_height, frame_width)"
      ],
      "execution_count": null,
      "outputs": [
        {
          "output_type": "stream",
          "name": "stdout",
          "text": [
            "24500 48 44\n"
          ]
        }
      ]
    },
    {
      "cell_type": "code",
      "metadata": {
        "id": "iGCJnYPQcGZW"
      },
      "source": [
        "x1_chg_bri = x1_load.copy()\n",
        "for (i, _) in enumerate(x1_chg_bri):\n",
        "    r = random.uniform(MIN_BRIGHTNESS_RATIO, MAX_BRIGHTNESS_RATIO)\n",
        "    x1_chg_bri[i] = (x1_chg_bri[i] * r).astype(np.uint8)"
      ],
      "execution_count": null,
      "outputs": []
    },
    {
      "cell_type": "code",
      "metadata": {
        "id": "oiA8EMH-cGV5"
      },
      "source": [
        "x2_chs_inp = x2_load[:, CHOSEN_INPUTS]"
      ],
      "execution_count": null,
      "outputs": []
    },
    {
      "cell_type": "code",
      "metadata": {
        "colab": {
          "base_uri": "https://localhost:8080/",
          "height": 319
        },
        "id": "cQCtiUVrcGTE",
        "outputId": "3818fd38-ce27-4565-b0ef-db69fecf515a"
      },
      "source": [
        "SAMPLE_NUMBER = 2\n",
        "print(x2_chs_inp[SAMPLE_NUMBER])\n",
        "print(y_load[SAMPLE_NUMBER])\n",
        "plt.imshow(x1_chg_bri[SAMPLE_NUMBER].reshape((frame_height, frame_width)),\n",
        "           cmap=\"gray\", vmin=0, vmax=255)\n",
        "plt.show()"
      ],
      "execution_count": null,
      "outputs": [
        {
          "output_type": "stream",
          "name": "stdout",
          "text": [
            "[-2.92097984  0.01450496 -0.1692337   0.51821423  0.47875661  0.51987594\n",
            "  0.49142322]\n",
            "[2995.  948.]\n"
          ]
        },
        {
          "output_type": "display_data",
          "data": {
            "image/png": "[encoded data removed]",
            "text/plain": [
              "<Figure size 432x288 with 1 Axes>"
            ]
          },
          "metadata": {
            "needs_background": "light"
          }
        }
      ]
    },
    {
      "cell_type": "code",
      "metadata": {
        "colab": {
          "base_uri": "https://localhost:8080/"
        },
        "id": "eh_Zk28FcGQM",
        "outputId": "5758ad67-71f0-4796-b595-f24af899cf45"
      },
      "source": [
        "x1_scaler = 255\n",
        "x1 = x1_chg_bri / x1_scaler\n",
        "\n",
        "x2_scaler = StandardScaler()\n",
        "x2 = x2_scaler.fit_transform(x2_chs_inp)\n",
        "\n",
        "y_scalers = y_load.max(0)\n",
        "y = y_load / y_scalers\n",
        "\n",
        "scalers = [x1_scaler, x2_scaler, y_scalers]\n",
        "jdump(scalers, scaler_dir)"
      ],
      "execution_count": null,
      "outputs": [
        {
          "output_type": "execute_result",
          "data": {
            "text/plain": [
              "['/content/drive/MyDrive/Projects/EyeTracker/models/eye_tracking/trained/scalers.bin']"
            ]
          },
          "metadata": {},
          "execution_count": 33
        }
      ]
    },
    {
      "cell_type": "code",
      "metadata": {
        "colab": {
          "base_uri": "https://localhost:8080/"
        },
        "id": "GbNgiHNOcGKq",
        "outputId": "9c696b42-0d33-4ca5-b232-88c80ffd7a49"
      },
      "source": [
        "x1_shf, x2_shf, y1_shf, y2_shf = shuffle(x1, x2, y[:, 0], y[:, 1])\n",
        "\n",
        "n_train = int(R_TRAIN * n_smp)\n",
        "n_test = n_smp - n_train\n",
        "x1_train, x2_train = x1_shf[:n_train], x2_shf[:n_train]\n",
        "x1_test, x2_test = x1_shf[n_train:], x2_shf[n_train:]\n",
        "y1_train, y2_train = y1_shf[:n_train], y2_shf[:n_train]\n",
        "y1_test, y2_test = y1_shf[n_train:], y2_shf[n_train:]\n",
        "\n",
        "print(x1_train.shape, x1_test.shape, y1_train.shape, y1_test.shape,\n",
        "      x2_train.shape, x2_test.shape, y2_train.shape, y2_test.shape)"
      ],
      "execution_count": null,
      "outputs": [
        {
          "output_type": "stream",
          "name": "stdout",
          "text": [
            "(20825, 48, 44, 1) (3675, 48, 44, 1) (20825,) (3675,) (20825, 7) (3675, 7) (20825,) (3675,)\n"
          ]
        }
      ]
    },
    {
      "cell_type": "code",
      "metadata": {
        "id": "ry-G5x1jcGID"
      },
      "source": [
        "x_train_list = [x1_train, x2_train]\n",
        "x_test_list = [x1_test, x2_test]"
      ],
      "execution_count": null,
      "outputs": []
    },
    {
      "cell_type": "code",
      "metadata": {
        "id": "hasap1QZcpoy"
      },
      "source": [
        "cb = EarlyStopping(patience=PATIENCE, verbose=1, restore_best_weights=True)"
      ],
      "execution_count": null,
      "outputs": []
    },
    {
      "cell_type": "code",
      "metadata": {
        "colab": {
          "base_uri": "https://localhost:8080/"
        },
        "id": "QrUF35MNcpl6",
        "outputId": "7cec6df2-9683-49a4-8349-e578fef78195"
      },
      "source": [
        "model1 = load_model(raw_models_dir + MODEL_FOL + \"1\")\n",
        "model2 = load_model(raw_models_dir + MODEL_FOL + \"2\")\n",
        "print(model1.summary())"
      ],
      "execution_count": null,
      "outputs": [
        {
          "output_type": "stream",
          "name": "stdout",
          "text": [
            "Model: \"model_3\"\n",
            "__________________________________________________________________________________________________\n",
            "Layer (type)                    Output Shape         Param #     Connected to                     \n",
            "==================================================================================================\n",
            "input_12 (InputLayer)           [(None, 48, 44, 1)]  0                                            \n",
            "__________________________________________________________________________________________________\n",
            "conv2d_16 (Conv2D)              (None, 48, 44, 16)   416         input_12[0][0]                   \n",
            "__________________________________________________________________________________________________\n",
            "max_pooling2d_16 (MaxPooling2D) (None, 24, 22, 16)   0           conv2d_16[0][0]                  \n",
            "__________________________________________________________________________________________________\n",
            "conv2d_17 (Conv2D)              (None, 24, 22, 32)   12832       max_pooling2d_16[0][0]           \n",
            "__________________________________________________________________________________________________\n",
            "max_pooling2d_17 (MaxPooling2D) (None, 12, 11, 32)   0           conv2d_17[0][0]                  \n",
            "__________________________________________________________________________________________________\n",
            "conv2d_18 (Conv2D)              (None, 10, 9, 64)    18496       max_pooling2d_17[0][0]           \n",
            "__________________________________________________________________________________________________\n",
            "max_pooling2d_18 (MaxPooling2D) (None, 5, 4, 64)     0           conv2d_18[0][0]                  \n",
            "__________________________________________________________________________________________________\n",
            "flatten_5 (Flatten)             (None, 1280)         0           max_pooling2d_18[0][0]           \n",
            "__________________________________________________________________________________________________\n",
            "dense_30 (Dense)                (None, 256)          327936      flatten_5[0][0]                  \n",
            "__________________________________________________________________________________________________\n",
            "input_13 (InputLayer)           [(None, 7)]          0                                            \n",
            "__________________________________________________________________________________________________\n",
            "concatenate_5 (Concatenate)     (None, 263)          0           dense_30[0][0]                   \n",
            "                                                                 input_13[0][0]                   \n",
            "__________________________________________________________________________________________________\n",
            "dense_31 (Dense)                (None, 128)          33792       concatenate_5[0][0]              \n",
            "__________________________________________________________________________________________________\n",
            "dense_32 (Dense)                (None, 64)           8256        dense_31[0][0]                   \n",
            "__________________________________________________________________________________________________\n",
            "dense_33 (Dense)                (None, 32)           2080        dense_32[0][0]                   \n",
            "__________________________________________________________________________________________________\n",
            "dense_34 (Dense)                (None, 8)            264         dense_33[0][0]                   \n",
            "__________________________________________________________________________________________________\n",
            "dense_35 (Dense)                (None, 1)            9           dense_34[0][0]                   \n",
            "==================================================================================================\n",
            "Total params: 404,081\n",
            "Trainable params: 404,081\n",
            "Non-trainable params: 0\n",
            "__________________________________________________________________________________________________\n",
            "None\n"
          ]
        }
      ]
    },
    {
      "cell_type": "code",
      "metadata": {
        "id": "MRSpklK-emfB"
      },
      "source": [
        "results1 = model1.fit(x_train_list,\n",
        "                      y1_train,\n",
        "                      validation_data=(x_test_list, y1_test),\n",
        "                      epochs=N_EPOCHS,\n",
        "                      callbacks=cb)"
      ],
      "execution_count": null,
      "outputs": []
    },
    {
      "cell_type": "code",
      "metadata": {
        "id": "uvBPkCQnXa5d"
      },
      "source": [
        "results2 = model2.fit(x_train_list,\n",
        "                      y2_train,\n",
        "                      validation_data=(x_test_list, y2_test),\n",
        "                      epochs=N_EPOCHS,\n",
        "                      callbacks=cb)"
      ],
      "execution_count": null,
      "outputs": []
    },
    {
      "cell_type": "code",
      "metadata": {
        "id": "Dx7vI5sieta_"
      },
      "source": [
        "y1hat_train = model1.predict(x_train_list).reshape((n_train,))\n",
        "y1hat_test = model1.predict(x_test_list).reshape((n_test,))\n",
        "y2hat_train = model2.predict(x_train_list).reshape((n_train,))\n",
        "y2hat_test = model2.predict(x_test_list).reshape((n_test,))"
      ],
      "execution_count": null,
      "outputs": []
    },
    {
      "cell_type": "code",
      "metadata": {
        "id": "Ka1IQTdEh3Y0"
      },
      "source": [
        "y1hat_train[y1hat_train < 0] = 0\n",
        "y2hat_train[y2hat_train < 0] = 0\n",
        "y1hat_test[y1hat_test < 0] = 0\n",
        "y2hat_test[y2hat_test < 0] = 0"
      ],
      "execution_count": null,
      "outputs": []
    },
    {
      "cell_type": "code",
      "metadata": {
        "colab": {
          "base_uri": "https://localhost:8080/",
          "height": 338
        },
        "id": "QldXGZ8Mfwvq",
        "outputId": "cdb3f32a-d13d-4178-c067-e5461d0db97a"
      },
      "source": [
        "NUM = 32\n",
        "print(\"Train\")\n",
        "sample_train = (int(y1_train[NUM] * y_scalers[0]),\n",
        "                int(y2_train[NUM] * y_scalers[1]))\n",
        "sample_train_hat = (int(y1hat_train[NUM] * y_scalers[0]),\n",
        "                    int(y2hat_train[NUM] * y_scalers[1]))\n",
        "print(sample_train)\n",
        "print(sample_train_hat)\n",
        "\n",
        "print(\"Test\")\n",
        "sample_test = (int(y1_test[NUM] * y_scalers[0]),\n",
        "                int(y2_test[NUM] * y_scalers[1]))\n",
        "sample_test_hat = (int(y1hat_test[NUM] * y_scalers[0]),\n",
        "                    int(y2hat_test[NUM] * y_scalers[1]))\n",
        "print(sample_test)\n",
        "print(sample_test_hat)\n",
        "\n",
        "_, ax = plt.subplots(1,2)\n",
        "ax[0].imshow((x1_train[NUM] * x1_scaler).astype(np.uint8).\n",
        "           reshape((frame_height, frame_width)), cmap=\"gray\",vmin=0, vmax=255)\n",
        "ax[1].imshow((x1_test[NUM] * x1_scaler).astype(np.uint8).\n",
        "           reshape((frame_height, frame_width)), cmap=\"gray\",vmin=0, vmax=255)"
      ],
      "execution_count": null,
      "outputs": [
        {
          "output_type": "stream",
          "name": "stdout",
          "text": [
            "Train\n",
            "(599, 0)\n",
            "(584, 0)\n",
            "Test\n",
            "(0, 1896)\n",
            "(0, 1912)\n"
          ]
        },
        {
          "output_type": "execute_result",
          "data": {
            "text/plain": [
              "<matplotlib.image.AxesImage at 0x7f01014a4650>"
            ]
          },
          "metadata": {},
          "execution_count": 62
        },
        {
          "output_type": "display_data",
          "data": {
            "image/png": "[encoded data removed]",
            "text/plain": [
              "<Figure size 432x288 with 2 Axes>"
            ]
          },
          "metadata": {
            "needs_background": "light"
          }
        }
      ]
    },
    {
      "cell_type": "code",
      "metadata": {
        "colab": {
          "base_uri": "https://localhost:8080/"
        },
        "id": "ZSAgeo-pe75b",
        "outputId": "5bd8e82e-0901-4423-b7ce-f1d74b18ec4e"
      },
      "source": [
        "print(y1_train.shape)"
      ],
      "execution_count": null,
      "outputs": [
        {
          "output_type": "stream",
          "name": "stdout",
          "text": [
            "(20825,)\n"
          ]
        }
      ]
    },
    {
      "cell_type": "code",
      "metadata": {
        "id": "RR4p1QPpjndQ"
      },
      "source": [
        "# train_loss = np.abs(y_train - yhat_train).sum(0) / n_train\n",
        "# test_loss = np.abs(y_test - yhat_test).sum(0) / n_test"
      ],
      "execution_count": null,
      "outputs": []
    },
    {
      "cell_type": "code",
      "metadata": {
        "colab": {
          "base_uri": "https://localhost:8080/"
        },
        "id": "3W8EZ8WKj6tY",
        "outputId": "781e592d-cef2-4b8e-e966-44241384fb73"
      },
      "source": [
        "model1.save(trained_models_dir + MODEL_FOL + \"1\")\n",
        "model2.save(trained_models_dir + MODEL_FOL + \"2\")"
      ],
      "execution_count": null,
      "outputs": [
        {
          "output_type": "stream",
          "name": "stdout",
          "text": [
            "INFO:tensorflow:Assets written to: /content/drive/MyDrive/Projects/EyeTracker/models/eye_tracking/trained/model21/assets\n",
            "INFO:tensorflow:Assets written to: /content/drive/MyDrive/Projects/EyeTracker/models/eye_tracking/trained/model22/assets\n",
            "INFO:tensorflow:Assets written to: /content/drive/MyDrive/Projects/EyeTracker/models/eye_tracking/trained/model21/assets\n",
            "INFO:tensorflow:Assets written to: /content/drive/MyDrive/Projects/EyeTracker/models/eye_tracking/trained/model22/assets\n"
          ]
        }
      ]
    }
  ]
}