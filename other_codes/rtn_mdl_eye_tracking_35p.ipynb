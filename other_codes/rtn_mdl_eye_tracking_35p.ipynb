{
 "cells": [
  {
   "cell_type": "code",
   "execution_count": 1,
   "metadata": {
    "id": "Ks_AbdKIb-xZ"
   },
   "outputs": [
    {
     "name": "stderr",
     "output_type": "stream",
     "text": [
      "2021-10-19 13:52:13.999293: W tensorflow/stream_executor/platform/default/dso_loader.cc:64] Could not load dynamic library 'libcudart.so.11.0'; dlerror: libcudart.so.11.0: cannot open shared object file: No such file or directory\n",
      "2021-10-19 13:52:13.999358: I tensorflow/stream_executor/cuda/cudart_stub.cc:29] Ignore above cudart dlerror if you do not have a GPU set up on your machine.\n"
     ]
    }
   ],
   "source": [
    "from tensorflow.keras.callbacks import EarlyStopping\n",
    "from tensorflow.keras.models import load_model\n",
    "import numpy as np\n",
    "import pickle\n",
    "from sklearn.utils import shuffle\n",
    "import matplotlib.pyplot as plt\n",
    "from joblib import load as jload\n",
    "from joblib import dump as jdump\n",
    "import time"
   ]
  },
  {
   "cell_type": "code",
   "execution_count": 2,
   "metadata": {
    "id": "T5XUNQBvcGf6"
   },
   "outputs": [],
   "source": [
    "PATH2PROJECT = \"\"\n",
    "trained_models_dir = PATH2PROJECT + \"models/eye_tracking/trained/\"\n",
    "scaler_dir = PATH2PROJECT + \"models/eye_tracking/trained/scalers.bin\"\n",
    "MODEL_FOL = \"model4\"\n",
    "SUBJECT_NUM = 1\n",
    "R_TRAIN = 0.85\n",
    "CHOSEN_INPUTS = [0, 1, 2, 6, 7, 8, 9]\n",
    "N_EPOCHS = 100\n",
    "PATIENCE = 20\n",
    "TRAINABLE_LAYERS = 2"
   ]
  },
  {
   "cell_type": "code",
   "execution_count": 3,
   "metadata": {
    "colab": {
     "base_uri": "https://localhost:8080/"
    },
    "id": "bvzEN-j4cGFQ",
    "outputId": "2b889f41-543c-40d4-ec6e-efae92839936"
   },
   "outputs": [
    {
     "name": "stdout",
     "output_type": "stream",
     "text": [
      "700\n"
     ]
    }
   ],
   "source": [
    "subjects_dir = PATH2PROJECT + \"subjects/\"\n",
    "et_sbj_dir = subjects_dir + f\"{SUBJECT_NUM}/eye_tracking/\"\n",
    "\n",
    "with open(et_sbj_dir + \"x1.pickle\", \"rb\") as f:\n",
    "    x1_load = pickle.load(f)\n",
    "with open(et_sbj_dir + \"x2.pickle\", \"rb\") as f:\n",
    "    x2_load = pickle.load(f)\n",
    "with open(et_sbj_dir + \"y.pickle\", \"rb\") as f:\n",
    "    y_load = pickle.load(f)\n",
    "\n",
    "n_smp, frame_height, frame_width = x1_load.shape[:-1]\n",
    "print(n_smp)"
   ]
  },
  {
   "cell_type": "code",
   "execution_count": 4,
   "metadata": {
    "id": "9RVfgu2jcGCC"
   },
   "outputs": [],
   "source": [
    "x2_chs_inp = x2_load[:, CHOSEN_INPUTS]"
   ]
  },
  {
   "cell_type": "code",
   "execution_count": 5,
   "metadata": {},
   "outputs": [
    {
     "name": "stdout",
     "output_type": "stream",
     "text": [
      "[-2.97254074 -0.19883634  0.07560647  0.47501653  0.46489662  0.48129123\n",
      "  0.48372176]\n",
      "[ 599. 1896.]\n"
     ]
    },
    {
     "data": {
      "image/png": "[encoded data removed]",
      "text/plain": [
       "<Figure size 432x288 with 1 Axes>"
      ]
     },
     "metadata": {
      "needs_background": "light"
     },
     "output_type": "display_data"
    }
   ],
   "source": [
    "SAMPLE_NUMBER = 2\n",
    "print(x2_chs_inp[SAMPLE_NUMBER])\n",
    "print(y_load[SAMPLE_NUMBER])\n",
    "plt.imshow(x1_load[SAMPLE_NUMBER].reshape((frame_height, frame_width)),\n",
    "           cmap=\"gray\", vmin=0, vmax=255)\n",
    "plt.show()"
   ]
  },
  {
   "cell_type": "code",
   "execution_count": 6,
   "metadata": {
    "id": "o2yHN0I9cF6o"
   },
   "outputs": [
    {
     "name": "stderr",
     "output_type": "stream",
     "text": [
      "/home/mostafa/Projects/EyeTracker/lib/python3.9/site-packages/sklearn/base.py:310: UserWarning: Trying to unpickle estimator StandardScaler from version 0.22.2.post1 when using version 0.24.2. This might lead to breaking code or invalid results. Use at your own risk.\n",
      "  warnings.warn(\n"
     ]
    },
    {
     "data": {
      "text/plain": [
       "['subjects/1/eye_tracking/scalers.bin']"
      ]
     },
     "execution_count": 6,
     "metadata": {},
     "output_type": "execute_result"
    }
   ],
   "source": [
    "scalers = jload(scaler_dir)\n",
    "x1_scaler, x2_scaler, _ = scalers\n",
    "\n",
    "x1 = x1_load / x1_scaler\n",
    "x2 = x2_scaler.transform(x2_chs_inp)\n",
    "\n",
    "y_scalers = y_load.max(0)\n",
    "y = y_load / y_scalers\n",
    "\n",
    "scalers[2] = y_scalers\n",
    "\n",
    "jdump(scalers, et_sbj_dir + \"scalers.bin\")"
   ]
  },
  {
   "cell_type": "code",
   "execution_count": 7,
   "metadata": {},
   "outputs": [],
   "source": [
    "y1, y2 = y[:, 0], y[:, 1]"
   ]
  },
  {
   "cell_type": "code",
   "execution_count": 10,
   "metadata": {},
   "outputs": [
    {
     "name": "stdout",
     "output_type": "stream",
     "text": [
      "(595, 48, 44, 1) (105, 48, 44, 1) (595,) (105,) (595, 7) (105, 7) (595,) (105,)\n"
     ]
    }
   ],
   "source": [
    "x1_shf, x2_shf, y1_shf, y2_shf = shuffle(x1, x2, y1, y2)\n",
    "\n",
    "n_train = int(R_TRAIN * n_smp)\n",
    "n_test = n_smp - n_train\n",
    "x1_train, x2_train = x1_shf[:n_train], x2_shf[:n_train]\n",
    "x1_test, x2_test = x1_shf[n_train:], x2_shf[n_train:]\n",
    "y1_train, y2_train = y1_shf[:n_train], y2_shf[:n_train]\n",
    "y1_test, y2_test = y1_shf[n_train:], y2_shf[n_train:]\n",
    "\n",
    "print(x1_train.shape, x1_test.shape, y1_train.shape, y1_test.shape,\n",
    "      x2_train.shape, x2_test.shape, y2_train.shape, y2_test.shape)"
   ]
  },
  {
   "cell_type": "code",
   "execution_count": 11,
   "metadata": {},
   "outputs": [],
   "source": [
    "x_train_list = [x1_train, x2_train]\n",
    "x_test_list = [x1_test, x2_test]\n",
    "y_train_list = [y1_train, y2_train]\n",
    "y_test_list = [y1_test, y2_test]"
   ]
  },
  {
   "cell_type": "code",
   "execution_count": 12,
   "metadata": {
    "id": "hasap1QZcpoy"
   },
   "outputs": [],
   "source": [
    "cb = EarlyStopping(patience=PATIENCE, verbose=1, restore_best_weights=True)"
   ]
  },
  {
   "cell_type": "code",
   "execution_count": 13,
   "metadata": {
    "colab": {
     "base_uri": "https://localhost:8080/"
    },
    "id": "QrUF35MNcpl6",
    "outputId": "c1c291b5-63e3-4ace-8b87-f9821fb2d9bf"
   },
   "outputs": [
    {
     "name": "stderr",
     "output_type": "stream",
     "text": [
      "2021-10-19 13:53:41.284105: I tensorflow/stream_executor/cuda/cuda_gpu_executor.cc:937] successful NUMA node read from SysFS had negative value (-1), but there must be at least one NUMA node, so returning NUMA node zero\n",
      "2021-10-19 13:53:41.284843: W tensorflow/stream_executor/platform/default/dso_loader.cc:64] Could not load dynamic library 'libcudart.so.11.0'; dlerror: libcudart.so.11.0: cannot open shared object file: No such file or directory\n",
      "2021-10-19 13:53:41.284993: W tensorflow/stream_executor/platform/default/dso_loader.cc:64] Could not load dynamic library 'libcublas.so.11'; dlerror: libcublas.so.11: cannot open shared object file: No such file or directory\n",
      "2021-10-19 13:53:41.285106: W tensorflow/stream_executor/platform/default/dso_loader.cc:64] Could not load dynamic library 'libcublasLt.so.11'; dlerror: libcublasLt.so.11: cannot open shared object file: No such file or directory\n",
      "2021-10-19 13:53:41.285216: W tensorflow/stream_executor/platform/default/dso_loader.cc:64] Could not load dynamic library 'libcufft.so.10'; dlerror: libcufft.so.10: cannot open shared object file: No such file or directory\n",
      "2021-10-19 13:53:41.285323: W tensorflow/stream_executor/platform/default/dso_loader.cc:64] Could not load dynamic library 'libcurand.so.10'; dlerror: libcurand.so.10: cannot open shared object file: No such file or directory\n",
      "2021-10-19 13:53:41.285428: W tensorflow/stream_executor/platform/default/dso_loader.cc:64] Could not load dynamic library 'libcusolver.so.11'; dlerror: libcusolver.so.11: cannot open shared object file: No such file or directory\n",
      "2021-10-19 13:53:41.285538: W tensorflow/stream_executor/platform/default/dso_loader.cc:64] Could not load dynamic library 'libcusparse.so.11'; dlerror: libcusparse.so.11: cannot open shared object file: No such file or directory\n",
      "2021-10-19 13:53:41.285645: W tensorflow/stream_executor/platform/default/dso_loader.cc:64] Could not load dynamic library 'libcudnn.so.8'; dlerror: libcudnn.so.8: cannot open shared object file: No such file or directory\n",
      "2021-10-19 13:53:41.285661: W tensorflow/core/common_runtime/gpu/gpu_device.cc:1835] Cannot dlopen some GPU libraries. Please make sure the missing libraries mentioned above are installed properly if you would like to use GPU. Follow the guide at https://www.tensorflow.org/install/gpu for how to download and setup the required libraries for your platform.\n",
      "Skipping registering GPU devices...\n",
      "2021-10-19 13:53:41.285985: I tensorflow/core/platform/cpu_feature_guard.cc:142] This TensorFlow binary is optimized with oneAPI Deep Neural Network Library (oneDNN) to use the following CPU instructions in performance-critical operations:  AVX2 FMA\n",
      "To enable them in other operations, rebuild TensorFlow with the appropriate compiler flags.\n"
     ]
    },
    {
     "name": "stdout",
     "output_type": "stream",
     "text": [
      "Model: \"model_4\"\n",
      "__________________________________________________________________________________________________\n",
      "Layer (type)                    Output Shape         Param #     Connected to                     \n",
      "==================================================================================================\n",
      "input_9 (InputLayer)            [(None, 48, 44, 1)]  0                                            \n",
      "__________________________________________________________________________________________________\n",
      "conv2d_12 (Conv2D)              (None, 48, 44, 16)   416         input_9[0][0]                    \n",
      "__________________________________________________________________________________________________\n",
      "max_pooling2d_12 (MaxPooling2D) (None, 24, 22, 16)   0           conv2d_12[0][0]                  \n",
      "__________________________________________________________________________________________________\n",
      "conv2d_13 (Conv2D)              (None, 24, 22, 32)   12832       max_pooling2d_12[0][0]           \n",
      "__________________________________________________________________________________________________\n",
      "max_pooling2d_13 (MaxPooling2D) (None, 12, 11, 32)   0           conv2d_13[0][0]                  \n",
      "__________________________________________________________________________________________________\n",
      "conv2d_14 (Conv2D)              (None, 10, 9, 64)    18496       max_pooling2d_13[0][0]           \n",
      "__________________________________________________________________________________________________\n",
      "max_pooling2d_14 (MaxPooling2D) (None, 5, 4, 64)     0           conv2d_14[0][0]                  \n",
      "__________________________________________________________________________________________________\n",
      "flatten_4 (Flatten)             (None, 1280)         0           max_pooling2d_14[0][0]           \n",
      "__________________________________________________________________________________________________\n",
      "dense_44 (Dense)                (None, 256)          327936      flatten_4[0][0]                  \n",
      "__________________________________________________________________________________________________\n",
      "input_10 (InputLayer)           [(None, 7)]          0                                            \n",
      "__________________________________________________________________________________________________\n",
      "concatenate_4 (Concatenate)     (None, 263)          0           dense_44[0][0]                   \n",
      "                                                                 input_10[0][0]                   \n",
      "__________________________________________________________________________________________________\n",
      "dense_45 (Dense)                (None, 128)          33792       concatenate_4[0][0]              \n",
      "__________________________________________________________________________________________________\n",
      "dense_46 (Dense)                (None, 128)          33792       concatenate_4[0][0]              \n",
      "__________________________________________________________________________________________________\n",
      "dense_47 (Dense)                (None, 64)           8256        dense_45[0][0]                   \n",
      "__________________________________________________________________________________________________\n",
      "dense_48 (Dense)                (None, 64)           8256        dense_46[0][0]                   \n",
      "__________________________________________________________________________________________________\n",
      "dense_49 (Dense)                (None, 16)           1040        dense_47[0][0]                   \n",
      "__________________________________________________________________________________________________\n",
      "dense_50 (Dense)                (None, 16)           1040        dense_48[0][0]                   \n",
      "__________________________________________________________________________________________________\n",
      "dense_51 (Dense)                (None, 8)            136         dense_49[0][0]                   \n",
      "__________________________________________________________________________________________________\n",
      "dense_52 (Dense)                (None, 8)            136         dense_50[0][0]                   \n",
      "__________________________________________________________________________________________________\n",
      "dense_53 (Dense)                (None, 1)            9           dense_51[0][0]                   \n",
      "__________________________________________________________________________________________________\n",
      "dense_54 (Dense)                (None, 1)            9           dense_52[0][0]                   \n",
      "==================================================================================================\n",
      "Total params: 446,146\n",
      "Trainable params: 446,146\n",
      "Non-trainable params: 0\n",
      "__________________________________________________________________________________________________\n",
      "None\n"
     ]
    }
   ],
   "source": [
    "model = load_model(trained_models_dir + MODEL_FOL)\n",
    "print(model.summary())"
   ]
  },
  {
   "cell_type": "code",
   "execution_count": 14,
   "metadata": {
    "colab": {
     "base_uri": "https://localhost:8080/"
    },
    "id": "lgxSezv4jY70",
    "outputId": "d391fc53-dae0-40fc-c1f0-3989bc710cbf"
   },
   "outputs": [
    {
     "name": "stdout",
     "output_type": "stream",
     "text": [
      "<keras.engine.input_layer.InputLayer object at 0x7fd36a945b80> False\n",
      "<keras.layers.convolutional.Conv2D object at 0x7fd36b50da90> False\n",
      "<keras.layers.pooling.MaxPooling2D object at 0x7fd36ac3c2b0> False\n",
      "<keras.layers.convolutional.Conv2D object at 0x7fd36ac3c5b0> False\n",
      "<keras.layers.pooling.MaxPooling2D object at 0x7fd36ac3cdf0> False\n",
      "<keras.layers.convolutional.Conv2D object at 0x7fd36abf2130> False\n",
      "<keras.layers.pooling.MaxPooling2D object at 0x7fd36abf2970> False\n",
      "<keras.layers.core.Flatten object at 0x7fd36abf2250> False\n",
      "<keras.layers.core.Dense object at 0x7fd36abf2eb0> False\n",
      "<keras.engine.input_layer.InputLayer object at 0x7fd36abfa610> False\n",
      "<keras.layers.merge.Concatenate object at 0x7fd36abfaa30> False\n",
      "<keras.layers.core.Dense object at 0x7fd36abfaac0> False\n",
      "<keras.layers.core.Dense object at 0x7fd36ac04130> False\n",
      "<keras.layers.core.Dense object at 0x7fd36ac04250> False\n",
      "<keras.layers.core.Dense object at 0x7fd36ac04820> False\n",
      "<keras.layers.core.Dense object at 0x7fd36ac0d2e0> False\n",
      "<keras.layers.core.Dense object at 0x7fd36ac0d400> False\n",
      "<keras.layers.core.Dense object at 0x7fd36ac0d9d0> False\n",
      "<keras.layers.core.Dense object at 0x7fd36ac15040> False\n",
      "<keras.layers.core.Dense object at 0x7fd36ac155b0> True\n",
      "<keras.layers.core.Dense object at 0x7fd36ac1e070> True\n",
      "Model: \"model_4\"\n",
      "__________________________________________________________________________________________________\n",
      "Layer (type)                    Output Shape         Param #     Connected to                     \n",
      "==================================================================================================\n",
      "input_9 (InputLayer)            [(None, 48, 44, 1)]  0                                            \n",
      "__________________________________________________________________________________________________\n",
      "conv2d_12 (Conv2D)              (None, 48, 44, 16)   416         input_9[0][0]                    \n",
      "__________________________________________________________________________________________________\n",
      "max_pooling2d_12 (MaxPooling2D) (None, 24, 22, 16)   0           conv2d_12[0][0]                  \n",
      "__________________________________________________________________________________________________\n",
      "conv2d_13 (Conv2D)              (None, 24, 22, 32)   12832       max_pooling2d_12[0][0]           \n",
      "__________________________________________________________________________________________________\n",
      "max_pooling2d_13 (MaxPooling2D) (None, 12, 11, 32)   0           conv2d_13[0][0]                  \n",
      "__________________________________________________________________________________________________\n",
      "conv2d_14 (Conv2D)              (None, 10, 9, 64)    18496       max_pooling2d_13[0][0]           \n",
      "__________________________________________________________________________________________________\n",
      "max_pooling2d_14 (MaxPooling2D) (None, 5, 4, 64)     0           conv2d_14[0][0]                  \n",
      "__________________________________________________________________________________________________\n",
      "flatten_4 (Flatten)             (None, 1280)         0           max_pooling2d_14[0][0]           \n",
      "__________________________________________________________________________________________________\n",
      "dense_44 (Dense)                (None, 256)          327936      flatten_4[0][0]                  \n",
      "__________________________________________________________________________________________________\n",
      "input_10 (InputLayer)           [(None, 7)]          0                                            \n",
      "__________________________________________________________________________________________________\n",
      "concatenate_4 (Concatenate)     (None, 263)          0           dense_44[0][0]                   \n",
      "                                                                 input_10[0][0]                   \n",
      "__________________________________________________________________________________________________\n",
      "dense_45 (Dense)                (None, 128)          33792       concatenate_4[0][0]              \n",
      "__________________________________________________________________________________________________\n",
      "dense_46 (Dense)                (None, 128)          33792       concatenate_4[0][0]              \n",
      "__________________________________________________________________________________________________\n",
      "dense_47 (Dense)                (None, 64)           8256        dense_45[0][0]                   \n",
      "__________________________________________________________________________________________________\n",
      "dense_48 (Dense)                (None, 64)           8256        dense_46[0][0]                   \n",
      "__________________________________________________________________________________________________\n",
      "dense_49 (Dense)                (None, 16)           1040        dense_47[0][0]                   \n",
      "__________________________________________________________________________________________________\n",
      "dense_50 (Dense)                (None, 16)           1040        dense_48[0][0]                   \n",
      "__________________________________________________________________________________________________\n",
      "dense_51 (Dense)                (None, 8)            136         dense_49[0][0]                   \n",
      "__________________________________________________________________________________________________\n",
      "dense_52 (Dense)                (None, 8)            136         dense_50[0][0]                   \n",
      "__________________________________________________________________________________________________\n",
      "dense_53 (Dense)                (None, 1)            9           dense_51[0][0]                   \n",
      "__________________________________________________________________________________________________\n",
      "dense_54 (Dense)                (None, 1)            9           dense_52[0][0]                   \n",
      "==================================================================================================\n",
      "Total params: 446,146\n",
      "Trainable params: 18\n",
      "Non-trainable params: 446,128\n",
      "__________________________________________________________________________________________________\n",
      "None\n"
     ]
    }
   ],
   "source": [
    "for layer in model.layers[:-TRAINABLE_LAYERS]:\n",
    "    layer.trainable = False\n",
    "for layer in model.layers:\n",
    "    print(layer, layer.trainable)\n",
    "\n",
    "print(model.summary())"
   ]
  },
  {
   "cell_type": "code",
   "execution_count": 15,
   "metadata": {
    "colab": {
     "base_uri": "https://localhost:8080/"
    },
    "id": "diMNdUZZjeLQ",
    "outputId": "a4453523-b59b-4de2-d926-85dba927a553"
   },
   "outputs": [
    {
     "name": "stderr",
     "output_type": "stream",
     "text": [
      "2021-10-19 13:54:00.028173: I tensorflow/compiler/mlir/mlir_graph_optimization_pass.cc:185] None of the MLIR Optimization Passes are enabled (registered 2)\n"
     ]
    },
    {
     "name": "stdout",
     "output_type": "stream",
     "text": [
      "Epoch 1/60\n",
      "19/19 [==============================] - 2s 50ms/step - loss: 0.2661 - dense_53_loss: 0.1246 - dense_54_loss: 0.1415 - val_loss: 0.2031 - val_dense_53_loss: 0.0984 - val_dense_54_loss: 0.1047\n",
      "Epoch 2/60\n",
      "19/19 [==============================] - 1s 39ms/step - loss: 0.2310 - dense_53_loss: 0.1149 - dense_54_loss: 0.1162 - val_loss: 0.1777 - val_dense_53_loss: 0.0847 - val_dense_54_loss: 0.0931\n",
      "Epoch 3/60\n",
      "19/19 [==============================] - 1s 38ms/step - loss: 0.2163 - dense_53_loss: 0.1071 - dense_54_loss: 0.1092 - val_loss: 0.1758 - val_dense_53_loss: 0.0793 - val_dense_54_loss: 0.0965\n",
      "Epoch 4/60\n",
      "19/19 [==============================] - 1s 38ms/step - loss: 0.2137 - dense_53_loss: 0.1027 - dense_54_loss: 0.1110 - val_loss: 0.1723 - val_dense_53_loss: 0.0780 - val_dense_54_loss: 0.0943\n",
      "Epoch 5/60\n",
      "19/19 [==============================] - 1s 38ms/step - loss: 0.2078 - dense_53_loss: 0.1017 - dense_54_loss: 0.1061 - val_loss: 0.1631 - val_dense_53_loss: 0.0764 - val_dense_54_loss: 0.0867\n",
      "Epoch 6/60\n",
      "19/19 [==============================] - 1s 38ms/step - loss: 0.2049 - dense_53_loss: 0.0998 - dense_54_loss: 0.1051 - val_loss: 0.1533 - val_dense_53_loss: 0.0741 - val_dense_54_loss: 0.0792\n",
      "Epoch 7/60\n",
      "19/19 [==============================] - 1s 38ms/step - loss: 0.1945 - dense_53_loss: 0.0938 - dense_54_loss: 0.1007 - val_loss: 0.1568 - val_dense_53_loss: 0.0691 - val_dense_54_loss: 0.0877\n",
      "Epoch 8/60\n",
      "19/19 [==============================] - 1s 39ms/step - loss: 0.2298 - dense_53_loss: 0.0922 - dense_54_loss: 0.1376 - val_loss: 0.1700 - val_dense_53_loss: 0.0692 - val_dense_54_loss: 0.1008\n",
      "Epoch 9/60\n",
      "19/19 [==============================] - 1s 38ms/step - loss: 0.2223 - dense_53_loss: 0.0902 - dense_54_loss: 0.1321 - val_loss: 0.1609 - val_dense_53_loss: 0.0683 - val_dense_54_loss: 0.0926\n",
      "Epoch 10/60\n",
      "19/19 [==============================] - 1s 38ms/step - loss: 0.2058 - dense_53_loss: 0.0886 - dense_54_loss: 0.1172 - val_loss: 0.1308 - val_dense_53_loss: 0.0565 - val_dense_54_loss: 0.0743\n",
      "Epoch 11/60\n",
      "19/19 [==============================] - 1s 39ms/step - loss: 0.1875 - dense_53_loss: 0.0884 - dense_54_loss: 0.0991 - val_loss: 0.1415 - val_dense_53_loss: 0.0551 - val_dense_54_loss: 0.0864\n",
      "Epoch 12/60\n",
      "19/19 [==============================] - 1s 39ms/step - loss: 0.1863 - dense_53_loss: 0.0863 - dense_54_loss: 0.1001 - val_loss: 0.1390 - val_dense_53_loss: 0.0559 - val_dense_54_loss: 0.0831\n",
      "Epoch 13/60\n",
      "19/19 [==============================] - 1s 38ms/step - loss: 0.1824 - dense_53_loss: 0.0852 - dense_54_loss: 0.0972 - val_loss: 0.1392 - val_dense_53_loss: 0.0564 - val_dense_54_loss: 0.0828\n",
      "Epoch 14/60\n",
      "19/19 [==============================] - 1s 38ms/step - loss: 0.1795 - dense_53_loss: 0.0854 - dense_54_loss: 0.0942 - val_loss: 0.1412 - val_dense_53_loss: 0.0572 - val_dense_54_loss: 0.0840\n",
      "Epoch 15/60\n",
      "19/19 [==============================] - 1s 38ms/step - loss: 0.2091 - dense_53_loss: 0.0863 - dense_54_loss: 0.1229 - val_loss: 0.1785 - val_dense_53_loss: 0.0555 - val_dense_54_loss: 0.1231\n",
      "Epoch 16/60\n",
      "19/19 [==============================] - 1s 39ms/step - loss: 0.1956 - dense_53_loss: 0.0874 - dense_54_loss: 0.1082 - val_loss: 0.1337 - val_dense_53_loss: 0.0541 - val_dense_54_loss: 0.0796\n",
      "Epoch 17/60\n",
      "19/19 [==============================] - 1s 41ms/step - loss: 0.1861 - dense_53_loss: 0.0862 - dense_54_loss: 0.0999 - val_loss: 0.1366 - val_dense_53_loss: 0.0547 - val_dense_54_loss: 0.0819\n",
      "Epoch 18/60\n",
      "19/19 [==============================] - 1s 39ms/step - loss: 0.1817 - dense_53_loss: 0.0853 - dense_54_loss: 0.0964 - val_loss: 0.1278 - val_dense_53_loss: 0.0566 - val_dense_54_loss: 0.0711\n",
      "Epoch 19/60\n",
      "19/19 [==============================] - 1s 39ms/step - loss: 0.1804 - dense_53_loss: 0.0851 - dense_54_loss: 0.0953 - val_loss: 0.1233 - val_dense_53_loss: 0.0536 - val_dense_54_loss: 0.0697\n",
      "Epoch 20/60\n",
      "19/19 [==============================] - 1s 38ms/step - loss: 0.1787 - dense_53_loss: 0.0839 - dense_54_loss: 0.0948 - val_loss: 0.1271 - val_dense_53_loss: 0.0540 - val_dense_54_loss: 0.0732\n",
      "Epoch 21/60\n",
      "19/19 [==============================] - 1s 39ms/step - loss: 0.1774 - dense_53_loss: 0.0830 - dense_54_loss: 0.0944 - val_loss: 0.1236 - val_dense_53_loss: 0.0526 - val_dense_54_loss: 0.0710\n",
      "Epoch 22/60\n",
      "19/19 [==============================] - 1s 39ms/step - loss: 0.1881 - dense_53_loss: 0.0844 - dense_54_loss: 0.1037 - val_loss: 0.1258 - val_dense_53_loss: 0.0540 - val_dense_54_loss: 0.0718\n",
      "Epoch 23/60\n",
      "19/19 [==============================] - 1s 42ms/step - loss: 0.1768 - dense_53_loss: 0.0849 - dense_54_loss: 0.0919 - val_loss: 0.1256 - val_dense_53_loss: 0.0567 - val_dense_54_loss: 0.0689\n",
      "Epoch 24/60\n",
      "19/19 [==============================] - 1s 39ms/step - loss: 0.1772 - dense_53_loss: 0.0863 - dense_54_loss: 0.0909 - val_loss: 0.1166 - val_dense_53_loss: 0.0561 - val_dense_54_loss: 0.0604\n",
      "Epoch 25/60\n",
      "19/19 [==============================] - 1s 41ms/step - loss: 0.1734 - dense_53_loss: 0.0864 - dense_54_loss: 0.0870 - val_loss: 0.1154 - val_dense_53_loss: 0.0547 - val_dense_54_loss: 0.0607\n",
      "Epoch 26/60\n",
      "19/19 [==============================] - 1s 39ms/step - loss: 0.1726 - dense_53_loss: 0.0860 - dense_54_loss: 0.0865 - val_loss: 0.1170 - val_dense_53_loss: 0.0547 - val_dense_54_loss: 0.0623\n",
      "Epoch 27/60\n",
      "19/19 [==============================] - 1s 39ms/step - loss: 0.1680 - dense_53_loss: 0.0837 - dense_54_loss: 0.0844 - val_loss: 0.1111 - val_dense_53_loss: 0.0534 - val_dense_54_loss: 0.0577\n",
      "Epoch 28/60\n",
      "19/19 [==============================] - 1s 41ms/step - loss: 0.1678 - dense_53_loss: 0.0852 - dense_54_loss: 0.0826 - val_loss: 0.1125 - val_dense_53_loss: 0.0551 - val_dense_54_loss: 0.0574\n",
      "Epoch 29/60\n",
      "19/19 [==============================] - 1s 39ms/step - loss: 0.1671 - dense_53_loss: 0.0828 - dense_54_loss: 0.0843 - val_loss: 0.1086 - val_dense_53_loss: 0.0540 - val_dense_54_loss: 0.0546\n",
      "Epoch 30/60\n",
      "19/19 [==============================] - 1s 38ms/step - loss: 0.1615 - dense_53_loss: 0.0817 - dense_54_loss: 0.0797 - val_loss: 0.1056 - val_dense_53_loss: 0.0524 - val_dense_54_loss: 0.0532\n",
      "Epoch 31/60\n",
      "19/19 [==============================] - 1s 39ms/step - loss: 0.1608 - dense_53_loss: 0.0822 - dense_54_loss: 0.0786 - val_loss: 0.1071 - val_dense_53_loss: 0.0522 - val_dense_54_loss: 0.0549\n",
      "Epoch 32/60\n",
      "19/19 [==============================] - 1s 38ms/step - loss: 0.1601 - dense_53_loss: 0.0810 - dense_54_loss: 0.0791 - val_loss: 0.1074 - val_dense_53_loss: 0.0522 - val_dense_54_loss: 0.0552\n",
      "Epoch 33/60\n",
      "19/19 [==============================] - 1s 39ms/step - loss: 0.1601 - dense_53_loss: 0.0809 - dense_54_loss: 0.0792 - val_loss: 0.1044 - val_dense_53_loss: 0.0533 - val_dense_54_loss: 0.0511\n",
      "Epoch 34/60\n",
      "19/19 [==============================] - 1s 39ms/step - loss: 0.1592 - dense_53_loss: 0.0805 - dense_54_loss: 0.0786 - val_loss: 0.1081 - val_dense_53_loss: 0.0508 - val_dense_54_loss: 0.0573\n",
      "Epoch 35/60\n",
      "19/19 [==============================] - 1s 39ms/step - loss: 0.1619 - dense_53_loss: 0.0829 - dense_54_loss: 0.0790 - val_loss: 0.1074 - val_dense_53_loss: 0.0555 - val_dense_54_loss: 0.0519\n",
      "Epoch 36/60\n",
      "19/19 [==============================] - 1s 41ms/step - loss: 0.1590 - dense_53_loss: 0.0806 - dense_54_loss: 0.0784 - val_loss: 0.1049 - val_dense_53_loss: 0.0530 - val_dense_54_loss: 0.0520\n",
      "Epoch 37/60\n",
      "19/19 [==============================] - 1s 42ms/step - loss: 0.1598 - dense_53_loss: 0.0809 - dense_54_loss: 0.0789 - val_loss: 0.1083 - val_dense_53_loss: 0.0535 - val_dense_54_loss: 0.0548\n",
      "Epoch 38/60\n",
      "19/19 [==============================] - 1s 41ms/step - loss: 0.1623 - dense_53_loss: 0.0817 - dense_54_loss: 0.0806 - val_loss: 0.1099 - val_dense_53_loss: 0.0535 - val_dense_54_loss: 0.0564\n",
      "Epoch 39/60\n",
      "19/19 [==============================] - 1s 40ms/step - loss: 0.1604 - dense_53_loss: 0.0809 - dense_54_loss: 0.0795 - val_loss: 0.1047 - val_dense_53_loss: 0.0544 - val_dense_54_loss: 0.0503\n",
      "Epoch 40/60\n",
      "19/19 [==============================] - 1s 43ms/step - loss: 0.1621 - dense_53_loss: 0.0826 - dense_54_loss: 0.0795 - val_loss: 0.1111 - val_dense_53_loss: 0.0519 - val_dense_54_loss: 0.0592\n",
      "Epoch 41/60\n",
      "19/19 [==============================] - 1s 41ms/step - loss: 0.1663 - dense_53_loss: 0.0816 - dense_54_loss: 0.0847 - val_loss: 0.1105 - val_dense_53_loss: 0.0542 - val_dense_54_loss: 0.0563\n",
      "Epoch 42/60\n",
      "19/19 [==============================] - 1s 39ms/step - loss: 0.1638 - dense_53_loss: 0.0841 - dense_54_loss: 0.0797 - val_loss: 0.1067 - val_dense_53_loss: 0.0553 - val_dense_54_loss: 0.0514\n",
      "Epoch 43/60\n",
      "19/19 [==============================] - 1s 39ms/step - loss: 0.1662 - dense_53_loss: 0.0846 - dense_54_loss: 0.0816 - val_loss: 0.1155 - val_dense_53_loss: 0.0590 - val_dense_54_loss: 0.0565\n",
      "Restoring model weights from the end of the best epoch.\n",
      "Epoch 00043: early stopping\n"
     ]
    }
   ],
   "source": [
    "results = model.fit(x_train_list,\n",
    "                    y_train_list,\n",
    "                    validation_data=(x_test_list, y_test_list),\n",
    "                    epochs=N_EPOCHS,\n",
    "                    callbacks=cb)"
   ]
  },
  {
   "cell_type": "code",
   "execution_count": 16,
   "metadata": {
    "id": "FDC8rCcVjjDa"
   },
   "outputs": [],
   "source": [
    "yhat_train_list = model.predict(x_train_list)\n",
    "yhat_test_list = model.predict(x_test_list)\n",
    "    \n",
    "y_train = np.concatenate((np.expand_dims(y_train_list[0], 1),\n",
    "                          np.expand_dims(y_train_list[1], 1)), 1)\n",
    "yhat_train = np.concatenate((yhat_train_list[0], yhat_train_list[1]), 1)\n",
    "y_test = np.concatenate((np.expand_dims(y_test_list[0], 1),\n",
    "                                np.expand_dims(y_test_list[1], 1)), 1)\n",
    "yhat_test = np.concatenate((yhat_test_list[0], yhat_test_list[1]), 1)"
   ]
  },
  {
   "cell_type": "code",
   "execution_count": 17,
   "metadata": {
    "colab": {
     "base_uri": "https://localhost:8080/"
    },
    "id": "3U_7_H7f7oJw",
    "outputId": "0bac1e0e-801a-4ade-ad88-18490fc67ef8"
   },
   "outputs": [
    {
     "name": "stdout",
     "output_type": "stream",
     "text": [
      "[0.0813702  0.07844169] [0.05329136 0.05114581]\n"
     ]
    }
   ],
   "source": [
    "train_loss = np.abs(y_train - yhat_train).sum(0) / n_train\n",
    "test_loss = np.abs(y_test - yhat_test).sum(0) / n_test\n",
    "\n",
    "print(train_loss, test_loss)"
   ]
  },
  {
   "cell_type": "code",
   "execution_count": 24,
   "metadata": {
    "colab": {
     "base_uri": "https://localhost:8080/",
     "height": 338
    },
    "id": "Gkri0Fcax8Aw",
    "outputId": "6cb31e90-f8e7-4d10-a0d7-81abba18c39e"
   },
   "outputs": [
    {
     "name": "stdout",
     "output_type": "stream",
     "text": [
      "Train\n",
      "[2995 1422]\n",
      "[2977 1425]\n",
      "Test\n",
      "[1797  474]\n",
      "[1787  475]\n"
     ]
    },
    {
     "data": {
      "text/plain": [
       "<matplotlib.image.AxesImage at 0x7fd328223130>"
      ]
     },
     "execution_count": 24,
     "metadata": {},
     "output_type": "execute_result"
    },
    {
     "data": {
      "image/png": "[encoded data removed]",
      "text/plain": [
       "<Figure size 432x288 with 2 Axes>"
      ]
     },
     "metadata": {
      "needs_background": "light"
     },
     "output_type": "display_data"
    }
   ],
   "source": [
    "NUM = 4\n",
    "print(\"Train\")\n",
    "sample_train = (y_train[NUM] * y_scalers).astype(np.uint32)\n",
    "yhat_train[NUM][yhat_train[NUM] < 0] = 0\n",
    "sample_train_hat = (yhat_train[NUM] * y_scalers).astype(np.uint32)\n",
    "print(sample_train)\n",
    "print(sample_train_hat)\n",
    "\n",
    "print(\"Test\")\n",
    "sample_test = (y_test[NUM] * y_scalers).astype(np.uint32)\n",
    "yhat_test[NUM][yhat_test[NUM] < 0] = 0\n",
    "sample_test_hat = (yhat_test[NUM] * y_scalers).astype(np.uint32)\n",
    "print(sample_test)\n",
    "print(sample_test_hat)\n",
    "\n",
    "_, ax = plt.subplots(1,2)\n",
    "ax[0].imshow((x_train_list[0][NUM] * 255).astype(np.uint8).\n",
    "           reshape((frame_height, frame_width)), cmap=\"gray\")\n",
    "ax[1].imshow((x_test_list[0][NUM] * 255).astype(np.uint8).\n",
    "           reshape((frame_height, frame_width)), cmap=\"gray\")"
   ]
  },
  {
   "cell_type": "code",
   "execution_count": 25,
   "metadata": {
    "id": "3W8EZ8WKj6tY"
   },
   "outputs": [
    {
     "name": "stderr",
     "output_type": "stream",
     "text": [
      "2021-10-19 13:58:03.065769: W tensorflow/python/util/util.cc:348] Sets are not currently considered sequences, but this may change in the future, so consider avoiding using them.\n"
     ]
    },
    {
     "name": "stdout",
     "output_type": "stream",
     "text": [
      "INFO:tensorflow:Assets written to: subjects/1/eye_tracking/model/assets\n"
     ]
    }
   ],
   "source": [
    "model.save(et_sbj_dir + \"model\")"
   ]
  }
 ],
 "metadata": {
  "colab": {
   "collapsed_sections": [],
   "name": "rtn_mdl_35p.ipynb",
   "provenance": []
  },
  "kernelspec": {
   "display_name": "Python 3 (ipykernel)",
   "language": "python",
   "name": "python3"
  },
  "language_info": {
   "codemirror_mode": {
    "name": "ipython",
    "version": 3
   },
   "file_extension": ".py",
   "mimetype": "text/x-python",
   "name": "python",
   "nbconvert_exporter": "python",
   "pygments_lexer": "ipython3",
   "version": "3.9.5"
  }
 },
 "nbformat": 4,
 "nbformat_minor": 1
}
