{
  "nbformat": 4,
  "nbformat_minor": 0,
  "metadata": {
    "colab": {
      "name": "creating_empty_models.ipynb",
      "provenance": [],
      "collapsed_sections": []
    },
    "kernelspec": {
      "display_name": "Python 3",
      "name": "python3"
    },
    "language_info": {
      "name": "python"
    },
    "accelerator": "GPU"
  },
  "cells": [
    {
      "cell_type": "code",
      "metadata": {
        "id": "gdpcJ0ywSIY8"
      },
      "source": [
        "from tensorflow.keras.layers import (Input, Conv2D, Flatten, MaxPooling2D,\n",
        "                                     Dense, Dropout, Concatenate)\n",
        "from tensorflow.keras.models import Model\n",
        "from tensorflow.keras.utils import plot_model\n",
        "import numpy as np\n",
        "import os"
      ],
      "execution_count": null,
      "outputs": []
    },
    {
      "cell_type": "code",
      "metadata": {
        "id": "YGlf78zqN8xb"
      },
      "source": [
        "PATH2PROJECT = \"/content/drive/MyDrive/Projects/EyeTracker/\"\n",
        "CHOSEN_INPUTS = [0, 1, 2, 6, 7, 8, 9]"
      ],
      "execution_count": null,
      "outputs": []
    },
    {
      "cell_type": "code",
      "metadata": {
        "id": "wIrwyDFyQpof"
      },
      "source": [
        "x1 = []\n",
        "x2 = []\n",
        "y = []\n",
        "\n",
        "in_blink_out_fol = PATH2PROJECT + \"dataset/1/in_blink_out/\"\n",
        "\n",
        "with open(in_blink_out_fol + \"x1.pickle\", \"rb\") as f:\n",
        "    x1 = pickle.load(f)\n",
        "with open(in_blink_out_fol + \"x2.pickle\", \"rb\") as f:\n",
        "    x2 = pickle.load(f)\n",
        "with open(in_blink_out_fol + \"y.pickle\", \"rb\") as f:\n",
        "    y = pickle.load(f)"
      ],
      "execution_count": null,
      "outputs": []
    },
    {
      "cell_type": "code",
      "metadata": {
        "id": "5gZuVkZDQsWl"
      },
      "source": [
        "x2_chs_inp = x2[:, CHOSEN_INPUTS]"
      ],
      "execution_count": null,
      "outputs": []
    },
    {
      "cell_type": "code",
      "metadata": {
        "colab": {
          "base_uri": "https://localhost:8080/"
        },
        "id": "4PX0-j2gRhWL",
        "outputId": "5250aa24-7be9-4483-9f1c-643a0f8512c5"
      },
      "source": [
        "# model5\n",
        "input1 = Input(x1_shape)\n",
        "layer = Conv2D(16, (5, 5), (1, 1), 'same', activation='relu')(input1)\n",
        "layer = Dropout(0.2)(layer)\n",
        "layer = MaxPooling2D((2, 2), (2, 2))(layer)\n",
        "\n",
        "layer = Conv2D(32, (5, 5), (1, 1), 'same', activation='relu')(layer)\n",
        "layer = Dropout(0.2)(layer)\n",
        "layer = MaxPooling2D((2, 2), (2, 2))(layer)\n",
        "\n",
        "layer = Conv2D(64, (3, 3), (1, 1), activation='relu')(layer)\n",
        "layer = Dropout(0.2)(layer)\n",
        "layer = MaxPooling2D((2, 2), (2, 2))(layer)\n",
        "\n",
        "layer = Flatten()(layer)\n",
        "\n",
        "layer = Dense(512, 'relu')(layer)\n",
        "layer = Dropout(0.2)(layer)\n",
        "\n",
        "input2 = Input(x2_shape)\n",
        "layer = Concatenate()([layer, input2])\n",
        "\n",
        "layer1 = Dense(256, 'relu')(layer)\n",
        "layer1 = Dropout(0.2)(layer1)\n",
        "layer2 = Dense(256, 'relu')(layer)\n",
        "layer2 = Dropout(0.2)(layer2)\n",
        "\n",
        "layer1 = Dense(128, 'relu')(layer1)\n",
        "layer1 = Dropout(0.2)(layer1)\n",
        "layer2 = Dense(128, 'relu')(layer2)\n",
        "layer2 = Dropout(0.2)(layer2)\n",
        "\n",
        "layer1 = Dense(64, 'relu')(layer1)\n",
        "# layer1 = Dropout(0.2)(layer1)\n",
        "layer2 = Dense(64, 'relu')(layer2)\n",
        "# layer2 = Dropout(0.2)(layer2)\n",
        "\n",
        "layer1 = Dense(32 ,'relu')(layer1)\n",
        "# layer1 = Dropout(0.5)(layer1)\n",
        "layer2 = Dense(32 ,'relu')(layer2)\n",
        "# layer2 = Dropout(0.5)(layer2)\n",
        "\n",
        "output1 = Dense(1, 'linear')(layer1)\n",
        "output2 = Dense(1, 'linear')(layer2)\n",
        "\n",
        "input_layers = [input1, input2]\n",
        "output_layers = [output1, output2]\n",
        "\n",
        "model = Model(inputs=input_layers, outputs=output_layers)\n",
        "\n",
        "model.compile(optimizer='adam', loss='mae')\n",
        "\n",
        "print(model.summary())"
      ],
      "execution_count": null,
      "outputs": [
        {
          "output_type": "stream",
          "name": "stdout",
          "text": [
            "Model: \"model\"\n",
            "__________________________________________________________________________________________________\n",
            "Layer (type)                    Output Shape         Param #     Connected to                     \n",
            "==================================================================================================\n",
            "input_1 (InputLayer)            [(None, 48, 44, 1)]  0                                            \n",
            "__________________________________________________________________________________________________\n",
            "conv2d (Conv2D)                 (None, 48, 44, 16)   416         input_1[0][0]                    \n",
            "__________________________________________________________________________________________________\n",
            "dropout (Dropout)               (None, 48, 44, 16)   0           conv2d[0][0]                     \n",
            "__________________________________________________________________________________________________\n",
            "max_pooling2d (MaxPooling2D)    (None, 24, 22, 16)   0           dropout[0][0]                    \n",
            "__________________________________________________________________________________________________\n",
            "conv2d_1 (Conv2D)               (None, 24, 22, 32)   12832       max_pooling2d[0][0]              \n",
            "__________________________________________________________________________________________________\n",
            "dropout_1 (Dropout)             (None, 24, 22, 32)   0           conv2d_1[0][0]                   \n",
            "__________________________________________________________________________________________________\n",
            "max_pooling2d_1 (MaxPooling2D)  (None, 12, 11, 32)   0           dropout_1[0][0]                  \n",
            "__________________________________________________________________________________________________\n",
            "conv2d_2 (Conv2D)               (None, 10, 9, 64)    18496       max_pooling2d_1[0][0]            \n",
            "__________________________________________________________________________________________________\n",
            "dropout_2 (Dropout)             (None, 10, 9, 64)    0           conv2d_2[0][0]                   \n",
            "__________________________________________________________________________________________________\n",
            "max_pooling2d_2 (MaxPooling2D)  (None, 5, 4, 64)     0           dropout_2[0][0]                  \n",
            "__________________________________________________________________________________________________\n",
            "flatten (Flatten)               (None, 1280)         0           max_pooling2d_2[0][0]            \n",
            "__________________________________________________________________________________________________\n",
            "dense (Dense)                   (None, 512)          655872      flatten[0][0]                    \n",
            "__________________________________________________________________________________________________\n",
            "dropout_3 (Dropout)             (None, 512)          0           dense[0][0]                      \n",
            "__________________________________________________________________________________________________\n",
            "input_2 (InputLayer)            [(None, 7)]          0                                            \n",
            "__________________________________________________________________________________________________\n",
            "concatenate (Concatenate)       (None, 519)          0           dropout_3[0][0]                  \n",
            "                                                                 input_2[0][0]                    \n",
            "__________________________________________________________________________________________________\n",
            "dense_1 (Dense)                 (None, 256)          133120      concatenate[0][0]                \n",
            "__________________________________________________________________________________________________\n",
            "dense_2 (Dense)                 (None, 256)          133120      concatenate[0][0]                \n",
            "__________________________________________________________________________________________________\n",
            "dropout_4 (Dropout)             (None, 256)          0           dense_1[0][0]                    \n",
            "__________________________________________________________________________________________________\n",
            "dropout_5 (Dropout)             (None, 256)          0           dense_2[0][0]                    \n",
            "__________________________________________________________________________________________________\n",
            "dense_3 (Dense)                 (None, 128)          32896       dropout_4[0][0]                  \n",
            "__________________________________________________________________________________________________\n",
            "dense_4 (Dense)                 (None, 128)          32896       dropout_5[0][0]                  \n",
            "__________________________________________________________________________________________________\n",
            "dropout_6 (Dropout)             (None, 128)          0           dense_3[0][0]                    \n",
            "__________________________________________________________________________________________________\n",
            "dropout_7 (Dropout)             (None, 128)          0           dense_4[0][0]                    \n",
            "__________________________________________________________________________________________________\n",
            "dense_5 (Dense)                 (None, 64)           8256        dropout_6[0][0]                  \n",
            "__________________________________________________________________________________________________\n",
            "dense_6 (Dense)                 (None, 64)           8256        dropout_7[0][0]                  \n",
            "__________________________________________________________________________________________________\n",
            "dense_7 (Dense)                 (None, 32)           2080        dense_5[0][0]                    \n",
            "__________________________________________________________________________________________________\n",
            "dense_8 (Dense)                 (None, 32)           2080        dense_6[0][0]                    \n",
            "__________________________________________________________________________________________________\n",
            "dense_9 (Dense)                 (None, 1)            33          dense_7[0][0]                    \n",
            "__________________________________________________________________________________________________\n",
            "dense_10 (Dense)                (None, 1)            33          dense_8[0][0]                    \n",
            "==================================================================================================\n",
            "Total params: 1,040,386\n",
            "Trainable params: 1,040,386\n",
            "Non-trainable params: 0\n",
            "__________________________________________________________________________________________________\n",
            "None\n"
          ]
        }
      ]
    },
    {
      "cell_type": "code",
      "metadata": {
        "id": "woulgNfGVvMO"
      },
      "source": [
        "# plot_model(model, show_shapes=True)"
      ],
      "execution_count": null,
      "outputs": []
    },
    {
      "cell_type": "code",
      "metadata": {
        "colab": {
          "base_uri": "https://localhost:8080/"
        },
        "id": "Oa3y4Mfyg7g7",
        "outputId": "ddc34849-9c14-467b-cce3-c6ef89689712"
      },
      "source": [
        "models_numbers = []\n",
        "models_dir = PATH2PROJECT + \"m/Models/raw/\"\n",
        "models_name = os.listdir(models_dir)\n",
        "for model_name in models_name:\n",
        "  model_num = int(model_name[5:])\n",
        "  models_numbers.append(model_num)\n",
        "\n",
        "max_num = max(models_numbers)\n",
        "\n",
        "model.save(models_dir + f\"model{max_num+1}\")"
      ],
      "execution_count": null,
      "outputs": [
        {
          "output_type": "stream",
          "name": "stdout",
          "text": [
            "INFO:tensorflow:Assets written to: /content/drive/MyDrive/Projects/EyeTracker/Model/Models/raw/model5/assets\n"
          ]
        }
      ]
    }
  ]
}