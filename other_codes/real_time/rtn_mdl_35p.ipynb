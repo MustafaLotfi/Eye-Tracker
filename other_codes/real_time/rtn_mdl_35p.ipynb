{
  "nbformat": 4,
  "nbformat_minor": 0,
  "metadata": {
    "colab": {
      "name": "rtn_mdl_35p.ipynb",
      "provenance": [],
      "collapsed_sections": []
    },
    "kernelspec": {
      "name": "python3",
      "display_name": "Python 3"
    },
    "language_info": {
      "name": "python"
    }
  },
  "cells": [
    {
      "cell_type": "code",
      "metadata": {
        "id": "Ks_AbdKIb-xZ"
      },
      "source": [
        "from tensorflow.keras.callbacks import EarlyStopping\n",
        "from tensorflow.keras.models import load_model\n",
        "from sklearn.preprocessing import StandardScaler\n",
        "import numpy as np\n",
        "import pickle\n",
        "from sklearn.utils import shuffle\n",
        "import matplotlib.pyplot as plt\n",
        "from joblib import load as jload\n",
        "import time\n",
        "import random\n",
        "import os"
      ],
      "execution_count": null,
      "outputs": []
    },
    {
      "cell_type": "code",
      "metadata": {
        "id": "T5XUNQBvcGf6"
      },
      "source": [
        "PATH2PROJECT = \"/content/drive/MyDrive/Projects/EyeTracker/\"\n",
        "trained_models_dir = PATH2PROJECT + \"models/eye_tracking/trained/\"\n",
        "scaler_dir = PATH2PROJECT + \"models/eye_tracking/trained/scalers.bin\"\n",
        "MODEL_FOL = \"model2\"\n",
        "SUBJECT_NUM = 1\n",
        "R_TRAIN = 0.85\n",
        "CHOSEN_INPUTS = [0, 1, 2, 6, 7, 8, 9]\n",
        "N_EPOCHS = 200\n",
        "PATIENCE = 25\n",
        "TRAINABLE_LAYERS = 2\n",
        "N_SMP_SLC = 30\n",
        "N_SMP_PNT = 400"
      ],
      "execution_count": null,
      "outputs": []
    },
    {
      "cell_type": "code",
      "metadata": {
        "colab": {
          "base_uri": "https://localhost:8080/"
        },
        "id": "bvzEN-j4cGFQ",
        "outputId": "2b889f41-543c-40d4-ec6e-efae92839936"
      },
      "source": [
        "subjects_dir = PATH2PROJECT + \"subjects/\"\n",
        "\n",
        "with open(subjects_dir + f\"{SUBJECT_NUM}/eye_tracking/x1.pickle\", \"rb\") as f:\n",
        "    x1_load = pickle.load(f)\n",
        "with open(subjects_dir + f\"{SUBJECT_NUM}/eye_tracking/x2.pickle\", \"rb\") as f:\n",
        "    x2_load = pickle.load(f)\n",
        "with open(subjects_dir + f\"{SUBJECT_NUM}/eye_tracking/y.pickle\", \"rb\") as f:\n",
        "    y_load = pickle.load(f)\n",
        "\n",
        "n_smp, frame_height, frame_width = x1_load.shape[:-1]\n",
        "print(n_smp)"
      ],
      "execution_count": null,
      "outputs": [
        {
          "output_type": "stream",
          "name": "stdout",
          "text": [
            "14000\n"
          ]
        }
      ]
    },
    {
      "cell_type": "code",
      "metadata": {
        "id": "9RVfgu2jcGCC"
      },
      "source": [
        "x2_chs_inp = x2_load[:, CHOSEN_INPUTS]"
      ],
      "execution_count": null,
      "outputs": []
    },
    {
      "cell_type": "code",
      "metadata": {
        "id": "o2yHN0I9cF6o"
      },
      "source": [
        "scalers = jload(scaler_dir)\n",
        "x1_scaler, x2_scaler, _ = scalers\n",
        "\n",
        "x1 = x1_load / x1_scaler\n",
        "x2 = x2_scaler.transform(x2_chs_inp)\n",
        "\n",
        "y_scalers = y_load.max(0)\n",
        "y = y_load / y_scalers"
      ],
      "execution_count": null,
      "outputs": []
    },
    {
      "cell_type": "code",
      "metadata": {
        "id": "H0DBa1XRcFiy"
      },
      "source": [
        "# 14000 dataset, 9 point\n",
        "# points3x3 = np.array([1, 3, 5, 10, 17, 18, 20, 26, 31])\n",
        "# n_smp_slc = 400\n",
        "# n_smp_pnt = 400\n",
        "\n",
        "# n_point = n_smp_sbj // n_smp_pnt\n",
        "# x1_seen = []\n",
        "# x2_seen = []\n",
        "# y_seen = []\n",
        "# x1_unseen = []\n",
        "# x2_unseen = []\n",
        "# y_unseen = []\n",
        "\n",
        "# for i in range(n_point):\n",
        "#     if np.sum(i == points3x3) == 1:\n",
        "#         for j in range(n_smp_slc):\n",
        "#             x1_seen.append(x1_sbj[i * n_smp_pnt + j])\n",
        "#             x2_seen.append(x2_sbj[i * n_smp_pnt + j])\n",
        "#             y_seen.append(y_sbj[i * n_smp_pnt + j])\n",
        "#     else:\n",
        "#         for j in range(n_smp_pnt):\n",
        "#             x1_unseen.append(x1_sbj[i * n_smp_pnt + j])\n",
        "#             x2_unseen.append(x2_sbj[i * n_smp_pnt + j])\n",
        "#             y_unseen.append(y_sbj[i * n_smp_pnt + j])\n",
        "\n",
        "# x1_seen = np.array(x1_seen)\n",
        "# x2_seen = np.array(x2_seen)\n",
        "# y_seen = np.array(y_seen)\n",
        "# x1_unseen = np.array(x1_unseen)\n",
        "# x2_unseen = np.array(x2_unseen)\n",
        "# y_unseen = np.array(y_unseen)\n",
        "\n",
        "# n_seen = x1_seen.shape[0]\n",
        "# n_unseen = x1_unseen.shape[0]\n",
        "# print(n_seen)\n",
        "# print(n_unseen)"
      ],
      "execution_count": null,
      "outputs": []
    },
    {
      "cell_type": "code",
      "metadata": {
        "colab": {
          "base_uri": "https://localhost:8080/"
        },
        "id": "FjYn1Bil1g0z",
        "outputId": "8f3fc57d-ff1d-43cb-f78a-ef8459a0c658"
      },
      "source": [
        "# 14000 dataset, 35 point\n",
        "# n_point = n_smp // N_SMP_PNT\n",
        "# x1_train = []\n",
        "# x2_train = []\n",
        "# y_train = []\n",
        "# x1_test = []\n",
        "# x2_test = []\n",
        "# y_test = []\n",
        "\n",
        "# for i in range(n_point):\n",
        "#     for j in range(N_SMP_PNT):\n",
        "#         if j < N_SMP_SLC:\n",
        "#             x1_train.append(x1[i * N_SMP_PNT + j])\n",
        "#             x2_train.append(x2[i * N_SMP_PNT + j])\n",
        "#             y_train.append(y[i * N_SMP_PNT + j])\n",
        "#         else:\n",
        "#             x1_test.append(x1[i * N_SMP_PNT + j])\n",
        "#             x2_test.append(x2[i * N_SMP_PNT + j])\n",
        "#             y_test.append(y[i * N_SMP_PNT + j])\n",
        "\n",
        "# x1_train = np.array(x1_train)\n",
        "# x2_train = np.array(x2_train)\n",
        "# y_train = np.array(y_train)\n",
        "# x1_test = np.array(x1_test)\n",
        "# x2_test = np.array(x2_test)\n",
        "# y_test = np.array(y_test)\n",
        "\n",
        "# n_train = x1_train.shape[0]\n",
        "# n_test = x1_test.shape[0]\n",
        "# print(n_train)\n",
        "# print(n_test)"
      ],
      "execution_count": null,
      "outputs": [
        {
          "output_type": "stream",
          "name": "stdout",
          "text": [
            "1050\n",
            "12950\n"
          ]
        }
      ]
    },
    {
      "cell_type": "code",
      "metadata": {
        "colab": {
          "base_uri": "https://localhost:8080/",
          "height": 319
        },
        "id": "hcfKj5VNcp0C",
        "outputId": "59cd9f6c-75ff-471d-de85-f175a9e8bee3"
      },
      "source": [
        "SAMPLE_NUMBER = 120\n",
        "print(x2_train[SAMPLE_NUMBER])\n",
        "print(y_train[SAMPLE_NUMBER])\n",
        "plt.imshow(x1_train[SAMPLE_NUMBER].\n",
        "           reshape((frame_height, frame_width)), cmap=\"gray\")\n",
        "plt.show()"
      ],
      "execution_count": null,
      "outputs": [
        {
          "output_type": "stream",
          "name": "stdout",
          "text": [
            "[ 0.55121882  0.44088888  0.44734527 -1.15685876 -0.97355251 -0.83933475\n",
            "  0.05087425]\n",
            "[1.   0.25]\n"
          ]
        },
        {
          "output_type": "display_data",
          "data": {
            "image/png": "[encoded data removed]",
            "text/plain": [
              "<Figure size 432x288 with 1 Axes>"
            ]
          },
          "metadata": {
            "needs_background": "light"
          }
        }
      ]
    },
    {
      "cell_type": "code",
      "metadata": {
        "id": "4A-szSY-cpxL"
      },
      "source": [
        "y1_train, y2_train = y_train[:, 0], y_train[:, 1]\n",
        "y1_test, y2_test = y_test[:, 0], y_test[:, 1]"
      ],
      "execution_count": null,
      "outputs": []
    },
    {
      "cell_type": "code",
      "metadata": {
        "colab": {
          "base_uri": "https://localhost:8080/"
        },
        "id": "PqdkxbYFcpuf",
        "outputId": "17dc74f3-dadc-4c95-d56d-8efd25d8fd9a"
      },
      "source": [
        "(\n",
        "  x1_train_shf,\n",
        "  x2_train_shf,\n",
        "  y1_train_shf,\n",
        "  y2_train_shf\n",
        ") = shuffle(\n",
        "    x1_train,\n",
        "    x2_train,\n",
        "    y1_train,\n",
        "    y2_train\n",
        "    )\n",
        "\n",
        "(\n",
        "    x1_test_shf,\n",
        "    x2_test_shf,\n",
        "    y1_test_shf,\n",
        "    y2_test_shf\n",
        ") = shuffle(\n",
        "    x1_test,\n",
        "    x2_test,\n",
        "    y1_test,\n",
        "    y2_test\n",
        ")\n",
        "\n",
        "print(x1_train_shf.shape, x2_train_shf.shape,\n",
        "      y1_train_shf.shape, y2_train_shf.shape,\n",
        "      x1_test_shf.shape, x2_test_shf.shape,\n",
        "      y1_test_shf.shape, y2_test_shf.shape)"
      ],
      "execution_count": null,
      "outputs": [
        {
          "output_type": "stream",
          "name": "stdout",
          "text": [
            "(1050, 48, 44, 1) (1050, 7) (1050,) (1050,) (12950, 48, 44, 1) (12950, 7) (12950,) (12950,)\n"
          ]
        }
      ]
    },
    {
      "cell_type": "code",
      "metadata": {
        "id": "dpT4PjQUcprr"
      },
      "source": [
        "x_train_list = [x1_train_shf, x2_train_shf]\n",
        "y_train_list = [y1_train_shf, y2_train_shf]\n",
        "\n",
        "x_test_list = [x1_test_shf, x2_test_shf]\n",
        "y_test_list = [y1_test_shf, y2_test_shf]"
      ],
      "execution_count": null,
      "outputs": []
    },
    {
      "cell_type": "code",
      "metadata": {
        "id": "hasap1QZcpoy"
      },
      "source": [
        "cb = EarlyStopping(patience=PATIENCE, verbose=1, restore_best_weights=True)"
      ],
      "execution_count": null,
      "outputs": []
    },
    {
      "cell_type": "code",
      "metadata": {
        "colab": {
          "base_uri": "https://localhost:8080/"
        },
        "id": "QrUF35MNcpl6",
        "outputId": "c1c291b5-63e3-4ace-8b87-f9821fb2d9bf"
      },
      "source": [
        "model = load_model(trained_models_dir + MODEL_FOL)\n",
        "print(model.summary())"
      ],
      "execution_count": null,
      "outputs": [
        {
          "output_type": "stream",
          "name": "stdout",
          "text": [
            "Model: \"model_4\"\n",
            "__________________________________________________________________________________________________\n",
            "Layer (type)                    Output Shape         Param #     Connected to                     \n",
            "==================================================================================================\n",
            "input_9 (InputLayer)            [(None, 48, 44, 1)]  0                                            \n",
            "__________________________________________________________________________________________________\n",
            "conv2d_12 (Conv2D)              (None, 48, 44, 16)   416         input_9[0][0]                    \n",
            "__________________________________________________________________________________________________\n",
            "max_pooling2d_12 (MaxPooling2D) (None, 24, 22, 16)   0           conv2d_12[0][0]                  \n",
            "__________________________________________________________________________________________________\n",
            "conv2d_13 (Conv2D)              (None, 24, 22, 32)   12832       max_pooling2d_12[0][0]           \n",
            "__________________________________________________________________________________________________\n",
            "max_pooling2d_13 (MaxPooling2D) (None, 12, 11, 32)   0           conv2d_13[0][0]                  \n",
            "__________________________________________________________________________________________________\n",
            "conv2d_14 (Conv2D)              (None, 10, 9, 64)    18496       max_pooling2d_13[0][0]           \n",
            "__________________________________________________________________________________________________\n",
            "max_pooling2d_14 (MaxPooling2D) (None, 5, 4, 64)     0           conv2d_14[0][0]                  \n",
            "__________________________________________________________________________________________________\n",
            "flatten_4 (Flatten)             (None, 1280)         0           max_pooling2d_14[0][0]           \n",
            "__________________________________________________________________________________________________\n",
            "dense_44 (Dense)                (None, 256)          327936      flatten_4[0][0]                  \n",
            "__________________________________________________________________________________________________\n",
            "input_10 (InputLayer)           [(None, 7)]          0                                            \n",
            "__________________________________________________________________________________________________\n",
            "concatenate_4 (Concatenate)     (None, 263)          0           dense_44[0][0]                   \n",
            "                                                                 input_10[0][0]                   \n",
            "__________________________________________________________________________________________________\n",
            "dense_45 (Dense)                (None, 128)          33792       concatenate_4[0][0]              \n",
            "__________________________________________________________________________________________________\n",
            "dense_46 (Dense)                (None, 128)          33792       concatenate_4[0][0]              \n",
            "__________________________________________________________________________________________________\n",
            "dense_47 (Dense)                (None, 64)           8256        dense_45[0][0]                   \n",
            "__________________________________________________________________________________________________\n",
            "dense_48 (Dense)                (None, 64)           8256        dense_46[0][0]                   \n",
            "__________________________________________________________________________________________________\n",
            "dense_49 (Dense)                (None, 16)           1040        dense_47[0][0]                   \n",
            "__________________________________________________________________________________________________\n",
            "dense_50 (Dense)                (None, 16)           1040        dense_48[0][0]                   \n",
            "__________________________________________________________________________________________________\n",
            "dense_51 (Dense)                (None, 8)            136         dense_49[0][0]                   \n",
            "__________________________________________________________________________________________________\n",
            "dense_52 (Dense)                (None, 8)            136         dense_50[0][0]                   \n",
            "__________________________________________________________________________________________________\n",
            "dense_53 (Dense)                (None, 1)            9           dense_51[0][0]                   \n",
            "__________________________________________________________________________________________________\n",
            "dense_54 (Dense)                (None, 1)            9           dense_52[0][0]                   \n",
            "==================================================================================================\n",
            "Total params: 446,146\n",
            "Trainable params: 446,146\n",
            "Non-trainable params: 0\n",
            "__________________________________________________________________________________________________\n",
            "None\n"
          ]
        }
      ]
    },
    {
      "cell_type": "code",
      "metadata": {
        "id": "lgxSezv4jY70",
        "colab": {
          "base_uri": "https://localhost:8080/"
        },
        "outputId": "d391fc53-dae0-40fc-c1f0-3989bc710cbf"
      },
      "source": [
        "for layer in model.layers[:-TRAINABLE_LAYERS]:\n",
        "    layer.trainable = False\n",
        "for layer in model.layers:\n",
        "    print(layer, layer.trainable)\n",
        "\n",
        "print(model.summary())"
      ],
      "execution_count": null,
      "outputs": [
        {
          "output_type": "stream",
          "name": "stdout",
          "text": [
            "<keras.engine.input_layer.InputLayer object at 0x7f20d3aa7cd0> False\n",
            "<keras.layers.convolutional.Conv2D object at 0x7f20d3ae67d0> False\n",
            "<keras.layers.pooling.MaxPooling2D object at 0x7f20d3ac0750> False\n",
            "<keras.layers.convolutional.Conv2D object at 0x7f20d3ac1510> False\n",
            "<keras.layers.pooling.MaxPooling2D object at 0x7f20d3ac66d0> False\n",
            "<keras.layers.convolutional.Conv2D object at 0x7f20d3ac74d0> False\n",
            "<keras.layers.pooling.MaxPooling2D object at 0x7f20d3acd690> False\n",
            "<keras.layers.core.Flatten object at 0x7f20d3acf610> False\n",
            "<keras.layers.core.Dense object at 0x7f20d3ad30d0> False\n",
            "<keras.engine.input_layer.InputLayer object at 0x7f20d3ad3a90> False\n",
            "<keras.layers.merge.Concatenate object at 0x7f20d3ad9490> False\n",
            "<keras.layers.core.Dense object at 0x7f20d3ad9fd0> False\n",
            "<keras.layers.core.Dense object at 0x7f20d3adbf50> False\n",
            "<keras.layers.core.Dense object at 0x7f20d3a5eed0> False\n",
            "<keras.layers.core.Dense object at 0x7f20d3a64e90> False\n",
            "<keras.layers.core.Dense object at 0x7f20d3a69e50> False\n",
            "<keras.layers.core.Dense object at 0x7f20d3a6cdd0> False\n",
            "<keras.layers.core.Dense object at 0x7f20d3a70d90> False\n",
            "<keras.layers.core.Dense object at 0x7f20d3a74d50> False\n",
            "<keras.layers.core.Dense object at 0x7f20d3a7ad10> True\n",
            "<keras.layers.core.Dense object at 0x7f20d3a7fc50> True\n",
            "Model: \"model_4\"\n",
            "__________________________________________________________________________________________________\n",
            "Layer (type)                    Output Shape         Param #     Connected to                     \n",
            "==================================================================================================\n",
            "input_9 (InputLayer)            [(None, 48, 44, 1)]  0                                            \n",
            "__________________________________________________________________________________________________\n",
            "conv2d_12 (Conv2D)              (None, 48, 44, 16)   416         input_9[0][0]                    \n",
            "__________________________________________________________________________________________________\n",
            "max_pooling2d_12 (MaxPooling2D) (None, 24, 22, 16)   0           conv2d_12[0][0]                  \n",
            "__________________________________________________________________________________________________\n",
            "conv2d_13 (Conv2D)              (None, 24, 22, 32)   12832       max_pooling2d_12[0][0]           \n",
            "__________________________________________________________________________________________________\n",
            "max_pooling2d_13 (MaxPooling2D) (None, 12, 11, 32)   0           conv2d_13[0][0]                  \n",
            "__________________________________________________________________________________________________\n",
            "conv2d_14 (Conv2D)              (None, 10, 9, 64)    18496       max_pooling2d_13[0][0]           \n",
            "__________________________________________________________________________________________________\n",
            "max_pooling2d_14 (MaxPooling2D) (None, 5, 4, 64)     0           conv2d_14[0][0]                  \n",
            "__________________________________________________________________________________________________\n",
            "flatten_4 (Flatten)             (None, 1280)         0           max_pooling2d_14[0][0]           \n",
            "__________________________________________________________________________________________________\n",
            "dense_44 (Dense)                (None, 256)          327936      flatten_4[0][0]                  \n",
            "__________________________________________________________________________________________________\n",
            "input_10 (InputLayer)           [(None, 7)]          0                                            \n",
            "__________________________________________________________________________________________________\n",
            "concatenate_4 (Concatenate)     (None, 263)          0           dense_44[0][0]                   \n",
            "                                                                 input_10[0][0]                   \n",
            "__________________________________________________________________________________________________\n",
            "dense_45 (Dense)                (None, 128)          33792       concatenate_4[0][0]              \n",
            "__________________________________________________________________________________________________\n",
            "dense_46 (Dense)                (None, 128)          33792       concatenate_4[0][0]              \n",
            "__________________________________________________________________________________________________\n",
            "dense_47 (Dense)                (None, 64)           8256        dense_45[0][0]                   \n",
            "__________________________________________________________________________________________________\n",
            "dense_48 (Dense)                (None, 64)           8256        dense_46[0][0]                   \n",
            "__________________________________________________________________________________________________\n",
            "dense_49 (Dense)                (None, 16)           1040        dense_47[0][0]                   \n",
            "__________________________________________________________________________________________________\n",
            "dense_50 (Dense)                (None, 16)           1040        dense_48[0][0]                   \n",
            "__________________________________________________________________________________________________\n",
            "dense_51 (Dense)                (None, 8)            136         dense_49[0][0]                   \n",
            "__________________________________________________________________________________________________\n",
            "dense_52 (Dense)                (None, 8)            136         dense_50[0][0]                   \n",
            "__________________________________________________________________________________________________\n",
            "dense_53 (Dense)                (None, 1)            9           dense_51[0][0]                   \n",
            "__________________________________________________________________________________________________\n",
            "dense_54 (Dense)                (None, 1)            9           dense_52[0][0]                   \n",
            "==================================================================================================\n",
            "Total params: 446,146\n",
            "Trainable params: 18\n",
            "Non-trainable params: 446,128\n",
            "__________________________________________________________________________________________________\n",
            "None\n"
          ]
        }
      ]
    },
    {
      "cell_type": "code",
      "metadata": {
        "colab": {
          "base_uri": "https://localhost:8080/"
        },
        "id": "diMNdUZZjeLQ",
        "outputId": "a4453523-b59b-4de2-d926-85dba927a553"
      },
      "source": [
        "results = model.fit(x_train_list,\n",
        "                    y_train_list,\n",
        "                    validation_data=(x_test_list, y_test_list),\n",
        "                    epochs=N_EPOCHS,\n",
        "                    callbacks=cb)"
      ],
      "execution_count": null,
      "outputs": [
        {
          "output_type": "stream",
          "name": "stdout",
          "text": [
            "Epoch 1/200\n",
            "33/33 [==============================] - 16s 455ms/step - loss: 0.3271 - dense_53_loss: 0.1276 - dense_54_loss: 0.1995 - val_loss: 0.2057 - val_dense_53_loss: 0.0557 - val_dense_54_loss: 0.1500\n",
            "Epoch 2/200\n",
            "33/33 [==============================] - 14s 439ms/step - loss: 0.3100 - dense_53_loss: 0.1179 - dense_54_loss: 0.1922 - val_loss: 0.2153 - val_dense_53_loss: 0.0580 - val_dense_54_loss: 0.1574\n",
            "Epoch 3/200\n",
            "33/33 [==============================] - 14s 441ms/step - loss: 0.2831 - dense_53_loss: 0.1151 - dense_54_loss: 0.1680 - val_loss: 0.1907 - val_dense_53_loss: 0.0537 - val_dense_54_loss: 0.1370\n",
            "Epoch 4/200\n",
            "33/33 [==============================] - 14s 440ms/step - loss: 0.2620 - dense_53_loss: 0.1080 - dense_54_loss: 0.1540 - val_loss: 0.1744 - val_dense_53_loss: 0.0501 - val_dense_54_loss: 0.1243\n",
            "Epoch 5/200\n",
            "33/33 [==============================] - 14s 437ms/step - loss: 0.2495 - dense_53_loss: 0.1018 - dense_54_loss: 0.1477 - val_loss: 0.1785 - val_dense_53_loss: 0.0504 - val_dense_54_loss: 0.1282\n",
            "Epoch 6/200\n",
            "33/33 [==============================] - 14s 437ms/step - loss: 0.2391 - dense_53_loss: 0.0979 - dense_54_loss: 0.1412 - val_loss: 0.1677 - val_dense_53_loss: 0.0475 - val_dense_54_loss: 0.1202\n",
            "Epoch 7/200\n",
            "33/33 [==============================] - 14s 440ms/step - loss: 0.2273 - dense_53_loss: 0.0932 - dense_54_loss: 0.1341 - val_loss: 0.1667 - val_dense_53_loss: 0.0486 - val_dense_54_loss: 0.1181\n",
            "Epoch 8/200\n",
            "33/33 [==============================] - 14s 438ms/step - loss: 0.2185 - dense_53_loss: 0.0907 - dense_54_loss: 0.1278 - val_loss: 0.1720 - val_dense_53_loss: 0.0497 - val_dense_54_loss: 0.1222\n",
            "Epoch 9/200\n",
            "33/33 [==============================] - 14s 440ms/step - loss: 0.2146 - dense_53_loss: 0.0885 - dense_54_loss: 0.1261 - val_loss: 0.1664 - val_dense_53_loss: 0.0506 - val_dense_54_loss: 0.1158\n",
            "Epoch 10/200\n",
            "33/33 [==============================] - 14s 438ms/step - loss: 0.2031 - dense_53_loss: 0.0865 - dense_54_loss: 0.1166 - val_loss: 0.1715 - val_dense_53_loss: 0.0476 - val_dense_54_loss: 0.1239\n",
            "Epoch 11/200\n",
            "33/33 [==============================] - 14s 438ms/step - loss: 0.2021 - dense_53_loss: 0.0841 - dense_54_loss: 0.1180 - val_loss: 0.1677 - val_dense_53_loss: 0.0496 - val_dense_54_loss: 0.1181\n",
            "Epoch 12/200\n",
            "33/33 [==============================] - 14s 438ms/step - loss: 0.1995 - dense_53_loss: 0.0840 - dense_54_loss: 0.1156 - val_loss: 0.1676 - val_dense_53_loss: 0.0489 - val_dense_54_loss: 0.1187\n",
            "Epoch 13/200\n",
            "33/33 [==============================] - 14s 441ms/step - loss: 0.1955 - dense_53_loss: 0.0800 - dense_54_loss: 0.1154 - val_loss: 0.1682 - val_dense_53_loss: 0.0478 - val_dense_54_loss: 0.1204\n",
            "Epoch 14/200\n",
            "33/33 [==============================] - 14s 439ms/step - loss: 0.1923 - dense_53_loss: 0.0803 - dense_54_loss: 0.1120 - val_loss: 0.1693 - val_dense_53_loss: 0.0520 - val_dense_54_loss: 0.1173\n",
            "Epoch 15/200\n",
            "33/33 [==============================] - 14s 440ms/step - loss: 0.1857 - dense_53_loss: 0.0796 - dense_54_loss: 0.1061 - val_loss: 0.1708 - val_dense_53_loss: 0.0511 - val_dense_54_loss: 0.1196\n",
            "Epoch 16/200\n",
            "33/33 [==============================] - 14s 439ms/step - loss: 0.1824 - dense_53_loss: 0.0799 - dense_54_loss: 0.1025 - val_loss: 0.1620 - val_dense_53_loss: 0.0493 - val_dense_54_loss: 0.1127\n",
            "Epoch 17/200\n",
            "33/33 [==============================] - 14s 437ms/step - loss: 0.1794 - dense_53_loss: 0.0793 - dense_54_loss: 0.1001 - val_loss: 0.1663 - val_dense_53_loss: 0.0525 - val_dense_54_loss: 0.1138\n",
            "Epoch 18/200\n",
            "33/33 [==============================] - 14s 437ms/step - loss: 0.1738 - dense_53_loss: 0.0783 - dense_54_loss: 0.0955 - val_loss: 0.1723 - val_dense_53_loss: 0.0554 - val_dense_54_loss: 0.1169\n",
            "Epoch 19/200\n",
            "33/33 [==============================] - 14s 438ms/step - loss: 0.1779 - dense_53_loss: 0.0762 - dense_54_loss: 0.1018 - val_loss: 0.1701 - val_dense_53_loss: 0.0518 - val_dense_54_loss: 0.1183\n",
            "Epoch 20/200\n",
            "33/33 [==============================] - 14s 439ms/step - loss: 0.1641 - dense_53_loss: 0.0731 - dense_54_loss: 0.0911 - val_loss: 0.1852 - val_dense_53_loss: 0.0568 - val_dense_54_loss: 0.1284\n",
            "Epoch 21/200\n",
            "33/33 [==============================] - 14s 439ms/step - loss: 0.1649 - dense_53_loss: 0.0729 - dense_54_loss: 0.0920 - val_loss: 0.1724 - val_dense_53_loss: 0.0524 - val_dense_54_loss: 0.1200\n",
            "Epoch 22/200\n",
            "33/33 [==============================] - 14s 438ms/step - loss: 0.1554 - dense_53_loss: 0.0706 - dense_54_loss: 0.0848 - val_loss: 0.1707 - val_dense_53_loss: 0.0544 - val_dense_54_loss: 0.1163\n",
            "Epoch 23/200\n",
            "33/33 [==============================] - 14s 437ms/step - loss: 0.1490 - dense_53_loss: 0.0695 - dense_54_loss: 0.0794 - val_loss: 0.1776 - val_dense_53_loss: 0.0570 - val_dense_54_loss: 0.1206\n",
            "Epoch 24/200\n",
            "33/33 [==============================] - 14s 441ms/step - loss: 0.1534 - dense_53_loss: 0.0691 - dense_54_loss: 0.0843 - val_loss: 0.1800 - val_dense_53_loss: 0.0586 - val_dense_54_loss: 0.1215\n",
            "Epoch 25/200\n",
            "33/33 [==============================] - 14s 440ms/step - loss: 0.1510 - dense_53_loss: 0.0677 - dense_54_loss: 0.0833 - val_loss: 0.1751 - val_dense_53_loss: 0.0539 - val_dense_54_loss: 0.1212\n",
            "Epoch 26/200\n",
            "33/33 [==============================] - 14s 439ms/step - loss: 0.1530 - dense_53_loss: 0.0697 - dense_54_loss: 0.0833 - val_loss: 0.1788 - val_dense_53_loss: 0.0579 - val_dense_54_loss: 0.1209\n",
            "Epoch 27/200\n",
            "33/33 [==============================] - 14s 438ms/step - loss: 0.1504 - dense_53_loss: 0.0697 - dense_54_loss: 0.0807 - val_loss: 0.1766 - val_dense_53_loss: 0.0598 - val_dense_54_loss: 0.1167\n",
            "Epoch 28/200\n",
            "33/33 [==============================] - 14s 441ms/step - loss: 0.1487 - dense_53_loss: 0.0665 - dense_54_loss: 0.0822 - val_loss: 0.1740 - val_dense_53_loss: 0.0580 - val_dense_54_loss: 0.1159\n",
            "Epoch 29/200\n",
            "33/33 [==============================] - 14s 439ms/step - loss: 0.1400 - dense_53_loss: 0.0643 - dense_54_loss: 0.0757 - val_loss: 0.1833 - val_dense_53_loss: 0.0579 - val_dense_54_loss: 0.1255\n",
            "Epoch 30/200\n",
            "33/33 [==============================] - 14s 439ms/step - loss: 0.1413 - dense_53_loss: 0.0655 - dense_54_loss: 0.0758 - val_loss: 0.1828 - val_dense_53_loss: 0.0584 - val_dense_54_loss: 0.1243\n",
            "Epoch 31/200\n",
            "33/33 [==============================] - 14s 441ms/step - loss: 0.1370 - dense_53_loss: 0.0642 - dense_54_loss: 0.0728 - val_loss: 0.1741 - val_dense_53_loss: 0.0605 - val_dense_54_loss: 0.1135\n",
            "Epoch 32/200\n",
            "33/33 [==============================] - 14s 441ms/step - loss: 0.1390 - dense_53_loss: 0.0650 - dense_54_loss: 0.0740 - val_loss: 0.1869 - val_dense_53_loss: 0.0620 - val_dense_54_loss: 0.1249\n",
            "Epoch 33/200\n",
            "33/33 [==============================] - 14s 439ms/step - loss: 0.1277 - dense_53_loss: 0.0608 - dense_54_loss: 0.0668 - val_loss: 0.1794 - val_dense_53_loss: 0.0587 - val_dense_54_loss: 0.1207\n",
            "Epoch 34/200\n",
            "33/33 [==============================] - 14s 437ms/step - loss: 0.1258 - dense_53_loss: 0.0614 - dense_54_loss: 0.0644 - val_loss: 0.1782 - val_dense_53_loss: 0.0587 - val_dense_54_loss: 0.1196\n",
            "Epoch 35/200\n",
            "33/33 [==============================] - 14s 443ms/step - loss: 0.1229 - dense_53_loss: 0.0595 - dense_54_loss: 0.0635 - val_loss: 0.1807 - val_dense_53_loss: 0.0582 - val_dense_54_loss: 0.1225\n",
            "Epoch 36/200\n",
            "33/33 [==============================] - 14s 437ms/step - loss: 0.1212 - dense_53_loss: 0.0588 - dense_54_loss: 0.0624 - val_loss: 0.1814 - val_dense_53_loss: 0.0638 - val_dense_54_loss: 0.1176\n",
            "Epoch 37/200\n",
            "33/33 [==============================] - 14s 441ms/step - loss: 0.1199 - dense_53_loss: 0.0580 - dense_54_loss: 0.0618 - val_loss: 0.1840 - val_dense_53_loss: 0.0612 - val_dense_54_loss: 0.1229\n",
            "Epoch 38/200\n",
            "33/33 [==============================] - 14s 437ms/step - loss: 0.1174 - dense_53_loss: 0.0592 - dense_54_loss: 0.0583 - val_loss: 0.1804 - val_dense_53_loss: 0.0618 - val_dense_54_loss: 0.1185\n",
            "Epoch 39/200\n",
            "33/33 [==============================] - 14s 439ms/step - loss: 0.1148 - dense_53_loss: 0.0572 - dense_54_loss: 0.0576 - val_loss: 0.1793 - val_dense_53_loss: 0.0615 - val_dense_54_loss: 0.1178\n",
            "Epoch 40/200\n",
            "33/33 [==============================] - 14s 442ms/step - loss: 0.1242 - dense_53_loss: 0.0599 - dense_54_loss: 0.0643 - val_loss: 0.1847 - val_dense_53_loss: 0.0650 - val_dense_54_loss: 0.1197\n",
            "Epoch 41/200\n",
            "33/33 [==============================] - 14s 439ms/step - loss: 0.1206 - dense_53_loss: 0.0600 - dense_54_loss: 0.0606 - val_loss: 0.1835 - val_dense_53_loss: 0.0706 - val_dense_54_loss: 0.1130\n",
            "Restoring model weights from the end of the best epoch.\n",
            "Epoch 00041: early stopping\n"
          ]
        }
      ]
    },
    {
      "cell_type": "code",
      "metadata": {
        "id": "FDC8rCcVjjDa"
      },
      "source": [
        "yhat_train_list = model.predict(x_train_list)\n",
        "yhat_test_list = model.predict(x_test_list)\n",
        "    \n",
        "y_train_new = np.concatenate((np.expand_dims(y_train_list[0], 1),\n",
        "                                np.expand_dims(y_train_list[1], 1)), 1)\n",
        "yhat_train = np.concatenate((yhat_train_list[0], yhat_train_list[1]), 1)\n",
        "y_test_new = np.concatenate((np.expand_dims(y_test_list[0], 1),\n",
        "                                np.expand_dims(y_test_list[1], 1)), 1)\n",
        "yhat_test = np.concatenate((yhat_test_list[0], yhat_test_list[1]), 1)"
      ],
      "execution_count": null,
      "outputs": []
    },
    {
      "cell_type": "code",
      "metadata": {
        "colab": {
          "base_uri": "https://localhost:8080/"
        },
        "id": "3U_7_H7f7oJw",
        "outputId": "0bac1e0e-801a-4ade-ad88-18490fc67ef8"
      },
      "source": [
        "train_loss = np.abs(y_train_new - yhat_train).sum(0) / n_train\n",
        "test_loss = np.abs(y_test_new - yhat_test).sum(0) / n_test\n",
        "\n",
        "print(train_loss, test_loss)"
      ],
      "execution_count": null,
      "outputs": [
        {
          "output_type": "stream",
          "name": "stdout",
          "text": [
            "[0.07835662 0.09979976] [0.04930057 0.11272564]\n"
          ]
        }
      ]
    },
    {
      "cell_type": "code",
      "metadata": {
        "colab": {
          "base_uri": "https://localhost:8080/",
          "height": 338
        },
        "id": "Gkri0Fcax8Aw",
        "outputId": "6cb31e90-f8e7-4d10-a0d7-81abba18c39e"
      },
      "source": [
        "NUM = 36\n",
        "print(\"Train\")\n",
        "sample_train = (y_train_new[NUM] * y_scalers).astype(np.uint32)\n",
        "yhat_train[NUM][yhat_train[NUM] < 0] = 0\n",
        "sample_train_hat = (yhat_train[NUM] * y_scalers).astype(np.uint32)\n",
        "print(sample_train)\n",
        "print(sample_train_hat)\n",
        "\n",
        "print(\"Test\")\n",
        "sample_test = (y_test_new[NUM] * y_scalers).astype(np.uint32)\n",
        "yhat_test[NUM][yhat_test[NUM] < 0] = 0\n",
        "sample_test_hat = (yhat_test[NUM] * y_scalers).astype(np.uint32)\n",
        "print(sample_test)\n",
        "print(sample_test_hat)\n",
        "\n",
        "_, ax = plt.subplots(1,2)\n",
        "ax[0].imshow((x_train_list[0][NUM] * 255).astype(np.uint8).\n",
        "           reshape((frame_height, frame_width)), cmap=\"gray\")\n",
        "ax[1].imshow((x_test_list[0][NUM] * 255).astype(np.uint8).\n",
        "           reshape((frame_height, frame_width)), cmap=\"gray\")"
      ],
      "execution_count": null,
      "outputs": [
        {
          "output_type": "stream",
          "name": "stdout",
          "text": [
            "Train\n",
            "[3594    0]\n",
            "[3564  475]\n",
            "Test\n",
            "[1797 1422]\n",
            "[1805 1423]\n"
          ]
        },
        {
          "output_type": "execute_result",
          "data": {
            "text/plain": [
              "<matplotlib.image.AxesImage at 0x7f20ce94ff50>"
            ]
          },
          "metadata": {},
          "execution_count": 163
        },
        {
          "output_type": "display_data",
          "data": {
            "image/png": "[encoded data removed]",
            "text/plain": [
              "<Figure size 432x288 with 2 Axes>"
            ]
          },
          "metadata": {
            "needs_background": "light"
          }
        }
      ]
    },
    {
      "cell_type": "code",
      "metadata": {
        "id": "3W8EZ8WKj6tY"
      },
      "source": [
        "# model.save(PATH2PROJECT + f\"subjects/{SUBJECT_NUM}/eye_tracking/model\")"
      ],
      "execution_count": null,
      "outputs": []
    }
  ]
}