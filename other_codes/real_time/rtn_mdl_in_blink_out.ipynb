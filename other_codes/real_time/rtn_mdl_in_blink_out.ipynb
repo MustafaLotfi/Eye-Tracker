{
 "cells": [
  {
   "cell_type": "code",
   "execution_count": 1,
   "metadata": {
    "executionInfo": {
     "elapsed": 724,
     "status": "ok",
     "timestamp": 1634312934645,
     "user": {
      "displayName": "mostafa lotfi",
      "photoUrl": "https://lh3.googleusercontent.com/a-/AOh14Gj4ilTay6rvtZq-saddDY_b1Sar82sct4P4Z2d_Wg=s64",
      "userId": "11325640182532482321"
     },
     "user_tz": -210
    },
    "id": "gdpcJ0ywSIY8"
   },
   "outputs": [
    {
     "name": "stderr",
     "output_type": "stream",
     "text": [
      "2021-10-17 17:21:46.745497: W tensorflow/stream_executor/platform/default/dso_loader.cc:64] Could not load dynamic library 'libcudart.so.11.0'; dlerror: libcudart.so.11.0: cannot open shared object file: No such file or directory\n",
      "2021-10-17 17:21:46.745520: I tensorflow/stream_executor/cuda/cudart_stub.cc:29] Ignore above cudart dlerror if you do not have a GPU set up on your machine.\n"
     ]
    }
   ],
   "source": [
    "from tensorflow.keras.callbacks import EarlyStopping\n",
    "from tensorflow.keras.models import load_model\n",
    "from tensorflow.keras.utils import to_categorical\n",
    "from sklearn.metrics import confusion_matrix\n",
    "from sklearn.utils import shuffle\n",
    "from joblib import load as jload\n",
    "import numpy as np\n",
    "import pickle\n",
    "import matplotlib.pyplot as plt\n",
    "import tuning_parameters as tp\n",
    "import eye_fcn_par as efp"
   ]
  },
  {
   "cell_type": "code",
   "execution_count": 2,
   "metadata": {
    "executionInfo": {
     "elapsed": 59,
     "status": "ok",
     "timestamp": 1634312935378,
     "user": {
      "displayName": "mostafa lotfi",
      "photoUrl": "https://lh3.googleusercontent.com/a-/AOh14Gj4ilTay6rvtZq-saddDY_b1Sar82sct4P4Z2d_Wg=s64",
      "userId": "11325640182532482321"
     },
     "user_tz": -210
    },
    "id": "Ah5r_XTjVdsN"
   },
   "outputs": [],
   "source": [
    "PATH2PROJECT = \"\"\n",
    "subject_num = tp.NUMBER\n",
    "R_TRAIN = 0.85\n",
    "N_EPOCHS = 50\n",
    "PATIENCE = 10\n",
    "TRAINABLE_LAYERS = 1"
   ]
  },
  {
   "cell_type": "code",
   "execution_count": 3,
   "metadata": {
    "colab": {
     "base_uri": "https://localhost:8080/"
    },
    "executionInfo": {
     "elapsed": 55,
     "status": "ok",
     "timestamp": 1634312935379,
     "user": {
      "displayName": "mostafa lotfi",
      "photoUrl": "https://lh3.googleusercontent.com/a-/AOh14Gj4ilTay6rvtZq-saddDY_b1Sar82sct4P4Z2d_Wg=s64",
      "userId": "11325640182532482321"
     },
     "user_tz": -210
    },
    "id": "0fbP2VUwPFOE",
    "outputId": "310d7dcc-be19-42a1-90b8-b7ec1cc7f70e"
   },
   "outputs": [
    {
     "name": "stdout",
     "output_type": "stream",
     "text": [
      "150 48 44\n"
     ]
    }
   ],
   "source": [
    "in_blink_out_fol = PATH2PROJECT + f\"subjects/{subject_num}/in_blink_out/\"\n",
    "\n",
    "with open(in_blink_out_fol + \"x1.pickle\", \"rb\") as f:\n",
    "    x1_load = pickle.load(f)\n",
    "with open(in_blink_out_fol + \"x2.pickle\", \"rb\") as f:\n",
    "    x2_load = pickle.load(f)\n",
    "with open(in_blink_out_fol + \"y.pickle\", \"rb\") as f:\n",
    "    y = pickle.load(f)\n",
    "\n",
    "n_smp, frame_height, frame_width = x1_load.shape[:-1]\n",
    "\n",
    "print(n_smp, frame_height, frame_width)"
   ]
  },
  {
   "cell_type": "code",
   "execution_count": 4,
   "metadata": {
    "executionInfo": {
     "elapsed": 42,
     "status": "ok",
     "timestamp": 1634312935380,
     "user": {
      "displayName": "mostafa lotfi",
      "photoUrl": "https://lh3.googleusercontent.com/a-/AOh14Gj4ilTay6rvtZq-saddDY_b1Sar82sct4P4Z2d_Wg=s64",
      "userId": "11325640182532482321"
     },
     "user_tz": -210
    },
    "id": "36TbVopCm16y"
   },
   "outputs": [],
   "source": [
    "x2_chs_inp = x2_load[:, efp.CHOSEN_INPUTS]"
   ]
  },
  {
   "cell_type": "code",
   "execution_count": 5,
   "metadata": {
    "colab": {
     "base_uri": "https://localhost:8080/",
     "height": 284
    },
    "executionInfo": {
     "elapsed": 40,
     "status": "ok",
     "timestamp": 1634312935382,
     "user": {
      "displayName": "mostafa lotfi",
      "photoUrl": "https://lh3.googleusercontent.com/a-/AOh14Gj4ilTay6rvtZq-saddDY_b1Sar82sct4P4Z2d_Wg=s64",
      "userId": "11325640182532482321"
     },
     "user_tz": -210
    },
    "id": "bD1TcxjRTzbI",
    "outputId": "a5805d67-9d61-4fd6-bb58-a57d1d923d64"
   },
   "outputs": [
    {
     "name": "stdout",
     "output_type": "stream",
     "text": [
      "2\n"
     ]
    },
    {
     "data": {
      "image/png": "[encoded data removed]",
      "text/plain": [
       "<Figure size 432x288 with 1 Axes>"
      ]
     },
     "metadata": {
      "needs_background": "light"
     },
     "output_type": "display_data"
    }
   ],
   "source": [
    "SAMPLE_NUMBER = 110\n",
    "print(y[SAMPLE_NUMBER])\n",
    "plt.imshow(x1_load[SAMPLE_NUMBER].reshape((frame_height, frame_width)), cmap=\"gray\")\n",
    "plt.show()"
   ]
  },
  {
   "cell_type": "code",
   "execution_count": 6,
   "metadata": {
    "executionInfo": {
     "elapsed": 27,
     "status": "ok",
     "timestamp": 1634312935384,
     "user": {
      "displayName": "mostafa lotfi",
      "photoUrl": "https://lh3.googleusercontent.com/a-/AOh14Gj4ilTay6rvtZq-saddDY_b1Sar82sct4P4Z2d_Wg=s64",
      "userId": "11325640182532482321"
     },
     "user_tz": -210
    },
    "id": "CF1nWM2UPNmv"
   },
   "outputs": [
    {
     "name": "stderr",
     "output_type": "stream",
     "text": [
      "/home/mostafa/Projects/EyeTracker/lib/python3.9/site-packages/sklearn/base.py:310: UserWarning: Trying to unpickle estimator StandardScaler from version 0.22.2.post1 when using version 0.24.2. This might lead to breaking code or invalid results. Use at your own risk.\n",
      "  warnings.warn(\n"
     ]
    }
   ],
   "source": [
    "scalers = jload(PATH2PROJECT + tp.IN_BLINK_OUT_SCALERS_DIR)\n",
    "x1_scaler, x2_scaler = scalers\n",
    "\n",
    "x1 = x1_load / x1_scaler\n",
    "x2 = x2_scaler.transform(x2_chs_inp)"
   ]
  },
  {
   "cell_type": "code",
   "execution_count": 7,
   "metadata": {
    "colab": {
     "base_uri": "https://localhost:8080/"
    },
    "executionInfo": {
     "elapsed": 26,
     "status": "ok",
     "timestamp": 1634312935385,
     "user": {
      "displayName": "mostafa lotfi",
      "photoUrl": "https://lh3.googleusercontent.com/a-/AOh14Gj4ilTay6rvtZq-saddDY_b1Sar82sct4P4Z2d_Wg=s64",
      "userId": "11325640182532482321"
     },
     "user_tz": -210
    },
    "id": "zWswUN12p0m2",
    "outputId": "4a30f86d-82de-44b8-fd1e-c29f7e2c0091"
   },
   "outputs": [
    {
     "name": "stdout",
     "output_type": "stream",
     "text": [
      "(127, 48, 44, 1) (23, 48, 44, 1) (127, 7) (23, 7) (127,) (23,)\n"
     ]
    }
   ],
   "source": [
    "x1_shf, x2_shf, y_shf = shuffle(x1, x2, y)\n",
    "\n",
    "n_train = int(R_TRAIN * n_smp)\n",
    "n_test = n_smp - n_train\n",
    "x1_train, x2_train = x1_shf[:n_train], x2_shf[:n_train]\n",
    "x1_test, x2_test = x1_shf[n_train:], x2_shf[n_train:]\n",
    "y_train = y_shf[:n_train]\n",
    "y_test = y_shf[n_train:]\n",
    "\n",
    "print(x1_train.shape, x1_test.shape, x2_train.shape, x2_test.shape,\n",
    "      y_train.shape, y_test.shape)"
   ]
  },
  {
   "cell_type": "code",
   "execution_count": 8,
   "metadata": {
    "executionInfo": {
     "elapsed": 23,
     "status": "ok",
     "timestamp": 1634312935387,
     "user": {
      "displayName": "mostafa lotfi",
      "photoUrl": "https://lh3.googleusercontent.com/a-/AOh14Gj4ilTay6rvtZq-saddDY_b1Sar82sct4P4Z2d_Wg=s64",
      "userId": "11325640182532482321"
     },
     "user_tz": -210
    },
    "id": "jX4XVy7LjJGu"
   },
   "outputs": [],
   "source": [
    "y_train_ctg = to_categorical(y_train)\n",
    "y_test_ctg = to_categorical(y_test)"
   ]
  },
  {
   "cell_type": "code",
   "execution_count": 9,
   "metadata": {
    "executionInfo": {
     "elapsed": 23,
     "status": "ok",
     "timestamp": 1634312935388,
     "user": {
      "displayName": "mostafa lotfi",
      "photoUrl": "https://lh3.googleusercontent.com/a-/AOh14Gj4ilTay6rvtZq-saddDY_b1Sar82sct4P4Z2d_Wg=s64",
      "userId": "11325640182532482321"
     },
     "user_tz": -210
    },
    "id": "NTLA249QmZ58"
   },
   "outputs": [],
   "source": [
    "x_train_list = [x1_train, x2_train]\n",
    "x_test_list = [x1_test, x2_test]"
   ]
  },
  {
   "cell_type": "code",
   "execution_count": 10,
   "metadata": {
    "executionInfo": {
     "elapsed": 23,
     "status": "ok",
     "timestamp": 1634312935389,
     "user": {
      "displayName": "mostafa lotfi",
      "photoUrl": "https://lh3.googleusercontent.com/a-/AOh14Gj4ilTay6rvtZq-saddDY_b1Sar82sct4P4Z2d_Wg=s64",
      "userId": "11325640182532482321"
     },
     "user_tz": -210
    },
    "id": "ep7yoyQKrE5t"
   },
   "outputs": [],
   "source": [
    "cb = EarlyStopping(patience=PATIENCE, verbose=1, restore_best_weights=True)"
   ]
  },
  {
   "cell_type": "code",
   "execution_count": 11,
   "metadata": {
    "colab": {
     "base_uri": "https://localhost:8080/"
    },
    "executionInfo": {
     "elapsed": 603,
     "status": "ok",
     "timestamp": 1634312935970,
     "user": {
      "displayName": "mostafa lotfi",
      "photoUrl": "https://lh3.googleusercontent.com/a-/AOh14Gj4ilTay6rvtZq-saddDY_b1Sar82sct4P4Z2d_Wg=s64",
      "userId": "11325640182532482321"
     },
     "user_tz": -210
    },
    "id": "Jm2n-AyunYSL",
    "outputId": "43449663-847c-4571-8001-49a45e9fc6e0"
   },
   "outputs": [
    {
     "name": "stderr",
     "output_type": "stream",
     "text": [
      "2021-10-17 17:21:48.743199: I tensorflow/stream_executor/cuda/cuda_gpu_executor.cc:937] successful NUMA node read from SysFS had negative value (-1), but there must be at least one NUMA node, so returning NUMA node zero\n",
      "2021-10-17 17:21:48.743727: W tensorflow/stream_executor/platform/default/dso_loader.cc:64] Could not load dynamic library 'libcudart.so.11.0'; dlerror: libcudart.so.11.0: cannot open shared object file: No such file or directory\n",
      "2021-10-17 17:21:48.743810: W tensorflow/stream_executor/platform/default/dso_loader.cc:64] Could not load dynamic library 'libcublas.so.11'; dlerror: libcublas.so.11: cannot open shared object file: No such file or directory\n",
      "2021-10-17 17:21:48.743890: W tensorflow/stream_executor/platform/default/dso_loader.cc:64] Could not load dynamic library 'libcublasLt.so.11'; dlerror: libcublasLt.so.11: cannot open shared object file: No such file or directory\n",
      "2021-10-17 17:21:48.743968: W tensorflow/stream_executor/platform/default/dso_loader.cc:64] Could not load dynamic library 'libcufft.so.10'; dlerror: libcufft.so.10: cannot open shared object file: No such file or directory\n",
      "2021-10-17 17:21:48.744069: W tensorflow/stream_executor/platform/default/dso_loader.cc:64] Could not load dynamic library 'libcurand.so.10'; dlerror: libcurand.so.10: cannot open shared object file: No such file or directory\n",
      "2021-10-17 17:21:48.744155: W tensorflow/stream_executor/platform/default/dso_loader.cc:64] Could not load dynamic library 'libcusolver.so.11'; dlerror: libcusolver.so.11: cannot open shared object file: No such file or directory\n",
      "2021-10-17 17:21:48.744225: W tensorflow/stream_executor/platform/default/dso_loader.cc:64] Could not load dynamic library 'libcusparse.so.11'; dlerror: libcusparse.so.11: cannot open shared object file: No such file or directory\n",
      "2021-10-17 17:21:48.744294: W tensorflow/stream_executor/platform/default/dso_loader.cc:64] Could not load dynamic library 'libcudnn.so.8'; dlerror: libcudnn.so.8: cannot open shared object file: No such file or directory\n",
      "2021-10-17 17:21:48.744319: W tensorflow/core/common_runtime/gpu/gpu_device.cc:1835] Cannot dlopen some GPU libraries. Please make sure the missing libraries mentioned above are installed properly if you would like to use GPU. Follow the guide at https://www.tensorflow.org/install/gpu for how to download and setup the required libraries for your platform.\n",
      "Skipping registering GPU devices...\n",
      "2021-10-17 17:21:48.744654: I tensorflow/core/platform/cpu_feature_guard.cc:142] This TensorFlow binary is optimized with oneAPI Deep Neural Network Library (oneDNN) to use the following CPU instructions in performance-critical operations:  AVX2 FMA\n",
      "To enable them in other operations, rebuild TensorFlow with the appropriate compiler flags.\n"
     ]
    },
    {
     "name": "stdout",
     "output_type": "stream",
     "text": [
      "Model: \"model_2\"\n",
      "__________________________________________________________________________________________________\n",
      "Layer (type)                    Output Shape         Param #     Connected to                     \n",
      "==================================================================================================\n",
      "input_5 (InputLayer)            [(None, 48, 44, 1)]  0                                            \n",
      "__________________________________________________________________________________________________\n",
      "conv2d_6 (Conv2D)               (None, 48, 44, 16)   416         input_5[0][0]                    \n",
      "__________________________________________________________________________________________________\n",
      "max_pooling2d_6 (MaxPooling2D)  (None, 24, 22, 16)   0           conv2d_6[0][0]                   \n",
      "__________________________________________________________________________________________________\n",
      "conv2d_7 (Conv2D)               (None, 24, 22, 32)   12832       max_pooling2d_6[0][0]            \n",
      "__________________________________________________________________________________________________\n",
      "max_pooling2d_7 (MaxPooling2D)  (None, 12, 11, 32)   0           conv2d_7[0][0]                   \n",
      "__________________________________________________________________________________________________\n",
      "conv2d_8 (Conv2D)               (None, 10, 9, 64)    18496       max_pooling2d_7[0][0]            \n",
      "__________________________________________________________________________________________________\n",
      "max_pooling2d_8 (MaxPooling2D)  (None, 5, 4, 64)     0           conv2d_8[0][0]                   \n",
      "__________________________________________________________________________________________________\n",
      "flatten_2 (Flatten)             (None, 1280)         0           max_pooling2d_8[0][0]            \n",
      "__________________________________________________________________________________________________\n",
      "dense_12 (Dense)                (None, 256)          327936      flatten_2[0][0]                  \n",
      "__________________________________________________________________________________________________\n",
      "input_6 (InputLayer)            [(None, 7)]          0                                            \n",
      "__________________________________________________________________________________________________\n",
      "concatenate_2 (Concatenate)     (None, 263)          0           dense_12[0][0]                   \n",
      "                                                                 input_6[0][0]                    \n",
      "__________________________________________________________________________________________________\n",
      "dense_13 (Dense)                (None, 128)          33792       concatenate_2[0][0]              \n",
      "__________________________________________________________________________________________________\n",
      "dense_14 (Dense)                (None, 64)           8256        dense_13[0][0]                   \n",
      "__________________________________________________________________________________________________\n",
      "dense_15 (Dense)                (None, 32)           2080        dense_14[0][0]                   \n",
      "__________________________________________________________________________________________________\n",
      "dense_16 (Dense)                (None, 8)            264         dense_15[0][0]                   \n",
      "__________________________________________________________________________________________________\n",
      "dense_17 (Dense)                (None, 3)            27          dense_16[0][0]                   \n",
      "==================================================================================================\n",
      "Total params: 404,099\n",
      "Trainable params: 404,099\n",
      "Non-trainable params: 0\n",
      "__________________________________________________________________________________________________\n",
      "None\n"
     ]
    }
   ],
   "source": [
    "public_model_dir = PATH2PROJECT + tp.IN_BLINK_OUT_PUBLIC_MODEL_DIR\n",
    "\n",
    "model = load_model(public_model_dir)\n",
    "print(model.summary())"
   ]
  },
  {
   "cell_type": "code",
   "execution_count": 12,
   "metadata": {
    "executionInfo": {
     "elapsed": 12,
     "status": "ok",
     "timestamp": 1634312935971,
     "user": {
      "displayName": "mostafa lotfi",
      "photoUrl": "https://lh3.googleusercontent.com/a-/AOh14Gj4ilTay6rvtZq-saddDY_b1Sar82sct4P4Z2d_Wg=s64",
      "userId": "11325640182532482321"
     },
     "user_tz": -210
    },
    "id": "woulgNfGVvMO"
   },
   "outputs": [],
   "source": [
    "# from tensorflow.keras.utils import plot_model\n",
    "\n",
    "# plot_model(model, show_shapes=True)"
   ]
  },
  {
   "cell_type": "code",
   "execution_count": 13,
   "metadata": {
    "colab": {
     "base_uri": "https://localhost:8080/"
    },
    "executionInfo": {
     "elapsed": 12,
     "status": "ok",
     "timestamp": 1634312935972,
     "user": {
      "displayName": "mostafa lotfi",
      "photoUrl": "https://lh3.googleusercontent.com/a-/AOh14Gj4ilTay6rvtZq-saddDY_b1Sar82sct4P4Z2d_Wg=s64",
      "userId": "11325640182532482321"
     },
     "user_tz": -210
    },
    "id": "0ZwAlr5smnD0",
    "outputId": "098d6434-965d-49da-9403-92a3fae0c958"
   },
   "outputs": [
    {
     "name": "stdout",
     "output_type": "stream",
     "text": [
      "<keras.engine.input_layer.InputLayer object at 0x7f4a6daa3ac0> False\n",
      "<keras.layers.convolutional.Conv2D object at 0x7f4a6da87e80> False\n",
      "<keras.layers.pooling.MaxPooling2D object at 0x7f4a6c1a4730> False\n",
      "<keras.layers.convolutional.Conv2D object at 0x7f4a6c1a4a30> False\n",
      "<keras.layers.pooling.MaxPooling2D object at 0x7f4a6c1702b0> False\n",
      "<keras.layers.convolutional.Conv2D object at 0x7f4a6c1705b0> False\n",
      "<keras.layers.pooling.MaxPooling2D object at 0x7f4a6c170df0> False\n",
      "<keras.layers.core.Flatten object at 0x7f4a6c177160> False\n",
      "<keras.layers.core.Dense object at 0x7f4a6c177370> False\n",
      "<keras.engine.input_layer.InputLayer object at 0x7f4a6c177a60> False\n",
      "<keras.layers.merge.Concatenate object at 0x7f4a6c177e80> False\n",
      "<keras.layers.core.Dense object at 0x7f4a6c17e040> False\n",
      "<keras.layers.core.Dense object at 0x7f4a6c17e550> False\n",
      "<keras.layers.core.Dense object at 0x7f4a6c17e6d0> False\n",
      "<keras.layers.core.Dense object at 0x7f4a6c189190> False\n",
      "<keras.layers.core.Dense object at 0x7f4a6c1892b0> True\n",
      "Model: \"model_2\"\n",
      "__________________________________________________________________________________________________\n",
      "Layer (type)                    Output Shape         Param #     Connected to                     \n",
      "==================================================================================================\n",
      "input_5 (InputLayer)            [(None, 48, 44, 1)]  0                                            \n",
      "__________________________________________________________________________________________________\n",
      "conv2d_6 (Conv2D)               (None, 48, 44, 16)   416         input_5[0][0]                    \n",
      "__________________________________________________________________________________________________\n",
      "max_pooling2d_6 (MaxPooling2D)  (None, 24, 22, 16)   0           conv2d_6[0][0]                   \n",
      "__________________________________________________________________________________________________\n",
      "conv2d_7 (Conv2D)               (None, 24, 22, 32)   12832       max_pooling2d_6[0][0]            \n",
      "__________________________________________________________________________________________________\n",
      "max_pooling2d_7 (MaxPooling2D)  (None, 12, 11, 32)   0           conv2d_7[0][0]                   \n",
      "__________________________________________________________________________________________________\n",
      "conv2d_8 (Conv2D)               (None, 10, 9, 64)    18496       max_pooling2d_7[0][0]            \n",
      "__________________________________________________________________________________________________\n",
      "max_pooling2d_8 (MaxPooling2D)  (None, 5, 4, 64)     0           conv2d_8[0][0]                   \n",
      "__________________________________________________________________________________________________\n",
      "flatten_2 (Flatten)             (None, 1280)         0           max_pooling2d_8[0][0]            \n",
      "__________________________________________________________________________________________________\n",
      "dense_12 (Dense)                (None, 256)          327936      flatten_2[0][0]                  \n",
      "__________________________________________________________________________________________________\n",
      "input_6 (InputLayer)            [(None, 7)]          0                                            \n",
      "__________________________________________________________________________________________________\n",
      "concatenate_2 (Concatenate)     (None, 263)          0           dense_12[0][0]                   \n",
      "                                                                 input_6[0][0]                    \n",
      "__________________________________________________________________________________________________\n",
      "dense_13 (Dense)                (None, 128)          33792       concatenate_2[0][0]              \n",
      "__________________________________________________________________________________________________\n",
      "dense_14 (Dense)                (None, 64)           8256        dense_13[0][0]                   \n",
      "__________________________________________________________________________________________________\n",
      "dense_15 (Dense)                (None, 32)           2080        dense_14[0][0]                   \n",
      "__________________________________________________________________________________________________\n",
      "dense_16 (Dense)                (None, 8)            264         dense_15[0][0]                   \n",
      "__________________________________________________________________________________________________\n",
      "dense_17 (Dense)                (None, 3)            27          dense_16[0][0]                   \n",
      "==================================================================================================\n",
      "Total params: 404,099\n",
      "Trainable params: 27\n",
      "Non-trainable params: 404,072\n",
      "__________________________________________________________________________________________________\n",
      "None\n"
     ]
    }
   ],
   "source": [
    "for layer in model.layers[:-TRAINABLE_LAYERS]:\n",
    "    layer.trainable = False\n",
    "for layer in model.layers:\n",
    "    print(layer, layer.trainable)\n",
    "\n",
    "print(model.summary())"
   ]
  },
  {
   "cell_type": "code",
   "execution_count": 14,
   "metadata": {
    "colab": {
     "base_uri": "https://localhost:8080/"
    },
    "executionInfo": {
     "elapsed": 28871,
     "status": "ok",
     "timestamp": 1634312964836,
     "user": {
      "displayName": "mostafa lotfi",
      "photoUrl": "https://lh3.googleusercontent.com/a-/AOh14Gj4ilTay6rvtZq-saddDY_b1Sar82sct4P4Z2d_Wg=s64",
      "userId": "11325640182532482321"
     },
     "user_tz": -210
    },
    "id": "Jfxj31nFVzaz",
    "outputId": "d389e267-efca-4887-c411-0591092d3db7"
   },
   "outputs": [
    {
     "name": "stdout",
     "output_type": "stream",
     "text": [
      "Epoch 1/50\n"
     ]
    },
    {
     "name": "stderr",
     "output_type": "stream",
     "text": [
      "2021-10-17 17:21:49.543017: I tensorflow/compiler/mlir/mlir_graph_optimization_pass.cc:185] None of the MLIR Optimization Passes are enabled (registered 2)\n"
     ]
    },
    {
     "name": "stdout",
     "output_type": "stream",
     "text": [
      "4/4 [==============================] - 1s 98ms/step - loss: 3.5697 - acc: 0.7953 - val_loss: 1.8454 - val_acc: 0.6957\n",
      "Epoch 2/50\n",
      "4/4 [==============================] - 0s 48ms/step - loss: 1.2402 - acc: 0.8189 - val_loss: 1.2261 - val_acc: 0.6957\n",
      "Epoch 3/50\n",
      "4/4 [==============================] - 0s 49ms/step - loss: 0.6956 - acc: 0.8504 - val_loss: 0.8622 - val_acc: 0.8261\n",
      "Epoch 4/50\n",
      "4/4 [==============================] - 0s 47ms/step - loss: 0.4814 - acc: 0.8976 - val_loss: 0.6013 - val_acc: 0.8261\n",
      "Epoch 5/50\n",
      "4/4 [==============================] - 0s 44ms/step - loss: 0.2919 - acc: 0.9291 - val_loss: 0.3834 - val_acc: 0.7391\n",
      "Epoch 6/50\n",
      "4/4 [==============================] - 0s 44ms/step - loss: 0.2488 - acc: 0.9370 - val_loss: 0.3546 - val_acc: 0.7826\n",
      "Epoch 7/50\n",
      "4/4 [==============================] - 0s 43ms/step - loss: 0.2178 - acc: 0.9291 - val_loss: 0.3609 - val_acc: 0.8261\n",
      "Epoch 8/50\n",
      "4/4 [==============================] - 0s 47ms/step - loss: 0.1971 - acc: 0.9449 - val_loss: 0.3536 - val_acc: 0.7391\n",
      "Epoch 9/50\n",
      "4/4 [==============================] - 0s 47ms/step - loss: 0.1716 - acc: 0.9528 - val_loss: 0.3680 - val_acc: 0.8261\n",
      "Epoch 10/50\n",
      "4/4 [==============================] - 0s 47ms/step - loss: 0.1577 - acc: 0.9606 - val_loss: 0.3683 - val_acc: 0.8261\n",
      "Epoch 11/50\n",
      "4/4 [==============================] - 0s 45ms/step - loss: 0.1404 - acc: 0.9685 - val_loss: 0.3133 - val_acc: 0.8261\n",
      "Epoch 12/50\n",
      "4/4 [==============================] - 0s 42ms/step - loss: 0.1216 - acc: 0.9685 - val_loss: 0.2764 - val_acc: 0.8696\n",
      "Epoch 13/50\n",
      "4/4 [==============================] - 0s 47ms/step - loss: 0.1079 - acc: 0.9685 - val_loss: 0.2733 - val_acc: 0.8696\n",
      "Epoch 14/50\n",
      "4/4 [==============================] - 0s 45ms/step - loss: 0.1008 - acc: 0.9606 - val_loss: 0.2856 - val_acc: 0.8261\n",
      "Epoch 15/50\n",
      "4/4 [==============================] - 0s 44ms/step - loss: 0.0913 - acc: 0.9685 - val_loss: 0.2566 - val_acc: 0.8261\n",
      "Epoch 16/50\n",
      "4/4 [==============================] - 0s 40ms/step - loss: 0.0809 - acc: 0.9764 - val_loss: 0.3017 - val_acc: 0.8261\n",
      "Epoch 17/50\n",
      "4/4 [==============================] - 0s 43ms/step - loss: 0.0743 - acc: 0.9685 - val_loss: 0.2984 - val_acc: 0.8261\n",
      "Epoch 18/50\n",
      "4/4 [==============================] - 0s 44ms/step - loss: 0.0673 - acc: 0.9685 - val_loss: 0.2669 - val_acc: 0.8696\n",
      "Epoch 19/50\n",
      "4/4 [==============================] - 0s 45ms/step - loss: 0.0600 - acc: 0.9843 - val_loss: 0.2607 - val_acc: 0.9130\n",
      "Epoch 20/50\n",
      "4/4 [==============================] - 0s 41ms/step - loss: 0.0579 - acc: 0.9764 - val_loss: 0.2512 - val_acc: 0.9130\n",
      "Epoch 21/50\n",
      "4/4 [==============================] - 0s 42ms/step - loss: 0.0539 - acc: 0.9843 - val_loss: 0.2348 - val_acc: 0.9130\n",
      "Epoch 22/50\n",
      "4/4 [==============================] - 0s 44ms/step - loss: 0.0495 - acc: 0.9685 - val_loss: 0.2486 - val_acc: 0.9130\n",
      "Epoch 23/50\n",
      "4/4 [==============================] - 0s 42ms/step - loss: 0.0396 - acc: 0.9843 - val_loss: 0.2013 - val_acc: 0.9565\n",
      "Epoch 24/50\n",
      "4/4 [==============================] - 0s 42ms/step - loss: 0.0382 - acc: 0.9843 - val_loss: 0.2438 - val_acc: 0.9130\n",
      "Epoch 25/50\n",
      "4/4 [==============================] - 0s 42ms/step - loss: 0.0366 - acc: 0.9843 - val_loss: 0.2367 - val_acc: 0.9130\n",
      "Epoch 26/50\n",
      "4/4 [==============================] - 0s 41ms/step - loss: 0.0397 - acc: 0.9921 - val_loss: 0.2493 - val_acc: 0.9130\n",
      "Epoch 27/50\n",
      "4/4 [==============================] - 0s 41ms/step - loss: 0.0439 - acc: 0.9843 - val_loss: 0.2601 - val_acc: 0.9130\n",
      "Epoch 28/50\n",
      "4/4 [==============================] - 0s 45ms/step - loss: 0.0290 - acc: 1.0000 - val_loss: 0.1940 - val_acc: 0.9565\n",
      "Epoch 29/50\n",
      "4/4 [==============================] - 0s 44ms/step - loss: 0.0358 - acc: 0.9843 - val_loss: 0.3792 - val_acc: 0.8696\n",
      "Epoch 30/50\n",
      "4/4 [==============================] - 0s 42ms/step - loss: 0.0420 - acc: 0.9764 - val_loss: 0.1459 - val_acc: 0.9565\n",
      "Epoch 31/50\n",
      "4/4 [==============================] - 0s 47ms/step - loss: 0.0542 - acc: 0.9764 - val_loss: 0.3340 - val_acc: 0.9130\n",
      "Epoch 32/50\n",
      "4/4 [==============================] - 0s 46ms/step - loss: 0.0641 - acc: 0.9764 - val_loss: 0.3285 - val_acc: 0.8696\n",
      "Epoch 33/50\n",
      "4/4 [==============================] - 0s 46ms/step - loss: 0.0159 - acc: 1.0000 - val_loss: 0.1527 - val_acc: 0.9565\n",
      "Epoch 34/50\n",
      "4/4 [==============================] - 0s 42ms/step - loss: 0.0592 - acc: 0.9764 - val_loss: 0.2596 - val_acc: 0.8696\n",
      "Epoch 35/50\n",
      "4/4 [==============================] - 0s 42ms/step - loss: 0.0197 - acc: 0.9921 - val_loss: 0.4951 - val_acc: 0.8696\n",
      "Epoch 36/50\n",
      "4/4 [==============================] - 0s 41ms/step - loss: 0.1539 - acc: 0.9764 - val_loss: 0.4591 - val_acc: 0.8696\n",
      "Epoch 37/50\n",
      "4/4 [==============================] - 0s 41ms/step - loss: 0.0559 - acc: 0.9843 - val_loss: 0.1569 - val_acc: 0.9130\n",
      "Epoch 38/50\n",
      "4/4 [==============================] - 0s 46ms/step - loss: 0.0993 - acc: 0.9685 - val_loss: 0.1591 - val_acc: 0.9565\n",
      "Epoch 39/50\n",
      "4/4 [==============================] - 0s 42ms/step - loss: 0.0598 - acc: 0.9764 - val_loss: 0.4204 - val_acc: 0.8696\n",
      "Epoch 40/50\n",
      "4/4 [==============================] - 0s 45ms/step - loss: 0.1024 - acc: 0.9764 - val_loss: 0.4215 - val_acc: 0.8696\n",
      "Restoring model weights from the end of the best epoch.\n",
      "Epoch 00040: early stopping\n"
     ]
    }
   ],
   "source": [
    "results = model.fit(x_train_list,\n",
    "                    y_train_ctg,\n",
    "                    validation_data=(x_test_list, y_test_ctg),\n",
    "                    epochs=N_EPOCHS,\n",
    "                    callbacks=cb)"
   ]
  },
  {
   "cell_type": "code",
   "execution_count": 15,
   "metadata": {
    "executionInfo": {
     "elapsed": 727,
     "status": "ok",
     "timestamp": 1634312965537,
     "user": {
      "displayName": "mostafa lotfi",
      "photoUrl": "https://lh3.googleusercontent.com/a-/AOh14Gj4ilTay6rvtZq-saddDY_b1Sar82sct4P4Z2d_Wg=s64",
      "userId": "11325640182532482321"
     },
     "user_tz": -210
    },
    "id": "BMShmu68apan"
   },
   "outputs": [],
   "source": [
    "yhat_train = model.predict(x_train_list).argmax(1)\n",
    "yhat_test = model.predict(x_test_list).argmax(1)"
   ]
  },
  {
   "cell_type": "code",
   "execution_count": 16,
   "metadata": {
    "colab": {
     "base_uri": "https://localhost:8080/",
     "height": 319
    },
    "executionInfo": {
     "elapsed": 1072,
     "status": "ok",
     "timestamp": 1634312966575,
     "user": {
      "displayName": "mostafa lotfi",
      "photoUrl": "https://lh3.googleusercontent.com/a-/AOh14Gj4ilTay6rvtZq-saddDY_b1Sar82sct4P4Z2d_Wg=s64",
      "userId": "11325640182532482321"
     },
     "user_tz": -210
    },
    "id": "3BMYprc0cRcQ",
    "outputId": "a77fe28f-1057-4146-ae20-3a903d907fbb"
   },
   "outputs": [
    {
     "name": "stdout",
     "output_type": "stream",
     "text": [
      "Test\n",
      "0\n",
      "0\n"
     ]
    },
    {
     "data": {
      "image/png": "[encoded data removed]",
      "text/plain": [
       "<Figure size 432x288 with 1 Axes>"
      ]
     },
     "metadata": {
      "needs_background": "light"
     },
     "output_type": "display_data"
    }
   ],
   "source": [
    "SAMPLE_NUMBER = 3\n",
    "print(\"Test\")\n",
    "print(y_test[SAMPLE_NUMBER])\n",
    "print(yhat_test[SAMPLE_NUMBER])\n",
    "plt.imshow(\n",
    "    (x1_test[SAMPLE_NUMBER].reshape((frame_height, frame_width)) * 255)\n",
    "    .astype(np.uint8),\n",
    "    cmap=\"gray\",\n",
    "    vmin=0,\n",
    "    vmax=255\n",
    "    )\n",
    "plt.show()"
   ]
  },
  {
   "cell_type": "code",
   "execution_count": 17,
   "metadata": {
    "colab": {
     "base_uri": "https://localhost:8080/",
     "height": 265
    },
    "executionInfo": {
     "elapsed": 21,
     "status": "ok",
     "timestamp": 1634312966587,
     "user": {
      "displayName": "mostafa lotfi",
      "photoUrl": "https://lh3.googleusercontent.com/a-/AOh14Gj4ilTay6rvtZq-saddDY_b1Sar82sct4P4Z2d_Wg=s64",
      "userId": "11325640182532482321"
     },
     "user_tz": -210
    },
    "id": "HwtFs7Wf8lKu",
    "outputId": "98f0411b-e88c-4ee4-a755-1fdc49088aca"
   },
   "outputs": [
    {
     "data": {
      "image/png": "[encoded data removed]",
      "text/plain": [
       "<Figure size 432x288 with 1 Axes>"
      ]
     },
     "metadata": {
      "needs_background": "light"
     },
     "output_type": "display_data"
    }
   ],
   "source": [
    "loss = results.history[\"loss\"]\n",
    "val_loss = results.history[\"val_loss\"]\n",
    "plt.plot(loss, label=\"loss\")\n",
    "plt.plot(val_loss, label=\"val_loss\")\n",
    "plt.legend()\n",
    "plt.show()"
   ]
  },
  {
   "cell_type": "code",
   "execution_count": 18,
   "metadata": {
    "colab": {
     "base_uri": "https://localhost:8080/",
     "height": 948
    },
    "executionInfo": {
     "elapsed": 19,
     "status": "ok",
     "timestamp": 1634312966588,
     "user": {
      "displayName": "mostafa lotfi",
      "photoUrl": "https://lh3.googleusercontent.com/a-/AOh14Gj4ilTay6rvtZq-saddDY_b1Sar82sct4P4Z2d_Wg=s64",
      "userId": "11325640182532482321"
     },
     "user_tz": -210
    },
    "id": "THpnD4gSbBOT",
    "outputId": "45e3d4a4-f1da-4e14-c856-5cbfcb9881ff"
   },
   "outputs": [
    {
     "data": {
      "image/png": "[encoded data removed]",
      "text/plain": [
       "<Figure size 1152x1152 with 1 Axes>"
      ]
     },
     "metadata": {
      "needs_background": "light"
     },
     "output_type": "display_data"
    }
   ],
   "source": [
    "n_class = y_train_ctg.shape[1]\n",
    "cm_test = confusion_matrix(y_test, yhat_test)\n",
    "plt.figure(figsize=(16,16))\n",
    "plt.imshow(cm_test, cmap=plt.cm.Greens)\n",
    "class_arr = np.arange(n_class)\n",
    "plt.xticks(class_arr)\n",
    "plt.yticks(class_arr)\n",
    "plt.title('Confusion Matrix')\n",
    "plt.xlabel('Predicted labels')\n",
    "plt.ylabel('True labels')\n",
    "\n",
    "for i in range(n_class):\n",
    "  for j in range(n_class):\n",
    "    plt.text(i, j, cm_test[j][i])"
   ]
  },
  {
   "cell_type": "code",
   "execution_count": 19,
   "metadata": {
    "colab": {
     "base_uri": "https://localhost:8080/"
    },
    "executionInfo": {
     "elapsed": 4841,
     "status": "ok",
     "timestamp": 1634312971414,
     "user": {
      "displayName": "mostafa lotfi",
      "photoUrl": "https://lh3.googleusercontent.com/a-/AOh14Gj4ilTay6rvtZq-saddDY_b1Sar82sct4P4Z2d_Wg=s64",
      "userId": "11325640182532482321"
     },
     "user_tz": -210
    },
    "id": "TdY52OXg3WR3",
    "outputId": "29fd3100-bbc6-488b-8b8e-d7177d6f5124"
   },
   "outputs": [
    {
     "name": "stderr",
     "output_type": "stream",
     "text": [
      "2021-10-17 17:21:58.219901: W tensorflow/python/util/util.cc:348] Sets are not currently considered sequences, but this may change in the future, so consider avoiding using them.\n"
     ]
    },
    {
     "name": "stdout",
     "output_type": "stream",
     "text": [
      "INFO:tensorflow:Assets written to: subjects/1/in_blink_out/model/assets\n"
     ]
    }
   ],
   "source": [
    "model.save(PATH2PROJECT + tp.IN_BLINK_OUT_SUBJECT_MODEL_DIR)"
   ]
  }
 ],
 "metadata": {
  "colab": {
   "authorship_tag": "ABX9TyN7xVAG8PNieP3RZQXUvNbS",
   "collapsed_sections": [],
   "mount_file_id": "1_3CIVAzJAtOznsCASPS3EQnV5TpqQczC",
   "name": "rtn_mdl_in_blink_out.ipynb",
   "provenance": []
  },
  "kernelspec": {
   "display_name": "Python 3 (ipykernel)",
   "language": "python",
   "name": "python3"
  },
  "language_info": {
   "codemirror_mode": {
    "name": "ipython",
    "version": 3
   },
   "file_extension": ".py",
   "mimetype": "text/x-python",
   "name": "python",
   "nbconvert_exporter": "python",
   "pygments_lexer": "ipython3",
   "version": "3.9.5"
  }
 },
 "nbformat": 4,
 "nbformat_minor": 1
}
