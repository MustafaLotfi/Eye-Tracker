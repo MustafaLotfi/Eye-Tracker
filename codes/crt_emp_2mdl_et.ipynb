{
 "cells": [
  {
   "cell_type": "code",
   "execution_count": 1,
   "metadata": {
    "executionInfo": {
     "elapsed": 3227,
     "status": "ok",
     "timestamp": 1635187414445,
     "user": {
      "displayName": "mostafa lotfi",
      "photoUrl": "https://lh3.googleusercontent.com/a-/AOh14Gj4ilTay6rvtZq-saddDY_b1Sar82sct4P4Z2d_Wg=s64",
      "userId": "11325640182532482321"
     },
     "user_tz": -210
    },
    "id": "gdpcJ0ywSIY8"
   },
   "outputs": [],
   "source": [
    "from tensorflow.keras.layers import (Input, Conv2D, Flatten, MaxPooling2D,\n",
    "                                     Dense, Dropout, Concatenate)\n",
    "from tensorflow.keras.models import Model\n",
    "from tensorflow.keras.utils import plot_model\n",
    "import numpy as np\n",
    "import os\n",
    "import pickle"
   ]
  },
  {
   "cell_type": "code",
   "execution_count": 2,
   "metadata": {},
   "outputs": [],
   "source": [
    "# Uncomment this box if the file is in google colab\n",
    "# Move the file to 'PATH2PROJECT' directory\n",
    "SUBJECT_NUM = 2\n",
    "PATH2PROJECT = \"/content/drive/MyDrive/Projects/EyeTracker/\"\n",
    "CHOSEN_INPUTS = [0, 1, 2, 6, 7, 8, 9]"
   ]
  },
  {
   "cell_type": "code",
   "execution_count": 3,
   "metadata": {},
   "outputs": [],
   "source": [
    "# Uncomment this box if the file is in your local directory\n",
    "# Move the file in 'codes' folder\n",
    "import tuning_parameters as tp\n",
    "SUBJECT_NUM = tp.NUMBER\n",
    "PATH2PROJECT = \"../\"\n",
    "CHOSEN_INPUTS = tp.CHOSEN_INPUTS"
   ]
  },
  {
   "cell_type": "code",
   "execution_count": 4,
   "metadata": {
    "executionInfo": {
     "elapsed": 23,
     "status": "ok",
     "timestamp": 1635187414448,
     "user": {
      "displayName": "mostafa lotfi",
      "photoUrl": "https://lh3.googleusercontent.com/a-/AOh14Gj4ilTay6rvtZq-saddDY_b1Sar82sct4P4Z2d_Wg=s64",
      "userId": "11325640182532482321"
     },
     "user_tz": -210
    },
    "id": "YGlf78zqN8xb"
   },
   "outputs": [],
   "source": [
    "TARGET_FOLDER = \"subjects/\"  # subjects/ or dataset/"
   ]
  },
  {
   "cell_type": "code",
   "execution_count": 5,
   "metadata": {
    "executionInfo": {
     "elapsed": 1441,
     "status": "ok",
     "timestamp": 1635187415872,
     "user": {
      "displayName": "mostafa lotfi",
      "photoUrl": "https://lh3.googleusercontent.com/a-/AOh14Gj4ilTay6rvtZq-saddDY_b1Sar82sct4P4Z2d_Wg=s64",
      "userId": "11325640182532482321"
     },
     "user_tz": -210
    },
    "id": "wIrwyDFyQpof"
   },
   "outputs": [
    {
     "ename": "FileNotFoundError",
     "evalue": "[Errno 2] No such file or directory: '../../subjects/1/eye_tracking data-calibration/x1.pickle'",
     "output_type": "error",
     "traceback": [
      "\u001b[1;31m---------------------------------------------------------------------------\u001b[0m",
      "\u001b[1;31mFileNotFoundError\u001b[0m                         Traceback (most recent call last)",
      "\u001b[1;32m~\\AppData\\Local\\Temp/ipykernel_1656/3843653138.py\u001b[0m in \u001b[0;36m<module>\u001b[1;34m\u001b[0m\n\u001b[0;32m      5\u001b[0m \u001b[0min_blink_out_fol\u001b[0m \u001b[1;33m=\u001b[0m \u001b[0mPATH2PROJECT\u001b[0m \u001b[1;33m+\u001b[0m \u001b[0mTARGET_FOLDER\u001b[0m \u001b[1;33m+\u001b[0m \u001b[1;34mf\"{SUBJECT_NUM}/eye_tracking data-calibration/\"\u001b[0m\u001b[1;33m\u001b[0m\u001b[1;33m\u001b[0m\u001b[0m\n\u001b[0;32m      6\u001b[0m \u001b[1;33m\u001b[0m\u001b[0m\n\u001b[1;32m----> 7\u001b[1;33m \u001b[1;32mwith\u001b[0m \u001b[0mopen\u001b[0m\u001b[1;33m(\u001b[0m\u001b[0min_blink_out_fol\u001b[0m \u001b[1;33m+\u001b[0m \u001b[1;34m\"x1.pickle\"\u001b[0m\u001b[1;33m,\u001b[0m \u001b[1;34m\"rb\"\u001b[0m\u001b[1;33m)\u001b[0m \u001b[1;32mas\u001b[0m \u001b[0mf\u001b[0m\u001b[1;33m:\u001b[0m\u001b[1;33m\u001b[0m\u001b[1;33m\u001b[0m\u001b[0m\n\u001b[0m\u001b[0;32m      8\u001b[0m     \u001b[0mx1\u001b[0m \u001b[1;33m=\u001b[0m \u001b[0mpickle\u001b[0m\u001b[1;33m.\u001b[0m\u001b[0mload\u001b[0m\u001b[1;33m(\u001b[0m\u001b[0mf\u001b[0m\u001b[1;33m)\u001b[0m\u001b[1;33m\u001b[0m\u001b[1;33m\u001b[0m\u001b[0m\n\u001b[0;32m      9\u001b[0m \u001b[1;32mwith\u001b[0m \u001b[0mopen\u001b[0m\u001b[1;33m(\u001b[0m\u001b[0min_blink_out_fol\u001b[0m \u001b[1;33m+\u001b[0m \u001b[1;34m\"x2.pickle\"\u001b[0m\u001b[1;33m,\u001b[0m \u001b[1;34m\"rb\"\u001b[0m\u001b[1;33m)\u001b[0m \u001b[1;32mas\u001b[0m \u001b[0mf\u001b[0m\u001b[1;33m:\u001b[0m\u001b[1;33m\u001b[0m\u001b[1;33m\u001b[0m\u001b[0m\n",
      "\u001b[1;31mFileNotFoundError\u001b[0m: [Errno 2] No such file or directory: '../../subjects/1/eye_tracking data-calibration/x1.pickle'"
     ]
    }
   ],
   "source": [
    "x1 = []\n",
    "x2 = []\n",
    "y = []\n",
    "\n",
    "et_data_dir = PATH2PROJECT + TARGET_FOLDER + f\"{SUBJECT_NUM}/eye_tracking data-calibration/\"\n",
    "\n",
    "with open(ibo_fol + \"x1.pickle\", \"rb\") as f:\n",
    "    x1 = pickle.load(f)\n",
    "with open(ibo_fol + \"x2.pickle\", \"rb\") as f:\n",
    "    x2 = pickle.load(f)\n",
    "with open(ibo_fol + \"y.pickle\", \"rb\") as f:\n",
    "    y = pickle.load(f)"
   ]
  },
  {
   "cell_type": "code",
   "execution_count": null,
   "metadata": {
    "executionInfo": {
     "elapsed": 24,
     "status": "ok",
     "timestamp": 1635187415884,
     "user": {
      "displayName": "mostafa lotfi",
      "photoUrl": "https://lh3.googleusercontent.com/a-/AOh14Gj4ilTay6rvtZq-saddDY_b1Sar82sct4P4Z2d_Wg=s64",
      "userId": "11325640182532482321"
     },
     "user_tz": -210
    },
    "id": "5gZuVkZDQsWl"
   },
   "outputs": [],
   "source": [
    "x2_chs_inp = x2[:, CHOSEN_INPUTS]"
   ]
  },
  {
   "cell_type": "code",
   "execution_count": null,
   "metadata": {
    "colab": {
     "base_uri": "https://localhost:8080/"
    },
    "executionInfo": {
     "elapsed": 944,
     "status": "ok",
     "timestamp": 1635187416811,
     "user": {
      "displayName": "mostafa lotfi",
      "photoUrl": "https://lh3.googleusercontent.com/a-/AOh14Gj4ilTay6rvtZq-saddDY_b1Sar82sct4P4Z2d_Wg=s64",
      "userId": "11325640182532482321"
     },
     "user_tz": -210
    },
    "id": "4PX0-j2gRhWL",
    "outputId": "7bc4570b-7576-48c6-9455-845aa581d904"
   },
   "outputs": [],
   "source": [
    "# model5\n",
    "input1 = Input(x1.shape[1:])\n",
    "layer = Conv2D(16, (5, 5), (1, 1), 'same', activation='relu')(input1)\n",
    "layer = MaxPooling2D((2, 2), (2, 2))(layer)\n",
    "\n",
    "layer = Conv2D(32, (5, 5), (1, 1), 'same', activation='relu')(layer)\n",
    "layer = MaxPooling2D((2, 2), (2, 2))(layer)\n",
    "\n",
    "layer = Conv2D(64, (3, 3), (1, 1), activation='relu')(layer)\n",
    "layer = MaxPooling2D((2, 2), (2, 2))(layer)\n",
    "\n",
    "layer = Flatten()(layer)\n",
    "\n",
    "layer = Dense(400, 'relu')(layer)\n",
    "\n",
    "input2 = Input(x2_chs_inp.shape[1:])\n",
    "layer = Concatenate()([layer, input2])\n",
    "\n",
    "layer = Dense(180, 'relu')(layer)\n",
    "\n",
    "layer = Dense(50, 'relu')(layer)\n",
    "\n",
    "layer = Dense(16, 'relu')(layer)\n",
    "\n",
    "layer = Dense(2, 'relu')(layer)\n",
    "\n",
    "out = Dense(1, 'linear')(layer)\n",
    "\n",
    "input_layers = [input1, input2]\n",
    "\n",
    "model = Model(inputs=input_layers, outputs=out)\n",
    "\n",
    "model.compile(optimizer='adam', loss='mae')\n",
    "\n",
    "print(model.summary())"
   ]
  },
  {
   "cell_type": "code",
   "execution_count": null,
   "metadata": {
    "executionInfo": {
     "elapsed": 27,
     "status": "ok",
     "timestamp": 1635187416814,
     "user": {
      "displayName": "mostafa lotfi",
      "photoUrl": "https://lh3.googleusercontent.com/a-/AOh14Gj4ilTay6rvtZq-saddDY_b1Sar82sct4P4Z2d_Wg=s64",
      "userId": "11325640182532482321"
     },
     "user_tz": -210
    },
    "id": "woulgNfGVvMO"
   },
   "outputs": [],
   "source": [
    "# plot_model(model, show_shapes=True)"
   ]
  },
  {
   "cell_type": "code",
   "execution_count": null,
   "metadata": {},
   "outputs": [],
   "source": [
    "MODELS_DIR = PATH2PROJECT + \"models/\"\n",
    "if not os.path.exists(MODELS_DIR):\n",
    "    os.mkdir(MODELS_DIR)\n",
    "\n",
    "ET_MODELS_DIR = MODELS_DIR + \"eye_tracking/\"\n",
    "if not os.path.exists(ET_MODELS_DIR):\n",
    "    os.mkdir(ET_MODELS_DIR)\n",
    "\n",
    "ET_RAW_DIR = ET_MODELS_DIR + \"raw/\"\n",
    "if not os.path.exists(ET_RAW_DIR):\n",
    "    os.mkdir(ET_RAW_DIR)"
   ]
  },
  {
   "cell_type": "code",
   "execution_count": null,
   "metadata": {
    "colab": {
     "base_uri": "https://localhost:8080/"
    },
    "executionInfo": {
     "elapsed": 3087,
     "status": "ok",
     "timestamp": 1635187419881,
     "user": {
      "displayName": "mostafa lotfi",
      "photoUrl": "https://lh3.googleusercontent.com/a-/AOh14Gj4ilTay6rvtZq-saddDY_b1Sar82sct4P4Z2d_Wg=s64",
      "userId": "11325640182532482321"
     },
     "user_tz": -210
    },
    "id": "Oa3y4Mfyg7g7",
    "outputId": "b083e78a-bb99-4410-b237-70205bdbc05e"
   },
   "outputs": [],
   "source": [
    "models_numbers = []\n",
    "models_name = os.listdir(ET_RAW_DIR)\n",
    "if models_name:\n",
    "    for model_name in models_name:\n",
    "        model_num = int(model_name[5:6])\n",
    "        models_numbers.append(model_num)\n",
    "    max_num = max(models_numbers)\n",
    "else:\n",
    "    max_num = 0\n",
    "\n",
    "model.save(ET_RAW_DIR + f\"model{max_num+1}_x\")\n",
    "model.save(ET_RAW_DIR + f\"model{max_num+1}_y\")"
   ]
  }
 ],
 "metadata": {
  "colab": {
   "authorship_tag": "ABX9TyNJ55D+JOVdA6fiv2ayAPT8",
   "collapsed_sections": [],
   "mount_file_id": "1mEGliX-rV2YkSx8ASgAVoGgB28BGXYz1",
   "name": "crt_emp_2mdl_et.ipynb",
   "provenance": []
  },
  "kernelspec": {
   "display_name": "Python 3 (ipykernel)",
   "language": "python",
   "name": "python3"
  },
  "language_info": {
   "codemirror_mode": {
    "name": "ipython",
    "version": 3
   },
   "file_extension": ".py",
   "mimetype": "text/x-python",
   "name": "python",
   "nbconvert_exporter": "python",
   "pygments_lexer": "ipython3",
   "version": "3.9.6"
  }
 },
 "nbformat": 4,
 "nbformat_minor": 1
}
