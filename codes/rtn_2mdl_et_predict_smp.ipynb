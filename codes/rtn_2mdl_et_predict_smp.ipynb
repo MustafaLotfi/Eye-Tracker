{
 "cells": [
  {
   "cell_type": "markdown",
   "metadata": {
    "id": "s4mSPpqO8oEz"
   },
   "source": [
    "## Retraining 'eye_tracking' model for subject and predicting eye track (pixel coordinate)."
   ]
  },
  {
   "cell_type": "code",
   "execution_count": 1,
   "metadata": {
    "id": "Ks_AbdKIb-xZ"
   },
   "outputs": [],
   "source": [
    "from tensorflow.keras.callbacks import EarlyStopping\n",
    "from tensorflow.keras.models import load_model\n",
    "import numpy as np\n",
    "import pickle\n",
    "from sklearn.utils import shuffle\n",
    "from joblib import load as jload\n",
    "from joblib import dump as jdump\n",
    "import time\n",
    "import os\n",
    "import tuning_parameters as tp"
   ]
  },
  {
   "cell_type": "code",
   "execution_count": 2,
   "metadata": {
    "id": "T5XUNQBvcGf6"
   },
   "outputs": [],
   "source": [
    "# Parameters\n",
    "TESTING = True\n",
    "target_folder = \"../subjects/\"\n",
    "et_public_scaler_dir = f\"../models/eye_tracking/trained/scalers{tp.EYE_TRACKING_MODEL_NUMBER}.bin\"\n",
    "et_public_model_dir = f\"../models/eye_tracking/trained/model{tp.EYE_TRACKING_MODEL_NUMBER}\"\n",
    "R_TRAIN = 0.85\n",
    "N_EPOCHS = 100\n",
    "PATIENCE = 10\n",
    "TRAINABLE_LAYERS = 1"
   ]
  },
  {
   "cell_type": "code",
   "execution_count": 3,
   "metadata": {
    "id": "C8AhjPqb8oE_"
   },
   "outputs": [],
   "source": [
    "if TESTING:\n",
    "    sampling_fol = \"sampling_test data/\"\n",
    "    sampling_pixels_fol = \"sampling_test data-pixels/\"\n",
    "else:\n",
    "    sampling_fol = \"sampling data/\"\n",
    "    sampling_pixels_fol = \"sampling data-pixels/\"\n",
    "        \n",
    "subject_dir = target_folder + f\"{tp.NUMBER}/\"\n",
    "ibo_subject_scaler_dir = subject_dir + \"scalers_in_blink_out.bin\"\n",
    "ibo_subject_model_dir = subject_dir + \"model_in_blink_out\""
   ]
  },
  {
   "cell_type": "markdown",
   "metadata": {
    "id": "wGy7E9iA8oFA"
   },
   "source": [
    "### Retraining 'eye_tracking' model with subject calibration data"
   ]
  },
  {
   "cell_type": "code",
   "execution_count": 4,
   "metadata": {
    "colab": {
     "base_uri": "https://localhost:8080/"
    },
    "id": "bvzEN-j4cGFQ",
    "outputId": "8ae84f7e-2cca-4f92-d03d-43e5e5f431a4"
   },
   "outputs": [
    {
     "name": "stdout",
     "output_type": "stream",
     "text": [
      "\n",
      "Loading subject data in ../subjects/1/eye_tracking data-calibration/\n",
      "Samples number: 1500\n"
     ]
    }
   ],
   "source": [
    "et_clb_fol = subject_dir + \"eye_tracking data-calibration/\"\n",
    "print(f\"\\nLoading subject data in {et_clb_fol}\")\n",
    "with open(et_clb_fol + \"x1.pickle\", \"rb\") as f:\n",
    "    x1_load = pickle.load(f)\n",
    "with open(et_clb_fol + \"x2.pickle\", \"rb\") as f:\n",
    "    x2_load = pickle.load(f)\n",
    "with open(et_clb_fol + \"y.pickle\", \"rb\") as f:\n",
    "    y_load = pickle.load(f)\n",
    "n_smp, frame_height, frame_width = x1_load.shape[:-1]\n",
    "print(f\"Samples number: {n_smp}\")"
   ]
  },
  {
   "cell_type": "code",
   "execution_count": 5,
   "metadata": {
    "id": "ygdBBcjud--4"
   },
   "outputs": [],
   "source": [
    "import matplotlib.pyplot as plt"
   ]
  },
  {
   "cell_type": "code",
   "execution_count": 6,
   "metadata": {
    "colab": {
     "base_uri": "https://localhost:8080/",
     "height": 336
    },
    "id": "x4GOLYKnAWR-",
    "outputId": "2352588f-265d-49a7-d627-2ea272a4c1f2"
   },
   "outputs": [
    {
     "name": "stdout",
     "output_type": "stream",
     "text": [
      "[ 2.8259465   0.17720541 -0.20070962 -2.16536406 -1.24741738 62.53657395\n",
      "  0.47998068  0.44966942  0.48226577  0.39457735]\n",
      "[23 12]\n"
     ]
    },
    {
     "data": {
      "image/png": "[encoded data removed]",
      "text/plain": [
       "<Figure size 432x288 with 1 Axes>"
      ]
     },
     "metadata": {
      "needs_background": "light"
     },
     "output_type": "display_data"
    }
   ],
   "source": [
    "# Displaying data\n",
    "SAMPLE_NUMBER = 0\n",
    "print(x2_load[SAMPLE_NUMBER])\n",
    "print(y_load[SAMPLE_NUMBER])\n",
    "plt.imshow(x1_load[SAMPLE_NUMBER].reshape((frame_height, frame_width)),\n",
    "           cmap=\"gray\", vmin=0, vmax=255)\n",
    "plt.show()"
   ]
  },
  {
   "cell_type": "markdown",
   "metadata": {
    "id": "8AzfSjqn8oFD"
   },
   "source": [
    "#### Getting those data that looking 'in' screen"
   ]
  },
  {
   "cell_type": "code",
   "execution_count": 7,
   "metadata": {
    "colab": {
     "base_uri": "https://localhost:8080/"
    },
    "id": "DWA57YKb8oFE",
    "outputId": "bcf52386-ae85-4ff9-af25-1f9415bebd56"
   },
   "outputs": [
    {
     "name": "stdout",
     "output_type": "stream",
     "text": [
      "\n",
      "Normalizing data...\n"
     ]
    },
    {
     "name": "stderr",
     "output_type": "stream",
     "text": [
      "F:\\Education_Study\\University\\MSC\\Thesis\\EyeTracker\\venv\\lib\\site-packages\\sklearn\\base.py:324: UserWarning: Trying to unpickle estimator StandardScaler from version 0.24.2 when using version 1.0.1. This might lead to breaking code or invalid results. Use at your own risk. For more info please refer to:\n",
      "https://scikit-learn.org/stable/modules/model_persistence.html#security-maintainability-limitations\n",
      "  warnings.warn(\n"
     ]
    }
   ],
   "source": [
    "print(\"\\nNormalizing data...\")\n",
    "x2_chs_inp = x2_load[:, tp.CHOSEN_INPUTS]\n",
    "scalers_ibo = jload(ibo_subject_scaler_dir)\n",
    "x1_scaler_ibo, x2_scaler_ibo = scalers_ibo\n",
    "x1 = x1_load / x1_scaler_ibo\n",
    "x2 = x2_scaler_ibo.transform(x2_chs_inp)"
   ]
  },
  {
   "cell_type": "code",
   "execution_count": 8,
   "metadata": {
    "colab": {
     "base_uri": "https://localhost:8080/"
    },
    "id": "SJ-ojxa18oFG",
    "outputId": "92885191-edcc-4664-fa23-d57e7c2b770e"
   },
   "outputs": [
    {
     "name": "stdout",
     "output_type": "stream",
     "text": [
      "\n",
      "Loading in_blink_out model...\n",
      "Model: \"model\"\n",
      "__________________________________________________________________________________________________\n",
      "Layer (type)                    Output Shape         Param #     Connected to                     \n",
      "==================================================================================================\n",
      "input_1 (InputLayer)            [(None, 48, 44, 1)]  0                                            \n",
      "__________________________________________________________________________________________________\n",
      "conv2d (Conv2D)                 (None, 48, 44, 16)   416         input_1[0][0]                    \n",
      "__________________________________________________________________________________________________\n",
      "max_pooling2d (MaxPooling2D)    (None, 24, 22, 16)   0           conv2d[0][0]                     \n",
      "__________________________________________________________________________________________________\n",
      "conv2d_1 (Conv2D)               (None, 24, 22, 32)   12832       max_pooling2d[0][0]              \n",
      "__________________________________________________________________________________________________\n",
      "max_pooling2d_1 (MaxPooling2D)  (None, 12, 11, 32)   0           conv2d_1[0][0]                   \n",
      "__________________________________________________________________________________________________\n",
      "conv2d_2 (Conv2D)               (None, 10, 9, 64)    18496       max_pooling2d_1[0][0]            \n",
      "__________________________________________________________________________________________________\n",
      "max_pooling2d_2 (MaxPooling2D)  (None, 5, 4, 64)     0           conv2d_2[0][0]                   \n",
      "__________________________________________________________________________________________________\n",
      "flatten (Flatten)               (None, 1280)         0           max_pooling2d_2[0][0]            \n",
      "__________________________________________________________________________________________________\n",
      "dense (Dense)                   (None, 256)          327936      flatten[0][0]                    \n",
      "__________________________________________________________________________________________________\n",
      "input_2 (InputLayer)            [(None, 7)]          0                                            \n",
      "__________________________________________________________________________________________________\n",
      "concatenate (Concatenate)       (None, 263)          0           dense[0][0]                      \n",
      "                                                                 input_2[0][0]                    \n",
      "__________________________________________________________________________________________________\n",
      "dense_1 (Dense)                 (None, 128)          33792       concatenate[0][0]                \n",
      "__________________________________________________________________________________________________\n",
      "dense_2 (Dense)                 (None, 32)           4128        dense_1[0][0]                    \n",
      "__________________________________________________________________________________________________\n",
      "dense_3 (Dense)                 (None, 16)           528         dense_2[0][0]                    \n",
      "__________________________________________________________________________________________________\n",
      "dense_4 (Dense)                 (None, 3)            51          dense_3[0][0]                    \n",
      "__________________________________________________________________________________________________\n",
      "dense_5 (Dense)                 (None, 3)            12          dense_4[0][0]                    \n",
      "==================================================================================================\n",
      "Total params: 398,191\n",
      "Trainable params: 398,191\n",
      "Non-trainable params: 0\n",
      "__________________________________________________________________________________________________\n",
      "None\n"
     ]
    }
   ],
   "source": [
    "print(\"\\nLoading in_blink_out model...\")\n",
    "model_ibo = load_model(ibo_subject_model_dir)\n",
    "print(model_ibo.summary())"
   ]
  },
  {
   "cell_type": "code",
   "execution_count": 9,
   "metadata": {
    "colab": {
     "base_uri": "https://localhost:8080/"
    },
    "id": "KGqOn_458oFH",
    "outputId": "9080e5e9-11ac-4e42-b39f-7c5aa5181ffb"
   },
   "outputs": [
    {
     "name": "stdout",
     "output_type": "stream",
     "text": [
      "\n",
      "Predicting those data that looking 'in' screen.\n"
     ]
    }
   ],
   "source": [
    "print(\"\\nPredicting those data that looking 'in' screen.\")\n",
    "x = [x1, x2]\n",
    "yhat_ibo = model_ibo.predict(x).argmax(1)"
   ]
  },
  {
   "cell_type": "code",
   "execution_count": 10,
   "metadata": {
    "colab": {
     "base_uri": "https://localhost:8080/"
    },
    "id": "ySFqmNyd8oFI",
    "outputId": "75cea127-1407-47f9-a7a9-ab1be5bcdf09"
   },
   "outputs": [
    {
     "name": "stdout",
     "output_type": "stream",
     "text": [
      "New samples: 1500\n"
     ]
    }
   ],
   "source": [
    "# Choosing those data\n",
    "x1_new = []\n",
    "x2_new = []\n",
    "y_new = []\n",
    "for (x10, x20, y0, yht0) in zip(x1_load, x2_load, y_load, yhat_ibo):\n",
    "    if True: # yht0 != 1:\n",
    "        x1_new.append(x10)\n",
    "        x2_new.append(x20)\n",
    "        y_new.append(y0)\n",
    "\n",
    "x1_new = np.array(x1_new)\n",
    "x2_new = np.array(x2_new)\n",
    "y_new = np.array(y_new)\n",
    "n_smp_new = x1_new.shape[0]\n",
    "print(f\"New samples: {n_smp_new}\")"
   ]
  },
  {
   "cell_type": "markdown",
   "metadata": {
    "id": "tVhzAjUV8oFJ"
   },
   "source": [
    "### Preparing modified calibration data to feeding in eye_tracking model"
   ]
  },
  {
   "cell_type": "code",
   "execution_count": 11,
   "metadata": {
    "colab": {
     "base_uri": "https://localhost:8080/"
    },
    "id": "o2yHN0I9cF6o",
    "outputId": "adfd1167-179f-48b5-c016-91e9249c46eb"
   },
   "outputs": [
    {
     "name": "stdout",
     "output_type": "stream",
     "text": [
      "\n",
      "Normalizing modified calibration data to feeding in eye_tracking model...\n"
     ]
    },
    {
     "name": "stderr",
     "output_type": "stream",
     "text": [
      "F:\\Education_Study\\University\\MSC\\Thesis\\EyeTracker\\venv\\lib\\site-packages\\sklearn\\base.py:324: UserWarning: Trying to unpickle estimator StandardScaler from version 0.22.2.post1 when using version 1.0.1. This might lead to breaking code or invalid results. Use at your own risk. For more info please refer to:\n",
      "https://scikit-learn.org/stable/modules/model_persistence.html#security-maintainability-limitations\n",
      "  warnings.warn(\n"
     ]
    },
    {
     "data": {
      "text/plain": [
       "['../subjects/1/scalers_eye_tracking.bin']"
      ]
     },
     "execution_count": 11,
     "metadata": {},
     "output_type": "execute_result"
    }
   ],
   "source": [
    "print(\"\\nNormalizing modified calibration data to feeding in eye_tracking model...\")\n",
    "x2_chs_inp_new = x2_new[:, tp.CHOSEN_INPUTS]\n",
    "scalers_et = jload(et_public_scaler_dir)\n",
    "x1_scaler_et, x2_scaler_et, _ = scalers_et\n",
    "\n",
    "x1_nrm = x1_new / x1_scaler_et\n",
    "x2_nrm = x2_scaler_et.transform(x2_chs_inp_new)\n",
    "\n",
    "y_scalers_et = y_new.max(0)\n",
    "y_nrm = y_new / y_scalers_et\n",
    "\n",
    "scalers_et[2] = y_scalers_et\n",
    "jdump(scalers_et, subject_dir + \"scalers_eye_tracking.bin\")"
   ]
  },
  {
   "cell_type": "code",
   "execution_count": 12,
   "metadata": {
    "colab": {
     "base_uri": "https://localhost:8080/"
    },
    "id": "eNwyQAwL2pGS",
    "outputId": "9812cee4-8a01-4734-b479-81feed0099c2"
   },
   "outputs": [
    {
     "name": "stdout",
     "output_type": "stream",
     "text": [
      "(1275, 48, 44, 1) (225, 48, 44, 1) (1275,) (225,) (1275, 7) (225, 7) (1275,) (225,)\n"
     ]
    }
   ],
   "source": [
    "# Shuffling and splitting data to train and test\n",
    "x1_shf, x2_shf, yx_shf, yy_shf = shuffle(x1_nrm, x2_nrm, y_nrm[:, 0], y_nrm[:, 1])\n",
    "\n",
    "n_train = int(R_TRAIN * n_smp_new)\n",
    "n_test = n_smp_new - n_train\n",
    "x1_train, x2_train = x1_shf[:n_train], x2_shf[:n_train]\n",
    "x1_test, x2_test = x1_shf[n_train:], x2_shf[n_train:]\n",
    "yx_train, yy_train = yx_shf[:n_train], yy_shf[:n_train]\n",
    "yx_test, yy_test = yx_shf[n_train:], yy_shf[n_train:]\n",
    "\n",
    "x_train = [x1_train, x2_train]\n",
    "x_test = [x1_test, x2_test]\n",
    "\n",
    "print(x1_train.shape, x1_test.shape, yx_train.shape, yx_test.shape,\n",
    "      x2_train.shape, x2_test.shape, yy_train.shape, yy_test.shape)"
   ]
  },
  {
   "cell_type": "code",
   "execution_count": 13,
   "metadata": {
    "id": "PqdkxbYFcpuf"
   },
   "outputs": [],
   "source": [
    "# Callback for training\n",
    "cb = EarlyStopping(patience=PATIENCE, verbose=1, restore_best_weights=True)"
   ]
  },
  {
   "cell_type": "code",
   "execution_count": 14,
   "metadata": {
    "colab": {
     "base_uri": "https://localhost:8080/"
    },
    "id": "dpT4PjQUcprr",
    "outputId": "a3aa1dfd-0002-41de-a4b3-9719987a58ea"
   },
   "outputs": [
    {
     "name": "stdout",
     "output_type": "stream",
     "text": [
      "Loading public eye_tracking models...\n"
     ]
    }
   ],
   "source": [
    "print(\"Loading public eye_tracking models...\")\n",
    "model_x = load_model(et_public_model_dir + \"_x\")\n",
    "model_y = load_model(et_public_model_dir + \"_y\")\n",
    "# print(model1.summary())"
   ]
  },
  {
   "cell_type": "code",
   "execution_count": 15,
   "metadata": {
    "colab": {
     "base_uri": "https://localhost:8080/"
    },
    "id": "lgxSezv4jY70",
    "outputId": "5c8f1c31-0c46-4388-c243-de3247676f9d"
   },
   "outputs": [
    {
     "name": "stdout",
     "output_type": "stream",
     "text": [
      "Model: \"model_3\"\n",
      "__________________________________________________________________________________________________\n",
      "Layer (type)                    Output Shape         Param #     Connected to                     \n",
      "==================================================================================================\n",
      "input_12 (InputLayer)           [(None, 48, 44, 1)]  0                                            \n",
      "__________________________________________________________________________________________________\n",
      "conv2d_16 (Conv2D)              (None, 48, 44, 16)   416         input_12[0][0]                   \n",
      "__________________________________________________________________________________________________\n",
      "max_pooling2d_16 (MaxPooling2D) (None, 24, 22, 16)   0           conv2d_16[0][0]                  \n",
      "__________________________________________________________________________________________________\n",
      "conv2d_17 (Conv2D)              (None, 24, 22, 32)   12832       max_pooling2d_16[0][0]           \n",
      "__________________________________________________________________________________________________\n",
      "max_pooling2d_17 (MaxPooling2D) (None, 12, 11, 32)   0           conv2d_17[0][0]                  \n",
      "__________________________________________________________________________________________________\n",
      "conv2d_18 (Conv2D)              (None, 10, 9, 64)    18496       max_pooling2d_17[0][0]           \n",
      "__________________________________________________________________________________________________\n",
      "max_pooling2d_18 (MaxPooling2D) (None, 5, 4, 64)     0           conv2d_18[0][0]                  \n",
      "__________________________________________________________________________________________________\n",
      "flatten_5 (Flatten)             (None, 1280)         0           max_pooling2d_18[0][0]           \n",
      "__________________________________________________________________________________________________\n",
      "dense_30 (Dense)                (None, 256)          327936      flatten_5[0][0]                  \n",
      "__________________________________________________________________________________________________\n",
      "input_13 (InputLayer)           [(None, 7)]          0                                            \n",
      "__________________________________________________________________________________________________\n",
      "concatenate_5 (Concatenate)     (None, 263)          0           dense_30[0][0]                   \n",
      "                                                                 input_13[0][0]                   \n",
      "__________________________________________________________________________________________________\n",
      "dense_31 (Dense)                (None, 128)          33792       concatenate_5[0][0]              \n",
      "__________________________________________________________________________________________________\n",
      "dense_32 (Dense)                (None, 64)           8256        dense_31[0][0]                   \n",
      "__________________________________________________________________________________________________\n",
      "dense_33 (Dense)                (None, 32)           2080        dense_32[0][0]                   \n",
      "__________________________________________________________________________________________________\n",
      "dense_34 (Dense)                (None, 8)            264         dense_33[0][0]                   \n",
      "__________________________________________________________________________________________________\n",
      "dense_35 (Dense)                (None, 1)            9           dense_34[0][0]                   \n",
      "==================================================================================================\n",
      "Total params: 404,081\n",
      "Trainable params: 9\n",
      "Non-trainable params: 404,072\n",
      "__________________________________________________________________________________________________\n",
      "None\n"
     ]
    }
   ],
   "source": [
    "for (layer1, layer2) in zip(model_x.layers[:-TRAINABLE_LAYERS], model_y.layers[:-TRAINABLE_LAYERS]):\n",
    "    layer1.trainable = False\n",
    "    layer2.trainable = False\n",
    "\n",
    "print(model_x.summary())"
   ]
  },
  {
   "cell_type": "code",
   "execution_count": 16,
   "metadata": {
    "colab": {
     "base_uri": "https://localhost:8080/"
    },
    "id": "diMNdUZZjeLQ",
    "outputId": "282ee5b4-fde4-49ee-c57c-3fc9ae03c483"
   },
   "outputs": [
    {
     "name": "stdout",
     "output_type": "stream",
     "text": [
      "\n",
      "Start of training for model 1 (x-pixels)\n",
      "Epoch 1/100\n",
      "40/40 [==============================] - 2s 47ms/step - loss: 0.0419 - val_loss: 0.0364\n",
      "Epoch 2/100\n",
      "40/40 [==============================] - 2s 57ms/step - loss: 0.0309 - val_loss: 0.0237\n",
      "Epoch 3/100\n",
      "40/40 [==============================] - 3s 63ms/step - loss: 0.0237 - val_loss: 0.0237\n",
      "Epoch 4/100\n",
      "40/40 [==============================] - 2s 43ms/step - loss: 0.0171 - val_loss: 0.0160\n",
      "Epoch 5/100\n",
      "40/40 [==============================] - 2s 44ms/step - loss: 0.0159 - val_loss: 0.0163\n",
      "Epoch 6/100\n",
      "40/40 [==============================] - 2s 43ms/step - loss: 0.0143 - val_loss: 0.0132\n",
      "Epoch 7/100\n",
      "40/40 [==============================] - 2s 43ms/step - loss: 0.0129 - val_loss: 0.0140\n",
      "Epoch 8/100\n",
      "40/40 [==============================] - 2s 43ms/step - loss: 0.0126 - val_loss: 0.0122\n",
      "Epoch 9/100\n",
      "40/40 [==============================] - 2s 45ms/step - loss: 0.0115 - val_loss: 0.0143\n",
      "Epoch 10/100\n",
      "40/40 [==============================] - 2s 44ms/step - loss: 0.0118 - val_loss: 0.0103\n",
      "Epoch 11/100\n",
      "40/40 [==============================] - 2s 43ms/step - loss: 0.0110 - val_loss: 0.0107\n",
      "Epoch 12/100\n",
      "40/40 [==============================] - 2s 50ms/step - loss: 0.0102 - val_loss: 0.0100\n",
      "Epoch 13/100\n",
      "40/40 [==============================] - 2s 44ms/step - loss: 0.0104 - val_loss: 0.0131\n",
      "Epoch 14/100\n",
      "40/40 [==============================] - 2s 44ms/step - loss: 0.0099 - val_loss: 0.0095\n",
      "Epoch 15/100\n",
      "40/40 [==============================] - 2s 43ms/step - loss: 0.0093 - val_loss: 0.0097\n",
      "Epoch 16/100\n",
      "40/40 [==============================] - 2s 44ms/step - loss: 0.0101 - val_loss: 0.0139\n",
      "Epoch 17/100\n",
      "40/40 [==============================] - 2s 44ms/step - loss: 0.0098 - val_loss: 0.0120\n",
      "Epoch 18/100\n",
      "40/40 [==============================] - 2s 44ms/step - loss: 0.0084 - val_loss: 0.0101\n",
      "Epoch 19/100\n",
      "40/40 [==============================] - 2s 45ms/step - loss: 0.0088 - val_loss: 0.0084\n",
      "Epoch 20/100\n",
      "40/40 [==============================] - 2s 45ms/step - loss: 0.0085 - val_loss: 0.0094\n",
      "Epoch 21/100\n",
      "40/40 [==============================] - 2s 48ms/step - loss: 0.0084 - val_loss: 0.0115\n",
      "Epoch 22/100\n",
      "40/40 [==============================] - 2s 45ms/step - loss: 0.0081 - val_loss: 0.0089\n",
      "Epoch 23/100\n",
      "40/40 [==============================] - 3s 69ms/step - loss: 0.0076 - val_loss: 0.0087\n",
      "Epoch 24/100\n",
      "40/40 [==============================] - 2s 57ms/step - loss: 0.0086 - val_loss: 0.0088\n",
      "Epoch 25/100\n",
      "40/40 [==============================] - 2s 44ms/step - loss: 0.0086 - val_loss: 0.0116\n",
      "Epoch 26/100\n",
      "40/40 [==============================] - 2s 44ms/step - loss: 0.0074 - val_loss: 0.0084\n",
      "Epoch 27/100\n",
      "40/40 [==============================] - 2s 45ms/step - loss: 0.0070 - val_loss: 0.0085\n",
      "Epoch 28/100\n",
      "40/40 [==============================] - 2s 44ms/step - loss: 0.0071 - val_loss: 0.0083\n",
      "Epoch 29/100\n",
      "40/40 [==============================] - 3s 68ms/step - loss: 0.0069 - val_loss: 0.0098\n",
      "Epoch 30/100\n",
      "40/40 [==============================] - 2s 53ms/step - loss: 0.0071 - val_loss: 0.0096\n",
      "Epoch 31/100\n",
      "40/40 [==============================] - 2s 43ms/step - loss: 0.0072 - val_loss: 0.0100\n",
      "Epoch 32/100\n",
      "40/40 [==============================] - 2s 45ms/step - loss: 0.0072 - val_loss: 0.0096\n",
      "Epoch 33/100\n",
      "40/40 [==============================] - 2s 43ms/step - loss: 0.0074 - val_loss: 0.0089\n",
      "Epoch 34/100\n",
      "40/40 [==============================] - 2s 44ms/step - loss: 0.0075 - val_loss: 0.0087\n",
      "Epoch 35/100\n",
      "40/40 [==============================] - 2s 44ms/step - loss: 0.0067 - val_loss: 0.0088\n",
      "Epoch 36/100\n",
      "40/40 [==============================] - 2s 49ms/step - loss: 0.0059 - val_loss: 0.0077\n",
      "Epoch 37/100\n",
      "40/40 [==============================] - 2s 44ms/step - loss: 0.0063 - val_loss: 0.0091\n",
      "Epoch 38/100\n",
      "40/40 [==============================] - 2s 45ms/step - loss: 0.0060 - val_loss: 0.0085\n",
      "Epoch 39/100\n",
      "40/40 [==============================] - 2s 44ms/step - loss: 0.0071 - val_loss: 0.0097\n",
      "Epoch 40/100\n",
      "40/40 [==============================] - 2s 51ms/step - loss: 0.0081 - val_loss: 0.0084\n",
      "Epoch 41/100\n",
      "40/40 [==============================] - 2s 44ms/step - loss: 0.0080 - val_loss: 0.0083\n",
      "Epoch 42/100\n",
      "40/40 [==============================] - 2s 44ms/step - loss: 0.0069 - val_loss: 0.0084\n",
      "Epoch 43/100\n",
      "40/40 [==============================] - 2s 45ms/step - loss: 0.0070 - val_loss: 0.0089\n",
      "Epoch 44/100\n",
      "40/40 [==============================] - 2s 45ms/step - loss: 0.0069 - val_loss: 0.0079\n",
      "Epoch 45/100\n",
      "40/40 [==============================] - 2s 45ms/step - loss: 0.0063 - val_loss: 0.0087\n",
      "Epoch 46/100\n",
      "40/40 [==============================] - 2s 50ms/step - loss: 0.0069 - val_loss: 0.0108\n",
      "Restoring model weights from the end of the best epoch.\n",
      "Epoch 00046: early stopping\n",
      "End of training\n"
     ]
    }
   ],
   "source": [
    "print(\"\\nStart of training for model 1 (x-pixels)\")\n",
    "results_x = model_x.fit(x_train,\n",
    "                        yx_train,\n",
    "                        validation_data=(x_test, yx_test),\n",
    "                        epochs=N_EPOCHS,\n",
    "                        callbacks=cb)\n",
    "print(\"End of training\")"
   ]
  },
  {
   "cell_type": "code",
   "execution_count": 17,
   "metadata": {
    "colab": {
     "base_uri": "https://localhost:8080/"
    },
    "id": "vQz7jjQ5CTS8",
    "outputId": "f9c25499-ae97-4d66-8bfd-d5e13d35585d"
   },
   "outputs": [
    {
     "name": "stdout",
     "output_type": "stream",
     "text": [
      "\n",
      "Start of training for model 2 (y-pixels)\n",
      "Epoch 1/100\n",
      "40/40 [==============================] - 2s 47ms/step - loss: 0.3289 - val_loss: 0.2603\n",
      "Epoch 2/100\n",
      "40/40 [==============================] - 2s 46ms/step - loss: 0.1738 - val_loss: 0.0944\n",
      "Epoch 3/100\n",
      "40/40 [==============================] - 2s 45ms/step - loss: 0.0858 - val_loss: 0.0554\n",
      "Epoch 4/100\n",
      "40/40 [==============================] - 2s 44ms/step - loss: 0.0604 - val_loss: 0.0463\n",
      "Epoch 5/100\n",
      "40/40 [==============================] - 2s 51ms/step - loss: 0.0510 - val_loss: 0.0499\n",
      "Epoch 6/100\n",
      "40/40 [==============================] - 2s 44ms/step - loss: 0.0434 - val_loss: 0.0344\n",
      "Epoch 7/100\n",
      "40/40 [==============================] - 2s 43ms/step - loss: 0.0411 - val_loss: 0.0378\n",
      "Epoch 8/100\n",
      "40/40 [==============================] - 2s 47ms/step - loss: 0.0363 - val_loss: 0.0287\n",
      "Epoch 9/100\n",
      "40/40 [==============================] - 2s 44ms/step - loss: 0.0313 - val_loss: 0.0505\n",
      "Epoch 10/100\n",
      "40/40 [==============================] - 2s 47ms/step - loss: 0.0335 - val_loss: 0.0294\n",
      "Epoch 11/100\n",
      "40/40 [==============================] - 2s 48ms/step - loss: 0.0281 - val_loss: 0.0320\n",
      "Epoch 12/100\n",
      "40/40 [==============================] - 2s 44ms/step - loss: 0.0257 - val_loss: 0.0319\n",
      "Epoch 13/100\n",
      "40/40 [==============================] - 2s 44ms/step - loss: 0.0225 - val_loss: 0.0365\n",
      "Epoch 14/100\n",
      "40/40 [==============================] - 2s 45ms/step - loss: 0.0242 - val_loss: 0.0272\n",
      "Epoch 15/100\n",
      "40/40 [==============================] - 2s 46ms/step - loss: 0.0216 - val_loss: 0.0301\n",
      "Epoch 16/100\n",
      "40/40 [==============================] - 2s 46ms/step - loss: 0.0233 - val_loss: 0.0316\n",
      "Epoch 17/100\n",
      "40/40 [==============================] - 2s 45ms/step - loss: 0.0219 - val_loss: 0.0328\n",
      "Epoch 18/100\n",
      "40/40 [==============================] - 2s 52ms/step - loss: 0.0180 - val_loss: 0.0249\n",
      "Epoch 19/100\n",
      "40/40 [==============================] - 2s 43ms/step - loss: 0.0188 - val_loss: 0.0224\n",
      "Epoch 20/100\n",
      "40/40 [==============================] - 2s 43ms/step - loss: 0.0186 - val_loss: 0.0235\n",
      "Epoch 21/100\n",
      "40/40 [==============================] - 2s 45ms/step - loss: 0.0186 - val_loss: 0.0257\n",
      "Epoch 22/100\n",
      "40/40 [==============================] - 2s 45ms/step - loss: 0.0201 - val_loss: 0.0239\n",
      "Epoch 23/100\n",
      "40/40 [==============================] - 2s 44ms/step - loss: 0.0188 - val_loss: 0.0193\n",
      "Epoch 24/100\n",
      "40/40 [==============================] - 2s 43ms/step - loss: 0.0179 - val_loss: 0.0362\n",
      "Epoch 25/100\n",
      "40/40 [==============================] - 2s 44ms/step - loss: 0.0231 - val_loss: 0.0229\n",
      "Epoch 26/100\n",
      "40/40 [==============================] - 2s 44ms/step - loss: 0.0160 - val_loss: 0.0212\n",
      "Epoch 27/100\n",
      "40/40 [==============================] - 2s 44ms/step - loss: 0.0147 - val_loss: 0.0211\n",
      "Epoch 28/100\n",
      "40/40 [==============================] - 2s 44ms/step - loss: 0.0141 - val_loss: 0.0226\n",
      "Epoch 29/100\n",
      "40/40 [==============================] - 2s 45ms/step - loss: 0.0146 - val_loss: 0.0234\n",
      "Epoch 30/100\n",
      "40/40 [==============================] - 2s 52ms/step - loss: 0.0155 - val_loss: 0.0223\n",
      "Epoch 31/100\n",
      "40/40 [==============================] - 2s 46ms/step - loss: 0.0146 - val_loss: 0.0250\n",
      "Epoch 32/100\n",
      "40/40 [==============================] - 2s 46ms/step - loss: 0.0164 - val_loss: 0.0227\n",
      "Epoch 33/100\n",
      "40/40 [==============================] - 2s 46ms/step - loss: 0.0131 - val_loss: 0.0188\n",
      "Epoch 34/100\n",
      "40/40 [==============================] - 2s 46ms/step - loss: 0.0142 - val_loss: 0.0246\n",
      "Epoch 35/100\n",
      "40/40 [==============================] - 2s 46ms/step - loss: 0.0137 - val_loss: 0.0184\n",
      "Epoch 36/100\n",
      "40/40 [==============================] - 2s 52ms/step - loss: 0.0147 - val_loss: 0.0193\n",
      "Epoch 37/100\n",
      "40/40 [==============================] - 2s 51ms/step - loss: 0.0137 - val_loss: 0.0212\n",
      "Epoch 38/100\n",
      "40/40 [==============================] - 2s 44ms/step - loss: 0.0147 - val_loss: 0.0200\n",
      "Epoch 39/100\n",
      "40/40 [==============================] - 2s 45ms/step - loss: 0.0123 - val_loss: 0.0189\n",
      "Epoch 40/100\n",
      "40/40 [==============================] - 2s 44ms/step - loss: 0.0138 - val_loss: 0.0234\n",
      "Epoch 41/100\n",
      "40/40 [==============================] - 2s 46ms/step - loss: 0.0164 - val_loss: 0.0185\n",
      "Epoch 42/100\n",
      "40/40 [==============================] - 2s 47ms/step - loss: 0.0133 - val_loss: 0.0184\n",
      "Epoch 43/100\n",
      "40/40 [==============================] - 2s 50ms/step - loss: 0.0132 - val_loss: 0.0212\n",
      "Epoch 44/100\n",
      "40/40 [==============================] - 2s 47ms/step - loss: 0.0134 - val_loss: 0.0228\n",
      "Epoch 45/100\n",
      "40/40 [==============================] - 2s 47ms/step - loss: 0.0120 - val_loss: 0.0198\n",
      "Epoch 46/100\n",
      "40/40 [==============================] - 2s 48ms/step - loss: 0.0126 - val_loss: 0.0203\n",
      "Epoch 47/100\n",
      "40/40 [==============================] - 2s 51ms/step - loss: 0.0108 - val_loss: 0.0181\n",
      "Epoch 48/100\n",
      "40/40 [==============================] - 2s 47ms/step - loss: 0.0128 - val_loss: 0.0168\n",
      "Epoch 49/100\n",
      "40/40 [==============================] - 2s 52ms/step - loss: 0.0113 - val_loss: 0.0211\n",
      "Epoch 50/100\n",
      "40/40 [==============================] - 3s 65ms/step - loss: 0.0096 - val_loss: 0.0187\n",
      "Epoch 51/100\n",
      "40/40 [==============================] - 2s 46ms/step - loss: 0.0108 - val_loss: 0.0210\n",
      "Epoch 52/100\n",
      "40/40 [==============================] - 2s 47ms/step - loss: 0.0112 - val_loss: 0.0188\n",
      "Epoch 53/100\n",
      "40/40 [==============================] - 2s 50ms/step - loss: 0.0117 - val_loss: 0.0271\n",
      "Epoch 54/100\n",
      "40/40 [==============================] - 3s 67ms/step - loss: 0.0138 - val_loss: 0.0181\n",
      "Epoch 55/100\n",
      "40/40 [==============================] - 2s 51ms/step - loss: 0.0118 - val_loss: 0.0239\n",
      "Epoch 56/100\n",
      "40/40 [==============================] - 2s 46ms/step - loss: 0.0114 - val_loss: 0.0185\n",
      "Epoch 57/100\n",
      "40/40 [==============================] - 2s 44ms/step - loss: 0.0134 - val_loss: 0.0175\n",
      "Epoch 58/100\n",
      "40/40 [==============================] - 2s 45ms/step - loss: 0.0114 - val_loss: 0.0192\n",
      "Restoring model weights from the end of the best epoch.\n",
      "Epoch 00058: early stopping\n",
      "End of training\n"
     ]
    }
   ],
   "source": [
    "print(\"\\nStart of training for model 2 (y-pixels)\")\n",
    "results_y = model_y.fit(x_train,\n",
    "                        yy_train,\n",
    "                        validation_data=(x_test, yy_test),\n",
    "                        epochs=N_EPOCHS,\n",
    "                        callbacks=cb)\n",
    "print(\"End of training\")"
   ]
  },
  {
   "cell_type": "code",
   "execution_count": 18,
   "metadata": {
    "colab": {
     "base_uri": "https://localhost:8080/"
    },
    "id": "DCu14ufb8oFN",
    "outputId": "55beefd3-f9e9-4338-8b26-4486771d830e"
   },
   "outputs": [
    {
     "name": "stdout",
     "output_type": "stream",
     "text": [
      "\n",
      "Saving models...\n",
      "INFO:tensorflow:Assets written to: ../subjects/1/model_eye_tracking_x\\assets\n",
      "INFO:tensorflow:Assets written to: ../subjects/1/model_eye_tracking_y\\assets\n"
     ]
    }
   ],
   "source": [
    "print(\"\\nSaving models...\")\n",
    "model_x.save(subject_dir + \"model_eye_tracking_x\")\n",
    "model_y.save(subject_dir + \"model_eye_tracking_y\")"
   ]
  },
  {
   "cell_type": "code",
   "execution_count": 19,
   "metadata": {
    "id": "e9L074ihCXD6"
   },
   "outputs": [],
   "source": [
    "# Predicting outputs for train and test data\n",
    "yx_hat_train = model_x.predict(x_train).reshape((n_train,))\n",
    "yx_hat_test = model_x.predict(x_test).reshape((n_test,))\n",
    "yy_hat_train = model_y.predict(x_train).reshape((n_train,))\n",
    "yy_hat_test = model_y.predict(x_test).reshape((n_test,))\n",
    "\n",
    "yx_hat_train[yx_hat_train < 0] = 0\n",
    "yx_hat_test[yx_hat_test < 0] = 0\n",
    "yy_hat_train[yy_hat_train < 0] = 0\n",
    "yy_hat_test[yy_hat_test < 0] = 0"
   ]
  },
  {
   "cell_type": "code",
   "execution_count": 20,
   "metadata": {
    "colab": {
     "base_uri": "https://localhost:8080/",
     "height": 338
    },
    "id": "FDC8rCcVjjDa",
    "outputId": "48c3b4f3-1946-4554-b0e9-6ae7c0ca6120"
   },
   "outputs": [
    {
     "name": "stdout",
     "output_type": "stream",
     "text": [
      "Train\n",
      "(1168, 1329)\n",
      "(1158, 1344)\n",
      "Test\n",
      "(1550, 1109)\n",
      "(1561, 1074)\n"
     ]
    },
    {
     "data": {
      "text/plain": [
       "<matplotlib.image.AxesImage at 0x1622b4e4070>"
      ]
     },
     "execution_count": 20,
     "metadata": {},
     "output_type": "execute_result"
    },
    {
     "data": {
      "image/png": "[encoded data removed]",
      "text/plain": [
       "<Figure size 432x288 with 2 Axes>"
      ]
     },
     "metadata": {
      "needs_background": "light"
     },
     "output_type": "display_data"
    }
   ],
   "source": [
    "# Displaying data\n",
    "NUM = 0\n",
    "print(\"Train\")\n",
    "sample_train = (int(yx_train[NUM] * y_scalers_et[0]),\n",
    "                int(yy_train[NUM] * y_scalers_et[1]))\n",
    "sample_hat_train = (int(yx_hat_train[NUM] * y_scalers_et[0]),\n",
    "                    int(yy_hat_train[NUM] * y_scalers_et[1]))\n",
    "print(sample_train)\n",
    "print(sample_hat_train)\n",
    "\n",
    "print(\"Test\")\n",
    "sample_test = (int(yx_test[NUM] * y_scalers_et[0]),\n",
    "                int(yy_test[NUM] * y_scalers_et[1]))\n",
    "sample_hat_test = (int(yx_hat_test[NUM] * y_scalers_et[0]),\n",
    "                    int(yy_hat_test[NUM] * y_scalers_et[1]))\n",
    "print(sample_test)\n",
    "print(sample_hat_test)\n",
    "\n",
    "_, ax = plt.subplots(1,2)\n",
    "ax[0].imshow((x1_train[NUM] * x1_scaler_et).astype(np.uint8).\n",
    "           reshape((frame_height, frame_width)), cmap=\"gray\",vmin=0, vmax=255)\n",
    "ax[1].imshow((x1_test[NUM] * x1_scaler_et).astype(np.uint8).\n",
    "           reshape((frame_height, frame_width)), cmap=\"gray\",vmin=0, vmax=255)"
   ]
  },
  {
   "cell_type": "markdown",
   "metadata": {
    "id": "lXSSVV778oFP"
   },
   "source": [
    "### Getting sampling data that looking 'in' screen"
   ]
  },
  {
   "cell_type": "code",
   "execution_count": 21,
   "metadata": {
    "colab": {
     "base_uri": "https://localhost:8080/"
    },
    "id": "A89vgRT88oFP",
    "outputId": "7be8e6ed-6f3b-4ec0-d134-5c51d5c16a68"
   },
   "outputs": [
    {
     "name": "stdout",
     "output_type": "stream",
     "text": [
      "\n",
      "Loading subject sampling data in ../subjects/1/sampling_test data/\n",
      "Number of sampling data : 180\n"
     ]
    }
   ],
   "source": [
    "sampling_dir = subject_dir + sampling_fol\n",
    "print(f\"\\nLoading subject sampling data in {sampling_dir}\")\n",
    "\n",
    "with open(sampling_dir + \"t.pickle\", \"rb\") as f:\n",
    "    t_smp_load = pickle.load(f)\n",
    "with open(sampling_dir + \"x1.pickle\", \"rb\") as f:\n",
    "    x1_smp_load = pickle.load(f)\n",
    "with open(sampling_dir + \"x2.pickle\", \"rb\") as f:\n",
    "    x2_smp_load = pickle.load(f)\n",
    "if TESTING:\n",
    "    with open(sampling_dir + \"y.pickle\", \"rb\") as f:\n",
    "        y_smp_load = pickle.load(f)\n",
    "\n",
    "n_smp= t_smp_load.shape[0]\n",
    "print(f\"Number of sampling data : {n_smp}\")"
   ]
  },
  {
   "cell_type": "code",
   "execution_count": 22,
   "metadata": {
    "id": "44uvMv2b8oFQ"
   },
   "outputs": [],
   "source": [
    "# Normalizing Sampling data for 'in_blink_out' model\n",
    "x2_smp_chs_inp = x2_smp_load[:, tp.CHOSEN_INPUTS]\n",
    "x1_smp = x1_smp_load / x1_scaler_ibo\n",
    "x2_smp = x2_scaler_ibo.transform(x2_smp_chs_inp)\n",
    "x_smp = [x1_smp, x2_smp]"
   ]
  },
  {
   "cell_type": "code",
   "execution_count": 23,
   "metadata": {
    "colab": {
     "base_uri": "https://localhost:8080/"
    },
    "id": "2_UMXhI68oFR",
    "outputId": "0ed86366-9414-4c01-a0f3-f743e866e6e4"
   },
   "outputs": [
    {
     "name": "stdout",
     "output_type": "stream",
     "text": [
      "\n",
      "Predicting those data that looking 'in' screen...\n"
     ]
    }
   ],
   "source": [
    "print(\"\\nPredicting those data that looking 'in' screen...\")\n",
    "y_hat_smp_ibo = model_ibo.predict(x_smp).argmax(1)"
   ]
  },
  {
   "cell_type": "markdown",
   "metadata": {
    "id": "g1c4gEd_8oFS"
   },
   "source": [
    "### Predicting eye track for samling data in pixels."
   ]
  },
  {
   "cell_type": "code",
   "execution_count": 24,
   "metadata": {
    "id": "YMJFqQru8oFS"
   },
   "outputs": [],
   "source": [
    "# Normalizing Sampling data for 'eye_tracking' model\n",
    "x2_smp_load_chs_inp = x2_smp_load[:, tp.CHOSEN_INPUTS]\n",
    "x1_smp_nrm = x1_smp_load / x1_scaler_et\n",
    "x2_smp_nrm = x2_scaler_et.transform(x2_smp_load_chs_inp)\n",
    "x_smp = [x1_smp_nrm, x2_smp_nrm]"
   ]
  },
  {
   "cell_type": "code",
   "execution_count": 25,
   "metadata": {
    "colab": {
     "base_uri": "https://localhost:8080/"
    },
    "id": "QhGRU1Gp8oFS",
    "outputId": "b56be31f-2332-4b59-c6b4-c46b3ffc186b"
   },
   "outputs": [
    {
     "name": "stdout",
     "output_type": "stream",
     "text": [
      "\n",
      "Predicting sampling data...\n"
     ]
    }
   ],
   "source": [
    "print(\"\\nPredicting sampling data...\")\n",
    "yx_hat_smp = np.expand_dims(model_x.predict(x_smp).reshape((n_smp,)), 1)\n",
    "yy_hat_smp = np.expand_dims(model_y.predict(x_smp).reshape((n_smp,)), 1)\n",
    "\n",
    "yx_hat_smp[yx_hat_smp < 0] = 0\n",
    "yy_hat_smp[yy_hat_smp < 0] = 0\n",
    "\n",
    "y_hat = (np.concatenate([yx_hat_smp, yy_hat_smp], 1) * y_scalers_et).astype(np.uint32)"
   ]
  },
  {
   "cell_type": "code",
   "execution_count": 26,
   "metadata": {
    "colab": {
     "base_uri": "https://localhost:8080/"
    },
    "id": "Nz2knxtl8oFT",
    "outputId": "daa99dbb-be51-4072-9232-e7e313026a7d"
   },
   "outputs": [
    {
     "name": "stdout",
     "output_type": "stream",
     "text": [
      "\n",
      "Pixel data saved!!\n"
     ]
    }
   ],
   "source": [
    "sampling_pixels_dir = subject_dir + sampling_pixels_fol\n",
    "if not os.path.exists(sampling_pixels_dir):\n",
    "    os.mkdir(sampling_pixels_dir)\n",
    "\n",
    "with open(sampling_pixels_dir + \"y_hat_smp_ibo.pickle\", 'wb') as f:\n",
    "    pickle.dump(y_hat_smp_ibo, f)\n",
    "with open(sampling_pixels_dir + \"t.pickle\", 'wb') as f:\n",
    "    pickle.dump(t_smp_load, f)\n",
    "with open(sampling_pixels_dir + \"y_hat.pickle\", 'wb') as f:\n",
    "    pickle.dump(y_hat, f)\n",
    "if TESTING:\n",
    "    with open(sampling_pixels_dir + \"y.pickle\", 'wb') as f:\n",
    "        pickle.dump(y_smp_load, f)\n",
    "print(\"\\nPixel data saved!!\")"
   ]
  }
 ],
 "metadata": {
  "colab": {
   "collapsed_sections": [],
   "name": "rtn_2mdl_et_35p_predict_tst.ipynb",
   "provenance": []
  },
  "kernelspec": {
   "display_name": "venv",
   "language": "python",
   "name": "venv"
  },
  "language_info": {
   "codemirror_mode": {
    "name": "ipython",
    "version": 3
   },
   "file_extension": ".py",
   "mimetype": "text/x-python",
   "name": "python",
   "nbconvert_exporter": "python",
   "pygments_lexer": "ipython3",
   "version": "3.9.6"
  }
 },
 "nbformat": 4,
 "nbformat_minor": 1
}
