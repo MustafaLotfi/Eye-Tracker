{
 "cells": [
  {
   "cell_type": "code",
   "execution_count": 1,
   "metadata": {
    "executionInfo": {
     "elapsed": 3198,
     "status": "ok",
     "timestamp": 1635187562932,
     "user": {
      "displayName": "mostafa lotfi",
      "photoUrl": "https://lh3.googleusercontent.com/a-/AOh14Gj4ilTay6rvtZq-saddDY_b1Sar82sct4P4Z2d_Wg=s64",
      "userId": "11325640182532482321"
     },
     "user_tz": -210
    },
    "id": "Ks_AbdKIb-xZ"
   },
   "outputs": [],
   "source": [
    "from tensorflow.keras.callbacks import EarlyStopping\n",
    "from tensorflow.keras.models import load_model\n",
    "from sklearn.preprocessing import StandardScaler\n",
    "import numpy as np\n",
    "import pickle\n",
    "from sklearn.utils import shuffle\n",
    "from joblib import dump as jdump\n",
    "import time\n",
    "import random\n",
    "import os"
   ]
  },
  {
   "cell_type": "code",
   "execution_count": 2,
   "metadata": {
    "executionInfo": {
     "elapsed": 19,
     "status": "ok",
     "timestamp": 1635187562934,
     "user": {
      "displayName": "mostafa lotfi",
      "photoUrl": "https://lh3.googleusercontent.com/a-/AOh14Gj4ilTay6rvtZq-saddDY_b1Sar82sct4P4Z2d_Wg=s64",
      "userId": "11325640182532482321"
     },
     "user_tz": -210
    },
    "id": "T5XUNQBvcGf6"
   },
   "outputs": [],
   "source": [
    "PATH2PROJECT = \"/content/drive/MyDrive/Projects/EyeTracker/\"\n",
    "raw_models_dir = PATH2PROJECT + \"models/eye_tracking/raw/\"\n",
    "trained_models_dir = PATH2PROJECT + \"models/eye_tracking/trained/\"\n",
    "MODEL_NUM = 4\n",
    "scaler_dir = PATH2PROJECT + f\"models/eye_tracking/trained/scalers{MODEL_NUM}.bin\"\n",
    "R_TRAIN = 0.85\n",
    "CHOSEN_INPUTS = [0, 1, 2, 6, 7, 8, 9]\n",
    "N_EPOCHS = 100\n",
    "PATIENCE = 8\n",
    "MIN_BRIGHTNESS_RATIO = 0.7\n",
    "MAX_BRIGHTNESS_RATIO = 1.4"
   ]
  },
  {
   "cell_type": "code",
   "execution_count": 3,
   "metadata": {
    "colab": {
     "base_uri": "https://localhost:8080/"
    },
    "executionInfo": {
     "elapsed": 6908,
     "status": "ok",
     "timestamp": 1635187569827,
     "user": {
      "displayName": "mostafa lotfi",
      "photoUrl": "https://lh3.googleusercontent.com/a-/AOh14Gj4ilTay6rvtZq-saddDY_b1Sar82sct4P4Z2d_Wg=s64",
      "userId": "11325640182532482321"
     },
     "user_tz": -210
    },
    "id": "W471W2kGcGct",
    "outputId": "5c8ff985-7bbe-4ed8-9c8c-cdf5a56424c3"
   },
   "outputs": [
    {
     "name": "stdout",
     "output_type": "stream",
     "text": [
      "24500 48 44\n"
     ]
    }
   ],
   "source": [
    "x1_load = []\n",
    "x2_load = []\n",
    "y_load = []\n",
    "dataset_dir = PATH2PROJECT + \"dataset/\"\n",
    "datasets_folders = os.listdir(dataset_dir)\n",
    "\n",
    "for data_fol in datasets_folders:\n",
    "    with open(dataset_dir + data_fol +\n",
    "              \"/eye_tracking data-calibration/x1.pickle\", \"rb\") as f:\n",
    "        x1_load0 = pickle.load(f)\n",
    "    with open(dataset_dir + data_fol +\n",
    "              \"/eye_tracking data-calibration/x2.pickle\", \"rb\") as f:\n",
    "        x2_load0 = pickle.load(f)\n",
    "    with open(dataset_dir + data_fol +\n",
    "              \"/eye_tracking data-calibration/y.pickle\", \"rb\") as f:\n",
    "        y_load0 = pickle.load(f)\n",
    "    for (x10, x20, y10) in zip(x1_load0, x2_load0, y_load0):\n",
    "        x1_load.append(x10)\n",
    "        x2_load.append(x20)\n",
    "        y_load.append(y10)\n",
    "\n",
    "x1_load = np.array(x1_load)\n",
    "x2_load = np.array(x2_load)\n",
    "y_load = np.array(y_load)\n",
    "\n",
    "n_smp, frame_height, frame_width = x1_load.shape[:-1]\n",
    "print(n_smp, frame_height, frame_width)"
   ]
  },
  {
   "cell_type": "code",
   "execution_count": 4,
   "metadata": {
    "executionInfo": {
     "elapsed": 916,
     "status": "ok",
     "timestamp": 1635187570734,
     "user": {
      "displayName": "mostafa lotfi",
      "photoUrl": "https://lh3.googleusercontent.com/a-/AOh14Gj4ilTay6rvtZq-saddDY_b1Sar82sct4P4Z2d_Wg=s64",
      "userId": "11325640182532482321"
     },
     "user_tz": -210
    },
    "id": "iGCJnYPQcGZW"
   },
   "outputs": [],
   "source": [
    "x1_chg_bri = x1_load.copy()\n",
    "for (i, _) in enumerate(x1_chg_bri):\n",
    "    r = random.uniform(MIN_BRIGHTNESS_RATIO, MAX_BRIGHTNESS_RATIO)\n",
    "    x1_chg_bri[i] = (x1_chg_bri[i] * r).astype(np.uint8)"
   ]
  },
  {
   "cell_type": "code",
   "execution_count": 5,
   "metadata": {
    "executionInfo": {
     "elapsed": 45,
     "status": "ok",
     "timestamp": 1635187570736,
     "user": {
      "displayName": "mostafa lotfi",
      "photoUrl": "https://lh3.googleusercontent.com/a-/AOh14Gj4ilTay6rvtZq-saddDY_b1Sar82sct4P4Z2d_Wg=s64",
      "userId": "11325640182532482321"
     },
     "user_tz": -210
    },
    "id": "oiA8EMH-cGV5"
   },
   "outputs": [],
   "source": [
    "x2_chs_inp = x2_load[:, CHOSEN_INPUTS]"
   ]
  },
  {
   "cell_type": "code",
   "execution_count": 6,
   "metadata": {
    "executionInfo": {
     "elapsed": 41,
     "status": "ok",
     "timestamp": 1635187570739,
     "user": {
      "displayName": "mostafa lotfi",
      "photoUrl": "https://lh3.googleusercontent.com/a-/AOh14Gj4ilTay6rvtZq-saddDY_b1Sar82sct4P4Z2d_Wg=s64",
      "userId": "11325640182532482321"
     },
     "user_tz": -210
    },
    "id": "mYmxzj3eYgA_"
   },
   "outputs": [],
   "source": [
    "import matplotlib.pyplot as plt"
   ]
  },
  {
   "cell_type": "code",
   "execution_count": 7,
   "metadata": {
    "colab": {
     "base_uri": "https://localhost:8080/",
     "height": 319
    },
    "executionInfo": {
     "elapsed": 38,
     "status": "ok",
     "timestamp": 1635187570741,
     "user": {
      "displayName": "mostafa lotfi",
      "photoUrl": "https://lh3.googleusercontent.com/a-/AOh14Gj4ilTay6rvtZq-saddDY_b1Sar82sct4P4Z2d_Wg=s64",
      "userId": "11325640182532482321"
     },
     "user_tz": -210
    },
    "id": "cQCtiUVrcGTE",
    "outputId": "11ef1af3-4e62-40f3-bd5f-6e015b11c611"
   },
   "outputs": [
    {
     "name": "stdout",
     "output_type": "stream",
     "text": [
      "[-2.92097984  0.01450496 -0.1692337   0.51821423  0.47875661  0.51987594\n",
      "  0.49142322]\n",
      "[2995.  948.]\n"
     ]
    },
    {
     "data": {
      "image/png": "[encoded data removed]",
      "text/plain": [
       "<Figure size 432x288 with 1 Axes>"
      ]
     },
     "metadata": {
      "needs_background": "light"
     },
     "output_type": "display_data"
    }
   ],
   "source": [
    "SAMPLE_NUMBER = 2\n",
    "print(x2_chs_inp[SAMPLE_NUMBER])\n",
    "print(y_load[SAMPLE_NUMBER])\n",
    "plt.imshow(x1_chg_bri[SAMPLE_NUMBER].reshape((frame_height, frame_width)),\n",
    "           cmap=\"gray\", vmin=0, vmax=255)\n",
    "plt.show()"
   ]
  },
  {
   "cell_type": "code",
   "execution_count": 8,
   "metadata": {
    "colab": {
     "base_uri": "https://localhost:8080/"
    },
    "executionInfo": {
     "elapsed": 474,
     "status": "ok",
     "timestamp": 1635187571195,
     "user": {
      "displayName": "mostafa lotfi",
      "photoUrl": "https://lh3.googleusercontent.com/a-/AOh14Gj4ilTay6rvtZq-saddDY_b1Sar82sct4P4Z2d_Wg=s64",
      "userId": "11325640182532482321"
     },
     "user_tz": -210
    },
    "id": "eh_Zk28FcGQM",
    "outputId": "c0e12270-e4b8-4b19-bb19-b80377a2b0a3"
   },
   "outputs": [
    {
     "data": {
      "text/plain": [
       "['/content/drive/MyDrive/Projects/EyeTracker/models/eye_tracking/trained/scalers4.bin']"
      ]
     },
     "execution_count": 8,
     "metadata": {},
     "output_type": "execute_result"
    }
   ],
   "source": [
    "x1_scaler = 255\n",
    "x1 = x1_chg_bri / x1_scaler\n",
    "\n",
    "x2_scaler = StandardScaler()\n",
    "x2 = x2_scaler.fit_transform(x2_chs_inp)\n",
    "\n",
    "y_scalers = y_load.max(0)\n",
    "y = y_load / y_scalers\n",
    "\n",
    "scalers = [x1_scaler, x2_scaler, y_scalers]\n",
    "jdump(scalers, scaler_dir)"
   ]
  },
  {
   "cell_type": "code",
   "execution_count": 9,
   "metadata": {
    "colab": {
     "base_uri": "https://localhost:8080/"
    },
    "executionInfo": {
     "elapsed": 36,
     "status": "ok",
     "timestamp": 1635187571197,
     "user": {
      "displayName": "mostafa lotfi",
      "photoUrl": "https://lh3.googleusercontent.com/a-/AOh14Gj4ilTay6rvtZq-saddDY_b1Sar82sct4P4Z2d_Wg=s64",
      "userId": "11325640182532482321"
     },
     "user_tz": -210
    },
    "id": "GbNgiHNOcGKq",
    "outputId": "dcf355ee-da9d-41ed-830c-0eb2bb96c3a1"
   },
   "outputs": [
    {
     "name": "stdout",
     "output_type": "stream",
     "text": [
      "(20825, 48, 44, 1) (3675, 48, 44, 1) (20825,) (3675,) (20825, 7) (3675, 7) (20825,) (3675,)\n"
     ]
    }
   ],
   "source": [
    "x1_shf, x2_shf, yx_shf, yy_shf = shuffle(x1, x2, y[:, 0], y[:, 1])\n",
    "\n",
    "n_train = int(R_TRAIN * n_smp)\n",
    "n_test = n_smp - n_train\n",
    "x1_train, x2_train = x1_shf[:n_train], x2_shf[:n_train]\n",
    "x1_test, x2_test = x1_shf[n_train:], x2_shf[n_train:]\n",
    "yx_train, yy_train = yx_shf[:n_train], yy_shf[:n_train]\n",
    "yx_test, yy_test = yx_shf[n_train:], yy_shf[n_train:]\n",
    "\n",
    "x_train_list = [x1_train, x2_train]\n",
    "x_test_list = [x1_test, x2_test]\n",
    "\n",
    "print(x1_train.shape, x1_test.shape, yx_train.shape, yx_test.shape,\n",
    "      x2_train.shape, x2_test.shape, yy_train.shape, yy_test.shape)"
   ]
  },
  {
   "cell_type": "code",
   "execution_count": 10,
   "metadata": {
    "executionInfo": {
     "elapsed": 22,
     "status": "ok",
     "timestamp": 1635187571199,
     "user": {
      "displayName": "mostafa lotfi",
      "photoUrl": "https://lh3.googleusercontent.com/a-/AOh14Gj4ilTay6rvtZq-saddDY_b1Sar82sct4P4Z2d_Wg=s64",
      "userId": "11325640182532482321"
     },
     "user_tz": -210
    },
    "id": "hasap1QZcpoy"
   },
   "outputs": [],
   "source": [
    "cb = EarlyStopping(patience=PATIENCE, verbose=1, restore_best_weights=True)"
   ]
  },
  {
   "cell_type": "code",
   "execution_count": 11,
   "metadata": {
    "colab": {
     "base_uri": "https://localhost:8080/"
    },
    "executionInfo": {
     "elapsed": 9811,
     "status": "ok",
     "timestamp": 1635187580994,
     "user": {
      "displayName": "mostafa lotfi",
      "photoUrl": "https://lh3.googleusercontent.com/a-/AOh14Gj4ilTay6rvtZq-saddDY_b1Sar82sct4P4Z2d_Wg=s64",
      "userId": "11325640182532482321"
     },
     "user_tz": -210
    },
    "id": "QrUF35MNcpl6",
    "outputId": "fe32559c-00b8-4b65-f627-94c3be3bd2aa"
   },
   "outputs": [
    {
     "name": "stdout",
     "output_type": "stream",
     "text": [
      "Model: \"model\"\n",
      "__________________________________________________________________________________________________\n",
      "Layer (type)                    Output Shape         Param #     Connected to                     \n",
      "==================================================================================================\n",
      "input_1 (InputLayer)            [(None, 48, 44, 1)]  0                                            \n",
      "__________________________________________________________________________________________________\n",
      "conv2d (Conv2D)                 (None, 48, 44, 16)   416         input_1[0][0]                    \n",
      "__________________________________________________________________________________________________\n",
      "max_pooling2d (MaxPooling2D)    (None, 24, 22, 16)   0           conv2d[0][0]                     \n",
      "__________________________________________________________________________________________________\n",
      "conv2d_1 (Conv2D)               (None, 24, 22, 32)   12832       max_pooling2d[0][0]              \n",
      "__________________________________________________________________________________________________\n",
      "max_pooling2d_1 (MaxPooling2D)  (None, 12, 11, 32)   0           conv2d_1[0][0]                   \n",
      "__________________________________________________________________________________________________\n",
      "conv2d_2 (Conv2D)               (None, 10, 9, 64)    18496       max_pooling2d_1[0][0]            \n",
      "__________________________________________________________________________________________________\n",
      "max_pooling2d_2 (MaxPooling2D)  (None, 5, 4, 64)     0           conv2d_2[0][0]                   \n",
      "__________________________________________________________________________________________________\n",
      "flatten (Flatten)               (None, 1280)         0           max_pooling2d_2[0][0]            \n",
      "__________________________________________________________________________________________________\n",
      "dense (Dense)                   (None, 400)          512400      flatten[0][0]                    \n",
      "__________________________________________________________________________________________________\n",
      "input_2 (InputLayer)            [(None, 7)]          0                                            \n",
      "__________________________________________________________________________________________________\n",
      "concatenate (Concatenate)       (None, 407)          0           dense[0][0]                      \n",
      "                                                                 input_2[0][0]                    \n",
      "__________________________________________________________________________________________________\n",
      "dense_1 (Dense)                 (None, 180)          73440       concatenate[0][0]                \n",
      "__________________________________________________________________________________________________\n",
      "dense_2 (Dense)                 (None, 50)           9050        dense_1[0][0]                    \n",
      "__________________________________________________________________________________________________\n",
      "dense_3 (Dense)                 (None, 16)           816         dense_2[0][0]                    \n",
      "__________________________________________________________________________________________________\n",
      "dense_4 (Dense)                 (None, 2)            34          dense_3[0][0]                    \n",
      "__________________________________________________________________________________________________\n",
      "dense_5 (Dense)                 (None, 1)            3           dense_4[0][0]                    \n",
      "==================================================================================================\n",
      "Total params: 627,487\n",
      "Trainable params: 627,487\n",
      "Non-trainable params: 0\n",
      "__________________________________________________________________________________________________\n",
      "None\n"
     ]
    }
   ],
   "source": [
    "model_x = load_model(raw_models_dir + f\"model{MODEL_NUM}_x\")\n",
    "model_y = load_model(raw_models_dir + f\"model{MODEL_NUM}_y\")\n",
    "print(model_x.summary())"
   ]
  },
  {
   "cell_type": "code",
   "execution_count": 12,
   "metadata": {
    "colab": {
     "base_uri": "https://localhost:8080/"
    },
    "executionInfo": {
     "elapsed": 297649,
     "status": "ok",
     "timestamp": 1635187878629,
     "user": {
      "displayName": "mostafa lotfi",
      "photoUrl": "https://lh3.googleusercontent.com/a-/AOh14Gj4ilTay6rvtZq-saddDY_b1Sar82sct4P4Z2d_Wg=s64",
      "userId": "11325640182532482321"
     },
     "user_tz": -210
    },
    "id": "MRSpklK-emfB",
    "outputId": "8eca8aae-b30c-4b7f-a837-5799a2b0058e"
   },
   "outputs": [
    {
     "name": "stdout",
     "output_type": "stream",
     "text": [
      "Epoch 1/100\n",
      "651/651 [==============================] - 37s 10ms/step - loss: 0.1106 - val_loss: 0.0746\n",
      "Epoch 2/100\n",
      "651/651 [==============================] - 6s 8ms/step - loss: 0.0709 - val_loss: 0.0610\n",
      "Epoch 3/100\n",
      "651/651 [==============================] - 6s 8ms/step - loss: 0.0636 - val_loss: 0.0602\n",
      "Epoch 4/100\n",
      "651/651 [==============================] - 6s 9ms/step - loss: 0.0586 - val_loss: 0.0548\n",
      "Epoch 5/100\n",
      "651/651 [==============================] - 6s 9ms/step - loss: 0.0549 - val_loss: 0.0488\n",
      "Epoch 6/100\n",
      "651/651 [==============================] - 6s 9ms/step - loss: 0.0526 - val_loss: 0.0550\n",
      "Epoch 7/100\n",
      "651/651 [==============================] - 6s 9ms/step - loss: 0.0507 - val_loss: 0.0456\n",
      "Epoch 8/100\n",
      "651/651 [==============================] - 6s 9ms/step - loss: 0.0475 - val_loss: 0.0498\n",
      "Epoch 9/100\n",
      "651/651 [==============================] - 6s 9ms/step - loss: 0.0459 - val_loss: 0.0519\n",
      "Epoch 10/100\n",
      "651/651 [==============================] - 6s 9ms/step - loss: 0.0441 - val_loss: 0.0456\n",
      "Epoch 11/100\n",
      "651/651 [==============================] - 6s 9ms/step - loss: 0.0439 - val_loss: 0.0461\n",
      "Epoch 12/100\n",
      "651/651 [==============================] - 6s 9ms/step - loss: 0.0430 - val_loss: 0.0431\n",
      "Epoch 13/100\n",
      "651/651 [==============================] - 6s 8ms/step - loss: 0.0410 - val_loss: 0.0414\n",
      "Epoch 14/100\n",
      "651/651 [==============================] - 5s 8ms/step - loss: 0.0400 - val_loss: 0.0396\n",
      "Epoch 15/100\n",
      "651/651 [==============================] - 5s 8ms/step - loss: 0.0389 - val_loss: 0.0396\n",
      "Epoch 16/100\n",
      "651/651 [==============================] - 5s 8ms/step - loss: 0.0386 - val_loss: 0.0404\n",
      "Epoch 17/100\n",
      "651/651 [==============================] - 6s 8ms/step - loss: 0.0371 - val_loss: 0.0419\n",
      "Epoch 18/100\n",
      "651/651 [==============================] - 5s 8ms/step - loss: 0.0368 - val_loss: 0.0390\n",
      "Epoch 19/100\n",
      "651/651 [==============================] - 6s 8ms/step - loss: 0.0357 - val_loss: 0.0387\n",
      "Epoch 20/100\n",
      "651/651 [==============================] - 5s 8ms/step - loss: 0.0345 - val_loss: 0.0420\n",
      "Epoch 21/100\n",
      "651/651 [==============================] - 6s 8ms/step - loss: 0.0341 - val_loss: 0.0415\n",
      "Epoch 22/100\n",
      "651/651 [==============================] - 6s 8ms/step - loss: 0.0337 - val_loss: 0.0358\n",
      "Epoch 23/100\n",
      "651/651 [==============================] - 6s 8ms/step - loss: 0.0340 - val_loss: 0.0367\n",
      "Epoch 24/100\n",
      "651/651 [==============================] - 6s 9ms/step - loss: 0.0325 - val_loss: 0.0362\n",
      "Epoch 25/100\n",
      "651/651 [==============================] - 6s 9ms/step - loss: 0.0331 - val_loss: 0.0362\n",
      "Epoch 26/100\n",
      "651/651 [==============================] - 6s 9ms/step - loss: 0.0320 - val_loss: 0.0411\n",
      "Epoch 27/100\n",
      "651/651 [==============================] - 6s 9ms/step - loss: 0.0320 - val_loss: 0.0384\n",
      "Epoch 28/100\n",
      "651/651 [==============================] - 6s 8ms/step - loss: 0.0306 - val_loss: 0.0359\n",
      "Epoch 29/100\n",
      "651/651 [==============================] - 6s 9ms/step - loss: 0.0296 - val_loss: 0.0365\n",
      "Epoch 30/100\n",
      "651/651 [==============================] - 6s 8ms/step - loss: 0.0291 - val_loss: 0.0342\n",
      "Epoch 31/100\n",
      "651/651 [==============================] - 6s 9ms/step - loss: 0.0297 - val_loss: 0.0433\n",
      "Epoch 32/100\n",
      "651/651 [==============================] - 6s 9ms/step - loss: 0.0281 - val_loss: 0.0382\n",
      "Epoch 33/100\n",
      "651/651 [==============================] - 6s 9ms/step - loss: 0.0276 - val_loss: 0.0352\n",
      "Epoch 34/100\n",
      "651/651 [==============================] - 6s 9ms/step - loss: 0.0294 - val_loss: 0.0341\n",
      "Epoch 35/100\n",
      "651/651 [==============================] - 6s 8ms/step - loss: 0.0284 - val_loss: 0.0354\n",
      "Epoch 36/100\n",
      "651/651 [==============================] - 5s 8ms/step - loss: 0.0274 - val_loss: 0.0346\n",
      "Epoch 37/100\n",
      "651/651 [==============================] - 5s 8ms/step - loss: 0.0262 - val_loss: 0.0329\n",
      "Epoch 38/100\n",
      "651/651 [==============================] - 5s 8ms/step - loss: 0.0273 - val_loss: 0.0324\n",
      "Epoch 39/100\n",
      "651/651 [==============================] - 5s 8ms/step - loss: 0.0261 - val_loss: 0.0306\n",
      "Epoch 40/100\n",
      "651/651 [==============================] - 5s 8ms/step - loss: 0.0266 - val_loss: 0.0297\n",
      "Epoch 41/100\n",
      "651/651 [==============================] - 5s 8ms/step - loss: 0.0264 - val_loss: 0.0311\n",
      "Epoch 42/100\n",
      "651/651 [==============================] - 5s 8ms/step - loss: 0.0256 - val_loss: 0.0352\n",
      "Epoch 43/100\n",
      "651/651 [==============================] - 5s 8ms/step - loss: 0.0247 - val_loss: 0.0310\n",
      "Epoch 44/100\n",
      "651/651 [==============================] - 5s 8ms/step - loss: 0.0257 - val_loss: 0.0321\n",
      "Epoch 45/100\n",
      "651/651 [==============================] - 5s 8ms/step - loss: 0.0252 - val_loss: 0.0335\n",
      "Epoch 46/100\n",
      "651/651 [==============================] - 5s 8ms/step - loss: 0.0257 - val_loss: 0.0307\n",
      "Epoch 47/100\n",
      "651/651 [==============================] - 5s 8ms/step - loss: 0.0241 - val_loss: 0.0336\n",
      "Epoch 48/100\n",
      "651/651 [==============================] - 5s 8ms/step - loss: 0.0243 - val_loss: 0.0305\n",
      "Restoring model weights from the end of the best epoch.\n",
      "Epoch 00048: early stopping\n"
     ]
    }
   ],
   "source": [
    "results_x = model_x.fit(x_train_list,\n",
    "                       yx_train,\n",
    "                       validation_data=(x_test_list, yx_test),\n",
    "                       epochs=N_EPOCHS,\n",
    "                       callbacks=cb)"
   ]
  },
  {
   "cell_type": "code",
   "execution_count": 13,
   "metadata": {
    "colab": {
     "base_uri": "https://localhost:8080/"
    },
    "executionInfo": {
     "elapsed": 116453,
     "status": "ok",
     "timestamp": 1635187995074,
     "user": {
      "displayName": "mostafa lotfi",
      "photoUrl": "https://lh3.googleusercontent.com/a-/AOh14Gj4ilTay6rvtZq-saddDY_b1Sar82sct4P4Z2d_Wg=s64",
      "userId": "11325640182532482321"
     },
     "user_tz": -210
    },
    "id": "uvBPkCQnXa5d",
    "outputId": "07b57c78-ef46-4dcb-d3c5-1dad26f1e615"
   },
   "outputs": [
    {
     "name": "stdout",
     "output_type": "stream",
     "text": [
      "Epoch 1/100\n",
      "651/651 [==============================] - 6s 9ms/step - loss: 0.1716 - val_loss: 0.1245\n",
      "Epoch 2/100\n",
      "651/651 [==============================] - 5s 8ms/step - loss: 0.1239 - val_loss: 0.1371\n",
      "Epoch 3/100\n",
      "651/651 [==============================] - 5s 8ms/step - loss: 0.1065 - val_loss: 0.0957\n",
      "Epoch 4/100\n",
      "651/651 [==============================] - 5s 8ms/step - loss: 0.0976 - val_loss: 0.1016\n",
      "Epoch 5/100\n",
      "651/651 [==============================] - 5s 8ms/step - loss: 0.0890 - val_loss: 0.0872\n",
      "Epoch 6/100\n",
      "651/651 [==============================] - 6s 8ms/step - loss: 0.0812 - val_loss: 0.0898\n",
      "Epoch 7/100\n",
      "651/651 [==============================] - 5s 8ms/step - loss: 0.0781 - val_loss: 0.0764\n",
      "Epoch 8/100\n",
      "651/651 [==============================] - 5s 8ms/step - loss: 0.0723 - val_loss: 0.0714\n",
      "Epoch 9/100\n",
      "651/651 [==============================] - 6s 8ms/step - loss: 0.0688 - val_loss: 0.0693\n",
      "Epoch 10/100\n",
      "651/651 [==============================] - 5s 8ms/step - loss: 0.0689 - val_loss: 0.0647\n",
      "Epoch 11/100\n",
      "651/651 [==============================] - 6s 8ms/step - loss: 0.0650 - val_loss: 0.0682\n",
      "Epoch 12/100\n",
      "651/651 [==============================] - 5s 8ms/step - loss: 0.0625 - val_loss: 0.0653\n",
      "Epoch 13/100\n",
      "651/651 [==============================] - 5s 8ms/step - loss: 0.0604 - val_loss: 0.0571\n",
      "Epoch 14/100\n",
      "651/651 [==============================] - 5s 8ms/step - loss: 0.0592 - val_loss: 0.0591\n",
      "Epoch 15/100\n",
      "651/651 [==============================] - 5s 8ms/step - loss: 0.0559 - val_loss: 0.0579\n",
      "Epoch 16/100\n",
      "651/651 [==============================] - 5s 8ms/step - loss: 0.0560 - val_loss: 0.0599\n",
      "Epoch 17/100\n",
      "651/651 [==============================] - 5s 8ms/step - loss: 0.0525 - val_loss: 0.0596\n",
      "Epoch 18/100\n",
      "651/651 [==============================] - 5s 8ms/step - loss: 0.0559 - val_loss: 0.0658\n",
      "Epoch 19/100\n",
      "651/651 [==============================] - 5s 8ms/step - loss: 0.0502 - val_loss: 0.0576\n",
      "Epoch 20/100\n",
      "651/651 [==============================] - 5s 8ms/step - loss: 0.0505 - val_loss: 0.0656\n",
      "Epoch 21/100\n",
      "651/651 [==============================] - 5s 8ms/step - loss: 0.0498 - val_loss: 0.0615\n",
      "Restoring model weights from the end of the best epoch.\n",
      "Epoch 00021: early stopping\n"
     ]
    }
   ],
   "source": [
    "results_y = model_y.fit(x_train_list,\n",
    "                      yy_train,\n",
    "                      validation_data=(x_test_list, yy_test),\n",
    "                      epochs=N_EPOCHS,\n",
    "                      callbacks=cb)"
   ]
  },
  {
   "cell_type": "code",
   "execution_count": 14,
   "metadata": {
    "executionInfo": {
     "elapsed": 4170,
     "status": "ok",
     "timestamp": 1635187999224,
     "user": {
      "displayName": "mostafa lotfi",
      "photoUrl": "https://lh3.googleusercontent.com/a-/AOh14Gj4ilTay6rvtZq-saddDY_b1Sar82sct4P4Z2d_Wg=s64",
      "userId": "11325640182532482321"
     },
     "user_tz": -210
    },
    "id": "Dx7vI5sieta_"
   },
   "outputs": [],
   "source": [
    "yx_hat_train = model_x.predict(x_train_list).reshape((n_train,))\n",
    "yx_hat_test = model_x.predict(x_test_list).reshape((n_test,))\n",
    "yy_hat_train = model_y.predict(x_train_list).reshape((n_train,))\n",
    "yy_hat_test = model_y.predict(x_test_list).reshape((n_test,))"
   ]
  },
  {
   "cell_type": "code",
   "execution_count": 15,
   "metadata": {
    "executionInfo": {
     "elapsed": 28,
     "status": "ok",
     "timestamp": 1635187999226,
     "user": {
      "displayName": "mostafa lotfi",
      "photoUrl": "https://lh3.googleusercontent.com/a-/AOh14Gj4ilTay6rvtZq-saddDY_b1Sar82sct4P4Z2d_Wg=s64",
      "userId": "11325640182532482321"
     },
     "user_tz": -210
    },
    "id": "Ka1IQTdEh3Y0"
   },
   "outputs": [],
   "source": [
    "yx_hat_train[yx_hat_train < 0] = 0\n",
    "yx_hat_test[yx_hat_test < 0] = 0\n",
    "yy_hat_train[yy_hat_train < 0] = 0\n",
    "yy_hat_test[yy_hat_test < 0] = 0"
   ]
  },
  {
   "cell_type": "code",
   "execution_count": 20,
   "metadata": {
    "colab": {
     "base_uri": "https://localhost:8080/",
     "height": 338
    },
    "executionInfo": {
     "elapsed": 821,
     "status": "ok",
     "timestamp": 1635188055775,
     "user": {
      "displayName": "mostafa lotfi",
      "photoUrl": "https://lh3.googleusercontent.com/a-/AOh14Gj4ilTay6rvtZq-saddDY_b1Sar82sct4P4Z2d_Wg=s64",
      "userId": "11325640182532482321"
     },
     "user_tz": -210
    },
    "id": "QldXGZ8Mfwvq",
    "outputId": "431d7220-a70c-425e-838c-0305c787b24c"
   },
   "outputs": [
    {
     "name": "stdout",
     "output_type": "stream",
     "text": [
      "Train\n",
      "(1198, 474)\n",
      "(1197, 470)\n",
      "Test\n",
      "(1797, 948)\n",
      "(1803, 924)\n"
     ]
    },
    {
     "data": {
      "text/plain": [
       "<matplotlib.image.AxesImage at 0x7f2d4ea17390>"
      ]
     },
     "execution_count": 20,
     "metadata": {},
     "output_type": "execute_result"
    },
    {
     "data": {
      "image/png": "[encoded data removed]",
      "text/plain": [
       "<Figure size 432x288 with 2 Axes>"
      ]
     },
     "metadata": {
      "needs_background": "light"
     },
     "output_type": "display_data"
    }
   ],
   "source": [
    "NUM = 1\n",
    "print(\"Train\")\n",
    "sample_train = (int(yx_train[NUM] * y_scalers[0]),\n",
    "                int(yy_train[NUM] * y_scalers[1]))\n",
    "sample_train_hat = (int(yx_hat_train[NUM] * y_scalers[0]),\n",
    "                    int(yy_hat_train[NUM] * y_scalers[1]))\n",
    "print(sample_train)\n",
    "print(sample_train_hat)\n",
    "\n",
    "print(\"Test\")\n",
    "sample_test = (int(yx_test[NUM] * y_scalers[0]),\n",
    "                int(yy_test[NUM] * y_scalers[1]))\n",
    "sample_test_hat = (int(yx_hat_test[NUM] * y_scalers[0]),\n",
    "                    int(yy_hat_test[NUM] * y_scalers[1]))\n",
    "print(sample_test)\n",
    "print(sample_test_hat)\n",
    "\n",
    "_, ax = plt.subplots(1,2)\n",
    "ax[0].imshow((x1_train[NUM] * x1_scaler).astype(np.uint8).\n",
    "           reshape((frame_height, frame_width)), cmap=\"gray\",vmin=0, vmax=255)\n",
    "ax[1].imshow((x1_test[NUM] * x1_scaler).astype(np.uint8).\n",
    "           reshape((frame_height, frame_width)), cmap=\"gray\",vmin=0, vmax=255)"
   ]
  },
  {
   "cell_type": "code",
   "execution_count": 17,
   "metadata": {
    "executionInfo": {
     "elapsed": 20,
     "status": "ok",
     "timestamp": 1635188000203,
     "user": {
      "displayName": "mostafa lotfi",
      "photoUrl": "https://lh3.googleusercontent.com/a-/AOh14Gj4ilTay6rvtZq-saddDY_b1Sar82sct4P4Z2d_Wg=s64",
      "userId": "11325640182532482321"
     },
     "user_tz": -210
    },
    "id": "RR4p1QPpjndQ"
   },
   "outputs": [],
   "source": [
    "# train_loss = np.abs(y_train - yhat_train).sum(0) / n_train\n",
    "# test_loss = np.abs(y_test - yhat_test).sum(0) / n_test"
   ]
  },
  {
   "cell_type": "code",
   "execution_count": 18,
   "metadata": {
    "colab": {
     "base_uri": "https://localhost:8080/"
    },
    "executionInfo": {
     "elapsed": 4519,
     "status": "ok",
     "timestamp": 1635188004705,
     "user": {
      "displayName": "mostafa lotfi",
      "photoUrl": "https://lh3.googleusercontent.com/a-/AOh14Gj4ilTay6rvtZq-saddDY_b1Sar82sct4P4Z2d_Wg=s64",
      "userId": "11325640182532482321"
     },
     "user_tz": -210
    },
    "id": "3W8EZ8WKj6tY",
    "outputId": "ebf7f839-5149-42ca-9b91-b1849a3a5408"
   },
   "outputs": [
    {
     "name": "stdout",
     "output_type": "stream",
     "text": [
      "INFO:tensorflow:Assets written to: /content/drive/MyDrive/Projects/EyeTracker/models/eye_tracking/trained/model4_x/assets\n",
      "INFO:tensorflow:Assets written to: /content/drive/MyDrive/Projects/EyeTracker/models/eye_tracking/trained/model4_y/assets\n"
     ]
    }
   ],
   "source": [
    "model_x.save(trained_models_dir + f\"model{MODEL_NUM}_x\")\n",
    "model_y.save(trained_models_dir + f\"model{MODEL_NUM}_y\")"
   ]
  }
 ],
 "metadata": {
  "colab": {
   "authorship_tag": "ABX9TyMY4NWaEvtkF3REw/NqlsNF",
   "collapsed_sections": [],
   "mount_file_id": "1or6iKXWVL21Mmt0-6Oglav0D06qcPg9h",
   "name": "tr_2mdl_et_35p.ipynb",
   "provenance": []
  },
  "kernelspec": {
   "display_name": "Python 3 (ipykernel)",
   "language": "python",
   "name": "python3"
  },
  "language_info": {
   "codemirror_mode": {
    "name": "ipython",
    "version": 3
   },
   "file_extension": ".py",
   "mimetype": "text/x-python",
   "name": "python",
   "nbconvert_exporter": "python",
   "pygments_lexer": "ipython3",
   "version": "3.9.6"
  }
 },
 "nbformat": 4,
 "nbformat_minor": 1
}
