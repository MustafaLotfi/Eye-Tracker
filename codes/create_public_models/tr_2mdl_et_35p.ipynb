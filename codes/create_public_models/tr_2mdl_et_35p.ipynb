{
 "cells": [
  {
   "cell_type": "code",
   "execution_count": 1,
   "metadata": {
    "executionInfo": {
     "elapsed": 3198,
     "status": "ok",
     "timestamp": 1635187562932,
     "user": {
      "displayName": "mostafa lotfi",
      "photoUrl": "https://lh3.googleusercontent.com/a-/AOh14Gj4ilTay6rvtZq-saddDY_b1Sar82sct4P4Z2d_Wg=s64",
      "userId": "11325640182532482321"
     },
     "user_tz": -210
    },
    "id": "Ks_AbdKIb-xZ"
   },
   "outputs": [],
   "source": [
    "from tensorflow.keras.callbacks import EarlyStopping\n",
    "from tensorflow.keras.models import load_model\n",
    "from sklearn.preprocessing import StandardScaler\n",
    "import numpy as np\n",
    "import pickle\n",
    "from sklearn.utils import shuffle\n",
    "from joblib import dump as j_dump\n",
    "from joblib import load as j_load\n",
    "import time\n",
    "import random\n",
    "import os"
   ]
  },
  {
   "cell_type": "code",
   "execution_count": 2,
   "metadata": {},
   "outputs": [],
   "source": [
    "# # Uncomment this box if the file is in google drive\n",
    "# # Create your own direcotry in your google drive and change path2root var.\n",
    "# path2root = \"/content/drive/MyDrive/Projects/EyeTracker/\""
   ]
  },
  {
   "cell_type": "code",
   "execution_count": 3,
   "metadata": {},
   "outputs": [],
   "source": [
    "# Uncomment this box if the file is in your local directory\n",
    "path2root = \"../../\""
   ]
  },
  {
   "cell_type": "code",
   "execution_count": 4,
   "metadata": {
    "executionInfo": {
     "elapsed": 19,
     "status": "ok",
     "timestamp": 1635187562934,
     "user": {
      "displayName": "mostafa lotfi",
      "photoUrl": "https://lh3.googleusercontent.com/a-/AOh14Gj4ilTay6rvtZq-saddDY_b1Sar82sct4P4Z2d_Wg=s64",
      "userId": "11325640182532482321"
     },
     "user_tz": -210
    },
    "id": "T5XUNQBvcGf6"
   },
   "outputs": [],
   "source": [
    "models_fol = \"models/\"\n",
    "models_et_fol = \"et/\"\n",
    "raw_fol = \"raw/\"\n",
    "trained_fol = \"trained/\"\n",
    "selected_model_num = 1\n",
    "subjects_fol = \"subjects/\"\n",
    "sbj_scalers_ibo_name = \"scalers-ibo.bin\"\n",
    "sbj_model_ibo_name = \"model-ibo\"\n",
    "n_subjects = 5\n",
    "data_et_fol = \"data-et-clb/\"\n",
    "chosen_inputs = [0, 1, 2, 6, 7, 8, 9]\n",
    "n_subjects = 5\n",
    "r_train = 0.85\n",
    "n_epochs = 2\n",
    "patience = 1\n",
    "min_brightness_ratio = 0.6\n",
    "max_brightness_ratio = 1.6"
   ]
  },
  {
   "cell_type": "code",
   "execution_count": 5,
   "metadata": {
    "colab": {
     "base_uri": "https://localhost:8080/"
    },
    "executionInfo": {
     "elapsed": 6908,
     "status": "ok",
     "timestamp": 1635187569827,
     "user": {
      "displayName": "mostafa lotfi",
      "photoUrl": "https://lh3.googleusercontent.com/a-/AOh14Gj4ilTay6rvtZq-saddDY_b1Sar82sct4P4Z2d_Wg=s64",
      "userId": "11325640182532482321"
     },
     "user_tz": -210
    },
    "id": "W471W2kGcGct",
    "outputId": "5c8ff985-7bbe-4ed8-9c8c-cdf5a56424c3"
   },
   "outputs": [
    {
     "name": "stdout",
     "output_type": "stream",
     "text": [
      "24500 48 44\n"
     ]
    }
   ],
   "source": [
    "x1_load = []\n",
    "x2_load = []\n",
    "y_load = []\n",
    "subjects_dir = path2root + subjects_fol\n",
    "\n",
    "for sbj in range(1, n_subjects+1):\n",
    "    sbj_dir = subjects_dir + f\"{sbj}/\"\n",
    "    sbj_model_ibo_dir = sbj_dir + sbj_model_ibo_name\n",
    "    sbj_scalers_ibo_dir = sbj_dir + sbj_scalers_ibo_name\n",
    "    data_et_dir = sbj_dir + data_et_fol\n",
    "    \n",
    "    with open(data_et_dir + \"x1.pickle\", \"rb\") as f:\n",
    "        sbj_x1_load = pickle.load(f)\n",
    "    with open(data_et_dir + \"x2.pickle\", \"rb\") as f:\n",
    "        sbj_x2_load = pickle.load(f)\n",
    "    with open(data_et_dir + \"y.pickle\", \"rb\") as f:\n",
    "        sbj_y_load = pickle.load(f)\n",
    "    \n",
    "    sbj_x2_chs_inp = sbj_x2_load[:, chosen_inputs]\n",
    "    sbj_scalers_ibo = j_load(sbj_scalers_ibo_dir)\n",
    "    sbj_x1_scaler_ibo, sbj_x2_scaler_ibo = sbj_scalers_ibo\n",
    "    sbj_x1 = sbj_x1_load / sbj_x1_scaler_ibo\n",
    "    sbj_x2 = sbj_x2_scaler_ibo.transform(sbj_x2_chs_inp)\n",
    "    \n",
    "    sbj_model_ibo = load_model(sbj_model_ibo_dir)\n",
    "    \n",
    "    sbj_yhat_ibo = sbj_model_ibo.predict([sbj_x1, sbj_x2]).argmax(1)\n",
    "    \n",
    "    for (x10, x20, y0, yht0) in zip(sbj_x1_load, sbj_x2_load, sbj_y_load, sbj_yhat_ibo):\n",
    "        if True:  # yht0 != 0:\n",
    "            x1_load.append(x10)\n",
    "            x2_load.append(x20)\n",
    "            y_load.append(y0)\n",
    "\n",
    "x1_load = np.array(x1_load)\n",
    "x2_load = np.array(x2_load)\n",
    "y_load = np.array(y_load)\n",
    "\n",
    "n_smp, frame_h, frame_w = x1_load.shape[:-1]\n",
    "print(n_smp, frame_h, frame_w)"
   ]
  },
  {
   "cell_type": "code",
   "execution_count": 6,
   "metadata": {
    "executionInfo": {
     "elapsed": 916,
     "status": "ok",
     "timestamp": 1635187570734,
     "user": {
      "displayName": "mostafa lotfi",
      "photoUrl": "https://lh3.googleusercontent.com/a-/AOh14Gj4ilTay6rvtZq-saddDY_b1Sar82sct4P4Z2d_Wg=s64",
      "userId": "11325640182532482321"
     },
     "user_tz": -210
    },
    "id": "iGCJnYPQcGZW"
   },
   "outputs": [],
   "source": [
    "x1_chg_bri = x1_load.copy()\n",
    "for (i, _) in enumerate(x1_chg_bri):\n",
    "    r = random.uniform(min_brightness_ratio, max_brightness_ratio)\n",
    "    x1_chg_bri[i] = (x1_chg_bri[i] * r).astype(np.uint8)"
   ]
  },
  {
   "cell_type": "code",
   "execution_count": 7,
   "metadata": {
    "executionInfo": {
     "elapsed": 45,
     "status": "ok",
     "timestamp": 1635187570736,
     "user": {
      "displayName": "mostafa lotfi",
      "photoUrl": "https://lh3.googleusercontent.com/a-/AOh14Gj4ilTay6rvtZq-saddDY_b1Sar82sct4P4Z2d_Wg=s64",
      "userId": "11325640182532482321"
     },
     "user_tz": -210
    },
    "id": "oiA8EMH-cGV5"
   },
   "outputs": [],
   "source": [
    "x2_chs_inp = x2_load[:, chosen_inputs]"
   ]
  },
  {
   "cell_type": "code",
   "execution_count": 8,
   "metadata": {
    "executionInfo": {
     "elapsed": 41,
     "status": "ok",
     "timestamp": 1635187570739,
     "user": {
      "displayName": "mostafa lotfi",
      "photoUrl": "https://lh3.googleusercontent.com/a-/AOh14Gj4ilTay6rvtZq-saddDY_b1Sar82sct4P4Z2d_Wg=s64",
      "userId": "11325640182532482321"
     },
     "user_tz": -210
    },
    "id": "mYmxzj3eYgA_"
   },
   "outputs": [],
   "source": [
    "import matplotlib.pyplot as plt"
   ]
  },
  {
   "cell_type": "code",
   "execution_count": 9,
   "metadata": {
    "colab": {
     "base_uri": "https://localhost:8080/",
     "height": 319
    },
    "executionInfo": {
     "elapsed": 38,
     "status": "ok",
     "timestamp": 1635187570741,
     "user": {
      "displayName": "mostafa lotfi",
      "photoUrl": "https://lh3.googleusercontent.com/a-/AOh14Gj4ilTay6rvtZq-saddDY_b1Sar82sct4P4Z2d_Wg=s64",
      "userId": "11325640182532482321"
     },
     "user_tz": -210
    },
    "id": "cQCtiUVrcGTE",
    "outputId": "11ef1af3-4e62-40f3-bd5f-6e015b11c611"
   },
   "outputs": [
    {
     "name": "stdout",
     "output_type": "stream",
     "text": [
      "[-2.92097984  0.01450496 -0.1692337   0.51821423  0.47875661  0.51987594\n",
      "  0.49142322]\n",
      "[2995.  948.]\n"
     ]
    },
    {
     "data": {
      "image/png": "[encoded data removed]",
      "text/plain": [
       "<Figure size 432x288 with 1 Axes>"
      ]
     },
     "metadata": {
      "needs_background": "light"
     },
     "output_type": "display_data"
    }
   ],
   "source": [
    "smp_num = 2\n",
    "print(x2_chs_inp[smp_num])\n",
    "print(y_load[smp_num])\n",
    "plt.imshow(x1_chg_bri[smp_num].reshape((frame_h, frame_w)),\n",
    "           cmap=\"gray\", vmin=0, vmax=255)\n",
    "plt.show()"
   ]
  },
  {
   "cell_type": "code",
   "execution_count": 10,
   "metadata": {
    "colab": {
     "base_uri": "https://localhost:8080/"
    },
    "executionInfo": {
     "elapsed": 474,
     "status": "ok",
     "timestamp": 1635187571195,
     "user": {
      "displayName": "mostafa lotfi",
      "photoUrl": "https://lh3.googleusercontent.com/a-/AOh14Gj4ilTay6rvtZq-saddDY_b1Sar82sct4P4Z2d_Wg=s64",
      "userId": "11325640182532482321"
     },
     "user_tz": -210
    },
    "id": "eh_Zk28FcGQM",
    "outputId": "c0e12270-e4b8-4b19-bb19-b80377a2b0a3"
   },
   "outputs": [],
   "source": [
    "x1_scaler = 255\n",
    "x1 = x1_chg_bri / x1_scaler\n",
    "\n",
    "x2_scaler = StandardScaler()\n",
    "x2 = x2_scaler.fit_transform(x2_chs_inp)\n",
    "\n",
    "y_scalers = y_load.max(0)\n",
    "y = y_load / y_scalers\n",
    "\n",
    "scalers = [x1_scaler, x2_scaler, y_scalers]"
   ]
  },
  {
   "cell_type": "code",
   "execution_count": 11,
   "metadata": {
    "colab": {
     "base_uri": "https://localhost:8080/"
    },
    "executionInfo": {
     "elapsed": 36,
     "status": "ok",
     "timestamp": 1635187571197,
     "user": {
      "displayName": "mostafa lotfi",
      "photoUrl": "https://lh3.googleusercontent.com/a-/AOh14Gj4ilTay6rvtZq-saddDY_b1Sar82sct4P4Z2d_Wg=s64",
      "userId": "11325640182532482321"
     },
     "user_tz": -210
    },
    "id": "GbNgiHNOcGKq",
    "outputId": "dcf355ee-da9d-41ed-830c-0eb2bb96c3a1"
   },
   "outputs": [
    {
     "name": "stdout",
     "output_type": "stream",
     "text": [
      "(20825, 48, 44, 1) (3675, 48, 44, 1) (20825,) (3675,) (20825, 7) (3675, 7) (20825,) (3675,)\n"
     ]
    }
   ],
   "source": [
    "x1_shf, x2_shf, y_hrz_shf, y_vrt_shf = shuffle(x1, x2, y[:, 0], y[:, 1])\n",
    "\n",
    "n_train = int(r_train * n_smp)\n",
    "n_test = n_smp - n_train\n",
    "x1_train, x2_train = x1_shf[:n_train], x2_shf[:n_train]\n",
    "x1_test, x2_test = x1_shf[n_train:], x2_shf[n_train:]\n",
    "y_hrz_train, y_vrt_train = y_hrz_shf[:n_train], y_vrt_shf[:n_train]\n",
    "y_hrz_test, y_vrt_test = y_hrz_shf[n_train:], y_vrt_shf[n_train:]\n",
    "\n",
    "x_train_list = [x1_train, x2_train]\n",
    "x_test_list = [x1_test, x2_test]\n",
    "\n",
    "print(x1_train.shape, x1_test.shape, y_hrz_train.shape, y_hrz_test.shape,\n",
    "      x2_train.shape, x2_test.shape, y_vrt_train.shape, y_vrt_test.shape)"
   ]
  },
  {
   "cell_type": "code",
   "execution_count": 12,
   "metadata": {
    "executionInfo": {
     "elapsed": 22,
     "status": "ok",
     "timestamp": 1635187571199,
     "user": {
      "displayName": "mostafa lotfi",
      "photoUrl": "https://lh3.googleusercontent.com/a-/AOh14Gj4ilTay6rvtZq-saddDY_b1Sar82sct4P4Z2d_Wg=s64",
      "userId": "11325640182532482321"
     },
     "user_tz": -210
    },
    "id": "hasap1QZcpoy"
   },
   "outputs": [],
   "source": [
    "cb = EarlyStopping(patience=patience, verbose=1, restore_best_weights=True)"
   ]
  },
  {
   "cell_type": "code",
   "execution_count": 13,
   "metadata": {
    "colab": {
     "base_uri": "https://localhost:8080/"
    },
    "executionInfo": {
     "elapsed": 9811,
     "status": "ok",
     "timestamp": 1635187580994,
     "user": {
      "displayName": "mostafa lotfi",
      "photoUrl": "https://lh3.googleusercontent.com/a-/AOh14Gj4ilTay6rvtZq-saddDY_b1Sar82sct4P4Z2d_Wg=s64",
      "userId": "11325640182532482321"
     },
     "user_tz": -210
    },
    "id": "QrUF35MNcpl6",
    "outputId": "fe32559c-00b8-4b65-f627-94c3be3bd2aa"
   },
   "outputs": [
    {
     "name": "stdout",
     "output_type": "stream",
     "text": [
      "Model: \"model\"\n",
      "__________________________________________________________________________________________________\n",
      "Layer (type)                    Output Shape         Param #     Connected to                     \n",
      "==================================================================================================\n",
      "input_1 (InputLayer)            [(None, 48, 44, 1)]  0                                            \n",
      "__________________________________________________________________________________________________\n",
      "conv2d (Conv2D)                 (None, 48, 44, 16)   416         input_1[0][0]                    \n",
      "__________________________________________________________________________________________________\n",
      "max_pooling2d (MaxPooling2D)    (None, 24, 22, 16)   0           conv2d[0][0]                     \n",
      "__________________________________________________________________________________________________\n",
      "conv2d_1 (Conv2D)               (None, 24, 22, 32)   12832       max_pooling2d[0][0]              \n",
      "__________________________________________________________________________________________________\n",
      "max_pooling2d_1 (MaxPooling2D)  (None, 12, 11, 32)   0           conv2d_1[0][0]                   \n",
      "__________________________________________________________________________________________________\n",
      "conv2d_2 (Conv2D)               (None, 10, 9, 64)    18496       max_pooling2d_1[0][0]            \n",
      "__________________________________________________________________________________________________\n",
      "max_pooling2d_2 (MaxPooling2D)  (None, 5, 4, 64)     0           conv2d_2[0][0]                   \n",
      "__________________________________________________________________________________________________\n",
      "flatten (Flatten)               (None, 1280)         0           max_pooling2d_2[0][0]            \n",
      "__________________________________________________________________________________________________\n",
      "dense (Dense)                   (None, 400)          512400      flatten[0][0]                    \n",
      "__________________________________________________________________________________________________\n",
      "input_2 (InputLayer)            [(None, 7)]          0                                            \n",
      "__________________________________________________________________________________________________\n",
      "concatenate (Concatenate)       (None, 407)          0           dense[0][0]                      \n",
      "                                                                 input_2[0][0]                    \n",
      "__________________________________________________________________________________________________\n",
      "dense_1 (Dense)                 (None, 180)          73440       concatenate[0][0]                \n",
      "__________________________________________________________________________________________________\n",
      "dense_2 (Dense)                 (None, 50)           9050        dense_1[0][0]                    \n",
      "__________________________________________________________________________________________________\n",
      "dense_3 (Dense)                 (None, 16)           816         dense_2[0][0]                    \n",
      "__________________________________________________________________________________________________\n",
      "dense_4 (Dense)                 (None, 2)            34          dense_3[0][0]                    \n",
      "__________________________________________________________________________________________________\n",
      "dense_5 (Dense)                 (None, 1)            3           dense_4[0][0]                    \n",
      "==================================================================================================\n",
      "Total params: 627,487\n",
      "Trainable params: 627,487\n",
      "Non-trainable params: 0\n",
      "__________________________________________________________________________________________________\n",
      "None\n"
     ]
    }
   ],
   "source": [
    "raw_models_dir = path2root + models_fol + models_et_fol + raw_fol\n",
    "model_hrz = load_model(raw_models_dir + f\"model{selected_model_num}-hrz\")\n",
    "model_vrt = load_model(raw_models_dir + f\"model{selected_model_num}-vrt\")\n",
    "print(model_hrz.summary())"
   ]
  },
  {
   "cell_type": "code",
   "execution_count": 14,
   "metadata": {
    "colab": {
     "base_uri": "https://localhost:8080/"
    },
    "executionInfo": {
     "elapsed": 297649,
     "status": "ok",
     "timestamp": 1635187878629,
     "user": {
      "displayName": "mostafa lotfi",
      "photoUrl": "https://lh3.googleusercontent.com/a-/AOh14Gj4ilTay6rvtZq-saddDY_b1Sar82sct4P4Z2d_Wg=s64",
      "userId": "11325640182532482321"
     },
     "user_tz": -210
    },
    "id": "MRSpklK-emfB",
    "outputId": "8eca8aae-b30c-4b7f-a837-5799a2b0058e"
   },
   "outputs": [
    {
     "name": "stdout",
     "output_type": "stream",
     "text": [
      "Epoch 1/2\n",
      "651/651 [==============================] - 31s 46ms/step - loss: 0.3554 - val_loss: 0.2981\n",
      "Epoch 2/2\n",
      "651/651 [==============================] - 29s 45ms/step - loss: 0.2886 - val_loss: 0.2845\n"
     ]
    }
   ],
   "source": [
    "results_hrz = model_hrz.fit(x_train_list,\n",
    "                            y_hrz_train,\n",
    "                            validation_data=(x_test_list, y_hrz_test),\n",
    "                            epochs=n_epochs,\n",
    "                            callbacks=cb)"
   ]
  },
  {
   "cell_type": "code",
   "execution_count": 15,
   "metadata": {
    "colab": {
     "base_uri": "https://localhost:8080/"
    },
    "executionInfo": {
     "elapsed": 116453,
     "status": "ok",
     "timestamp": 1635187995074,
     "user": {
      "displayName": "mostafa lotfi",
      "photoUrl": "https://lh3.googleusercontent.com/a-/AOh14Gj4ilTay6rvtZq-saddDY_b1Sar82sct4P4Z2d_Wg=s64",
      "userId": "11325640182532482321"
     },
     "user_tz": -210
    },
    "id": "uvBPkCQnXa5d",
    "outputId": "07b57c78-ef46-4dcb-d3c5-1dad26f1e615"
   },
   "outputs": [
    {
     "name": "stdout",
     "output_type": "stream",
     "text": [
      "Epoch 1/2\n",
      "651/651 [==============================] - 31s 46ms/step - loss: 0.3699 - val_loss: 0.3233\n",
      "Epoch 2/2\n",
      "651/651 [==============================] - 31s 47ms/step - loss: 0.3024 - val_loss: 0.3018\n"
     ]
    }
   ],
   "source": [
    "results_vrt = model_vrt.fit(x_train_list,\n",
    "                            y_vrt_train,\n",
    "                            validation_data=(x_test_list, y_vrt_test),\n",
    "                            epochs=n_epochs,\n",
    "                            callbacks=cb)"
   ]
  },
  {
   "cell_type": "code",
   "execution_count": 16,
   "metadata": {
    "executionInfo": {
     "elapsed": 4170,
     "status": "ok",
     "timestamp": 1635187999224,
     "user": {
      "displayName": "mostafa lotfi",
      "photoUrl": "https://lh3.googleusercontent.com/a-/AOh14Gj4ilTay6rvtZq-saddDY_b1Sar82sct4P4Z2d_Wg=s64",
      "userId": "11325640182532482321"
     },
     "user_tz": -210
    },
    "id": "Dx7vI5sieta_"
   },
   "outputs": [],
   "source": [
    "y_hrz_hat_train = model_hrz.predict(x_train_list).reshape((n_train,))\n",
    "y_hrz_hat_test = model_hrz.predict(x_test_list).reshape((n_test,))\n",
    "y_vrt_hat_train = model_vrt.predict(x_train_list).reshape((n_train,))\n",
    "y_vrt_hat_test = model_vrt.predict(x_test_list).reshape((n_test,))"
   ]
  },
  {
   "cell_type": "code",
   "execution_count": 17,
   "metadata": {
    "executionInfo": {
     "elapsed": 28,
     "status": "ok",
     "timestamp": 1635187999226,
     "user": {
      "displayName": "mostafa lotfi",
      "photoUrl": "https://lh3.googleusercontent.com/a-/AOh14Gj4ilTay6rvtZq-saddDY_b1Sar82sct4P4Z2d_Wg=s64",
      "userId": "11325640182532482321"
     },
     "user_tz": -210
    },
    "id": "Ka1IQTdEh3Y0"
   },
   "outputs": [],
   "source": [
    "min_out_ratio = 0.005\n",
    "min_out_ratio = 0.995\n",
    "\n",
    "y_hrz_hat_train[y_hrz_hat_train < min_out_ratio] = min_out_ratio\n",
    "y_hrz_hat_test[y_hrz_hat_test < min_out_ratio] = min_out_ratio\n",
    "y_vrt_hat_train[y_vrt_hat_train < min_out_ratio] = min_out_ratio\n",
    "y_vrt_hat_test[y_vrt_hat_test < min_out_ratio] = min_out_ratio\n",
    "\n",
    "y_hrz_hat_train[y_hrz_hat_train > min_out_ratio] = min_out_ratio\n",
    "y_hrz_hat_test[y_hrz_hat_test > min_out_ratio] = min_out_ratio\n",
    "y_vrt_hat_train[y_vrt_hat_train > min_out_ratio] = min_out_ratio\n",
    "y_vrt_hat_test[y_vrt_hat_test > min_out_ratio] = min_out_ratio"
   ]
  },
  {
   "cell_type": "code",
   "execution_count": 20,
   "metadata": {
    "colab": {
     "base_uri": "https://localhost:8080/",
     "height": 338
    },
    "executionInfo": {
     "elapsed": 821,
     "status": "ok",
     "timestamp": 1635188055775,
     "user": {
      "displayName": "mostafa lotfi",
      "photoUrl": "https://lh3.googleusercontent.com/a-/AOh14Gj4ilTay6rvtZq-saddDY_b1Sar82sct4P4Z2d_Wg=s64",
      "userId": "11325640182532482321"
     },
     "user_tz": -210
    },
    "id": "QldXGZ8Mfwvq",
    "outputId": "431d7220-a70c-425e-838c-0305c787b24c"
   },
   "outputs": [
    {
     "name": "stdout",
     "output_type": "stream",
     "text": [
      "Train\n",
      "(0, 1896)\n",
      "(3576, 1886)\n",
      "Test\n",
      "(1797, 948)\n",
      "(3576, 1886)\n"
     ]
    },
    {
     "data": {
      "text/plain": [
       "<matplotlib.image.AxesImage at 0x1738678c970>"
      ]
     },
     "execution_count": 20,
     "metadata": {},
     "output_type": "execute_result"
    },
    {
     "data": {
      "image/png": "[encoded data removed]",
      "text/plain": [
       "<Figure size 432x288 with 2 Axes>"
      ]
     },
     "metadata": {
      "needs_background": "light"
     },
     "output_type": "display_data"
    }
   ],
   "source": [
    "NUM = 1\n",
    "print(\"Train\")\n",
    "sample_train = (int(y_hrz_train[NUM] * y_scalers[0]),\n",
    "                int(y_vrt_train[NUM] * y_scalers[1]))\n",
    "sample_train_hat = (int(y_hrz_hat_train[NUM] * y_scalers[0]),\n",
    "                    int(y_vrt_hat_train[NUM] * y_scalers[1]))\n",
    "print(sample_train)\n",
    "print(sample_train_hat)\n",
    "\n",
    "print(\"Test\")\n",
    "sample_test = (int(y_hrz_test[NUM] * y_scalers[0]),\n",
    "                int(y_vrt_test[NUM] * y_scalers[1]))\n",
    "sample_test_hat = (int(y_hrz_hat_test[NUM] * y_scalers[0]),\n",
    "                    int(y_vrt_hat_test[NUM] * y_scalers[1]))\n",
    "print(sample_test)\n",
    "print(sample_test_hat)\n",
    "\n",
    "_, ax = plt.subplots(1,2)\n",
    "ax[0].imshow((x1_train[NUM] * x1_scaler).astype(np.uint8).\n",
    "           reshape((frame_h, frame_w)), cmap=\"gray\",vmin=0, vmax=255)\n",
    "ax[1].imshow((x1_test[NUM] * x1_scaler).astype(np.uint8).\n",
    "           reshape((frame_h, frame_w)), cmap=\"gray\",vmin=0, vmax=255)"
   ]
  },
  {
   "cell_type": "code",
   "execution_count": null,
   "metadata": {
    "executionInfo": {
     "elapsed": 20,
     "status": "ok",
     "timestamp": 1635188000203,
     "user": {
      "displayName": "mostafa lotfi",
      "photoUrl": "https://lh3.googleusercontent.com/a-/AOh14Gj4ilTay6rvtZq-saddDY_b1Sar82sct4P4Z2d_Wg=s64",
      "userId": "11325640182532482321"
     },
     "user_tz": -210
    },
    "id": "RR4p1QPpjndQ"
   },
   "outputs": [],
   "source": [
    "# train_loss = np.abs(y_train - yhat_train).sum(0) / n_train\n",
    "# test_loss = np.abs(y_test - yhat_test).sum(0) / n_test"
   ]
  },
  {
   "cell_type": "code",
   "execution_count": 21,
   "metadata": {},
   "outputs": [],
   "source": [
    "trained_dir = path2root + models_fol + models_et_fol + trained_fol\n",
    "if not os.path.exists(trained_dir):\n",
    "    os.mkdir(trained_dir)"
   ]
  },
  {
   "cell_type": "code",
   "execution_count": 23,
   "metadata": {
    "colab": {
     "base_uri": "https://localhost:8080/"
    },
    "executionInfo": {
     "elapsed": 4519,
     "status": "ok",
     "timestamp": 1635188004705,
     "user": {
      "displayName": "mostafa lotfi",
      "photoUrl": "https://lh3.googleusercontent.com/a-/AOh14Gj4ilTay6rvtZq-saddDY_b1Sar82sct4P4Z2d_Wg=s64",
      "userId": "11325640182532482321"
     },
     "user_tz": -210
    },
    "id": "3W8EZ8WKj6tY",
    "outputId": "ebf7f839-5149-42ca-9b91-b1849a3a5408"
   },
   "outputs": [
    {
     "name": "stdout",
     "output_type": "stream",
     "text": [
      "INFO:tensorflow:Assets written to: ../../models/et/trained/model2-hrz\\assets\n",
      "INFO:tensorflow:Assets written to: ../../models/et/trained/model2-vrt\\assets\n"
     ]
    },
    {
     "data": {
      "text/plain": [
       "['../../models/et/trained/scalers2.bin']"
      ]
     },
     "execution_count": 23,
     "metadata": {},
     "output_type": "execute_result"
    }
   ],
   "source": [
    "models_numbers = []\n",
    "models_name = os.listdir(trained_dir)\n",
    "if models_name:\n",
    "    for mn in models_name:\n",
    "        if mn[:5] == \"model\":\n",
    "            mn0 = int(mn[5:6])\n",
    "            models_numbers.append(mn0)\n",
    "    max_num = max(models_numbers)\n",
    "else:\n",
    "    max_num = 0\n",
    "\n",
    "model_hrz.save(trained_dir + f\"model{max_num+1}-hrz\")\n",
    "model_vrt.save(trained_dir + f\"model{max_num+1}-vrt\")\n",
    "\n",
    "scalers_dir = path2root + models_fol + models_et_fol + trained_fol + f\"scalers{max_num+1}.bin\"\n",
    "j_dump(scalers, scalers_dir)"
   ]
  }
 ],
 "metadata": {
  "colab": {
   "authorship_tag": "ABX9TyMY4NWaEvtkF3REw/NqlsNF",
   "collapsed_sections": [],
   "mount_file_id": "1or6iKXWVL21Mmt0-6Oglav0D06qcPg9h",
   "name": "tr_2mdl_et_35p.ipynb",
   "provenance": []
  },
  "kernelspec": {
   "display_name": "venv",
   "language": "python",
   "name": "venv"
  },
  "language_info": {
   "codemirror_mode": {
    "name": "ipython",
    "version": 3
   },
   "file_extension": ".py",
   "mimetype": "text/x-python",
   "name": "python",
   "nbconvert_exporter": "python",
   "pygments_lexer": "ipython3",
   "version": "3.9.6"
  }
 },
 "nbformat": 4,
 "nbformat_minor": 1
}
