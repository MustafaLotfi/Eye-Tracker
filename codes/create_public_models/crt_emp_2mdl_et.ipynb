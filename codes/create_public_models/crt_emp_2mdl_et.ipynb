{
 "cells": [
  {
   "cell_type": "code",
   "execution_count": 1,
   "metadata": {
    "executionInfo": {
     "elapsed": 3227,
     "status": "ok",
     "timestamp": 1635187414445,
     "user": {
      "displayName": "mostafa lotfi",
      "photoUrl": "https://lh3.googleusercontent.com/a-/AOh14Gj4ilTay6rvtZq-saddDY_b1Sar82sct4P4Z2d_Wg=s64",
      "userId": "11325640182532482321"
     },
     "user_tz": -210
    },
    "id": "gdpcJ0ywSIY8"
   },
   "outputs": [],
   "source": [
    "from tensorflow.keras.layers import (Input, Conv2D, Flatten, MaxPooling2D,\n",
    "                                     Dense, Dropout, Concatenate)\n",
    "from tensorflow.keras.models import Model\n",
    "from tensorflow.keras.utils import plot_model\n",
    "import numpy as np\n",
    "import os\n",
    "import pickle"
   ]
  },
  {
   "cell_type": "code",
   "execution_count": 2,
   "metadata": {},
   "outputs": [],
   "source": [
    "# # Uncomment this box if the file is in google colab\n",
    "# path2root = \"/content/drive/MyDrive/Projects/EyeTracker/\""
   ]
  },
  {
   "cell_type": "code",
   "execution_count": 3,
   "metadata": {},
   "outputs": [],
   "source": [
    "# Uncomment this box if the file is in your local directory\n",
    "path2root = \"../../\""
   ]
  },
  {
   "cell_type": "code",
   "execution_count": 4,
   "metadata": {
    "executionInfo": {
     "elapsed": 23,
     "status": "ok",
     "timestamp": 1635187414448,
     "user": {
      "displayName": "mostafa lotfi",
      "photoUrl": "https://lh3.googleusercontent.com/a-/AOh14Gj4ilTay6rvtZq-saddDY_b1Sar82sct4P4Z2d_Wg=s64",
      "userId": "11325640182532482321"
     },
     "user_tz": -210
    },
    "id": "YGlf78zqN8xb"
   },
   "outputs": [],
   "source": [
    "subjects_fol = \"subjects/\"\n",
    "data_et_fol = \"data-et-clb/\"\n",
    "models_fol = \"models/\"\n",
    "models_et_fol = \"et/\"\n",
    "raw_fol = \"raw/\"\n",
    "chosen_inputs = [0, 1, 2, 6, 7, 8, 9]"
   ]
  },
  {
   "cell_type": "code",
   "execution_count": 5,
   "metadata": {
    "executionInfo": {
     "elapsed": 1441,
     "status": "ok",
     "timestamp": 1635187415872,
     "user": {
      "displayName": "mostafa lotfi",
      "photoUrl": "https://lh3.googleusercontent.com/a-/AOh14Gj4ilTay6rvtZq-saddDY_b1Sar82sct4P4Z2d_Wg=s64",
      "userId": "11325640182532482321"
     },
     "user_tz": -210
    },
    "id": "wIrwyDFyQpof"
   },
   "outputs": [],
   "source": [
    "data_et_dir = path2root + subjects_fol + f\"{1}/\" + data_et_fol\n",
    "\n",
    "with open(data_et_dir + \"x1.pickle\", \"rb\") as f:\n",
    "    x1 = pickle.load(f)\n",
    "with open(data_et_dir + \"x2.pickle\", \"rb\") as f:\n",
    "    x2 = pickle.load(f)\n",
    "with open(data_et_dir + \"y.pickle\", \"rb\") as f:\n",
    "    y = pickle.load(f)\n",
    "\n",
    "x2_chs_inp = x2[:, chosen_inputs]"
   ]
  },
  {
   "cell_type": "code",
   "execution_count": 6,
   "metadata": {
    "colab": {
     "base_uri": "https://localhost:8080/"
    },
    "executionInfo": {
     "elapsed": 944,
     "status": "ok",
     "timestamp": 1635187416811,
     "user": {
      "displayName": "mostafa lotfi",
      "photoUrl": "https://lh3.googleusercontent.com/a-/AOh14Gj4ilTay6rvtZq-saddDY_b1Sar82sct4P4Z2d_Wg=s64",
      "userId": "11325640182532482321"
     },
     "user_tz": -210
    },
    "id": "4PX0-j2gRhWL",
    "outputId": "7bc4570b-7576-48c6-9455-845aa581d904"
   },
   "outputs": [
    {
     "name": "stdout",
     "output_type": "stream",
     "text": [
      "Model: \"model\"\n",
      "__________________________________________________________________________________________________\n",
      "Layer (type)                    Output Shape         Param #     Connected to                     \n",
      "==================================================================================================\n",
      "input_1 (InputLayer)            [(None, 48, 44, 1)]  0                                            \n",
      "__________________________________________________________________________________________________\n",
      "conv2d (Conv2D)                 (None, 48, 44, 16)   416         input_1[0][0]                    \n",
      "__________________________________________________________________________________________________\n",
      "max_pooling2d (MaxPooling2D)    (None, 24, 22, 16)   0           conv2d[0][0]                     \n",
      "__________________________________________________________________________________________________\n",
      "conv2d_1 (Conv2D)               (None, 24, 22, 32)   12832       max_pooling2d[0][0]              \n",
      "__________________________________________________________________________________________________\n",
      "max_pooling2d_1 (MaxPooling2D)  (None, 12, 11, 32)   0           conv2d_1[0][0]                   \n",
      "__________________________________________________________________________________________________\n",
      "conv2d_2 (Conv2D)               (None, 10, 9, 64)    18496       max_pooling2d_1[0][0]            \n",
      "__________________________________________________________________________________________________\n",
      "max_pooling2d_2 (MaxPooling2D)  (None, 5, 4, 64)     0           conv2d_2[0][0]                   \n",
      "__________________________________________________________________________________________________\n",
      "flatten (Flatten)               (None, 1280)         0           max_pooling2d_2[0][0]            \n",
      "__________________________________________________________________________________________________\n",
      "dense (Dense)                   (None, 400)          512400      flatten[0][0]                    \n",
      "__________________________________________________________________________________________________\n",
      "input_2 (InputLayer)            [(None, 7)]          0                                            \n",
      "__________________________________________________________________________________________________\n",
      "concatenate (Concatenate)       (None, 407)          0           dense[0][0]                      \n",
      "                                                                 input_2[0][0]                    \n",
      "__________________________________________________________________________________________________\n",
      "dense_1 (Dense)                 (None, 180)          73440       concatenate[0][0]                \n",
      "__________________________________________________________________________________________________\n",
      "dense_2 (Dense)                 (None, 50)           9050        dense_1[0][0]                    \n",
      "__________________________________________________________________________________________________\n",
      "dense_3 (Dense)                 (None, 16)           816         dense_2[0][0]                    \n",
      "__________________________________________________________________________________________________\n",
      "dense_4 (Dense)                 (None, 2)            34          dense_3[0][0]                    \n",
      "__________________________________________________________________________________________________\n",
      "dense_5 (Dense)                 (None, 1)            3           dense_4[0][0]                    \n",
      "==================================================================================================\n",
      "Total params: 627,487\n",
      "Trainable params: 627,487\n",
      "Non-trainable params: 0\n",
      "__________________________________________________________________________________________________\n",
      "None\n"
     ]
    }
   ],
   "source": [
    "input1 = Input(x1.shape[1:])\n",
    "layer = Conv2D(16, (5, 5), (1, 1), 'same', activation='relu')(input1)\n",
    "layer = MaxPooling2D((2, 2), (2, 2))(layer)\n",
    "\n",
    "layer = Conv2D(32, (5, 5), (1, 1), 'same', activation='relu')(layer)\n",
    "layer = MaxPooling2D((2, 2), (2, 2))(layer)\n",
    "\n",
    "layer = Conv2D(64, (3, 3), (1, 1), activation='relu')(layer)\n",
    "layer = MaxPooling2D((2, 2), (2, 2))(layer)\n",
    "\n",
    "layer = Flatten()(layer)\n",
    "\n",
    "layer = Dense(400, 'relu')(layer)\n",
    "\n",
    "input2 = Input(x2_chs_inp.shape[1:])\n",
    "layer = Concatenate()([layer, input2])\n",
    "\n",
    "layer = Dense(180, 'relu')(layer)\n",
    "\n",
    "layer = Dense(50, 'relu')(layer)\n",
    "\n",
    "layer = Dense(16, 'relu')(layer)\n",
    "\n",
    "layer = Dense(2, 'relu')(layer)\n",
    "\n",
    "out = Dense(1, 'linear')(layer)\n",
    "\n",
    "input_layers = [input1, input2]\n",
    "\n",
    "model = Model(inputs=input_layers, outputs=out)\n",
    "\n",
    "model.compile(optimizer='adam', loss='mae')\n",
    "\n",
    "print(model.summary())"
   ]
  },
  {
   "cell_type": "code",
   "execution_count": 7,
   "metadata": {
    "executionInfo": {
     "elapsed": 27,
     "status": "ok",
     "timestamp": 1635187416814,
     "user": {
      "displayName": "mostafa lotfi",
      "photoUrl": "https://lh3.googleusercontent.com/a-/AOh14Gj4ilTay6rvtZq-saddDY_b1Sar82sct4P4Z2d_Wg=s64",
      "userId": "11325640182532482321"
     },
     "user_tz": -210
    },
    "id": "woulgNfGVvMO"
   },
   "outputs": [],
   "source": [
    "# plot_model(model, show_shapes=True)"
   ]
  },
  {
   "cell_type": "code",
   "execution_count": 8,
   "metadata": {},
   "outputs": [],
   "source": [
    "models_dir = path2root + models_fol\n",
    "if not os.path.exists(models_dir):\n",
    "    os.mkdir(models_dir)\n",
    "\n",
    "models_et_dir = models_dir + models_et_fol\n",
    "if not os.path.exists(models_et_dir):\n",
    "    os.mkdir(models_et_dir)\n",
    "\n",
    "raw_dir = models_et_dir + raw_fol\n",
    "if not os.path.exists(raw_dir):\n",
    "    os.mkdir(raw_dir)"
   ]
  },
  {
   "cell_type": "code",
   "execution_count": 9,
   "metadata": {
    "colab": {
     "base_uri": "https://localhost:8080/"
    },
    "executionInfo": {
     "elapsed": 3087,
     "status": "ok",
     "timestamp": 1635187419881,
     "user": {
      "displayName": "mostafa lotfi",
      "photoUrl": "https://lh3.googleusercontent.com/a-/AOh14Gj4ilTay6rvtZq-saddDY_b1Sar82sct4P4Z2d_Wg=s64",
      "userId": "11325640182532482321"
     },
     "user_tz": -210
    },
    "id": "Oa3y4Mfyg7g7",
    "outputId": "b083e78a-bb99-4410-b237-70205bdbc05e"
   },
   "outputs": [
    {
     "name": "stdout",
     "output_type": "stream",
     "text": [
      "INFO:tensorflow:Assets written to: ../../models/et/raw/model2-hrz\\assets\n",
      "INFO:tensorflow:Assets written to: ../../models/et/raw/model2-vrt\\assets\n"
     ]
    }
   ],
   "source": [
    "models_numbers = []\n",
    "models_name = os.listdir(raw_dir)\n",
    "if models_name:\n",
    "    for model_name in models_name:\n",
    "        model_num = int(model_name[5:6])\n",
    "        models_numbers.append(model_num)\n",
    "    max_num = max(models_numbers)\n",
    "else:\n",
    "    max_num = 0\n",
    "\n",
    "model.save(raw_dir + f\"model{max_num+1}-hrz\")\n",
    "model.save(raw_dir + f\"model{max_num+1}-vrt\")"
   ]
  }
 ],
 "metadata": {
  "colab": {
   "authorship_tag": "ABX9TyNJ55D+JOVdA6fiv2ayAPT8",
   "collapsed_sections": [],
   "mount_file_id": "1mEGliX-rV2YkSx8ASgAVoGgB28BGXYz1",
   "name": "crt_emp_2mdl_et.ipynb",
   "provenance": []
  },
  "kernelspec": {
   "display_name": "venv",
   "language": "python",
   "name": "venv"
  },
  "language_info": {
   "codemirror_mode": {
    "name": "ipython",
    "version": 3
   },
   "file_extension": ".py",
   "mimetype": "text/x-python",
   "name": "python",
   "nbconvert_exporter": "python",
   "pygments_lexer": "ipython3",
   "version": "3.9.6"
  }
 },
 "nbformat": 4,
 "nbformat_minor": 1
}
