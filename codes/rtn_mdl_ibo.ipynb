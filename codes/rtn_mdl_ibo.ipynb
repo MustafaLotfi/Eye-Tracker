{
 "cells": [
  {
   "cell_type": "code",
   "execution_count": 1,
   "id": "370e2b14",
   "metadata": {},
   "outputs": [],
   "source": [
    "from tensorflow.keras.callbacks import EarlyStopping\n",
    "from tensorflow.keras.models import load_model\n",
    "from tensorflow.keras.utils import to_categorical\n",
    "from sklearn.utils import shuffle\n",
    "from joblib import load as j_load\n",
    "from joblib import dump as j_dump\n",
    "import pickle\n",
    "import tuning_parameters as tp\n",
    "import numpy as np\n",
    "import os"
   ]
  },
  {
   "cell_type": "code",
   "execution_count": 2,
   "id": "f1344641",
   "metadata": {},
   "outputs": [],
   "source": [
    "path2root = \"../\"\n",
    "subjects_fol = \"subjects/\"\n",
    "models_fol = \"models/\"\n",
    "models_ibo_fol = \"ibo/\"\n",
    "trained_fol = \"trained/\"\n",
    "data_ibo_fol = \"data-ibo/\"\n",
    "r_train = 0.85\n",
    "n_epochs = 5\n",
    "patience = 2\n",
    "trainable_layers = 1\n",
    "chosen_inputs = [0, 1, 2, 6, 7, 8, 9]"
   ]
  },
  {
   "cell_type": "code",
   "execution_count": 3,
   "id": "5c062b07",
   "metadata": {},
   "outputs": [],
   "source": [
    "trained_dir = path2root + models_fol + models_ibo_fol + trained_fol\n",
    "public_model_dir = trained_dir + f\"model{tp.IN_BLINK_OUT_MODEL_NUMBER}\"\n",
    "public_scalers_dir = trained_dir + f\"scalers{tp.IN_BLINK_OUT_MODEL_NUMBER}.bin\"\n",
    "sbj_dir = path2root + subjects_fol + f\"{tp.NUMBER}/\""
   ]
  },
  {
   "cell_type": "code",
   "execution_count": 4,
   "id": "43563004",
   "metadata": {},
   "outputs": [
    {
     "name": "stdout",
     "output_type": "stream",
     "text": [
      "\n",
      "Loading subject data in in_blink_out folder...\n",
      "Sapmles number: 60\n"
     ]
    }
   ],
   "source": [
    "print(\"\\nLoading subject data in in_blink_out folder...\")\n",
    "data_ibo_dir = sbj_dir + data_ibo_fol\n",
    "with open(data_ibo_dir + \"x1.pickle\", \"rb\") as f:\n",
    "    x1_load = pickle.load(f)\n",
    "with open(data_ibo_dir + \"x2.pickle\", \"rb\") as f:\n",
    "    x2_load = pickle.load(f)\n",
    "with open(data_ibo_dir + \"y.pickle\", \"rb\") as f:\n",
    "    y_load = pickle.load(f)\n",
    "n_smp, frame_h, frame_w = x1_load.shape[:-1]\n",
    "print(f\"Sapmles number: {n_smp}\")"
   ]
  },
  {
   "cell_type": "code",
   "execution_count": 5,
   "id": "b7c5f075",
   "metadata": {},
   "outputs": [],
   "source": [
    "import matplotlib.pyplot as plt"
   ]
  },
  {
   "cell_type": "code",
   "execution_count": 6,
   "id": "227878ef",
   "metadata": {},
   "outputs": [
    {
     "name": "stdout",
     "output_type": "stream",
     "text": [
      "[ 2.97951735  0.12033591  0.16782222  4.02395032 -0.48188886 58.43877488\n",
      "  0.49016279  0.46397802  0.48842525  0.48640284]\n",
      "2.0\n"
     ]
    },
    {
     "data": {
      "image/png": "[encoded data removed]",
      "text/plain": [
       "<Figure size 432x288 with 1 Axes>"
      ]
     },
     "metadata": {
      "needs_background": "light"
     },
     "output_type": "display_data"
    }
   ],
   "source": [
    "smp_num = 0\n",
    "print(x2_load[smp_num])\n",
    "print(y_load[smp_num])\n",
    "plt.imshow(x1_load[smp_num].reshape((frame_h, frame_w)), cmap=\"gray\", vmin=0, vmax=255)\n",
    "plt.show()"
   ]
  },
  {
   "cell_type": "code",
   "execution_count": 7,
   "id": "b1785e54",
   "metadata": {},
   "outputs": [
    {
     "name": "stdout",
     "output_type": "stream",
     "text": [
      "\n",
      "Normalizing data...\n"
     ]
    },
    {
     "data": {
      "text/plain": [
       "['../subjects/7/scalers-ibo.bin']"
      ]
     },
     "execution_count": 7,
     "metadata": {},
     "output_type": "execute_result"
    }
   ],
   "source": [
    "print(\"\\nNormalizing data...\")\n",
    "x2_chs_inp = x2_load[:, chosen_inputs]\n",
    "scalers = j_load(public_scalers_dir)\n",
    "x1_scaler, x2_scaler = scalers\n",
    "x1 = x1_load / x1_scaler\n",
    "x2 = x2_scaler.transform(x2_chs_inp)\n",
    "scalers_dir = sbj_dir + \"scalers-ibo.bin\"\n",
    "j_dump(scalers, scalers_dir)"
   ]
  },
  {
   "cell_type": "code",
   "execution_count": 8,
   "id": "4b5e4faf",
   "metadata": {},
   "outputs": [
    {
     "name": "stdout",
     "output_type": "stream",
     "text": [
      "\n",
      "Shuffling data...\n"
     ]
    }
   ],
   "source": [
    "print(\"\\nShuffling data...\")\n",
    "x1_shf, x2_shf, y_shf = shuffle(x1, x2, y_load)"
   ]
  },
  {
   "cell_type": "code",
   "execution_count": 9,
   "id": "91de08eb",
   "metadata": {},
   "outputs": [
    {
     "name": "stdout",
     "output_type": "stream",
     "text": [
      "\n",
      "Splitting data to train and test...\n",
      "Data shapes:\n",
      "(51, 48, 44, 1) (9, 48, 44, 1) (51, 7) (9, 7) (51,) (9,)\n"
     ]
    }
   ],
   "source": [
    "print(\"\\nSplitting data to train and test...\")\n",
    "n_train = int(r_train * n_smp)\n",
    "n_test = n_smp - n_train\n",
    "x1_train, x2_train = x1_shf[:n_train], x2_shf[:n_train]\n",
    "x1_test, x2_test = x1_shf[n_train:], x2_shf[n_train:]\n",
    "y_train = y_shf[:n_train]\n",
    "y_test = y_shf[n_train:]\n",
    "print(\"Data shapes:\")\n",
    "print(x1_train.shape, x1_test.shape, x2_train.shape, x2_test.shape,\n",
    "      y_train.shape, y_test.shape)"
   ]
  },
  {
   "cell_type": "code",
   "execution_count": 10,
   "id": "f9e629e8",
   "metadata": {},
   "outputs": [],
   "source": [
    "y_train_ctg = to_categorical(y_train)\n",
    "y_test_ctg = to_categorical(y_test)\n",
    "\n",
    "x_train = [x1_train, x2_train]\n",
    "x_test = [x1_test, x2_test]"
   ]
  },
  {
   "cell_type": "code",
   "execution_count": 11,
   "id": "bbb4dd8d",
   "metadata": {},
   "outputs": [
    {
     "name": "stdout",
     "output_type": "stream",
     "text": [
      "\n",
      "Loading 'in_blink_out' model...\n"
     ]
    }
   ],
   "source": [
    "print(\"\\nLoading 'in_blink_out' model...\")\n",
    "cb = EarlyStopping(patience=patience, verbose=1, restore_best_weights=True)\n",
    "model = load_model(public_model_dir)"
   ]
  },
  {
   "cell_type": "code",
   "execution_count": 12,
   "id": "47a5cae7",
   "metadata": {},
   "outputs": [
    {
     "name": "stdout",
     "output_type": "stream",
     "text": [
      "\n",
      "Model summary:\n",
      "Model: \"model\"\n",
      "__________________________________________________________________________________________________\n",
      "Layer (type)                    Output Shape         Param #     Connected to                     \n",
      "==================================================================================================\n",
      "input_1 (InputLayer)            [(None, 48, 44, 1)]  0                                            \n",
      "__________________________________________________________________________________________________\n",
      "conv2d (Conv2D)                 (None, 48, 44, 16)   416         input_1[0][0]                    \n",
      "__________________________________________________________________________________________________\n",
      "max_pooling2d (MaxPooling2D)    (None, 24, 22, 16)   0           conv2d[0][0]                     \n",
      "__________________________________________________________________________________________________\n",
      "conv2d_1 (Conv2D)               (None, 24, 22, 32)   12832       max_pooling2d[0][0]              \n",
      "__________________________________________________________________________________________________\n",
      "max_pooling2d_1 (MaxPooling2D)  (None, 12, 11, 32)   0           conv2d_1[0][0]                   \n",
      "__________________________________________________________________________________________________\n",
      "conv2d_2 (Conv2D)               (None, 10, 9, 64)    18496       max_pooling2d_1[0][0]            \n",
      "__________________________________________________________________________________________________\n",
      "max_pooling2d_2 (MaxPooling2D)  (None, 5, 4, 64)     0           conv2d_2[0][0]                   \n",
      "__________________________________________________________________________________________________\n",
      "flatten (Flatten)               (None, 1280)         0           max_pooling2d_2[0][0]            \n",
      "__________________________________________________________________________________________________\n",
      "dense (Dense)                   (None, 256)          327936      flatten[0][0]                    \n",
      "__________________________________________________________________________________________________\n",
      "input_2 (InputLayer)            [(None, 7)]          0                                            \n",
      "__________________________________________________________________________________________________\n",
      "concatenate (Concatenate)       (None, 263)          0           dense[0][0]                      \n",
      "                                                                 input_2[0][0]                    \n",
      "__________________________________________________________________________________________________\n",
      "dense_1 (Dense)                 (None, 128)          33792       concatenate[0][0]                \n",
      "__________________________________________________________________________________________________\n",
      "dense_2 (Dense)                 (None, 32)           4128        dense_1[0][0]                    \n",
      "__________________________________________________________________________________________________\n",
      "dense_3 (Dense)                 (None, 16)           528         dense_2[0][0]                    \n",
      "__________________________________________________________________________________________________\n",
      "dense_4 (Dense)                 (None, 3)            51          dense_3[0][0]                    \n",
      "__________________________________________________________________________________________________\n",
      "dense_5 (Dense)                 (None, 3)            12          dense_4[0][0]                    \n",
      "==================================================================================================\n",
      "Total params: 398,191\n",
      "Trainable params: 12\n",
      "Non-trainable params: 398,179\n",
      "__________________________________________________________________________________________________\n",
      "None\n"
     ]
    }
   ],
   "source": [
    "for layer in model.layers[:-trainable_layers]:\n",
    "    layer.trainable = False\n",
    "print(\"\\nModel summary:\")\n",
    "print(model.summary())"
   ]
  },
  {
   "cell_type": "code",
   "execution_count": 13,
   "id": "33258d12",
   "metadata": {},
   "outputs": [
    {
     "name": "stdout",
     "output_type": "stream",
     "text": [
      "\n",
      "Retraining the model...\n",
      "Epoch 1/5\n",
      "2/2 [==============================] - 1s 297ms/step - loss: 4.8879 - acc: 0.2941 - val_loss: 2.0966 - val_acc: 0.1111\n",
      "Epoch 2/5\n",
      "2/2 [==============================] - 0s 59ms/step - loss: 2.0454 - acc: 0.1373 - val_loss: 1.5016 - val_acc: 0.2222\n",
      "Epoch 3/5\n",
      "2/2 [==============================] - 0s 55ms/step - loss: 1.2242 - acc: 0.3529 - val_loss: 1.3418 - val_acc: 0.2222\n",
      "Epoch 4/5\n",
      "2/2 [==============================] - 0s 55ms/step - loss: 1.2045 - acc: 0.3529 - val_loss: 1.3414 - val_acc: 0.2222\n",
      "Epoch 5/5\n",
      "2/2 [==============================] - 0s 54ms/step - loss: 1.2041 - acc: 0.3529 - val_loss: 1.3409 - val_acc: 0.2222\n",
      "End of retraining...\n"
     ]
    }
   ],
   "source": [
    "print(\"\\nRetraining the model...\")\n",
    "results = model.fit(x_train,\n",
    "                    y_train_ctg,\n",
    "                    validation_data=(x_test, y_test_ctg),\n",
    "                    epochs=n_epochs,\n",
    "                    callbacks=cb)\n",
    "print(\"End of retraining...\")"
   ]
  },
  {
   "cell_type": "code",
   "execution_count": 14,
   "id": "0336e76a",
   "metadata": {},
   "outputs": [
    {
     "name": "stdout",
     "output_type": "stream",
     "text": [
      "INFO:tensorflow:Assets written to: ../subjects/7/model-ibo\\assets\n"
     ]
    }
   ],
   "source": [
    "model.save(sbj_dir + \"model-ibo\")"
   ]
  },
  {
   "cell_type": "code",
   "execution_count": 15,
   "id": "b34c8d64",
   "metadata": {},
   "outputs": [],
   "source": [
    "yhat_train = model.predict(x_train).argmax(1)\n",
    "yhat_test = model.predict(x_test).argmax(1)"
   ]
  },
  {
   "cell_type": "code",
   "execution_count": 16,
   "id": "52d1aab5",
   "metadata": {},
   "outputs": [
    {
     "name": "stdout",
     "output_type": "stream",
     "text": [
      "Test\n",
      "2.0\n",
      "1\n"
     ]
    },
    {
     "data": {
      "image/png": "[encoded data removed]",
      "text/plain": [
       "<Figure size 432x288 with 1 Axes>"
      ]
     },
     "metadata": {
      "needs_background": "light"
     },
     "output_type": "display_data"
    }
   ],
   "source": [
    "smp_num = 8\n",
    "print(\"Test\")\n",
    "print(y_test[smp_num])\n",
    "print(yhat_test[smp_num])\n",
    "plt.imshow(\n",
    "    (x1_test[smp_num].reshape((frame_h, frame_w)) * 255)\n",
    "    .astype(np.uint8),\n",
    "    cmap=\"gray\",\n",
    "    vmin=0,\n",
    "    vmax=255\n",
    "    )\n",
    "plt.show()"
   ]
  },
  {
   "cell_type": "code",
   "execution_count": 17,
   "id": "a711848e",
   "metadata": {},
   "outputs": [
    {
     "data": {
      "image/png": "[encoded data removed]",
      "text/plain": [
       "<Figure size 432x288 with 1 Axes>"
      ]
     },
     "metadata": {
      "needs_background": "light"
     },
     "output_type": "display_data"
    }
   ],
   "source": [
    "loss = results.history[\"loss\"]\n",
    "val_loss = results.history[\"val_loss\"]\n",
    "plt.plot(loss, label=\"loss\")\n",
    "plt.plot(val_loss, label=\"val_loss\")\n",
    "plt.legend()\n",
    "plt.show()"
   ]
  },
  {
   "cell_type": "code",
   "execution_count": 18,
   "id": "1bcd977b",
   "metadata": {},
   "outputs": [
    {
     "data": {
      "image/png": "[encoded data removed]",
      "text/plain": [
       "<Figure size 1152x1152 with 1 Axes>"
      ]
     },
     "metadata": {
      "needs_background": "light"
     },
     "output_type": "display_data"
    }
   ],
   "source": [
    "from sklearn.metrics import confusion_matrix\n",
    "\n",
    "n_class = y_train_ctg.shape[1]\n",
    "cm_test = confusion_matrix(y_test, yhat_test)\n",
    "plt.figure(figsize=(16,16))\n",
    "plt.imshow(cm_test, cmap=plt.cm.Greens)\n",
    "class_arr = np.arange(n_class)\n",
    "plt.xticks(class_arr)\n",
    "plt.yticks(class_arr)\n",
    "plt.title('Confusion Matrix')\n",
    "plt.xlabel('Predicted labels')\n",
    "plt.ylabel('True labels')\n",
    "\n",
    "for i in range(n_class):\n",
    "    for j in range(n_class):\n",
    "        plt.text(i, j, cm_test[j][i])"
   ]
  }
 ],
 "metadata": {
  "kernelspec": {
   "display_name": "venv",
   "language": "python",
   "name": "venv"
  },
  "language_info": {
   "codemirror_mode": {
    "name": "ipython",
    "version": 3
   },
   "file_extension": ".py",
   "mimetype": "text/x-python",
   "name": "python",
   "nbconvert_exporter": "python",
   "pygments_lexer": "ipython3",
   "version": "3.9.6"
  }
 },
 "nbformat": 4,
 "nbformat_minor": 5
}
