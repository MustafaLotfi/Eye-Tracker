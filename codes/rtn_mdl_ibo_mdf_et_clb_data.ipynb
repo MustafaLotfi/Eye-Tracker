{
 "cells": [
  {
   "cell_type": "code",
   "execution_count": 1,
   "id": "04bc516f",
   "metadata": {},
   "outputs": [
    {
     "name": "stdout",
     "output_type": "stream",
     "text": [
      "\n",
      "Retraining 'in_blink_out' model for subject and modifying 'eye_tracking' data for it.\n"
     ]
    }
   ],
   "source": [
    "print(\"\\nRetraining 'in_blink_out' model for subject and modifying 'eye_tracking' data for it.\")"
   ]
  },
  {
   "cell_type": "code",
   "execution_count": 2,
   "id": "370e2b14",
   "metadata": {},
   "outputs": [
    {
     "name": "stderr",
     "output_type": "stream",
     "text": [
      "2021-10-25 00:13:45.923755: W tensorflow/stream_executor/platform/default/dso_loader.cc:64] Could not load dynamic library 'libcudart.so.11.0'; dlerror: libcudart.so.11.0: cannot open shared object file: No such file or directory\n",
      "2021-10-25 00:13:45.923777: I tensorflow/stream_executor/cuda/cudart_stub.cc:29] Ignore above cudart dlerror if you do not have a GPU set up on your machine.\n"
     ]
    }
   ],
   "source": [
    "from tensorflow.keras.callbacks import EarlyStopping\n",
    "from tensorflow.keras.models import load_model\n",
    "from tensorflow.keras.utils import to_categorical\n",
    "from sklearn.utils import shuffle\n",
    "from joblib import load as jload\n",
    "from joblib import dump as jdump\n",
    "import pickle\n",
    "import tuning_parameters as tp\n",
    "import time\n",
    "import numpy as np\n",
    "import os"
   ]
  },
  {
   "cell_type": "code",
   "execution_count": 3,
   "id": "f1344641",
   "metadata": {},
   "outputs": [],
   "source": [
    "R_TRAIN = 0.85\n",
    "N_EPOCHS = 50\n",
    "PATIENCE = 10\n",
    "TRAINABLE_LAYERS = 1\n",
    "subject_dir = tp.TARGET_FOLDER + f\"/{tp.NUMBER}/\"\n",
    "public_model_dir = f\"models/in_blink_out/trained/model{tp.IN_BLINK_OUT_MODEL_NUMBER}\"\n",
    "scaler_dir = f\"models/in_blink_out/trained/scalers{tp.IN_BLINK_OUT_MODEL_NUMBER}.bin\""
   ]
  },
  {
   "cell_type": "code",
   "execution_count": 4,
   "id": "43563004",
   "metadata": {},
   "outputs": [
    {
     "name": "stdout",
     "output_type": "stream",
     "text": [
      "\n",
      "Loading subject data in in_blink_out folder...\n",
      "Sapmles number: 900\n"
     ]
    }
   ],
   "source": [
    "print(\"\\nLoading subject data in in_blink_out folder...\")\n",
    "ibo_fol = subject_dir + \"in_blink_out data/\"\n",
    "with open(ibo_fol + \"x1.pickle\", \"rb\") as f:\n",
    "    x1_load = pickle.load(f)\n",
    "with open(ibo_fol + \"x2.pickle\", \"rb\") as f:\n",
    "    x2_load = pickle.load(f)\n",
    "with open(ibo_fol + \"y.pickle\", \"rb\") as f:\n",
    "    y_load = pickle.load(f)\n",
    "n_smp, frame_height, frame_width = x1_load.shape[:-1]\n",
    "print(f\"Sapmles number: {n_smp}\")\n",
    "time.sleep(2)"
   ]
  },
  {
   "cell_type": "code",
   "execution_count": 9,
   "id": "227878ef",
   "metadata": {},
   "outputs": [
    {
     "name": "stdout",
     "output_type": "stream",
     "text": [
      "[-3.07070363 -0.0705313   0.37098512  2.52360818  2.54080101 68.80416954\n",
      "  0.57000834  0.51454192  0.45860058  0.52025151]\n",
      "1\n"
     ]
    },
    {
     "data": {
      "image/png": "[encoded data removed]",
      "text/plain": [
       "<Figure size 432x288 with 1 Axes>"
      ]
     },
     "metadata": {
      "needs_background": "light"
     },
     "output_type": "display_data"
    }
   ],
   "source": [
    "# Displaying data\n",
    "import matplotlib.pyplot as plt\n",
    "\n",
    "SAMPLE_NUMBER = 301\n",
    "print(x2_load[SAMPLE_NUMBER])\n",
    "print(y_load[SAMPLE_NUMBER])\n",
    "plt.imshow(x1_load[SAMPLE_NUMBER].reshape((frame_height, frame_width)), cmap=\"gray\", vmin=0, vmax=255)\n",
    "plt.show()"
   ]
  },
  {
   "cell_type": "code",
   "execution_count": 10,
   "id": "b1785e54",
   "metadata": {},
   "outputs": [
    {
     "name": "stdout",
     "output_type": "stream",
     "text": [
      "\n",
      "Normalizing data...\n"
     ]
    },
    {
     "name": "stderr",
     "output_type": "stream",
     "text": [
      "/home/mostafa/Projects/EyeTracker/lib/python3.9/site-packages/sklearn/base.py:310: UserWarning: Trying to unpickle estimator StandardScaler from version 0.22.2.post1 when using version 0.24.2. This might lead to breaking code or invalid results. Use at your own risk.\n",
      "  warnings.warn(\n"
     ]
    }
   ],
   "source": [
    "print(\"\\nNormalizing data...\")\n",
    "x2_chs_inp = x2_load[:, tp.CHOSEN_INPUTS]\n",
    "scalers = jload(scaler_dir)\n",
    "x1_scaler, x2_scaler = scalers\n",
    "x1 = x1_load / x1_scaler\n",
    "x2 = x2_scaler.transform(x2_chs_inp)\n",
    "jdump(scalers, subject_dir + \"scalers_in_blink_out.bin\")\n",
    "time.sleep(2)"
   ]
  },
  {
   "cell_type": "code",
   "execution_count": 11,
   "id": "4b5e4faf",
   "metadata": {},
   "outputs": [
    {
     "name": "stdout",
     "output_type": "stream",
     "text": [
      "\n",
      "Shuffling data...\n"
     ]
    }
   ],
   "source": [
    "print(\"\\nShuffling data...\")\n",
    "x1_shf, x2_shf, y_shf = shuffle(x1, x2, y_load)\n",
    "time.sleep(2)"
   ]
  },
  {
   "cell_type": "code",
   "execution_count": 12,
   "id": "91de08eb",
   "metadata": {},
   "outputs": [
    {
     "name": "stdout",
     "output_type": "stream",
     "text": [
      "\n",
      "Splitting data to train and test...\n",
      "Data shapes:\n",
      "(765, 48, 44, 1) (135, 48, 44, 1) (765, 7) (135, 7) (765,) (135,)\n"
     ]
    }
   ],
   "source": [
    "print(\"\\nSplitting data to train and test...\")\n",
    "n_train = int(R_TRAIN * n_smp)\n",
    "n_test = n_smp - n_train\n",
    "x1_train, x2_train = x1_shf[:n_train], x2_shf[:n_train]\n",
    "x1_test, x2_test = x1_shf[n_train:], x2_shf[n_train:]\n",
    "y_train = y_shf[:n_train]\n",
    "y_test = y_shf[n_train:]\n",
    "print(\"Data shapes:\")\n",
    "print(x1_train.shape, x1_test.shape, x2_train.shape, x2_test.shape,\n",
    "      y_train.shape, y_test.shape)\n",
    "time.sleep(2)"
   ]
  },
  {
   "cell_type": "code",
   "execution_count": 19,
   "id": "f9e629e8",
   "metadata": {},
   "outputs": [],
   "source": [
    "y_train_ctg = to_categorical(y_train)\n",
    "y_test_ctg = to_categorical(y_test)\n",
    "\n",
    "x_train = [x1_train, x2_train]\n",
    "x_test = [x1_test, x2_test]"
   ]
  },
  {
   "cell_type": "code",
   "execution_count": 14,
   "id": "bbb4dd8d",
   "metadata": {},
   "outputs": [
    {
     "name": "stdout",
     "output_type": "stream",
     "text": [
      "\n",
      "Loading 'eye tracking' model...\n"
     ]
    },
    {
     "name": "stderr",
     "output_type": "stream",
     "text": [
      "2021-10-25 00:19:47.012267: I tensorflow/stream_executor/cuda/cuda_gpu_executor.cc:937] successful NUMA node read from SysFS had negative value (-1), but there must be at least one NUMA node, so returning NUMA node zero\n",
      "2021-10-25 00:19:47.013581: W tensorflow/stream_executor/platform/default/dso_loader.cc:64] Could not load dynamic library 'libcudart.so.11.0'; dlerror: libcudart.so.11.0: cannot open shared object file: No such file or directory\n",
      "2021-10-25 00:19:47.013842: W tensorflow/stream_executor/platform/default/dso_loader.cc:64] Could not load dynamic library 'libcublas.so.11'; dlerror: libcublas.so.11: cannot open shared object file: No such file or directory\n",
      "2021-10-25 00:19:47.014061: W tensorflow/stream_executor/platform/default/dso_loader.cc:64] Could not load dynamic library 'libcublasLt.so.11'; dlerror: libcublasLt.so.11: cannot open shared object file: No such file or directory\n",
      "2021-10-25 00:19:47.014271: W tensorflow/stream_executor/platform/default/dso_loader.cc:64] Could not load dynamic library 'libcufft.so.10'; dlerror: libcufft.so.10: cannot open shared object file: No such file or directory\n",
      "2021-10-25 00:19:47.014479: W tensorflow/stream_executor/platform/default/dso_loader.cc:64] Could not load dynamic library 'libcurand.so.10'; dlerror: libcurand.so.10: cannot open shared object file: No such file or directory\n",
      "2021-10-25 00:19:47.014688: W tensorflow/stream_executor/platform/default/dso_loader.cc:64] Could not load dynamic library 'libcusolver.so.11'; dlerror: libcusolver.so.11: cannot open shared object file: No such file or directory\n",
      "2021-10-25 00:19:47.014893: W tensorflow/stream_executor/platform/default/dso_loader.cc:64] Could not load dynamic library 'libcusparse.so.11'; dlerror: libcusparse.so.11: cannot open shared object file: No such file or directory\n",
      "2021-10-25 00:19:47.015097: W tensorflow/stream_executor/platform/default/dso_loader.cc:64] Could not load dynamic library 'libcudnn.so.8'; dlerror: libcudnn.so.8: cannot open shared object file: No such file or directory\n",
      "2021-10-25 00:19:47.015127: W tensorflow/core/common_runtime/gpu/gpu_device.cc:1835] Cannot dlopen some GPU libraries. Please make sure the missing libraries mentioned above are installed properly if you would like to use GPU. Follow the guide at https://www.tensorflow.org/install/gpu for how to download and setup the required libraries for your platform.\n",
      "Skipping registering GPU devices...\n",
      "2021-10-25 00:19:47.015802: I tensorflow/core/platform/cpu_feature_guard.cc:142] This TensorFlow binary is optimized with oneAPI Deep Neural Network Library (oneDNN) to use the following CPU instructions in performance-critical operations:  AVX2 FMA\n",
      "To enable them in other operations, rebuild TensorFlow with the appropriate compiler flags.\n"
     ]
    }
   ],
   "source": [
    "print(\"\\nLoading 'eye tracking' model...\")\n",
    "cb = EarlyStopping(patience=PATIENCE, verbose=1, restore_best_weights=True)\n",
    "model = load_model(public_model_dir)\n",
    "time.sleep(2)"
   ]
  },
  {
   "cell_type": "code",
   "execution_count": 10,
   "id": "47a5cae7",
   "metadata": {},
   "outputs": [
    {
     "name": "stdout",
     "output_type": "stream",
     "text": [
      "\n",
      "Model summary:\n",
      "Model: \"model\"\n",
      "__________________________________________________________________________________________________\n",
      "Layer (type)                    Output Shape         Param #     Connected to                     \n",
      "==================================================================================================\n",
      "input_1 (InputLayer)            [(None, 48, 44, 1)]  0                                            \n",
      "__________________________________________________________________________________________________\n",
      "conv2d (Conv2D)                 (None, 48, 44, 16)   416         input_1[0][0]                    \n",
      "__________________________________________________________________________________________________\n",
      "max_pooling2d (MaxPooling2D)    (None, 24, 22, 16)   0           conv2d[0][0]                     \n",
      "__________________________________________________________________________________________________\n",
      "conv2d_1 (Conv2D)               (None, 24, 22, 32)   12832       max_pooling2d[0][0]              \n",
      "__________________________________________________________________________________________________\n",
      "max_pooling2d_1 (MaxPooling2D)  (None, 12, 11, 32)   0           conv2d_1[0][0]                   \n",
      "__________________________________________________________________________________________________\n",
      "conv2d_2 (Conv2D)               (None, 10, 9, 64)    18496       max_pooling2d_1[0][0]            \n",
      "__________________________________________________________________________________________________\n",
      "max_pooling2d_2 (MaxPooling2D)  (None, 5, 4, 64)     0           conv2d_2[0][0]                   \n",
      "__________________________________________________________________________________________________\n",
      "flatten (Flatten)               (None, 1280)         0           max_pooling2d_2[0][0]            \n",
      "__________________________________________________________________________________________________\n",
      "dense (Dense)                   (None, 256)          327936      flatten[0][0]                    \n",
      "__________________________________________________________________________________________________\n",
      "input_2 (InputLayer)            [(None, 7)]          0                                            \n",
      "__________________________________________________________________________________________________\n",
      "concatenate (Concatenate)       (None, 263)          0           dense[0][0]                      \n",
      "                                                                 input_2[0][0]                    \n",
      "__________________________________________________________________________________________________\n",
      "dense_1 (Dense)                 (None, 128)          33792       concatenate[0][0]                \n",
      "__________________________________________________________________________________________________\n",
      "dense_2 (Dense)                 (None, 32)           4128        dense_1[0][0]                    \n",
      "__________________________________________________________________________________________________\n",
      "dense_3 (Dense)                 (None, 16)           528         dense_2[0][0]                    \n",
      "__________________________________________________________________________________________________\n",
      "dense_4 (Dense)                 (None, 3)            51          dense_3[0][0]                    \n",
      "__________________________________________________________________________________________________\n",
      "dense_5 (Dense)                 (None, 3)            12          dense_4[0][0]                    \n",
      "==================================================================================================\n",
      "Total params: 398,191\n",
      "Trainable params: 12\n",
      "Non-trainable params: 398,179\n",
      "__________________________________________________________________________________________________\n",
      "None\n"
     ]
    }
   ],
   "source": [
    "# for layer in model.layers[:-TRAINABLE_LAYERS]:\n",
    "#     layer.trainable = False\n",
    "# print(\"\\nModel summary:\")\n",
    "# print(model.summary())\n",
    "# time.sleep(2)"
   ]
  },
  {
   "cell_type": "code",
   "execution_count": 15,
   "id": "33258d12",
   "metadata": {},
   "outputs": [
    {
     "name": "stdout",
     "output_type": "stream",
     "text": [
      "\n",
      "Retraining the model...\n",
      "Epoch 1/50\n"
     ]
    },
    {
     "name": "stderr",
     "output_type": "stream",
     "text": [
      "2021-10-25 00:20:03.886154: I tensorflow/compiler/mlir/mlir_graph_optimization_pass.cc:185] None of the MLIR Optimization Passes are enabled (registered 2)\n"
     ]
    },
    {
     "name": "stdout",
     "output_type": "stream",
     "text": [
      "24/24 [==============================] - 2s 45ms/step - loss: 0.6899 - acc: 0.8418 - val_loss: 0.2906 - val_acc: 0.8889\n",
      "Epoch 2/50\n",
      "24/24 [==============================] - 1s 37ms/step - loss: 0.1986 - acc: 0.9268 - val_loss: 0.1283 - val_acc: 0.9333\n",
      "Epoch 3/50\n",
      "24/24 [==============================] - 1s 38ms/step - loss: 0.1093 - acc: 0.9647 - val_loss: 0.0859 - val_acc: 0.9630\n",
      "Epoch 4/50\n",
      "24/24 [==============================] - 1s 38ms/step - loss: 0.0652 - acc: 0.9765 - val_loss: 0.0582 - val_acc: 0.9778\n",
      "Epoch 5/50\n",
      "24/24 [==============================] - 1s 38ms/step - loss: 0.0389 - acc: 0.9843 - val_loss: 0.0539 - val_acc: 0.9852\n",
      "Epoch 6/50\n",
      "24/24 [==============================] - 1s 38ms/step - loss: 0.0264 - acc: 0.9948 - val_loss: 0.0549 - val_acc: 0.9778\n",
      "Epoch 7/50\n",
      "24/24 [==============================] - 1s 38ms/step - loss: 0.0175 - acc: 0.9974 - val_loss: 0.0245 - val_acc: 0.9926\n",
      "Epoch 8/50\n",
      "24/24 [==============================] - 1s 38ms/step - loss: 0.0105 - acc: 0.9974 - val_loss: 0.0590 - val_acc: 0.9778\n",
      "Epoch 9/50\n",
      "24/24 [==============================] - 1s 38ms/step - loss: 0.0072 - acc: 0.9987 - val_loss: 0.0173 - val_acc: 0.9926\n",
      "Epoch 10/50\n",
      "24/24 [==============================] - 1s 38ms/step - loss: 0.0061 - acc: 0.9987 - val_loss: 0.0509 - val_acc: 0.9852\n",
      "Epoch 11/50\n",
      "24/24 [==============================] - 1s 41ms/step - loss: 0.0073 - acc: 0.9987 - val_loss: 0.0089 - val_acc: 1.0000\n",
      "Epoch 12/50\n",
      "24/24 [==============================] - 1s 38ms/step - loss: 0.0022 - acc: 1.0000 - val_loss: 0.0233 - val_acc: 0.9926\n",
      "Epoch 13/50\n",
      "24/24 [==============================] - 1s 38ms/step - loss: 0.0010 - acc: 1.0000 - val_loss: 0.0158 - val_acc: 0.9926\n",
      "Epoch 14/50\n",
      "24/24 [==============================] - 1s 38ms/step - loss: 0.0276 - acc: 0.9856 - val_loss: 0.0422 - val_acc: 0.9852\n",
      "Epoch 15/50\n",
      "24/24 [==============================] - 1s 38ms/step - loss: 0.0157 - acc: 0.9987 - val_loss: 0.0375 - val_acc: 0.9852\n",
      "Epoch 16/50\n",
      "24/24 [==============================] - 1s 38ms/step - loss: 0.0068 - acc: 0.9987 - val_loss: 0.0162 - val_acc: 0.9926\n",
      "Epoch 17/50\n",
      "24/24 [==============================] - 1s 40ms/step - loss: 0.0415 - acc: 0.9804 - val_loss: 0.0705 - val_acc: 0.9704\n",
      "Epoch 18/50\n",
      "24/24 [==============================] - 1s 40ms/step - loss: 0.0115 - acc: 0.9961 - val_loss: 0.0117 - val_acc: 0.9926\n",
      "Epoch 19/50\n",
      "24/24 [==============================] - 1s 38ms/step - loss: 0.0025 - acc: 1.0000 - val_loss: 0.0089 - val_acc: 0.9926\n",
      "Epoch 20/50\n",
      "24/24 [==============================] - 1s 38ms/step - loss: 0.0014 - acc: 1.0000 - val_loss: 0.0237 - val_acc: 0.9926\n",
      "Epoch 21/50\n",
      "24/24 [==============================] - 1s 38ms/step - loss: 6.9109e-04 - acc: 1.0000 - val_loss: 0.0124 - val_acc: 0.9926\n",
      "Epoch 22/50\n",
      "24/24 [==============================] - 1s 37ms/step - loss: 4.2493e-04 - acc: 1.0000 - val_loss: 0.0089 - val_acc: 0.9926\n",
      "Epoch 23/50\n",
      "24/24 [==============================] - 1s 41ms/step - loss: 3.4817e-04 - acc: 1.0000 - val_loss: 0.0085 - val_acc: 0.9926\n",
      "Epoch 24/50\n",
      "24/24 [==============================] - 1s 39ms/step - loss: 2.9018e-04 - acc: 1.0000 - val_loss: 0.0092 - val_acc: 0.9926\n",
      "Epoch 25/50\n",
      "24/24 [==============================] - 1s 38ms/step - loss: 2.4809e-04 - acc: 1.0000 - val_loss: 0.0083 - val_acc: 0.9926\n",
      "Epoch 26/50\n",
      "24/24 [==============================] - 1s 38ms/step - loss: 2.2112e-04 - acc: 1.0000 - val_loss: 0.0085 - val_acc: 0.9926\n",
      "Epoch 27/50\n",
      "24/24 [==============================] - 1s 39ms/step - loss: 1.9446e-04 - acc: 1.0000 - val_loss: 0.0081 - val_acc: 0.9926\n",
      "Epoch 28/50\n",
      "24/24 [==============================] - 1s 38ms/step - loss: 1.7889e-04 - acc: 1.0000 - val_loss: 0.0076 - val_acc: 0.9926\n",
      "Epoch 29/50\n",
      "24/24 [==============================] - 1s 39ms/step - loss: 1.5796e-04 - acc: 1.0000 - val_loss: 0.0075 - val_acc: 0.9926\n",
      "Epoch 30/50\n",
      "24/24 [==============================] - 1s 41ms/step - loss: 1.4260e-04 - acc: 1.0000 - val_loss: 0.0075 - val_acc: 0.9926\n",
      "Epoch 31/50\n",
      "24/24 [==============================] - 1s 38ms/step - loss: 1.3242e-04 - acc: 1.0000 - val_loss: 0.0073 - val_acc: 0.9926\n",
      "Epoch 32/50\n",
      "24/24 [==============================] - 1s 38ms/step - loss: 1.2038e-04 - acc: 1.0000 - val_loss: 0.0070 - val_acc: 0.9926\n",
      "Epoch 33/50\n",
      "24/24 [==============================] - 1s 38ms/step - loss: 1.0969e-04 - acc: 1.0000 - val_loss: 0.0071 - val_acc: 0.9926\n",
      "Epoch 34/50\n",
      "24/24 [==============================] - 1s 38ms/step - loss: 1.0473e-04 - acc: 1.0000 - val_loss: 0.0070 - val_acc: 0.9926\n",
      "Epoch 35/50\n",
      "24/24 [==============================] - 1s 38ms/step - loss: 9.8989e-05 - acc: 1.0000 - val_loss: 0.0063 - val_acc: 0.9926\n",
      "Epoch 36/50\n",
      "24/24 [==============================] - 1s 38ms/step - loss: 9.0738e-05 - acc: 1.0000 - val_loss: 0.0070 - val_acc: 0.9926\n",
      "Epoch 37/50\n",
      "24/24 [==============================] - 1s 40ms/step - loss: 8.3366e-05 - acc: 1.0000 - val_loss: 0.0064 - val_acc: 0.9926\n",
      "Epoch 38/50\n",
      "24/24 [==============================] - 1s 41ms/step - loss: 7.7743e-05 - acc: 1.0000 - val_loss: 0.0061 - val_acc: 0.9926\n",
      "Epoch 39/50\n",
      "24/24 [==============================] - 1s 40ms/step - loss: 7.5223e-05 - acc: 1.0000 - val_loss: 0.0060 - val_acc: 0.9926\n",
      "Epoch 40/50\n",
      "24/24 [==============================] - 1s 40ms/step - loss: 6.8291e-05 - acc: 1.0000 - val_loss: 0.0064 - val_acc: 0.9926\n",
      "Epoch 41/50\n",
      "24/24 [==============================] - 1s 41ms/step - loss: 6.5601e-05 - acc: 1.0000 - val_loss: 0.0062 - val_acc: 0.9926\n",
      "Epoch 42/50\n",
      "24/24 [==============================] - 1s 40ms/step - loss: 6.2081e-05 - acc: 1.0000 - val_loss: 0.0062 - val_acc: 0.9926\n",
      "Epoch 43/50\n",
      "24/24 [==============================] - 1s 39ms/step - loss: 5.8588e-05 - acc: 1.0000 - val_loss: 0.0061 - val_acc: 0.9926\n",
      "Epoch 44/50\n",
      "24/24 [==============================] - 1s 38ms/step - loss: 5.5233e-05 - acc: 1.0000 - val_loss: 0.0059 - val_acc: 0.9926\n",
      "Epoch 45/50\n",
      "24/24 [==============================] - 1s 40ms/step - loss: 5.2090e-05 - acc: 1.0000 - val_loss: 0.0058 - val_acc: 0.9926\n",
      "Epoch 46/50\n",
      "24/24 [==============================] - 1s 40ms/step - loss: 4.9736e-05 - acc: 1.0000 - val_loss: 0.0063 - val_acc: 0.9926\n",
      "Epoch 47/50\n",
      "24/24 [==============================] - 1s 41ms/step - loss: 4.6290e-05 - acc: 1.0000 - val_loss: 0.0060 - val_acc: 0.9926\n",
      "Epoch 48/50\n",
      "24/24 [==============================] - 1s 38ms/step - loss: 4.4509e-05 - acc: 1.0000 - val_loss: 0.0058 - val_acc: 0.9926\n",
      "Epoch 49/50\n",
      "24/24 [==============================] - 1s 38ms/step - loss: 4.1453e-05 - acc: 1.0000 - val_loss: 0.0059 - val_acc: 0.9926\n",
      "Epoch 50/50\n",
      "24/24 [==============================] - 1s 42ms/step - loss: 3.9664e-05 - acc: 1.0000 - val_loss: 0.0060 - val_acc: 0.9926\n",
      "End of retraining...\n"
     ]
    }
   ],
   "source": [
    "print(\"\\nRetraining the model...\")\n",
    "results = model.fit(x_train,\n",
    "                    y_train_ctg,\n",
    "                    validation_data=(x_test, y_test_ctg),\n",
    "                    epochs=N_EPOCHS,\n",
    "                    callbacks=cb)\n",
    "print(\"End of retraining...\")\n",
    "time.sleep(2)"
   ]
  },
  {
   "cell_type": "code",
   "execution_count": 17,
   "id": "0336e76a",
   "metadata": {},
   "outputs": [
    {
     "name": "stderr",
     "output_type": "stream",
     "text": [
      "2021-10-25 00:22:04.582455: W tensorflow/python/util/util.cc:348] Sets are not currently considered sequences, but this may change in the future, so consider avoiding using them.\n"
     ]
    },
    {
     "name": "stdout",
     "output_type": "stream",
     "text": [
      "INFO:tensorflow:Assets written to: subjects/1/model_in_blink_out/assets\n"
     ]
    }
   ],
   "source": [
    "model.save(subject_dir + \"model_in_blink_out\")"
   ]
  },
  {
   "cell_type": "code",
   "execution_count": 20,
   "id": "b34c8d64",
   "metadata": {},
   "outputs": [],
   "source": [
    "yhat_train = model.predict(x_train).argmax(1)\n",
    "yhat_test = model.predict(x_test).argmax(1)"
   ]
  },
  {
   "cell_type": "code",
   "execution_count": 29,
   "id": "52d1aab5",
   "metadata": {},
   "outputs": [
    {
     "name": "stdout",
     "output_type": "stream",
     "text": [
      "Test\n",
      "0\n",
      "0\n"
     ]
    },
    {
     "data": {
      "image/png": "[encoded data removed]",
      "text/plain": [
       "<Figure size 432x288 with 1 Axes>"
      ]
     },
     "metadata": {
      "needs_background": "light"
     },
     "output_type": "display_data"
    }
   ],
   "source": [
    "SAMPLE_NUMBER = 8\n",
    "print(\"Test\")\n",
    "print(y_test[SAMPLE_NUMBER])\n",
    "print(yhat_test[SAMPLE_NUMBER])\n",
    "plt.imshow(\n",
    "    (x1_test[SAMPLE_NUMBER].reshape((frame_height, frame_width)) * 255)\n",
    "    .astype(np.uint8),\n",
    "    cmap=\"gray\",\n",
    "    vmin=0,\n",
    "    vmax=255\n",
    "    )\n",
    "plt.show()"
   ]
  },
  {
   "cell_type": "code",
   "execution_count": 30,
   "id": "a711848e",
   "metadata": {},
   "outputs": [
    {
     "data": {
      "image/png": "[encoded data removed]",
      "text/plain": [
       "<Figure size 432x288 with 1 Axes>"
      ]
     },
     "metadata": {
      "needs_background": "light"
     },
     "output_type": "display_data"
    }
   ],
   "source": [
    "loss = results.history[\"loss\"]\n",
    "val_loss = results.history[\"val_loss\"]\n",
    "plt.plot(loss, label=\"loss\")\n",
    "plt.plot(val_loss, label=\"val_loss\")\n",
    "plt.legend()\n",
    "plt.show()"
   ]
  },
  {
   "cell_type": "code",
   "execution_count": 31,
   "id": "1bcd977b",
   "metadata": {},
   "outputs": [
    {
     "data": {
      "image/png": "[encoded data removed]",
      "text/plain": [
       "<Figure size 1152x1152 with 1 Axes>"
      ]
     },
     "metadata": {
      "needs_background": "light"
     },
     "output_type": "display_data"
    }
   ],
   "source": [
    "from sklearn.metrics import confusion_matrix\n",
    "\n",
    "n_class = y_train_ctg.shape[1]\n",
    "cm_test = confusion_matrix(y_test, yhat_test)\n",
    "plt.figure(figsize=(16,16))\n",
    "plt.imshow(cm_test, cmap=plt.cm.Greens)\n",
    "class_arr = np.arange(n_class)\n",
    "plt.xticks(class_arr)\n",
    "plt.yticks(class_arr)\n",
    "plt.title('Confusion Matrix')\n",
    "plt.xlabel('Predicted labels')\n",
    "plt.ylabel('True labels')\n",
    "\n",
    "for i in range(n_class):\n",
    "    for j in range(n_class):\n",
    "        plt.text(i, j, cm_test[j][i])"
   ]
  }
 ],
 "metadata": {
  "kernelspec": {
   "display_name": "Python 3 (ipykernel)",
   "language": "python",
   "name": "python3"
  },
  "language_info": {
   "codemirror_mode": {
    "name": "ipython",
    "version": 3
   },
   "file_extension": ".py",
   "mimetype": "text/x-python",
   "name": "python",
   "nbconvert_exporter": "python",
   "pygments_lexer": "ipython3",
   "version": "3.9.6"
  }
 },
 "nbformat": 4,
 "nbformat_minor": 5
}
