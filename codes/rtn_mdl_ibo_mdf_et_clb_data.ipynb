{
 "cells": [
  {
   "cell_type": "code",
   "execution_count": 1,
   "id": "04bc516f",
   "metadata": {},
   "outputs": [
    {
     "name": "stdout",
     "output_type": "stream",
     "text": [
      "\n",
      "Retraining 'in_blink_out' model for subject and modifying 'eye_tracking' data for it.\n"
     ]
    }
   ],
   "source": [
    "print(\"\\nRetraining 'in_blink_out' model for subject and modifying 'eye_tracking' data for it.\")"
   ]
  },
  {
   "cell_type": "code",
   "execution_count": 1,
   "id": "370e2b14",
   "metadata": {},
   "outputs": [],
   "source": [
    "from tensorflow.keras.callbacks import EarlyStopping\n",
    "from tensorflow.keras.models import load_model\n",
    "from tensorflow.keras.utils import to_categorical\n",
    "from sklearn.utils import shuffle\n",
    "from joblib import load as jload\n",
    "from joblib import dump as jdump\n",
    "import pickle\n",
    "import tuning_parameters as tp\n",
    "import numpy as np\n",
    "import os"
   ]
  },
  {
   "cell_type": "code",
   "execution_count": 20,
   "id": "f1344641",
   "metadata": {},
   "outputs": [],
   "source": [
    "path2root = \"../\"\n",
    "models_fol = \"models/\"\n",
    "ibo_models_fol = \"in_blink_out/\"\n",
    "trained_fol = \"trained/\"\n",
    "ibo_data_fol = \"in_blink_out data/\"\n",
    "r_train = 0.85\n",
    "n_epochs = 5\n",
    "patience = 2\n",
    "trainable_layers = 1"
   ]
  },
  {
   "cell_type": "code",
   "execution_count": 10,
   "id": "5c062b07",
   "metadata": {},
   "outputs": [],
   "source": [
    "subject_dir = path2root + tp.TARGET_FOLDER + f\"{tp.NUMBER}/\"\n",
    "trained_dir = path2root + models_fol + ibo_models_fol + trained_fol\n",
    "public_model_dir = trained_dir + f\"model{tp.IN_BLINK_OUT_MODEL_NUMBER}\"\n",
    "scalers_dir = trained_dir + f\"scalers{tp.IN_BLINK_OUT_MODEL_NUMBER}.bin\""
   ]
  },
  {
   "cell_type": "code",
   "execution_count": 4,
   "id": "43563004",
   "metadata": {},
   "outputs": [
    {
     "name": "stdout",
     "output_type": "stream",
     "text": [
      "\n",
      "Loading subject data in in_blink_out folder...\n",
      "Sapmles number: 900\n"
     ]
    }
   ],
   "source": [
    "print(\"\\nLoading subject data in in_blink_out folder...\")\n",
    "ibo_dir = subject_dir + ibo_data_fol\n",
    "with open(ibo_dir + \"x1.pickle\", \"rb\") as f:\n",
    "    x1_load = pickle.load(f)\n",
    "with open(ibo_dir + \"x2.pickle\", \"rb\") as f:\n",
    "    x2_load = pickle.load(f)\n",
    "with open(ibo_dir + \"y.pickle\", \"rb\") as f:\n",
    "    y_load = pickle.load(f)\n",
    "n_smp, frame_h, frame_w = x1_load.shape[:-1]\n",
    "print(f\"Sapmles number: {n_smp}\")"
   ]
  },
  {
   "cell_type": "code",
   "execution_count": 6,
   "id": "b7c5f075",
   "metadata": {},
   "outputs": [],
   "source": [
    "import matplotlib.pyplot as plt"
   ]
  },
  {
   "cell_type": "code",
   "execution_count": 7,
   "id": "227878ef",
   "metadata": {},
   "outputs": [
    {
     "name": "stdout",
     "output_type": "stream",
     "text": [
      "[-2.93877798 -0.21783017 -0.24591268  3.18979444  3.34685671 63.70746856\n",
      "  0.49916619  0.47413799  0.50829411  0.50087899]\n",
      "1\n"
     ]
    },
    {
     "data": {
      "image/png": "[encoded data removed]",
      "text/plain": [
       "<Figure size 432x288 with 1 Axes>"
      ]
     },
     "metadata": {
      "needs_background": "light"
     },
     "output_type": "display_data"
    }
   ],
   "source": [
    "smp_num = 301\n",
    "print(x2_load[smp_num])\n",
    "print(y_load[smp_num])\n",
    "plt.imshow(x1_load[smp_num].reshape((frame_h, frame_w)), cmap=\"gray\", vmin=0, vmax=255)\n",
    "plt.show()"
   ]
  },
  {
   "cell_type": "code",
   "execution_count": 11,
   "id": "b1785e54",
   "metadata": {},
   "outputs": [
    {
     "name": "stdout",
     "output_type": "stream",
     "text": [
      "\n",
      "Normalizing data...\n"
     ]
    },
    {
     "data": {
      "text/plain": [
       "['../dataset/3/scalers_in_blink_out.bin']"
      ]
     },
     "execution_count": 11,
     "metadata": {},
     "output_type": "execute_result"
    }
   ],
   "source": [
    "print(\"\\nNormalizing data...\")\n",
    "x2_chs_inp = x2_load[:, tp.CHOSEN_INPUTS]\n",
    "scalers = jload(scalers_dir)\n",
    "x1_scaler, x2_scaler = scalers\n",
    "x1 = x1_load / x1_scaler\n",
    "x2 = x2_scaler.transform(x2_chs_inp)\n",
    "jdump(scalers, subject_dir + \"scalers_in_blink_out.bin\")"
   ]
  },
  {
   "cell_type": "code",
   "execution_count": 12,
   "id": "4b5e4faf",
   "metadata": {},
   "outputs": [
    {
     "name": "stdout",
     "output_type": "stream",
     "text": [
      "\n",
      "Shuffling data...\n"
     ]
    }
   ],
   "source": [
    "print(\"\\nShuffling data...\")\n",
    "x1_shf, x2_shf, y_shf = shuffle(x1, x2, y_load)"
   ]
  },
  {
   "cell_type": "code",
   "execution_count": 13,
   "id": "91de08eb",
   "metadata": {},
   "outputs": [
    {
     "name": "stdout",
     "output_type": "stream",
     "text": [
      "\n",
      "Splitting data to train and test...\n",
      "Data shapes:\n",
      "(765, 48, 44, 1) (135, 48, 44, 1) (765, 7) (135, 7) (765,) (135,)\n"
     ]
    }
   ],
   "source": [
    "print(\"\\nSplitting data to train and test...\")\n",
    "n_train = int(r_train * n_smp)\n",
    "n_test = n_smp - n_train\n",
    "x1_train, x2_train = x1_shf[:n_train], x2_shf[:n_train]\n",
    "x1_test, x2_test = x1_shf[n_train:], x2_shf[n_train:]\n",
    "y_train = y_shf[:n_train]\n",
    "y_test = y_shf[n_train:]\n",
    "print(\"Data shapes:\")\n",
    "print(x1_train.shape, x1_test.shape, x2_train.shape, x2_test.shape,\n",
    "      y_train.shape, y_test.shape)"
   ]
  },
  {
   "cell_type": "code",
   "execution_count": 14,
   "id": "f9e629e8",
   "metadata": {},
   "outputs": [],
   "source": [
    "y_train_ctg = to_categorical(y_train)\n",
    "y_test_ctg = to_categorical(y_test)\n",
    "\n",
    "x_train = [x1_train, x2_train]\n",
    "x_test = [x1_test, x2_test]"
   ]
  },
  {
   "cell_type": "code",
   "execution_count": 16,
   "id": "bbb4dd8d",
   "metadata": {},
   "outputs": [
    {
     "name": "stdout",
     "output_type": "stream",
     "text": [
      "\n",
      "Loading 'in_blink_out' model...\n"
     ]
    }
   ],
   "source": [
    "print(\"\\nLoading 'in_blink_out' model...\")\n",
    "cb = EarlyStopping(patience=patience, verbose=1, restore_best_weights=True)\n",
    "model = load_model(public_model_dir)"
   ]
  },
  {
   "cell_type": "code",
   "execution_count": 17,
   "id": "47a5cae7",
   "metadata": {},
   "outputs": [
    {
     "name": "stdout",
     "output_type": "stream",
     "text": [
      "\n",
      "Model summary:\n",
      "Model: \"model_1\"\n",
      "__________________________________________________________________________________________________\n",
      "Layer (type)                    Output Shape         Param #     Connected to                     \n",
      "==================================================================================================\n",
      "input_3 (InputLayer)            [(None, 48, 44, 1)]  0                                            \n",
      "__________________________________________________________________________________________________\n",
      "conv2d_3 (Conv2D)               (None, 48, 44, 16)   416         input_3[0][0]                    \n",
      "__________________________________________________________________________________________________\n",
      "max_pooling2d_3 (MaxPooling2D)  (None, 24, 22, 16)   0           conv2d_3[0][0]                   \n",
      "__________________________________________________________________________________________________\n",
      "conv2d_4 (Conv2D)               (None, 24, 22, 32)   12832       max_pooling2d_3[0][0]            \n",
      "__________________________________________________________________________________________________\n",
      "max_pooling2d_4 (MaxPooling2D)  (None, 12, 11, 32)   0           conv2d_4[0][0]                   \n",
      "__________________________________________________________________________________________________\n",
      "conv2d_5 (Conv2D)               (None, 10, 9, 64)    18496       max_pooling2d_4[0][0]            \n",
      "__________________________________________________________________________________________________\n",
      "max_pooling2d_5 (MaxPooling2D)  (None, 5, 4, 64)     0           conv2d_5[0][0]                   \n",
      "__________________________________________________________________________________________________\n",
      "flatten_1 (Flatten)             (None, 1280)         0           max_pooling2d_5[0][0]            \n",
      "__________________________________________________________________________________________________\n",
      "dense_6 (Dense)                 (None, 256)          327936      flatten_1[0][0]                  \n",
      "__________________________________________________________________________________________________\n",
      "input_4 (InputLayer)            [(None, 7)]          0                                            \n",
      "__________________________________________________________________________________________________\n",
      "concatenate_1 (Concatenate)     (None, 263)          0           dense_6[0][0]                    \n",
      "                                                                 input_4[0][0]                    \n",
      "__________________________________________________________________________________________________\n",
      "dense_7 (Dense)                 (None, 128)          33792       concatenate_1[0][0]              \n",
      "__________________________________________________________________________________________________\n",
      "dense_8 (Dense)                 (None, 32)           4128        dense_7[0][0]                    \n",
      "__________________________________________________________________________________________________\n",
      "dense_9 (Dense)                 (None, 16)           528         dense_8[0][0]                    \n",
      "__________________________________________________________________________________________________\n",
      "dense_10 (Dense)                (None, 3)            51          dense_9[0][0]                    \n",
      "__________________________________________________________________________________________________\n",
      "dense_11 (Dense)                (None, 3)            12          dense_10[0][0]                   \n",
      "==================================================================================================\n",
      "Total params: 398,191\n",
      "Trainable params: 12\n",
      "Non-trainable params: 398,179\n",
      "__________________________________________________________________________________________________\n",
      "None\n"
     ]
    }
   ],
   "source": [
    "for layer in model.layers[:-trainable_layers]:\n",
    "    layer.trainable = False\n",
    "print(\"\\nModel summary:\")\n",
    "print(model.summary())"
   ]
  },
  {
   "cell_type": "code",
   "execution_count": 19,
   "id": "33258d12",
   "metadata": {},
   "outputs": [
    {
     "name": "stdout",
     "output_type": "stream",
     "text": [
      "\n",
      "Retraining the model...\n",
      "Epoch 1/50\n",
      "24/24 [==============================] - 2s 52ms/step - loss: 0.4724 - acc: 0.9542 - val_loss: 0.3953 - val_acc: 0.9704\n",
      "Epoch 2/50\n",
      "24/24 [==============================] - 1s 45ms/step - loss: 0.4393 - acc: 0.9660 - val_loss: 0.4864 - val_acc: 0.9704\n",
      "Epoch 3/50\n",
      "24/24 [==============================] - 1s 46ms/step - loss: 0.4408 - acc: 0.9634 - val_loss: 0.3715 - val_acc: 0.9926\n",
      "Epoch 4/50\n",
      "24/24 [==============================] - 1s 46ms/step - loss: 0.4242 - acc: 0.9595 - val_loss: 0.3859 - val_acc: 0.9630\n",
      "Epoch 5/50\n",
      "24/24 [==============================] - 1s 44ms/step - loss: 0.4243 - acc: 0.9621 - val_loss: 0.3915 - val_acc: 0.9704\n",
      "Epoch 6/50\n",
      "24/24 [==============================] - 1s 45ms/step - loss: 0.4137 - acc: 0.9673 - val_loss: 0.3583 - val_acc: 0.9778\n",
      "Epoch 7/50\n",
      "24/24 [==============================] - 1s 54ms/step - loss: 0.4276 - acc: 0.9516 - val_loss: 0.3682 - val_acc: 0.9630\n",
      "Epoch 8/50\n",
      "24/24 [==============================] - 1s 45ms/step - loss: 0.6453 - acc: 0.7765 - val_loss: 0.6002 - val_acc: 0.7185\n",
      "Epoch 9/50\n",
      "24/24 [==============================] - 1s 53ms/step - loss: 0.6130 - acc: 0.8209 - val_loss: 0.4259 - val_acc: 0.9111\n",
      "Epoch 10/50\n",
      "24/24 [==============================] - 1s 52ms/step - loss: 0.4714 - acc: 0.8941 - val_loss: 0.3921 - val_acc: 0.9259\n",
      "Epoch 11/50\n",
      "24/24 [==============================] - 1s 44ms/step - loss: 0.4345 - acc: 0.9098 - val_loss: 0.3465 - val_acc: 0.9556\n",
      "Epoch 12/50\n",
      "24/24 [==============================] - 1s 48ms/step - loss: 0.4041 - acc: 0.9294 - val_loss: 0.3265 - val_acc: 0.9926\n",
      "Epoch 13/50\n",
      "24/24 [==============================] - 1s 44ms/step - loss: 0.4166 - acc: 0.9333 - val_loss: 0.4212 - val_acc: 0.8963\n",
      "Epoch 14/50\n",
      "24/24 [==============================] - 1s 44ms/step - loss: 0.4169 - acc: 0.9150 - val_loss: 0.3237 - val_acc: 0.9926\n",
      "Epoch 15/50\n",
      "24/24 [==============================] - 1s 46ms/step - loss: 0.3782 - acc: 0.9438 - val_loss: 0.3076 - val_acc: 0.9926\n",
      "Epoch 16/50\n",
      "24/24 [==============================] - 1s 44ms/step - loss: 0.3571 - acc: 0.9542 - val_loss: 0.2974 - val_acc: 0.9926\n",
      "Epoch 17/50\n",
      "24/24 [==============================] - 1s 44ms/step - loss: 0.3393 - acc: 0.9686 - val_loss: 0.2910 - val_acc: 0.9778\n",
      "Epoch 18/50\n",
      "24/24 [==============================] - 1s 43ms/step - loss: 0.3299 - acc: 0.9673 - val_loss: 0.2971 - val_acc: 0.9778\n",
      "Epoch 19/50\n",
      "24/24 [==============================] - 1s 58ms/step - loss: 0.3106 - acc: 0.9699 - val_loss: 0.3580 - val_acc: 0.9259\n",
      "Epoch 20/50\n",
      "24/24 [==============================] - 1s 57ms/step - loss: 0.5283 - acc: 0.8497 - val_loss: 0.4131 - val_acc: 0.9111\n",
      "Epoch 21/50\n",
      "24/24 [==============================] - 2s 64ms/step - loss: 0.4657 - acc: 0.8797 - val_loss: 0.3509 - val_acc: 0.9333\n",
      "Epoch 22/50\n",
      "24/24 [==============================] - 2s 71ms/step - loss: 0.4078 - acc: 0.9124 - val_loss: 0.3119 - val_acc: 0.9407\n",
      "Epoch 23/50\n",
      "24/24 [==============================] - 2s 67ms/step - loss: 0.3536 - acc: 0.9464 - val_loss: 0.2796 - val_acc: 0.9704\n",
      "Epoch 24/50\n",
      "24/24 [==============================] - 1s 53ms/step - loss: 0.3215 - acc: 0.9634 - val_loss: 0.2796 - val_acc: 0.9630\n",
      "Epoch 25/50\n",
      "24/24 [==============================] - 1s 49ms/step - loss: 0.3126 - acc: 0.9686 - val_loss: 0.2525 - val_acc: 1.0000\n",
      "Epoch 26/50\n",
      "24/24 [==============================] - 1s 47ms/step - loss: 0.3086 - acc: 0.9699 - val_loss: 0.2501 - val_acc: 0.9778\n",
      "Epoch 27/50\n",
      "24/24 [==============================] - 1s 48ms/step - loss: 0.2837 - acc: 0.9765 - val_loss: 0.2486 - val_acc: 0.9704\n",
      "Epoch 28/50\n",
      "24/24 [==============================] - 1s 49ms/step - loss: 0.2788 - acc: 0.9778 - val_loss: 0.2737 - val_acc: 0.9630\n",
      "Epoch 29/50\n",
      "24/24 [==============================] - 1s 49ms/step - loss: 0.2842 - acc: 0.9778 - val_loss: 0.2405 - val_acc: 0.9778\n",
      "Epoch 30/50\n",
      "24/24 [==============================] - 1s 60ms/step - loss: 0.2727 - acc: 0.9725 - val_loss: 0.2308 - val_acc: 0.9778\n",
      "Epoch 31/50\n",
      "24/24 [==============================] - 1s 57ms/step - loss: 0.2857 - acc: 0.9778 - val_loss: 0.3300 - val_acc: 0.9111\n",
      "Epoch 32/50\n",
      "24/24 [==============================] - 2s 67ms/step - loss: 0.3648 - acc: 0.9203 - val_loss: 0.3113 - val_acc: 0.9333\n",
      "Epoch 33/50\n",
      "24/24 [==============================] - 1s 59ms/step - loss: 0.2927 - acc: 0.9569 - val_loss: 0.2465 - val_acc: 0.9704\n",
      "Epoch 34/50\n",
      "24/24 [==============================] - 1s 57ms/step - loss: 0.4615 - acc: 0.8497 - val_loss: 0.3687 - val_acc: 0.9185\n",
      "Epoch 35/50\n",
      "24/24 [==============================] - 2s 64ms/step - loss: 0.3228 - acc: 0.9464 - val_loss: 0.3127 - val_acc: 0.9556\n",
      "Epoch 36/50\n",
      "24/24 [==============================] - 1s 60ms/step - loss: 0.2792 - acc: 0.9647 - val_loss: 0.2478 - val_acc: 0.9704\n",
      "Epoch 37/50\n",
      "24/24 [==============================] - 2s 66ms/step - loss: 0.2568 - acc: 0.9739 - val_loss: 0.2429 - val_acc: 0.9630\n",
      "Epoch 38/50\n",
      "24/24 [==============================] - 2s 73ms/step - loss: 0.2489 - acc: 0.9752 - val_loss: 0.2370 - val_acc: 0.9704\n",
      "Epoch 39/50\n",
      "24/24 [==============================] - 2s 66ms/step - loss: 0.2499 - acc: 0.9686 - val_loss: 0.2262 - val_acc: 0.9778\n",
      "Epoch 40/50\n",
      "24/24 [==============================] - 2s 64ms/step - loss: 0.2458 - acc: 0.9778 - val_loss: 0.2332 - val_acc: 0.9778\n",
      "Epoch 41/50\n",
      "24/24 [==============================] - 1s 49ms/step - loss: 0.2213 - acc: 0.9856 - val_loss: 0.1999 - val_acc: 0.9778\n",
      "Epoch 42/50\n",
      "24/24 [==============================] - 1s 59ms/step - loss: 0.2112 - acc: 0.9869 - val_loss: 0.1944 - val_acc: 0.9852\n",
      "Epoch 43/50\n",
      "24/24 [==============================] - 1s 57ms/step - loss: 0.2091 - acc: 0.9882 - val_loss: 0.1964 - val_acc: 0.9778\n",
      "Epoch 44/50\n",
      "24/24 [==============================] - 1s 46ms/step - loss: 0.2286 - acc: 0.9856 - val_loss: 0.2376 - val_acc: 0.9481\n",
      "Epoch 45/50\n",
      "24/24 [==============================] - 1s 48ms/step - loss: 0.6622 - acc: 0.7255 - val_loss: 0.5926 - val_acc: 0.7185\n",
      "Epoch 46/50\n",
      "24/24 [==============================] - 1s 48ms/step - loss: 0.5433 - acc: 0.8340 - val_loss: 0.3289 - val_acc: 0.8963\n",
      "Epoch 47/50\n",
      "24/24 [==============================] - 1s 48ms/step - loss: 0.3933 - acc: 0.8771 - val_loss: 0.2767 - val_acc: 0.9259\n",
      "Epoch 48/50\n",
      "24/24 [==============================] - 1s 50ms/step - loss: 0.3120 - acc: 0.9229 - val_loss: 0.2072 - val_acc: 0.9852\n",
      "Epoch 49/50\n",
      "24/24 [==============================] - 1s 47ms/step - loss: 0.2820 - acc: 0.9451 - val_loss: 0.2100 - val_acc: 0.9778\n",
      "Epoch 50/50\n",
      "24/24 [==============================] - 1s 48ms/step - loss: 0.3595 - acc: 0.9124 - val_loss: 0.3231 - val_acc: 0.8963\n",
      "End of retraining...\n"
     ]
    }
   ],
   "source": [
    "print(\"\\nRetraining the model...\")\n",
    "results = model.fit(x_train,\n",
    "                    y_train_ctg,\n",
    "                    validation_data=(x_test, y_test_ctg),\n",
    "                    epochs=n_epochs,\n",
    "                    callbacks=cb)\n",
    "print(\"End of retraining...\")"
   ]
  },
  {
   "cell_type": "code",
   "execution_count": 21,
   "id": "0336e76a",
   "metadata": {},
   "outputs": [
    {
     "name": "stdout",
     "output_type": "stream",
     "text": [
      "INFO:tensorflow:Assets written to: ../dataset/3/model_in_blink_out\\assets\n"
     ]
    }
   ],
   "source": [
    "model.save(subject_dir + \"model_in_blink_out\")"
   ]
  },
  {
   "cell_type": "code",
   "execution_count": 22,
   "id": "b34c8d64",
   "metadata": {},
   "outputs": [],
   "source": [
    "yhat_train = model.predict(x_train).argmax(1)\n",
    "yhat_test = model.predict(x_test).argmax(1)"
   ]
  },
  {
   "cell_type": "code",
   "execution_count": 23,
   "id": "52d1aab5",
   "metadata": {},
   "outputs": [
    {
     "name": "stdout",
     "output_type": "stream",
     "text": [
      "Test\n",
      "2\n",
      "2\n"
     ]
    },
    {
     "data": {
      "image/png": "[encoded data removed]",
      "text/plain": [
       "<Figure size 432x288 with 1 Axes>"
      ]
     },
     "metadata": {
      "needs_background": "light"
     },
     "output_type": "display_data"
    }
   ],
   "source": [
    "smp_num = 8\n",
    "print(\"Test\")\n",
    "print(y_test[smp_num])\n",
    "print(yhat_test[smp_num])\n",
    "plt.imshow(\n",
    "    (x1_test[smp_num].reshape((frame_h, frame_w)) * 255)\n",
    "    .astype(np.uint8),\n",
    "    cmap=\"gray\",\n",
    "    vmin=0,\n",
    "    vmax=255\n",
    "    )\n",
    "plt.show()"
   ]
  },
  {
   "cell_type": "code",
   "execution_count": 24,
   "id": "a711848e",
   "metadata": {},
   "outputs": [
    {
     "data": {
      "image/png": "[encoded data removed]",
      "text/plain": [
       "<Figure size 432x288 with 1 Axes>"
      ]
     },
     "metadata": {
      "needs_background": "light"
     },
     "output_type": "display_data"
    }
   ],
   "source": [
    "loss = results.history[\"loss\"]\n",
    "val_loss = results.history[\"val_loss\"]\n",
    "plt.plot(loss, label=\"loss\")\n",
    "plt.plot(val_loss, label=\"val_loss\")\n",
    "plt.legend()\n",
    "plt.show()"
   ]
  },
  {
   "cell_type": "code",
   "execution_count": 25,
   "id": "1bcd977b",
   "metadata": {},
   "outputs": [
    {
     "data": {
      "image/png": "[encoded data removed]",
      "text/plain": [
       "<Figure size 1152x1152 with 1 Axes>"
      ]
     },
     "metadata": {
      "needs_background": "light"
     },
     "output_type": "display_data"
    }
   ],
   "source": [
    "from sklearn.metrics import confusion_matrix\n",
    "\n",
    "n_class = y_train_ctg.shape[1]\n",
    "cm_test = confusion_matrix(y_test, yhat_test)\n",
    "plt.figure(figsize=(16,16))\n",
    "plt.imshow(cm_test, cmap=plt.cm.Greens)\n",
    "class_arr = np.arange(n_class)\n",
    "plt.xticks(class_arr)\n",
    "plt.yticks(class_arr)\n",
    "plt.title('Confusion Matrix')\n",
    "plt.xlabel('Predicted labels')\n",
    "plt.ylabel('True labels')\n",
    "\n",
    "for i in range(n_class):\n",
    "    for j in range(n_class):\n",
    "        plt.text(i, j, cm_test[j][i])"
   ]
  }
 ],
 "metadata": {
  "kernelspec": {
   "display_name": "venv",
   "language": "python",
   "name": "venv"
  },
  "language_info": {
   "codemirror_mode": {
    "name": "ipython",
    "version": 3
   },
   "file_extension": ".py",
   "mimetype": "text/x-python",
   "name": "python",
   "nbconvert_exporter": "python",
   "pygments_lexer": "ipython3",
   "version": "3.9.6"
  }
 },
 "nbformat": 4,
 "nbformat_minor": 5
}
