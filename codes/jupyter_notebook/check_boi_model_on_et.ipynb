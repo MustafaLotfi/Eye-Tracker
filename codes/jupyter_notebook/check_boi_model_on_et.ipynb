{
 "cells": [
  {
   "cell_type": "code",
   "execution_count": 1,
   "id": "fecbac60",
   "metadata": {},
   "outputs": [],
   "source": [
    "from tensorflow.keras.models import load_model\n",
    "from joblib import load as j_load\n",
    "import cv2\n",
    "import pickle"
   ]
  },
  {
   "cell_type": "code",
   "execution_count": 2,
   "id": "c0f85582",
   "metadata": {},
   "outputs": [],
   "source": [
    "# Uncomment this box if the file is in your local directory\n",
    "path2root = \"../../\""
   ]
  },
  {
   "cell_type": "code",
   "execution_count": 22,
   "id": "bf26ac93",
   "metadata": {},
   "outputs": [],
   "source": [
    "subjects_fol = \"subjects/\"\n",
    "sbj_scalers_boi_name = \"scalers-boi.bin\"\n",
    "sbj_model_boi_name = \"model-boi2.h5\"\n",
    "sbj = 3\n",
    "data_et_fol = \"data-et-clb/\"\n",
    "chosen_inputs = [0, 1, 2, 3, 4, 5, 6, 7, 8, 9]"
   ]
  },
  {
   "cell_type": "code",
   "execution_count": 23,
   "id": "2787fe8b",
   "metadata": {},
   "outputs": [],
   "source": [
    "sbj_dir = path2root + subjects_fol + f\"{sbj}/\"\n",
    "model_boi_dir = sbj_dir + sbj_model_boi_name\n",
    "scalers_boi_dir = sbj_dir + sbj_scalers_boi_name\n",
    "data_et_dir = sbj_dir + data_et_fol\n",
    "    \n",
    "with open(data_et_dir + \"x1.pickle\", \"rb\") as f:\n",
    "    x1_load = pickle.load(f)\n",
    "with open(data_et_dir + \"x2.pickle\", \"rb\") as f:\n",
    "    x2_load = pickle.load(f)"
   ]
  },
  {
   "cell_type": "code",
   "execution_count": 26,
   "id": "eff56379",
   "metadata": {},
   "outputs": [
    {
     "ename": "FileNotFoundError",
     "evalue": "[Errno 2] No such file or directory: '../../subjects/3/scalers-boi.bin'",
     "output_type": "error",
     "traceback": [
      "\u001b[1;31m---------------------------------------------------------------------------\u001b[0m",
      "\u001b[1;31mFileNotFoundError\u001b[0m                         Traceback (most recent call last)",
      "\u001b[1;32m~\\AppData\\Local\\Temp/ipykernel_5904/1123430948.py\u001b[0m in \u001b[0;36m<module>\u001b[1;34m\u001b[0m\n\u001b[0;32m      1\u001b[0m \u001b[0mx2_chs_inp\u001b[0m \u001b[1;33m=\u001b[0m \u001b[0mx2_load\u001b[0m\u001b[1;33m[\u001b[0m\u001b[1;33m:\u001b[0m\u001b[1;33m,\u001b[0m \u001b[0mchosen_inputs\u001b[0m\u001b[1;33m]\u001b[0m\u001b[1;33m\u001b[0m\u001b[1;33m\u001b[0m\u001b[0m\n\u001b[1;32m----> 2\u001b[1;33m \u001b[0mscalers_boi\u001b[0m \u001b[1;33m=\u001b[0m \u001b[0mj_load\u001b[0m\u001b[1;33m(\u001b[0m\u001b[0mscalers_boi_dir\u001b[0m\u001b[1;33m)\u001b[0m\u001b[1;33m\u001b[0m\u001b[1;33m\u001b[0m\u001b[0m\n\u001b[0m\u001b[0;32m      3\u001b[0m \u001b[0mx1_scaler_boi\u001b[0m\u001b[1;33m,\u001b[0m \u001b[0mx2_scaler_boi\u001b[0m \u001b[1;33m=\u001b[0m \u001b[0mscalers_boi\u001b[0m\u001b[1;33m\u001b[0m\u001b[1;33m\u001b[0m\u001b[0m\n\u001b[0;32m      4\u001b[0m \u001b[0mx1\u001b[0m \u001b[1;33m=\u001b[0m \u001b[0mx1_load\u001b[0m \u001b[1;33m/\u001b[0m \u001b[0mx1_scaler_boi\u001b[0m\u001b[1;33m\u001b[0m\u001b[1;33m\u001b[0m\u001b[0m\n\u001b[0;32m      5\u001b[0m \u001b[0mx2\u001b[0m \u001b[1;33m=\u001b[0m \u001b[0mx2_scaler_boi\u001b[0m\u001b[1;33m.\u001b[0m\u001b[0mtransform\u001b[0m\u001b[1;33m(\u001b[0m\u001b[0mx2_chs_inp\u001b[0m\u001b[1;33m)\u001b[0m\u001b[1;33m\u001b[0m\u001b[1;33m\u001b[0m\u001b[0m\n",
      "\u001b[1;32mF:\\Education_Study\\University\\MSC\\Thesis\\EyeTracker\\venv\\lib\\site-packages\\joblib\\numpy_pickle.py\u001b[0m in \u001b[0;36mload\u001b[1;34m(filename, mmap_mode)\u001b[0m\n\u001b[0;32m    577\u001b[0m             \u001b[0mobj\u001b[0m \u001b[1;33m=\u001b[0m \u001b[0m_unpickle\u001b[0m\u001b[1;33m(\u001b[0m\u001b[0mfobj\u001b[0m\u001b[1;33m)\u001b[0m\u001b[1;33m\u001b[0m\u001b[1;33m\u001b[0m\u001b[0m\n\u001b[0;32m    578\u001b[0m     \u001b[1;32melse\u001b[0m\u001b[1;33m:\u001b[0m\u001b[1;33m\u001b[0m\u001b[1;33m\u001b[0m\u001b[0m\n\u001b[1;32m--> 579\u001b[1;33m         \u001b[1;32mwith\u001b[0m \u001b[0mopen\u001b[0m\u001b[1;33m(\u001b[0m\u001b[0mfilename\u001b[0m\u001b[1;33m,\u001b[0m \u001b[1;34m'rb'\u001b[0m\u001b[1;33m)\u001b[0m \u001b[1;32mas\u001b[0m \u001b[0mf\u001b[0m\u001b[1;33m:\u001b[0m\u001b[1;33m\u001b[0m\u001b[1;33m\u001b[0m\u001b[0m\n\u001b[0m\u001b[0;32m    580\u001b[0m             \u001b[1;32mwith\u001b[0m \u001b[0m_read_fileobject\u001b[0m\u001b[1;33m(\u001b[0m\u001b[0mf\u001b[0m\u001b[1;33m,\u001b[0m \u001b[0mfilename\u001b[0m\u001b[1;33m,\u001b[0m \u001b[0mmmap_mode\u001b[0m\u001b[1;33m)\u001b[0m \u001b[1;32mas\u001b[0m \u001b[0mfobj\u001b[0m\u001b[1;33m:\u001b[0m\u001b[1;33m\u001b[0m\u001b[1;33m\u001b[0m\u001b[0m\n\u001b[0;32m    581\u001b[0m                 \u001b[1;32mif\u001b[0m \u001b[0misinstance\u001b[0m\u001b[1;33m(\u001b[0m\u001b[0mfobj\u001b[0m\u001b[1;33m,\u001b[0m \u001b[0mstr\u001b[0m\u001b[1;33m)\u001b[0m\u001b[1;33m:\u001b[0m\u001b[1;33m\u001b[0m\u001b[1;33m\u001b[0m\u001b[0m\n",
      "\u001b[1;31mFileNotFoundError\u001b[0m: [Errno 2] No such file or directory: '../../subjects/3/scalers-boi.bin'"
     ]
    }
   ],
   "source": [
    "x2_chs_inp = x2_load[:, chosen_inputs]\n",
    "scalers_boi = j_load(scalers_boi_dir)\n",
    "x1_scaler_boi, x2_scaler_boi = scalers_boi\n",
    "x1 = x1_load / x1_scaler_boi\n",
    "x2 = x2_scaler_boi.transform(x2_chs_inp)\n",
    "    \n",
    "# model_boi = load_model(model_boi_dir)\n",
    "    \n",
    "# y_prd_boi = model_boi.predict([x1, x2]) #  .argmax(1)"
   ]
  },
  {
   "cell_type": "code",
   "execution_count": 13,
   "id": "259cacf4",
   "metadata": {},
   "outputs": [
    {
     "name": "stdout",
     "output_type": "stream",
     "text": [
      "16\n"
     ]
    }
   ],
   "source": [
    "print((y_prd_boi.round()==1).sum())"
   ]
  },
  {
   "cell_type": "code",
   "execution_count": 25,
   "id": "52ffe7c6",
   "metadata": {},
   "outputs": [],
   "source": [
    "for (i, img) in enumerate(x1):\n",
    "    if True: # i % 10 == 0:\n",
    "#         cv2.putText(img, str(round(y_prd_boi[i, 0])), (40, 80), cv2.FONT_HERSHEY_SIMPLEX, 1.5, (0, 0, 255), 1)\n",
    "        cv2.imshow(\"Eyes\", img)\n",
    "        q = cv2.waitKey(5)\n",
    "        if q == ord('q'):\n",
    "            break\n",
    "cv2.destroyAllWindows()"
   ]
  },
  {
   "cell_type": "code",
   "execution_count": 7,
   "id": "2304c430",
   "metadata": {},
   "outputs": [],
   "source": [
    "smp_num = 20\n",
    "print(round(y_prd_boi[smp_num, 0]))\n",
    "cv2.imshow(\"Eyes\", x1[smp_num])\n",
    "cv2.waitKey(0)\n",
    "cv2.destroyAllWindows()"
   ]
  },
  {
   "cell_type": "code",
   "execution_count": null,
   "id": "0254f097",
   "metadata": {},
   "outputs": [],
   "source": []
  },
  {
   "cell_type": "code",
   "execution_count": null,
   "id": "7fa3edcb",
   "metadata": {},
   "outputs": [],
   "source": []
  }
 ],
 "metadata": {
  "kernelspec": {
   "display_name": "venv",
   "language": "python",
   "name": "venv"
  },
  "language_info": {
   "codemirror_mode": {
    "name": "ipython",
    "version": 3
   },
   "file_extension": ".py",
   "mimetype": "text/x-python",
   "name": "python",
   "nbconvert_exporter": "python",
   "pygments_lexer": "ipython3",
   "version": "3.9.6"
  }
 },
 "nbformat": 4,
 "nbformat_minor": 5
}
