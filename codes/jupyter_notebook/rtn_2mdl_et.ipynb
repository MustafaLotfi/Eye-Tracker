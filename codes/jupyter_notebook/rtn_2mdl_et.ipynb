{
 "cells": [
  {
   "cell_type": "markdown",
   "metadata": {
    "id": "s4mSPpqO8oEz"
   },
   "source": [
    "## Retraining 'eye_tracking' model for subject and predicting eye track (pixel coordinate)."
   ]
  },
  {
   "cell_type": "code",
   "execution_count": 1,
   "metadata": {
    "id": "Ks_AbdKIb-xZ"
   },
   "outputs": [],
   "source": [
    "from tensorflow.keras.callbacks import EarlyStopping\n",
    "from tensorflow.keras.models import load_model\n",
    "import numpy as np\n",
    "import pickle\n",
    "from sklearn.utils import shuffle\n",
    "from joblib import load as j_load\n",
    "from joblib import dump as j_dump\n",
    "import time\n",
    "import os\n",
    "import tuning_parameters as tp"
   ]
  },
  {
   "cell_type": "code",
   "execution_count": 2,
   "metadata": {
    "id": "T5XUNQBvcGf6"
   },
   "outputs": [],
   "source": [
    "# Parameters\n",
    "path2root = \"../\"\n",
    "models_fol = \"models/\"\n",
    "models_et_fol = \"et/\"\n",
    "trained_fol = \"trained/\"\n",
    "subjects_dir = \"subjects/\"\n",
    "data_et_fol = \"data-et-clb/\"\n",
    "sbj_scalers_boi_fol = \"scalers-boi.bin\"\n",
    "sbj_model_boi_fol = \"model-boi\"\n",
    "r_train = 0.85\n",
    "n_epochs = 5\n",
    "patience = 2\n",
    "trainable_layers = 1\n",
    "chosen_inputs = [0, 1, 2, 6, 7, 8, 9]"
   ]
  },
  {
   "cell_type": "code",
   "execution_count": 3,
   "metadata": {},
   "outputs": [],
   "source": [
    "sbj_dir = path2root + subjects_dir + f\"{tp.NUMBER}/\"\n",
    "trained_dir = path2root + models_fol + models_et_fol + trained_fol"
   ]
  },
  {
   "cell_type": "markdown",
   "metadata": {
    "id": "wGy7E9iA8oFA"
   },
   "source": [
    "### Retraining 'eye_tracking' model with subject calibration data"
   ]
  },
  {
   "cell_type": "code",
   "execution_count": 4,
   "metadata": {
    "colab": {
     "base_uri": "https://localhost:8080/"
    },
    "id": "bvzEN-j4cGFQ",
    "outputId": "8ae84f7e-2cca-4f92-d03d-43e5e5f431a4"
   },
   "outputs": [
    {
     "name": "stdout",
     "output_type": "stream",
     "text": [
      "\n",
      "Loading subject data in ../subjects/7/data-et-clb/\n",
      "Samples number: 60\n"
     ]
    }
   ],
   "source": [
    "data_et_dir = sbj_dir + data_et_fol\n",
    "print(f\"\\nLoading subject data in {data_et_dir}\")\n",
    "with open(data_et_dir + \"x1.pickle\", \"rb\") as f:\n",
    "    x1_load = pickle.load(f)\n",
    "with open(data_et_dir + \"x2.pickle\", \"rb\") as f:\n",
    "    x2_load = pickle.load(f)\n",
    "with open(data_et_dir + \"y.pickle\", \"rb\") as f:\n",
    "    y_load = pickle.load(f)\n",
    "n_smp, frame_h, frame_w = x1_load.shape[:-1]\n",
    "print(f\"Samples number: {n_smp}\")"
   ]
  },
  {
   "cell_type": "code",
   "execution_count": 5,
   "metadata": {
    "id": "ygdBBcjud--4"
   },
   "outputs": [],
   "source": [
    "import matplotlib.pyplot as plt"
   ]
  },
  {
   "cell_type": "code",
   "execution_count": 6,
   "metadata": {
    "colab": {
     "base_uri": "https://localhost:8080/",
     "height": 336
    },
    "id": "x4GOLYKnAWR-",
    "outputId": "2352588f-265d-49a7-d627-2ea272a4c1f2"
   },
   "outputs": [
    {
     "name": "stdout",
     "output_type": "stream",
     "text": [
      "[ 2.88548892e+00  3.69332781e-02 -2.78162478e-01  2.92375072e+00\n",
      " -3.71728999e+00  5.84556838e+01  4.44627553e-01  4.36479121e-01\n",
      "  4.57284629e-01  4.40449417e-01]\n",
      "[23 12]\n"
     ]
    },
    {
     "data": {
      "image/png": "[encoded data removed]",
      "text/plain": [
       "<Figure size 432x288 with 1 Axes>"
      ]
     },
     "metadata": {
      "needs_background": "light"
     },
     "output_type": "display_data"
    }
   ],
   "source": [
    "# Displaying data\n",
    "smp_num = 0\n",
    "print(x2_load[smp_num])\n",
    "print(y_load[smp_num])\n",
    "plt.imshow(x1_load[smp_num].reshape((frame_h, frame_w)),\n",
    "           cmap=\"gray\", vmin=0, vmax=255)\n",
    "plt.show()"
   ]
  },
  {
   "cell_type": "markdown",
   "metadata": {
    "id": "8AzfSjqn8oFD"
   },
   "source": [
    "#### Getting those data that looking 'in' screen"
   ]
  },
  {
   "cell_type": "code",
   "execution_count": 7,
   "metadata": {
    "colab": {
     "base_uri": "https://localhost:8080/"
    },
    "id": "DWA57YKb8oFE",
    "outputId": "bcf52386-ae85-4ff9-af25-1f9415bebd56"
   },
   "outputs": [
    {
     "name": "stdout",
     "output_type": "stream",
     "text": [
      "\n",
      "Normalizing data...\n"
     ]
    }
   ],
   "source": [
    "print(\"\\nNormalizing data...\")\n",
    "sbj_scalers_boi_dir = sbj_dir + sbj_scalers_boi_fol\n",
    "x2_chs_inp = x2_load[:, chosen_inputs]\n",
    "x1_scaler_boi, x2_scaler_boi = j_load(sbj_scalers_boi_dir)\n",
    "x1_boi = x1_load / x1_scaler_boi\n",
    "x2_boi = x2_scaler_boi.transform(x2_chs_inp)"
   ]
  },
  {
   "cell_type": "code",
   "execution_count": 8,
   "metadata": {
    "colab": {
     "base_uri": "https://localhost:8080/"
    },
    "id": "SJ-ojxa18oFG",
    "outputId": "92885191-edcc-4664-fa23-d57e7c2b770e"
   },
   "outputs": [
    {
     "name": "stdout",
     "output_type": "stream",
     "text": [
      "\n",
      "Loading in_blink_out model...\n",
      "Model: \"model\"\n",
      "__________________________________________________________________________________________________\n",
      "Layer (type)                    Output Shape         Param #     Connected to                     \n",
      "==================================================================================================\n",
      "input_1 (InputLayer)            [(None, 48, 44, 1)]  0                                            \n",
      "__________________________________________________________________________________________________\n",
      "conv2d (Conv2D)                 (None, 48, 44, 16)   416         input_1[0][0]                    \n",
      "__________________________________________________________________________________________________\n",
      "max_pooling2d (MaxPooling2D)    (None, 24, 22, 16)   0           conv2d[0][0]                     \n",
      "__________________________________________________________________________________________________\n",
      "conv2d_1 (Conv2D)               (None, 24, 22, 32)   12832       max_pooling2d[0][0]              \n",
      "__________________________________________________________________________________________________\n",
      "max_pooling2d_1 (MaxPooling2D)  (None, 12, 11, 32)   0           conv2d_1[0][0]                   \n",
      "__________________________________________________________________________________________________\n",
      "conv2d_2 (Conv2D)               (None, 10, 9, 64)    18496       max_pooling2d_1[0][0]            \n",
      "__________________________________________________________________________________________________\n",
      "max_pooling2d_2 (MaxPooling2D)  (None, 5, 4, 64)     0           conv2d_2[0][0]                   \n",
      "__________________________________________________________________________________________________\n",
      "flatten (Flatten)               (None, 1280)         0           max_pooling2d_2[0][0]            \n",
      "__________________________________________________________________________________________________\n",
      "dense (Dense)                   (None, 256)          327936      flatten[0][0]                    \n",
      "__________________________________________________________________________________________________\n",
      "input_2 (InputLayer)            [(None, 7)]          0                                            \n",
      "__________________________________________________________________________________________________\n",
      "concatenate (Concatenate)       (None, 263)          0           dense[0][0]                      \n",
      "                                                                 input_2[0][0]                    \n",
      "__________________________________________________________________________________________________\n",
      "dense_1 (Dense)                 (None, 128)          33792       concatenate[0][0]                \n",
      "__________________________________________________________________________________________________\n",
      "dense_2 (Dense)                 (None, 32)           4128        dense_1[0][0]                    \n",
      "__________________________________________________________________________________________________\n",
      "dense_3 (Dense)                 (None, 16)           528         dense_2[0][0]                    \n",
      "__________________________________________________________________________________________________\n",
      "dense_4 (Dense)                 (None, 3)            51          dense_3[0][0]                    \n",
      "__________________________________________________________________________________________________\n",
      "dense_5 (Dense)                 (None, 3)            12          dense_4[0][0]                    \n",
      "==================================================================================================\n",
      "Total params: 398,191\n",
      "Trainable params: 12\n",
      "Non-trainable params: 398,179\n",
      "__________________________________________________________________________________________________\n",
      "None\n"
     ]
    }
   ],
   "source": [
    "print(\"\\nLoading in_blink_out model...\")\n",
    "sbj_model_boi_dir = sbj_dir + sbj_model_boi_fol\n",
    "model_boi = load_model(sbj_model_boi_dir)\n",
    "print(model_boi.summary())"
   ]
  },
  {
   "cell_type": "code",
   "execution_count": 9,
   "metadata": {
    "colab": {
     "base_uri": "https://localhost:8080/"
    },
    "id": "KGqOn_458oFH",
    "outputId": "9080e5e9-11ac-4e42-b39f-7c5aa5181ffb"
   },
   "outputs": [
    {
     "name": "stdout",
     "output_type": "stream",
     "text": [
      "\n",
      "Predicting those data that looking 'in' screen.\n"
     ]
    }
   ],
   "source": [
    "print(\"\\nPredicting those data that looking 'in' screen.\")\n",
    "yhat_boi = model_boi.predict([x1_boi, x2_boi]).argmax(1)"
   ]
  },
  {
   "cell_type": "code",
   "execution_count": 10,
   "metadata": {
    "colab": {
     "base_uri": "https://localhost:8080/"
    },
    "id": "ySFqmNyd8oFI",
    "outputId": "75cea127-1407-47f9-a7a9-ab1be5bcdf09"
   },
   "outputs": [
    {
     "name": "stdout",
     "output_type": "stream",
     "text": [
      "New samples: 60\n"
     ]
    }
   ],
   "source": [
    "# Choosing those data\n",
    "x1_new = []\n",
    "x2_new = []\n",
    "y_new = []\n",
    "for (x10, x20, y0, yht0) in zip(x1_load, x2_load, y_load, yhat_boi):\n",
    "    if True: # yht0 != 1:\n",
    "        x1_new.append(x10)\n",
    "        x2_new.append(x20)\n",
    "        y_new.append(y0)\n",
    "\n",
    "x1_new = np.array(x1_new)\n",
    "x2_new = np.array(x2_new)\n",
    "y_new = np.array(y_new)\n",
    "n_smp_new = x1_new.shape[0]\n",
    "print(f\"New samples: {n_smp_new}\")"
   ]
  },
  {
   "cell_type": "markdown",
   "metadata": {
    "id": "tVhzAjUV8oFJ"
   },
   "source": [
    "### Preparing modified calibration data to feeding in eye_tracking model"
   ]
  },
  {
   "cell_type": "code",
   "execution_count": 11,
   "metadata": {
    "colab": {
     "base_uri": "https://localhost:8080/"
    },
    "id": "o2yHN0I9cF6o",
    "outputId": "adfd1167-179f-48b5-c016-91e9249c46eb"
   },
   "outputs": [
    {
     "name": "stdout",
     "output_type": "stream",
     "text": [
      "\n",
      "Normalizing modified calibration data to feeding in eye_tracking model...\n"
     ]
    },
    {
     "data": {
      "text/plain": [
       "['../subjects/7/scalers-et.bin']"
      ]
     },
     "execution_count": 11,
     "metadata": {},
     "output_type": "execute_result"
    }
   ],
   "source": [
    "print(\"\\nNormalizing modified calibration data to feeding in eye_tracking model...\")\n",
    "public_scalers_et_dir = trained_dir + f\"scalers{tp.MODEL_EYE_TRACKING_NUM}.bin\"\n",
    "x2_chs_inp_new = x2_new[:, chosen_inputs]\n",
    "scalers_et = j_load(public_scalers_et_dir)\n",
    "x1_scaler_et, x2_scaler_et, _ = scalers_et\n",
    "\n",
    "x1_nrm = x1_new / x1_scaler_et\n",
    "x2_nrm = x2_scaler_et.transform(x2_chs_inp_new)\n",
    "\n",
    "j_dump(scalers_et, sbj_dir + \"scalers-et.bin\")"
   ]
  },
  {
   "cell_type": "code",
   "execution_count": 12,
   "metadata": {
    "colab": {
     "base_uri": "https://localhost:8080/"
    },
    "id": "eNwyQAwL2pGS",
    "outputId": "9812cee4-8a01-4734-b479-81feed0099c2"
   },
   "outputs": [
    {
     "name": "stdout",
     "output_type": "stream",
     "text": [
      "(51, 48, 44, 1) (9, 48, 44, 1) (51,) (9,) (51, 7) (9, 7) (51,) (9,)\n"
     ]
    }
   ],
   "source": [
    "# Shuffling and splitting data to train and test\n",
    "x1_shf, x2_shf, y_hrz_shf, y_vrt_shf = shuffle(x1_nrm, x2_nrm, y_nrm[:, 0], y_nrm[:, 1])\n",
    "\n",
    "n_train = int(r_train * n_smp_new)\n",
    "n_test = n_smp_new - n_train\n",
    "x1_train, x2_train = x1_shf[:n_train], x2_shf[:n_train]\n",
    "x1_test, x2_test = x1_shf[n_train:], x2_shf[n_train:]\n",
    "y_hrz_train, y_vrt_train = y_hrz_shf[:n_train], y_vrt_shf[:n_train]\n",
    "y_hrz_test, y_vrt_test = y_hrz_shf[n_train:], y_vrt_shf[n_train:]\n",
    "\n",
    "x_train = [x1_train, x2_train]\n",
    "x_test = [x1_test, x2_test]\n",
    "\n",
    "print(x1_train.shape, x1_test.shape, y_hrz_train.shape, y_hrz_test.shape,\n",
    "      x2_train.shape, x2_test.shape, y_vrt_train.shape, y_vrt_test.shape)"
   ]
  },
  {
   "cell_type": "code",
   "execution_count": 13,
   "metadata": {
    "id": "PqdkxbYFcpuf"
   },
   "outputs": [],
   "source": [
    "# Callback for training\n",
    "cb = EarlyStopping(patience=patience, verbose=1, restore_best_weights=True)"
   ]
  },
  {
   "cell_type": "code",
   "execution_count": 14,
   "metadata": {
    "colab": {
     "base_uri": "https://localhost:8080/"
    },
    "id": "dpT4PjQUcprr",
    "outputId": "a3aa1dfd-0002-41de-a4b3-9719987a58ea"
   },
   "outputs": [
    {
     "name": "stdout",
     "output_type": "stream",
     "text": [
      "Loading public eye_tracking models...\n"
     ]
    }
   ],
   "source": [
    "print(\"Loading public eye_tracking models...\")\n",
    "public_model_et_dir = trained_dir + f\"model{tp.MODEL_EYE_TRACKING_NUM}\"\n",
    "model_hrz = load_model(public_model_et_dir + \"-hrz\")\n",
    "model_vrt = load_model(public_model_et_dir + \"-vrt\")\n",
    "# print(model1.summary())"
   ]
  },
  {
   "cell_type": "code",
   "execution_count": 15,
   "metadata": {
    "colab": {
     "base_uri": "https://localhost:8080/"
    },
    "id": "lgxSezv4jY70",
    "outputId": "5c8f1c31-0c46-4388-c243-de3247676f9d"
   },
   "outputs": [
    {
     "name": "stdout",
     "output_type": "stream",
     "text": [
      "Model: \"model\"\n",
      "__________________________________________________________________________________________________\n",
      "Layer (type)                    Output Shape         Param #     Connected to                     \n",
      "==================================================================================================\n",
      "input_1 (InputLayer)            [(None, 48, 44, 1)]  0                                            \n",
      "__________________________________________________________________________________________________\n",
      "conv2d (Conv2D)                 (None, 48, 44, 16)   416         input_1[0][0]                    \n",
      "__________________________________________________________________________________________________\n",
      "max_pooling2d (MaxPooling2D)    (None, 24, 22, 16)   0           conv2d[0][0]                     \n",
      "__________________________________________________________________________________________________\n",
      "conv2d_1 (Conv2D)               (None, 24, 22, 32)   12832       max_pooling2d[0][0]              \n",
      "__________________________________________________________________________________________________\n",
      "max_pooling2d_1 (MaxPooling2D)  (None, 12, 11, 32)   0           conv2d_1[0][0]                   \n",
      "__________________________________________________________________________________________________\n",
      "conv2d_2 (Conv2D)               (None, 10, 9, 64)    18496       max_pooling2d_1[0][0]            \n",
      "__________________________________________________________________________________________________\n",
      "max_pooling2d_2 (MaxPooling2D)  (None, 5, 4, 64)     0           conv2d_2[0][0]                   \n",
      "__________________________________________________________________________________________________\n",
      "flatten (Flatten)               (None, 1280)         0           max_pooling2d_2[0][0]            \n",
      "__________________________________________________________________________________________________\n",
      "dense (Dense)                   (None, 400)          512400      flatten[0][0]                    \n",
      "__________________________________________________________________________________________________\n",
      "input_2 (InputLayer)            [(None, 7)]          0                                            \n",
      "__________________________________________________________________________________________________\n",
      "concatenate (Concatenate)       (None, 407)          0           dense[0][0]                      \n",
      "                                                                 input_2[0][0]                    \n",
      "__________________________________________________________________________________________________\n",
      "dense_1 (Dense)                 (None, 180)          73440       concatenate[0][0]                \n",
      "__________________________________________________________________________________________________\n",
      "dense_2 (Dense)                 (None, 50)           9050        dense_1[0][0]                    \n",
      "__________________________________________________________________________________________________\n",
      "dense_3 (Dense)                 (None, 16)           816         dense_2[0][0]                    \n",
      "__________________________________________________________________________________________________\n",
      "dense_4 (Dense)                 (None, 2)            34          dense_3[0][0]                    \n",
      "__________________________________________________________________________________________________\n",
      "dense_5 (Dense)                 (None, 1)            3           dense_4[0][0]                    \n",
      "==================================================================================================\n",
      "Total params: 627,487\n",
      "Trainable params: 3\n",
      "Non-trainable params: 627,484\n",
      "__________________________________________________________________________________________________\n",
      "None\n"
     ]
    }
   ],
   "source": [
    "for (layer_hrz, layer_vrt) in zip(model_hrz.layers[:-trainable_layers], model_vrt.layers[:-trainable_layers]):\n",
    "    layer_hrz.trainable = False\n",
    "    layer_vrt.trainable = False\n",
    "\n",
    "print(model_hrz.summary())"
   ]
  },
  {
   "cell_type": "code",
   "execution_count": 16,
   "metadata": {
    "colab": {
     "base_uri": "https://localhost:8080/"
    },
    "id": "diMNdUZZjeLQ",
    "outputId": "282ee5b4-fde4-49ee-c57c-3fc9ae03c483"
   },
   "outputs": [
    {
     "name": "stdout",
     "output_type": "stream",
     "text": [
      "\n",
      "Start of training for model 1 (x-pixels)\n",
      "Epoch 1/5\n",
      "2/2 [==============================] - 1s 191ms/step - loss: 0.1478 - val_loss: 0.0714\n",
      "Epoch 2/5\n",
      "2/2 [==============================] - 0s 58ms/step - loss: 0.0844 - val_loss: 0.0444\n",
      "Epoch 3/5\n",
      "2/2 [==============================] - 0s 53ms/step - loss: 0.0459 - val_loss: 0.0466\n",
      "Epoch 4/5\n",
      "2/2 [==============================] - 0s 65ms/step - loss: 0.0578 - val_loss: 0.0180\n",
      "Epoch 5/5\n",
      "2/2 [==============================] - 0s 71ms/step - loss: 0.0306 - val_loss: 0.0525\n",
      "End of training\n"
     ]
    }
   ],
   "source": [
    "print(\"\\nStart of training for model 1 (x-pixels)\")\n",
    "results_hrz = model_hrz.fit(x_train,\n",
    "                            y_hrz_train,\n",
    "                            validation_data=(x_test, y_hrz_test),\n",
    "                            epochs=n_epochs,\n",
    "                            callbacks=cb)\n",
    "print(\"End of training\")"
   ]
  },
  {
   "cell_type": "code",
   "execution_count": 17,
   "metadata": {
    "colab": {
     "base_uri": "https://localhost:8080/"
    },
    "id": "vQz7jjQ5CTS8",
    "outputId": "f9c25499-ae97-4d66-8bfd-d5e13d35585d"
   },
   "outputs": [
    {
     "name": "stdout",
     "output_type": "stream",
     "text": [
      "\n",
      "Start of training for model 2 (y-pixels)\n",
      "Epoch 1/5\n",
      "2/2 [==============================] - 1s 166ms/step - loss: 0.3323 - val_loss: 0.3317\n",
      "Epoch 2/5\n",
      "2/2 [==============================] - 0s 58ms/step - loss: 0.3316 - val_loss: 0.3316\n",
      "Epoch 3/5\n",
      "2/2 [==============================] - 0s 54ms/step - loss: 0.3316 - val_loss: 0.3318\n",
      "Epoch 4/5\n",
      "2/2 [==============================] - 0s 58ms/step - loss: 0.3318 - val_loss: 0.3317\n",
      "Restoring model weights from the end of the best epoch.\n",
      "Epoch 00004: early stopping\n",
      "End of training\n"
     ]
    }
   ],
   "source": [
    "print(\"\\nStart of training for model 2 (y-pixels)\")\n",
    "results_vrt = model_vrt.fit(x_train,\n",
    "                            y_vrt_train,\n",
    "                            validation_data=(x_test, y_vrt_test),\n",
    "                            epochs=n_epochs,\n",
    "                            callbacks=cb)\n",
    "print(\"End of training\")"
   ]
  },
  {
   "cell_type": "code",
   "execution_count": 19,
   "metadata": {
    "colab": {
     "base_uri": "https://localhost:8080/"
    },
    "id": "DCu14ufb8oFN",
    "outputId": "55beefd3-f9e9-4338-8b26-4486771d830e"
   },
   "outputs": [
    {
     "name": "stdout",
     "output_type": "stream",
     "text": [
      "\n",
      "Saving models...\n",
      "INFO:tensorflow:Assets written to: ../subjects/7/model-et-hrz\\assets\n",
      "INFO:tensorflow:Assets written to: ../subjects/7/model-et-vrt\\assets\n"
     ]
    }
   ],
   "source": [
    "print(\"\\nSaving models...\")\n",
    "model_hrz.save(sbj_dir + \"model-et-hrz\")\n",
    "model_vrt.save(sbj_dir + \"model-et-vrt\")"
   ]
  },
  {
   "cell_type": "code",
   "execution_count": 20,
   "metadata": {
    "id": "e9L074ihCXD6"
   },
   "outputs": [],
   "source": [
    "# Predicting outputs for train and test data\n",
    "y_hrz_hat_train = model_hrz.predict(x_train).reshape((n_train,))\n",
    "y_hrz_hat_test = model_hrz.predict(x_test).reshape((n_test,))\n",
    "y_vrt_hat_train = model_vrt.predict(x_train).reshape((n_train,))\n",
    "y_vrt_hat_test = model_vrt.predict(x_test).reshape((n_test,))"
   ]
  },
  {
   "cell_type": "code",
   "execution_count": 21,
   "metadata": {},
   "outputs": [],
   "source": [
    "min_out_ratio = 0.005\n",
    "max_out_ratio = 0.995\n",
    "\n",
    "y_hrz_hat_train[y_hrz_hat_train < min_out_ratio] = min_out_ratio\n",
    "y_hrz_hat_test[y_hrz_hat_test < min_out_ratio] = min_out_ratio\n",
    "y_vrt_hat_train[y_vrt_hat_train < min_out_ratio] = min_out_ratio\n",
    "y_vrt_hat_test[y_vrt_hat_test < min_out_ratio] = min_out_ratio\n",
    "\n",
    "y_hrz_hat_train[y_hrz_hat_train > max_out_ratio] = max_out_ratio\n",
    "y_hrz_hat_test[y_hrz_hat_test > max_out_ratio] = max_out_ratio\n",
    "y_vrt_hat_train[y_vrt_hat_train > max_out_ratio] = max_out_ratio\n",
    "y_vrt_hat_test[y_vrt_hat_test > max_out_ratio] = max_out_ratio"
   ]
  },
  {
   "cell_type": "code",
   "execution_count": 22,
   "metadata": {
    "colab": {
     "base_uri": "https://localhost:8080/",
     "height": 338
    },
    "id": "FDC8rCcVjjDa",
    "outputId": "48c3b4f3-1946-4554-b0e9-6ae7c0ca6120"
   },
   "outputs": [
    {
     "name": "stdout",
     "output_type": "stream",
     "text": [
      "Train\n",
      "(2219, 12)\n",
      "(2384, 1001)\n",
      "Test\n",
      "(3816, 999)\n",
      "(3742, 1001)\n"
     ]
    },
    {
     "data": {
      "text/plain": [
       "<matplotlib.image.AxesImage at 0x26086df21c0>"
      ]
     },
     "execution_count": 22,
     "metadata": {},
     "output_type": "execute_result"
    },
    {
     "data": {
      "image/png": "[encoded data removed]",
      "text/plain": [
       "<Figure size 432x288 with 2 Axes>"
      ]
     },
     "metadata": {
      "needs_background": "light"
     },
     "output_type": "display_data"
    }
   ],
   "source": [
    "# Displaying data\n",
    "smp_num = 0\n",
    "y_scalers_et = np.array([1280, 720])\n",
    "print(\"Train\")\n",
    "sample_train = (int(y_hrz_train[smp_num] * y_scalers_et[0]),\n",
    "                int(y_vrt_train[smp_num] * y_scalers_et[1]))\n",
    "sample_hat_train = (int(y_hrz_hat_train[smp_num] * y_scalers_et[0]),\n",
    "                    int(y_vrt_hat_train[smp_num] * y_scalers_et[1]))\n",
    "print(sample_train)\n",
    "print(sample_hat_train)\n",
    "\n",
    "print(\"Test\")\n",
    "sample_test = (int(y_hrz_test[smp_num] * y_scalers_et[0]),\n",
    "               int(y_vrt_test[smp_num] * y_scalers_et[1]))\n",
    "sample_hat_test = (int(y_hrz_hat_test[smp_num] * y_scalers_et[0]),\n",
    "                   int(y_vrt_hat_test[smp_num] * y_scalers_et[1]))\n",
    "print(sample_test)\n",
    "print(sample_hat_test)\n",
    "\n",
    "_, ax = plt.subplots(1, 2)\n",
    "ax[0].imshow((x1_train[smp_num] * x1_scaler_et).astype(np.uint8).\n",
    "             reshape((frame_h, frame_w)), cmap=\"gray\", vmin=0, vmax=255)\n",
    "ax[1].imshow((x1_test[smp_num] * x1_scaler_et).astype(np.uint8).\n",
    "             reshape((frame_h, frame_w)), cmap=\"gray\", vmin=0, vmax=255)"
   ]
  }
 ],
 "metadata": {
  "colab": {
   "collapsed_sections": [],
   "name": "rtn_2mdl_et_35p_predict_tst.ipynb",
   "provenance": []
  },
  "kernelspec": {
   "display_name": "venv",
   "language": "python",
   "name": "venv"
  },
  "language_info": {
   "codemirror_mode": {
    "name": "ipython",
    "version": 3
   },
   "file_extension": ".py",
   "mimetype": "text/x-python",
   "name": "python",
   "nbconvert_exporter": "python",
   "pygments_lexer": "ipython3",
   "version": "3.9.6"
  }
 },
 "nbformat": 4,
 "nbformat_minor": 1
}
