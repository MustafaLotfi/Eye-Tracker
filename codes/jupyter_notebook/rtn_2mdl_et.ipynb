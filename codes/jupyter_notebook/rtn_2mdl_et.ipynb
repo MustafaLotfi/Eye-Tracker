{
 "cells": [
  {
   "cell_type": "markdown",
   "metadata": {
    "id": "s4mSPpqO8oEz"
   },
   "source": [
    "## Retraining 'eye_tracking' model for subject and predicting eye track (pixel coordinate)."
   ]
  },
  {
   "cell_type": "code",
   "execution_count": 1,
   "metadata": {
    "id": "Ks_AbdKIb-xZ"
   },
   "outputs": [],
   "source": [
    "from tensorflow.keras.callbacks import EarlyStopping\n",
    "from tensorflow.keras.models import load_model\n",
    "import numpy as np\n",
    "import pickle\n",
    "from sklearn.utils import shuffle\n",
    "from joblib import load as j_load\n",
    "from joblib import dump as j_dump\n",
    "import time\n",
    "import os"
   ]
  },
  {
   "cell_type": "code",
   "execution_count": 2,
   "metadata": {
    "id": "T5XUNQBvcGf6"
   },
   "outputs": [],
   "source": [
    "# Parameters\n",
    "path2root = \"../../\"\n",
    "models_fol = \"models/\"\n",
    "models_et_fol = \"et/\"\n",
    "trained_fol = \"trained/\"\n",
    "subjects_dir = \"subjects/\"\n",
    "data_et_fol = \"data-et-clb/\"\n",
    "sbj_scalers_boi_fol = \"scalers-boi.bin\"\n",
    "sbj_model_boi_fol = \"model-boi\"\n",
    "sbj_num = 24\n",
    "sbj_num_test = 25\n",
    "model_num = 5\n",
    "r_train = 0.85\n",
    "n_epochs = 40\n",
    "patience = 5\n",
    "trainable_layers = 2\n",
    "chosen_inputs = [0, 1, 2, 6, 7, 8, 9]\n",
    "y_scale = 1000.0"
   ]
  },
  {
   "cell_type": "code",
   "execution_count": 3,
   "metadata": {},
   "outputs": [],
   "source": [
    "sbj_dir = path2root + subjects_dir + f\"{sbj_num}/\"\n",
    "trained_dir = path2root + models_fol + models_et_fol + trained_fol"
   ]
  },
  {
   "cell_type": "markdown",
   "metadata": {
    "id": "wGy7E9iA8oFA"
   },
   "source": [
    "### Retraining 'eye_tracking' model with subject calibration data"
   ]
  },
  {
   "cell_type": "code",
   "execution_count": 4,
   "metadata": {
    "colab": {
     "base_uri": "https://localhost:8080/"
    },
    "id": "bvzEN-j4cGFQ",
    "outputId": "8ae84f7e-2cca-4f92-d03d-43e5e5f431a4"
   },
   "outputs": [
    {
     "name": "stdout",
     "output_type": "stream",
     "text": [
      "\n",
      "Loading subject data in ../../subjects/24/data-et-clb/\n",
      "Samples number: 4200\n"
     ]
    }
   ],
   "source": [
    "data_et_dir = sbj_dir + data_et_fol\n",
    "print(f\"\\nLoading subject data in {data_et_dir}\")\n",
    "with open(data_et_dir + \"x1.pickle\", \"rb\") as f:\n",
    "    x1_load = pickle.load(f)\n",
    "with open(data_et_dir + \"x2.pickle\", \"rb\") as f:\n",
    "    x2_load = pickle.load(f)\n",
    "with open(data_et_dir + \"y.pickle\", \"rb\") as f:\n",
    "    y_load = pickle.load(f)\n",
    "n_smp, frame_h, frame_w = x1_load.shape[:-1]\n",
    "print(f\"Samples number: {n_smp}\")"
   ]
  },
  {
   "cell_type": "code",
   "execution_count": 5,
   "metadata": {
    "id": "ygdBBcjud--4"
   },
   "outputs": [],
   "source": [
    "import matplotlib.pyplot as plt"
   ]
  },
  {
   "cell_type": "code",
   "execution_count": 6,
   "metadata": {
    "colab": {
     "base_uri": "https://localhost:8080/",
     "height": 336
    },
    "id": "x4GOLYKnAWR-",
    "outputId": "2352588f-265d-49a7-d627-2ea272a4c1f2"
   },
   "outputs": [
    {
     "name": "stdout",
     "output_type": "stream",
     "text": [
      "[ 2.92193524  0.12354425 -0.86240532 -1.57755936  5.01365275 70.57027415\n",
      "  0.51105064  0.5061323   0.46361178  0.46345159]\n",
      "[0.00530988 0.016     ]\n"
     ]
    },
    {
     "data": {
      "image/png": "[encoded data removed]",
      "text/plain": [
       "<Figure size 432x288 with 1 Axes>"
      ]
     },
     "metadata": {
      "needs_background": "light"
     },
     "output_type": "display_data"
    }
   ],
   "source": [
    "# Displaying data\n",
    "smp_num = 2\n",
    "print(x2_load[smp_num])\n",
    "print(y_load[smp_num])\n",
    "plt.imshow(x1_load[smp_num].reshape((frame_h, frame_w)),\n",
    "           cmap=\"gray\", vmin=0, vmax=255)\n",
    "plt.show()"
   ]
  },
  {
   "cell_type": "markdown",
   "metadata": {
    "id": "8AzfSjqn8oFD"
   },
   "source": [
    "#### Getting those data that looking 'in' screen"
   ]
  },
  {
   "cell_type": "code",
   "execution_count": 7,
   "metadata": {
    "colab": {
     "base_uri": "https://localhost:8080/"
    },
    "id": "DWA57YKb8oFE",
    "outputId": "bcf52386-ae85-4ff9-af25-1f9415bebd56"
   },
   "outputs": [],
   "source": [
    "# print(\"\\nNormalizing data...\")\n",
    "# sbj_scalers_boi_dir = sbj_dir + sbj_scalers_boi_fol\n",
    "# x2_chs_inp = x2_load[:, chosen_inputs]\n",
    "# x1_scaler_boi, x2_scaler_boi = j_load(sbj_scalers_boi_dir)\n",
    "# x1_boi = x1_load / x1_scaler_boi\n",
    "# x2_boi = x2_scaler_boi.transform(x2_chs_inp)"
   ]
  },
  {
   "cell_type": "code",
   "execution_count": 8,
   "metadata": {
    "colab": {
     "base_uri": "https://localhost:8080/"
    },
    "id": "SJ-ojxa18oFG",
    "outputId": "92885191-edcc-4664-fa23-d57e7c2b770e"
   },
   "outputs": [],
   "source": [
    "# print(\"\\nLoading in_blink_out model...\")\n",
    "# sbj_model_boi_dir = sbj_dir + sbj_model_boi_fol\n",
    "# model_boi = load_model(sbj_model_boi_dir)\n",
    "# print(model_boi.summary())"
   ]
  },
  {
   "cell_type": "code",
   "execution_count": 9,
   "metadata": {
    "colab": {
     "base_uri": "https://localhost:8080/"
    },
    "id": "KGqOn_458oFH",
    "outputId": "9080e5e9-11ac-4e42-b39f-7c5aa5181ffb"
   },
   "outputs": [],
   "source": [
    "# print(\"\\nPredicting those data that looking 'in' screen.\")\n",
    "# yhat_boi = model_boi.predict([x1_boi, x2_boi]).argmax(1)"
   ]
  },
  {
   "cell_type": "code",
   "execution_count": 10,
   "metadata": {
    "colab": {
     "base_uri": "https://localhost:8080/"
    },
    "id": "ySFqmNyd8oFI",
    "outputId": "75cea127-1407-47f9-a7a9-ab1be5bcdf09"
   },
   "outputs": [],
   "source": [
    "# # Choosing those data\n",
    "# x1_new = []\n",
    "# x2_new = []\n",
    "# y_new = []\n",
    "# for (x10, x20, y0, yht0) in zip(x1_load, x2_load, y_load, yhat_boi):\n",
    "#     if True: # yht0 != 1:\n",
    "#         x1_new.append(x10)\n",
    "#         x2_new.append(x20)\n",
    "#         y_new.append(y0)\n",
    "\n",
    "# x1_new = np.array(x1_new)\n",
    "# x2_new = np.array(x2_new)\n",
    "# y_new = np.array(y_new)\n",
    "# n_smp_new = x1_new.shape[0]\n",
    "# print(f\"New samples: {n_smp_new}\")"
   ]
  },
  {
   "cell_type": "markdown",
   "metadata": {
    "id": "tVhzAjUV8oFJ"
   },
   "source": [
    "### Preparing modified calibration data to feeding in eye_tracking model"
   ]
  },
  {
   "cell_type": "code",
   "execution_count": 11,
   "metadata": {
    "colab": {
     "base_uri": "https://localhost:8080/"
    },
    "id": "o2yHN0I9cF6o",
    "outputId": "adfd1167-179f-48b5-c016-91e9249c46eb"
   },
   "outputs": [
    {
     "name": "stdout",
     "output_type": "stream",
     "text": [
      "\n",
      "Normalizing modified calibration data to feeding in eye_tracking model...\n"
     ]
    },
    {
     "name": "stderr",
     "output_type": "stream",
     "text": [
      "F:\\Education_Study\\University\\MSC\\Thesis\\EyeTracker\\venv\\lib\\site-packages\\sklearn\\base.py:324: UserWarning: Trying to unpickle estimator StandardScaler from version 1.0.2 when using version 1.0.1. This might lead to breaking code or invalid results. Use at your own risk. For more info please refer to:\n",
      "https://scikit-learn.org/stable/modules/model_persistence.html#security-maintainability-limitations\n",
      "  warnings.warn(\n"
     ]
    },
    {
     "data": {
      "text/plain": [
       "['../../subjects/24/scalers.bin']"
      ]
     },
     "execution_count": 11,
     "metadata": {},
     "output_type": "execute_result"
    }
   ],
   "source": [
    "print(\"\\nNormalizing modified calibration data to feeding in eye_tracking model...\")\n",
    "public_scalers_dir = trained_dir + \"scalers.bin\"\n",
    "scalers = j_load(public_scalers_dir)\n",
    "x1_scaler, x2_scaler = scalers\n",
    "\n",
    "x2_chs_inp = x2_load[:, chosen_inputs]\n",
    "\n",
    "x1_nrm = x1_load / x1_scaler\n",
    "x2_nrm = x2_scaler.transform(x2_chs_inp)\n",
    "\n",
    "j_dump(scalers, sbj_dir + \"scalers.bin\")"
   ]
  },
  {
   "cell_type": "code",
   "execution_count": 12,
   "metadata": {
    "colab": {
     "base_uri": "https://localhost:8080/"
    },
    "id": "eNwyQAwL2pGS",
    "outputId": "9812cee4-8a01-4734-b479-81feed0099c2"
   },
   "outputs": [
    {
     "name": "stdout",
     "output_type": "stream",
     "text": [
      "(3570, 100, 100, 1) (630, 100, 100, 1) (3570,) (630,) (3570, 7) (630, 7) (3570,) (630,)\n"
     ]
    }
   ],
   "source": [
    "# Shuffling and splitting data to train and val\n",
    "x1_shf, x2_shf, y_hrz_shf, y_vrt_shf = shuffle(x1_nrm, x2_nrm, y_load[:, 0], y_load[:, 1])\n",
    "\n",
    "n_train = int(r_train * n_smp)\n",
    "n_val = n_smp - n_train\n",
    "x1_train, x2_train = x1_shf[:n_train], x2_shf[:n_train]\n",
    "x1_val, x2_val = x1_shf[n_train:], x2_shf[n_train:]\n",
    "y_hrz_train, y_vrt_train = y_hrz_shf[:n_train], y_vrt_shf[:n_train]\n",
    "y_hrz_val, y_vrt_val = y_hrz_shf[n_train:], y_vrt_shf[n_train:]\n",
    "\n",
    "x_train = [x1_train, x2_train]\n",
    "x_val = [x1_val, x2_val]\n",
    "\n",
    "print(x1_train.shape, x1_val.shape, y_hrz_train.shape, y_hrz_val.shape,\n",
    "      x2_train.shape, x2_val.shape, y_vrt_train.shape, y_vrt_val.shape)"
   ]
  },
  {
   "cell_type": "code",
   "execution_count": 13,
   "metadata": {
    "id": "PqdkxbYFcpuf"
   },
   "outputs": [],
   "source": [
    "# Callback for training\n",
    "cb = EarlyStopping(patience=patience, verbose=1, restore_best_weights=True)"
   ]
  },
  {
   "cell_type": "code",
   "execution_count": 14,
   "metadata": {
    "colab": {
     "base_uri": "https://localhost:8080/"
    },
    "id": "dpT4PjQUcprr",
    "outputId": "a3aa1dfd-0002-41de-a4b3-9719987a58ea"
   },
   "outputs": [
    {
     "name": "stdout",
     "output_type": "stream",
     "text": [
      "Loading public eye_tracking models...\n",
      "Model: \"model_5\"\n",
      "__________________________________________________________________________________________________\n",
      "Layer (type)                    Output Shape         Param #     Connected to                     \n",
      "==================================================================================================\n",
      "input_11 (InputLayer)           [(None, 100, 100, 1) 0                                            \n",
      "__________________________________________________________________________________________________\n",
      "conv2d_18 (Conv2D)              (None, 100, 100, 16) 800         input_11[0][0]                   \n",
      "__________________________________________________________________________________________________\n",
      "max_pooling2d_14 (MaxPooling2D) (None, 50, 50, 16)   0           conv2d_18[0][0]                  \n",
      "__________________________________________________________________________________________________\n",
      "conv2d_19 (Conv2D)              (None, 50, 50, 32)   12832       max_pooling2d_14[0][0]           \n",
      "__________________________________________________________________________________________________\n",
      "max_pooling2d_15 (MaxPooling2D) (None, 25, 25, 32)   0           conv2d_19[0][0]                  \n",
      "__________________________________________________________________________________________________\n",
      "conv2d_20 (Conv2D)              (None, 25, 25, 64)   18496       max_pooling2d_15[0][0]           \n",
      "__________________________________________________________________________________________________\n",
      "max_pooling2d_16 (MaxPooling2D) (None, 12, 12, 64)   0           conv2d_20[0][0]                  \n",
      "__________________________________________________________________________________________________\n",
      "flatten_5 (Flatten)             (None, 9216)         0           max_pooling2d_16[0][0]           \n",
      "__________________________________________________________________________________________________\n",
      "input_12 (InputLayer)           [(None, 7)]          0                                            \n",
      "__________________________________________________________________________________________________\n",
      "concatenate_5 (Concatenate)     (None, 9223)         0           flatten_5[0][0]                  \n",
      "                                                                 input_12[0][0]                   \n",
      "__________________________________________________________________________________________________\n",
      "dense_25 (Dense)                (None, 256)          2361344     concatenate_5[0][0]              \n",
      "__________________________________________________________________________________________________\n",
      "dense_26 (Dense)                (None, 128)          32896       dense_25[0][0]                   \n",
      "__________________________________________________________________________________________________\n",
      "dense_27 (Dense)                (None, 32)           4128        dense_26[0][0]                   \n",
      "__________________________________________________________________________________________________\n",
      "dense_28 (Dense)                (None, 8)            264         dense_27[0][0]                   \n",
      "__________________________________________________________________________________________________\n",
      "dense_29 (Dense)                (None, 1)            9           dense_28[0][0]                   \n",
      "==================================================================================================\n",
      "Total params: 2,430,769\n",
      "Trainable params: 2,430,769\n",
      "Non-trainable params: 0\n",
      "__________________________________________________________________________________________________\n",
      "None\n"
     ]
    }
   ],
   "source": [
    "print(\"Loading public eye_tracking models...\")\n",
    "public_model_et_dir = trained_dir + f\"model{model_num}\"\n",
    "model_hrz = load_model(public_model_et_dir + \"-hrz.h5\")\n",
    "model_vrt = load_model(public_model_et_dir + \"-vrt.h5\")\n",
    "print(model_hrz.summary())"
   ]
  },
  {
   "cell_type": "code",
   "execution_count": 15,
   "metadata": {
    "colab": {
     "base_uri": "https://localhost:8080/"
    },
    "id": "lgxSezv4jY70",
    "outputId": "5c8f1c31-0c46-4388-c243-de3247676f9d"
   },
   "outputs": [
    {
     "name": "stdout",
     "output_type": "stream",
     "text": [
      "Model: \"model_5\"\n",
      "__________________________________________________________________________________________________\n",
      "Layer (type)                    Output Shape         Param #     Connected to                     \n",
      "==================================================================================================\n",
      "input_11 (InputLayer)           [(None, 100, 100, 1) 0                                            \n",
      "__________________________________________________________________________________________________\n",
      "conv2d_18 (Conv2D)              (None, 100, 100, 16) 800         input_11[0][0]                   \n",
      "__________________________________________________________________________________________________\n",
      "max_pooling2d_14 (MaxPooling2D) (None, 50, 50, 16)   0           conv2d_18[0][0]                  \n",
      "__________________________________________________________________________________________________\n",
      "conv2d_19 (Conv2D)              (None, 50, 50, 32)   12832       max_pooling2d_14[0][0]           \n",
      "__________________________________________________________________________________________________\n",
      "max_pooling2d_15 (MaxPooling2D) (None, 25, 25, 32)   0           conv2d_19[0][0]                  \n",
      "__________________________________________________________________________________________________\n",
      "conv2d_20 (Conv2D)              (None, 25, 25, 64)   18496       max_pooling2d_15[0][0]           \n",
      "__________________________________________________________________________________________________\n",
      "max_pooling2d_16 (MaxPooling2D) (None, 12, 12, 64)   0           conv2d_20[0][0]                  \n",
      "__________________________________________________________________________________________________\n",
      "flatten_5 (Flatten)             (None, 9216)         0           max_pooling2d_16[0][0]           \n",
      "__________________________________________________________________________________________________\n",
      "input_12 (InputLayer)           [(None, 7)]          0                                            \n",
      "__________________________________________________________________________________________________\n",
      "concatenate_5 (Concatenate)     (None, 9223)         0           flatten_5[0][0]                  \n",
      "                                                                 input_12[0][0]                   \n",
      "__________________________________________________________________________________________________\n",
      "dense_25 (Dense)                (None, 256)          2361344     concatenate_5[0][0]              \n",
      "__________________________________________________________________________________________________\n",
      "dense_26 (Dense)                (None, 128)          32896       dense_25[0][0]                   \n",
      "__________________________________________________________________________________________________\n",
      "dense_27 (Dense)                (None, 32)           4128        dense_26[0][0]                   \n",
      "__________________________________________________________________________________________________\n",
      "dense_28 (Dense)                (None, 8)            264         dense_27[0][0]                   \n",
      "__________________________________________________________________________________________________\n",
      "dense_29 (Dense)                (None, 1)            9           dense_28[0][0]                   \n",
      "==================================================================================================\n",
      "Total params: 2,430,769\n",
      "Trainable params: 273\n",
      "Non-trainable params: 2,430,496\n",
      "__________________________________________________________________________________________________\n",
      "None\n"
     ]
    }
   ],
   "source": [
    "for (layer_hrz, layer_vrt) in zip(model_hrz.layers[:-trainable_layers], model_vrt.layers[:-trainable_layers]):\n",
    "    layer_hrz.trainable = False\n",
    "    layer_vrt.trainable = False\n",
    "\n",
    "print(model_hrz.summary())"
   ]
  },
  {
   "cell_type": "code",
   "execution_count": 16,
   "metadata": {
    "colab": {
     "base_uri": "https://localhost:8080/"
    },
    "id": "diMNdUZZjeLQ",
    "outputId": "282ee5b4-fde4-49ee-c57c-3fc9ae03c483"
   },
   "outputs": [
    {
     "name": "stdout",
     "output_type": "stream",
     "text": [
      "\n",
      "Start of training for model-hrz (x-pixels)\n",
      "Epoch 1/40\n",
      "112/112 [==============================] - 8s 42ms/step - loss: 84873.1875 - val_loss: 83177.8281\n",
      "Epoch 2/40\n",
      "112/112 [==============================] - 4s 35ms/step - loss: 84873.2031 - val_loss: 83178.6172\n",
      "Epoch 3/40\n",
      " 19/112 [====>.........................] - ETA: 3s - loss: 81323.5703"
     ]
    },
    {
     "ename": "KeyboardInterrupt",
     "evalue": "",
     "output_type": "error",
     "traceback": [
      "\u001b[1;31m---------------------------------------------------------------------------\u001b[0m",
      "\u001b[1;31mKeyboardInterrupt\u001b[0m                         Traceback (most recent call last)",
      "\u001b[1;32m~\\AppData\\Local\\Temp/ipykernel_13436/1078372996.py\u001b[0m in \u001b[0;36m<module>\u001b[1;34m\u001b[0m\n\u001b[0;32m      1\u001b[0m \u001b[0mprint\u001b[0m\u001b[1;33m(\u001b[0m\u001b[1;34m\"\\nStart of training for model-hrz (x-pixels)\"\u001b[0m\u001b[1;33m)\u001b[0m\u001b[1;33m\u001b[0m\u001b[1;33m\u001b[0m\u001b[0m\n\u001b[1;32m----> 2\u001b[1;33m results_hrz = model_hrz.fit(x_train,\n\u001b[0m\u001b[0;32m      3\u001b[0m                             \u001b[0my_hrz_train\u001b[0m \u001b[1;33m*\u001b[0m \u001b[0my_scale\u001b[0m\u001b[1;33m,\u001b[0m\u001b[1;33m\u001b[0m\u001b[1;33m\u001b[0m\u001b[0m\n\u001b[0;32m      4\u001b[0m                             \u001b[0mvalidation_data\u001b[0m\u001b[1;33m=\u001b[0m\u001b[1;33m(\u001b[0m\u001b[0mx_val\u001b[0m\u001b[1;33m,\u001b[0m \u001b[0my_hrz_val\u001b[0m \u001b[1;33m*\u001b[0m \u001b[0my_scale\u001b[0m\u001b[1;33m)\u001b[0m\u001b[1;33m,\u001b[0m\u001b[1;33m\u001b[0m\u001b[1;33m\u001b[0m\u001b[0m\n\u001b[0;32m      5\u001b[0m                             \u001b[0mepochs\u001b[0m\u001b[1;33m=\u001b[0m\u001b[0mn_epochs\u001b[0m\u001b[1;33m,\u001b[0m\u001b[1;33m\u001b[0m\u001b[1;33m\u001b[0m\u001b[0m\n",
      "\u001b[1;32mF:\\Education_Study\\University\\MSC\\Thesis\\EyeTracker\\venv\\lib\\site-packages\\tensorflow\\python\\keras\\engine\\training.py\u001b[0m in \u001b[0;36mfit\u001b[1;34m(self, x, y, batch_size, epochs, verbose, callbacks, validation_split, validation_data, shuffle, class_weight, sample_weight, initial_epoch, steps_per_epoch, validation_steps, validation_batch_size, validation_freq, max_queue_size, workers, use_multiprocessing)\u001b[0m\n\u001b[0;32m   1181\u001b[0m                 _r=1):\n\u001b[0;32m   1182\u001b[0m               \u001b[0mcallbacks\u001b[0m\u001b[1;33m.\u001b[0m\u001b[0mon_train_batch_begin\u001b[0m\u001b[1;33m(\u001b[0m\u001b[0mstep\u001b[0m\u001b[1;33m)\u001b[0m\u001b[1;33m\u001b[0m\u001b[1;33m\u001b[0m\u001b[0m\n\u001b[1;32m-> 1183\u001b[1;33m               \u001b[0mtmp_logs\u001b[0m \u001b[1;33m=\u001b[0m \u001b[0mself\u001b[0m\u001b[1;33m.\u001b[0m\u001b[0mtrain_function\u001b[0m\u001b[1;33m(\u001b[0m\u001b[0miterator\u001b[0m\u001b[1;33m)\u001b[0m\u001b[1;33m\u001b[0m\u001b[1;33m\u001b[0m\u001b[0m\n\u001b[0m\u001b[0;32m   1184\u001b[0m               \u001b[1;32mif\u001b[0m \u001b[0mdata_handler\u001b[0m\u001b[1;33m.\u001b[0m\u001b[0mshould_sync\u001b[0m\u001b[1;33m:\u001b[0m\u001b[1;33m\u001b[0m\u001b[1;33m\u001b[0m\u001b[0m\n\u001b[0;32m   1185\u001b[0m                 \u001b[0mcontext\u001b[0m\u001b[1;33m.\u001b[0m\u001b[0masync_wait\u001b[0m\u001b[1;33m(\u001b[0m\u001b[1;33m)\u001b[0m\u001b[1;33m\u001b[0m\u001b[1;33m\u001b[0m\u001b[0m\n",
      "\u001b[1;32mF:\\Education_Study\\University\\MSC\\Thesis\\EyeTracker\\venv\\lib\\site-packages\\tensorflow\\python\\eager\\def_function.py\u001b[0m in \u001b[0;36m__call__\u001b[1;34m(self, *args, **kwds)\u001b[0m\n\u001b[0;32m    887\u001b[0m \u001b[1;33m\u001b[0m\u001b[0m\n\u001b[0;32m    888\u001b[0m       \u001b[1;32mwith\u001b[0m \u001b[0mOptionalXlaContext\u001b[0m\u001b[1;33m(\u001b[0m\u001b[0mself\u001b[0m\u001b[1;33m.\u001b[0m\u001b[0m_jit_compile\u001b[0m\u001b[1;33m)\u001b[0m\u001b[1;33m:\u001b[0m\u001b[1;33m\u001b[0m\u001b[1;33m\u001b[0m\u001b[0m\n\u001b[1;32m--> 889\u001b[1;33m         \u001b[0mresult\u001b[0m \u001b[1;33m=\u001b[0m \u001b[0mself\u001b[0m\u001b[1;33m.\u001b[0m\u001b[0m_call\u001b[0m\u001b[1;33m(\u001b[0m\u001b[1;33m*\u001b[0m\u001b[0margs\u001b[0m\u001b[1;33m,\u001b[0m \u001b[1;33m**\u001b[0m\u001b[0mkwds\u001b[0m\u001b[1;33m)\u001b[0m\u001b[1;33m\u001b[0m\u001b[1;33m\u001b[0m\u001b[0m\n\u001b[0m\u001b[0;32m    890\u001b[0m \u001b[1;33m\u001b[0m\u001b[0m\n\u001b[0;32m    891\u001b[0m       \u001b[0mnew_tracing_count\u001b[0m \u001b[1;33m=\u001b[0m \u001b[0mself\u001b[0m\u001b[1;33m.\u001b[0m\u001b[0mexperimental_get_tracing_count\u001b[0m\u001b[1;33m(\u001b[0m\u001b[1;33m)\u001b[0m\u001b[1;33m\u001b[0m\u001b[1;33m\u001b[0m\u001b[0m\n",
      "\u001b[1;32mF:\\Education_Study\\University\\MSC\\Thesis\\EyeTracker\\venv\\lib\\site-packages\\tensorflow\\python\\eager\\def_function.py\u001b[0m in \u001b[0;36m_call\u001b[1;34m(self, *args, **kwds)\u001b[0m\n\u001b[0;32m    922\u001b[0m       \u001b[1;31m# In this case we have not created variables on the first call. So we can\u001b[0m\u001b[1;33m\u001b[0m\u001b[1;33m\u001b[0m\u001b[1;33m\u001b[0m\u001b[0m\n\u001b[0;32m    923\u001b[0m       \u001b[1;31m# run the first trace but we should fail if variables are created.\u001b[0m\u001b[1;33m\u001b[0m\u001b[1;33m\u001b[0m\u001b[1;33m\u001b[0m\u001b[0m\n\u001b[1;32m--> 924\u001b[1;33m       \u001b[0mresults\u001b[0m \u001b[1;33m=\u001b[0m \u001b[0mself\u001b[0m\u001b[1;33m.\u001b[0m\u001b[0m_stateful_fn\u001b[0m\u001b[1;33m(\u001b[0m\u001b[1;33m*\u001b[0m\u001b[0margs\u001b[0m\u001b[1;33m,\u001b[0m \u001b[1;33m**\u001b[0m\u001b[0mkwds\u001b[0m\u001b[1;33m)\u001b[0m\u001b[1;33m\u001b[0m\u001b[1;33m\u001b[0m\u001b[0m\n\u001b[0m\u001b[0;32m    925\u001b[0m       \u001b[1;32mif\u001b[0m \u001b[0mself\u001b[0m\u001b[1;33m.\u001b[0m\u001b[0m_created_variables\u001b[0m\u001b[1;33m:\u001b[0m\u001b[1;33m\u001b[0m\u001b[1;33m\u001b[0m\u001b[0m\n\u001b[0;32m    926\u001b[0m         raise ValueError(\"Creating variables on a non-first call to a function\"\n",
      "\u001b[1;32mF:\\Education_Study\\University\\MSC\\Thesis\\EyeTracker\\venv\\lib\\site-packages\\tensorflow\\python\\eager\\function.py\u001b[0m in \u001b[0;36m__call__\u001b[1;34m(self, *args, **kwargs)\u001b[0m\n\u001b[0;32m   3021\u001b[0m       (graph_function,\n\u001b[0;32m   3022\u001b[0m        filtered_flat_args) = self._maybe_define_function(args, kwargs)\n\u001b[1;32m-> 3023\u001b[1;33m     return graph_function._call_flat(\n\u001b[0m\u001b[0;32m   3024\u001b[0m         filtered_flat_args, captured_inputs=graph_function.captured_inputs)  # pylint: disable=protected-access\n\u001b[0;32m   3025\u001b[0m \u001b[1;33m\u001b[0m\u001b[0m\n",
      "\u001b[1;32mF:\\Education_Study\\University\\MSC\\Thesis\\EyeTracker\\venv\\lib\\site-packages\\tensorflow\\python\\eager\\function.py\u001b[0m in \u001b[0;36m_call_flat\u001b[1;34m(self, args, captured_inputs, cancellation_manager)\u001b[0m\n\u001b[0;32m   1958\u001b[0m         and executing_eagerly):\n\u001b[0;32m   1959\u001b[0m       \u001b[1;31m# No tape is watching; skip to running the function.\u001b[0m\u001b[1;33m\u001b[0m\u001b[1;33m\u001b[0m\u001b[1;33m\u001b[0m\u001b[0m\n\u001b[1;32m-> 1960\u001b[1;33m       return self._build_call_outputs(self._inference_function.call(\n\u001b[0m\u001b[0;32m   1961\u001b[0m           ctx, args, cancellation_manager=cancellation_manager))\n\u001b[0;32m   1962\u001b[0m     forward_backward = self._select_forward_and_backward_functions(\n",
      "\u001b[1;32mF:\\Education_Study\\University\\MSC\\Thesis\\EyeTracker\\venv\\lib\\site-packages\\tensorflow\\python\\eager\\function.py\u001b[0m in \u001b[0;36mcall\u001b[1;34m(self, ctx, args, cancellation_manager)\u001b[0m\n\u001b[0;32m    589\u001b[0m       \u001b[1;32mwith\u001b[0m \u001b[0m_InterpolateFunctionError\u001b[0m\u001b[1;33m(\u001b[0m\u001b[0mself\u001b[0m\u001b[1;33m)\u001b[0m\u001b[1;33m:\u001b[0m\u001b[1;33m\u001b[0m\u001b[1;33m\u001b[0m\u001b[0m\n\u001b[0;32m    590\u001b[0m         \u001b[1;32mif\u001b[0m \u001b[0mcancellation_manager\u001b[0m \u001b[1;32mis\u001b[0m \u001b[1;32mNone\u001b[0m\u001b[1;33m:\u001b[0m\u001b[1;33m\u001b[0m\u001b[1;33m\u001b[0m\u001b[0m\n\u001b[1;32m--> 591\u001b[1;33m           outputs = execute.execute(\n\u001b[0m\u001b[0;32m    592\u001b[0m               \u001b[0mstr\u001b[0m\u001b[1;33m(\u001b[0m\u001b[0mself\u001b[0m\u001b[1;33m.\u001b[0m\u001b[0msignature\u001b[0m\u001b[1;33m.\u001b[0m\u001b[0mname\u001b[0m\u001b[1;33m)\u001b[0m\u001b[1;33m,\u001b[0m\u001b[1;33m\u001b[0m\u001b[1;33m\u001b[0m\u001b[0m\n\u001b[0;32m    593\u001b[0m               \u001b[0mnum_outputs\u001b[0m\u001b[1;33m=\u001b[0m\u001b[0mself\u001b[0m\u001b[1;33m.\u001b[0m\u001b[0m_num_outputs\u001b[0m\u001b[1;33m,\u001b[0m\u001b[1;33m\u001b[0m\u001b[1;33m\u001b[0m\u001b[0m\n",
      "\u001b[1;32mF:\\Education_Study\\University\\MSC\\Thesis\\EyeTracker\\venv\\lib\\site-packages\\tensorflow\\python\\eager\\execute.py\u001b[0m in \u001b[0;36mquick_execute\u001b[1;34m(op_name, num_outputs, inputs, attrs, ctx, name)\u001b[0m\n\u001b[0;32m     57\u001b[0m   \u001b[1;32mtry\u001b[0m\u001b[1;33m:\u001b[0m\u001b[1;33m\u001b[0m\u001b[1;33m\u001b[0m\u001b[0m\n\u001b[0;32m     58\u001b[0m     \u001b[0mctx\u001b[0m\u001b[1;33m.\u001b[0m\u001b[0mensure_initialized\u001b[0m\u001b[1;33m(\u001b[0m\u001b[1;33m)\u001b[0m\u001b[1;33m\u001b[0m\u001b[1;33m\u001b[0m\u001b[0m\n\u001b[1;32m---> 59\u001b[1;33m     tensors = pywrap_tfe.TFE_Py_Execute(ctx._handle, device_name, op_name,\n\u001b[0m\u001b[0;32m     60\u001b[0m                                         inputs, attrs, num_outputs)\n\u001b[0;32m     61\u001b[0m   \u001b[1;32mexcept\u001b[0m \u001b[0mcore\u001b[0m\u001b[1;33m.\u001b[0m\u001b[0m_NotOkStatusException\u001b[0m \u001b[1;32mas\u001b[0m \u001b[0me\u001b[0m\u001b[1;33m:\u001b[0m\u001b[1;33m\u001b[0m\u001b[1;33m\u001b[0m\u001b[0m\n",
      "\u001b[1;31mKeyboardInterrupt\u001b[0m: "
     ]
    }
   ],
   "source": [
    "print(\"\\nStart of training for model-hrz (x-pixels)\")\n",
    "results_hrz = model_hrz.fit(x_train,\n",
    "                            y_hrz_train * y_scale,\n",
    "                            validation_data=(x_val, y_hrz_val * y_scale),\n",
    "                            epochs=n_epochs,\n",
    "                            callbacks=cb)\n",
    "print(\"End of training\")"
   ]
  },
  {
   "cell_type": "code",
   "execution_count": null,
   "metadata": {
    "colab": {
     "base_uri": "https://localhost:8080/"
    },
    "id": "vQz7jjQ5CTS8",
    "outputId": "f9c25499-ae97-4d66-8bfd-d5e13d35585d"
   },
   "outputs": [],
   "source": [
    "print(\"\\nStart of training for model-vrt (y-pixels)\")\n",
    "results_vrt = model_vrt.fit(x_train,\n",
    "                            y_vrt_train * y_scale,\n",
    "                            validation_data=(x_val, y_vrt_val * y_scale),\n",
    "                            epochs=n_epochs,\n",
    "                            callbacks=cb)\n",
    "print(\"End of training\")"
   ]
  },
  {
   "cell_type": "code",
   "execution_count": null,
   "metadata": {
    "colab": {
     "base_uri": "https://localhost:8080/"
    },
    "id": "DCu14ufb8oFN",
    "outputId": "55beefd3-f9e9-4338-8b26-4486771d830e"
   },
   "outputs": [],
   "source": [
    "# print(\"\\nSaving models...\")\n",
    "# model_hrz.save(sbj_dir + \"model-et-hrz.h5\")\n",
    "# model_vrt.save(sbj_dir + \"model-et-vrt.h5\")"
   ]
  },
  {
   "cell_type": "code",
   "execution_count": null,
   "metadata": {
    "id": "e9L074ihCXD6"
   },
   "outputs": [],
   "source": [
    "# Predicting outputs for train and val data\n",
    "y_hrz_prd_train = model_hrz.predict(x_train).reshape((n_train,)) / y_scale\n",
    "y_hrz_prd_val = model_hrz.predict(x_val).reshape((n_val,)) / y_scale\n",
    "y_vrt_prd_train = model_vrt.predict(x_train).reshape((n_train,)) / y_scale\n",
    "y_vrt_prd_val = model_vrt.predict(x_val).reshape((n_val,)) / y_scale"
   ]
  },
  {
   "cell_type": "code",
   "execution_count": null,
   "metadata": {},
   "outputs": [],
   "source": [
    "hrz_train_eval = model_hrz.evaluate(x_train, y_hrz_train * y_scale)\n",
    "hrz_val_eval = model_hrz.evaluate(x_val, y_hrz_val * y_scale)\n",
    "vrt_train_eval = model_vrt.evaluate(x_train, y_vrt_train * y_scale)\n",
    "vrt_val_eval = model_vrt.evaluate(x_val, y_vrt_val * y_scale)\n",
    "\n",
    "print(hrz_train_eval, hrz_val_eval, vrt_train_eval, vrt_val_eval)"
   ]
  },
  {
   "cell_type": "code",
   "execution_count": null,
   "metadata": {},
   "outputs": [],
   "source": [
    "min_out_ratio = 0.005\n",
    "max_out_ratio = 0.995\n",
    "\n",
    "y_hrz_prd_train[y_hrz_prd_train < min_out_ratio] = min_out_ratio\n",
    "y_hrz_prd_val[y_hrz_prd_val < min_out_ratio] = min_out_ratio\n",
    "y_vrt_prd_train[y_vrt_prd_train < min_out_ratio] = min_out_ratio\n",
    "y_vrt_prd_val[y_vrt_prd_val < min_out_ratio] = min_out_ratio\n",
    "\n",
    "y_hrz_prd_train[y_hrz_prd_train > max_out_ratio] = max_out_ratio\n",
    "y_hrz_prd_val[y_hrz_prd_val > max_out_ratio] = max_out_ratio\n",
    "y_vrt_prd_train[y_vrt_prd_train > max_out_ratio] = max_out_ratio\n",
    "y_vrt_prd_val[y_vrt_prd_val > max_out_ratio] = max_out_ratio"
   ]
  },
  {
   "cell_type": "code",
   "execution_count": null,
   "metadata": {
    "colab": {
     "base_uri": "https://localhost:8080/",
     "height": 338
    },
    "id": "FDC8rCcVjjDa",
    "outputId": "48c3b4f3-1946-4554-b0e9-6ae7c0ca6120"
   },
   "outputs": [],
   "source": [
    "# Displaying data\n",
    "smp_num = 0\n",
    "print(\"Train\")\n",
    "sample_train = (int(y_hrz_train[smp_num] * y_scale),\n",
    "                int(y_vrt_train[smp_num] * y_scale))\n",
    "sample_prd_train = (int(y_hrz_prd_train[smp_num] * y_scale),\n",
    "                    int(y_vrt_prd_train[smp_num] * y_scale))\n",
    "print(sample_train)\n",
    "print(sample_prd_train)\n",
    "\n",
    "print(\"Validation\")\n",
    "sample_val = (int(y_hrz_val[smp_num] * y_scale),\n",
    "               int(y_vrt_val[smp_num] * y_scale))\n",
    "sample_prd_val = (int(y_hrz_prd_val[smp_num] * y_scale),\n",
    "                   int(y_vrt_prd_val[smp_num] * y_scale))\n",
    "print(sample_val)\n",
    "print(sample_prd_val)\n",
    "\n",
    "_, ax = plt.subplots(1, 2)\n",
    "ax[0].imshow((x1_train[smp_num] * x1_scaler).astype(np.uint8).\n",
    "             reshape((frame_h, frame_w)), cmap=\"gray\", vmin=0, vmax=255)\n",
    "ax[1].imshow((x1_val[smp_num] * x1_scaler).astype(np.uint8).\n",
    "             reshape((frame_h, frame_w)), cmap=\"gray\", vmin=0, vmax=255)"
   ]
  },
  {
   "cell_type": "code",
   "execution_count": null,
   "metadata": {},
   "outputs": [],
   "source": [
    "sbj_test_dir = path2root + subjects_dir + f\"{sbj_num_test}/\"\n",
    "data_et_test_dir = sbj_test_dir + data_et_fol\n",
    "print(f\"\\nLoading subject data in {data_et_test_dir}\")\n",
    "with open(data_et_test_dir + \"x1.pickle\", \"rb\") as f:\n",
    "    x1_load_test = pickle.load(f)\n",
    "with open(data_et_test_dir + \"x2.pickle\", \"rb\") as f:\n",
    "    x2_load_test = pickle.load(f)\n",
    "with open(data_et_test_dir + \"y.pickle\", \"rb\") as f:\n",
    "    y_load_test = pickle.load(f)\n",
    "n_smp_test= x1_load_test.shape[0]\n",
    "print(f\"Test samples number: {n_smp_test}\")"
   ]
  },
  {
   "cell_type": "code",
   "execution_count": null,
   "metadata": {},
   "outputs": [],
   "source": [
    "# Displaying data\n",
    "smp_num = 0\n",
    "print(x2_load_test[smp_num])\n",
    "print(y_load_test[smp_num])\n",
    "plt.imshow(x1_load_test[smp_num].reshape((frame_h, frame_w)),\n",
    "           cmap=\"gray\", vmin=0, vmax=255)\n",
    "plt.show()"
   ]
  },
  {
   "cell_type": "code",
   "execution_count": null,
   "metadata": {},
   "outputs": [],
   "source": [
    "x2_chs_inp_test = x2_load_test[:, chosen_inputs]\n",
    "\n",
    "x1_test = x1_load_test / x1_scaler\n",
    "x2_test = x2_scaler.transform(x2_chs_inp_test)\n",
    "\n",
    "x_test = [x1_test, x2_test]\n",
    "\n",
    "# Predicting outputs for train and test data\n",
    "y_hrz_test_prd = model_hrz.predict(x_test).reshape((n_smp_test,)) / y_scale\n",
    "y_vrt_test_prd = model_vrt.predict(x_test).reshape((n_smp_test,)) / y_scale\n",
    "\n",
    "hrz_test_eval = model_hrz.evaluate(x_test, y_load_test[:, 0] * y_scale)\n",
    "vrt_test_eval = model_vrt.evaluate(x_test, y_load_test[:, 1] * y_scale)\n",
    "\n",
    "print(hrz_test_eval, vrt_test_eval)\n",
    "\n",
    "min_out_ratio = 0.005\n",
    "max_out_ratio = 0.995\n",
    "\n",
    "y_hrz_test_prd[y_hrz_test_prd < min_out_ratio] = min_out_ratio\n",
    "y_vrt_test_prd[y_vrt_test_prd < min_out_ratio] = min_out_ratio"
   ]
  },
  {
   "cell_type": "code",
   "execution_count": null,
   "metadata": {},
   "outputs": [],
   "source": [
    "smp_num = 8000\n",
    "print(\"Test\")\n",
    "sample_test = (int(y_load_test[smp_num, 0] * y_scale),\n",
    "                int(y_load_test[smp_num, 1] * y_scale))\n",
    "sample_test_prd = (int(y_hrz_test_prd[smp_num] * y_scale),\n",
    "                    int(y_vrt_test_prd[smp_num] * y_scale))\n",
    "print(sample_test)\n",
    "print(sample_test_prd)\n",
    "\n",
    "plt.imshow((x1_test[smp_num] * x1_scaler).astype(np.uint8).\n",
    "             reshape((frame_h, frame_w)), cmap=\"gray\", vmin=0, vmax=255)"
   ]
  }
 ],
 "metadata": {
  "colab": {
   "collapsed_sections": [],
   "name": "rtn_2mdl_et_35p_predict_tst.ipynb",
   "provenance": []
  },
  "kernelspec": {
   "display_name": "venv",
   "language": "python",
   "name": "venv"
  },
  "language_info": {
   "codemirror_mode": {
    "name": "ipython",
    "version": 3
   },
   "file_extension": ".py",
   "mimetype": "text/x-python",
   "name": "python",
   "nbconvert_exporter": "python",
   "pygments_lexer": "ipython3",
   "version": "3.9.6"
  }
 },
 "nbformat": 4,
 "nbformat_minor": 1
}
