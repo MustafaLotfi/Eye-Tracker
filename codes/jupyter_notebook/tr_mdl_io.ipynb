{
 "cells": [
  {
   "cell_type": "code",
   "execution_count": 1,
   "metadata": {
    "id": "gdpcJ0ywSIY8"
   },
   "outputs": [],
   "source": [
    "from tensorflow.keras.callbacks import EarlyStopping\n",
    "from tensorflow.keras.models import load_model\n",
    "from tensorflow.keras.utils import to_categorical\n",
    "from sklearn.preprocessing import StandardScaler\n",
    "from sklearn.utils import shuffle\n",
    "from joblib import dump as j_dump\n",
    "import numpy as np\n",
    "import pickle\n",
    "import random\n",
    "import os"
   ]
  },
  {
   "cell_type": "code",
   "execution_count": 2,
   "metadata": {},
   "outputs": [],
   "source": [
    "# # Uncomment this box if the file is in google drive\n",
    "# # Create your own directory in your google drive and change path2root var.\n",
    "# path2root = \"/content/drive/MyDrive/Projects/EyeTracker/\""
   ]
  },
  {
   "cell_type": "code",
   "execution_count": 2,
   "metadata": {},
   "outputs": [],
   "source": [
    "# Uncomment this box if the file is in your local directory\n",
    "path2root = \"../../\""
   ]
  },
  {
   "cell_type": "code",
   "execution_count": 3,
   "metadata": {
    "id": "Ah5r_XTjVdsN"
   },
   "outputs": [],
   "source": [
    "models_fol = \"models/\"\n",
    "models_boi_fol = \"boi/\"\n",
    "raw_fol = \"raw/\"\n",
    "trained_fol = \"trained/\"\n",
    "selected_model_num = 1\n",
    "subjects_fol = \"subjects/\"\n",
    "data_boi_fol = \"data-boi/\"\n",
    "dataset_fol = \"dataset/boi/\"\n",
    "subjects = [3, 4, 5, 6, 7, 8, 9, 10, 11, 12, 13, 14, 15, 16, 17, 18, 19, 20, 21, 22]\n",
    "test_sbj = 23\n",
    "r_train = 0.85\n",
    "n_epochs = 160\n",
    "patience = 10\n",
    "min_brightness_ratio = 0.65\n",
    "max_brightness_ratio = 1.45"
   ]
  },
  {
   "cell_type": "code",
   "execution_count": 4,
   "metadata": {
    "colab": {
     "base_uri": "https://localhost:8080/"
    },
    "executionInfo": {
     "elapsed": 29,
     "status": "ok",
     "timestamp": 1634909786982,
     "user": {
      "displayName": "mostafa lotfi",
      "photoUrl": "https://lh3.googleusercontent.com/a-/AOh14Gj4ilTay6rvtZq-saddDY_b1Sar82sct4P4Z2d_Wg=s64",
      "userId": "11325640182532482321"
     },
     "user_tz": -210
    },
    "id": "mVGxkTRua15Z",
    "outputId": "1df8d716-64f0-4575-96df-3d599479569f"
   },
   "outputs": [
    {
     "name": "stdout",
     "output_type": "stream",
     "text": [
      "80000 100 100\n"
     ]
    }
   ],
   "source": [
    "x1_load = []\n",
    "x2_load = []\n",
    "y_load = []\n",
    "\n",
    "subjects_dir = path2root + subjects_fol\n",
    "\n",
    "for sbj in subjects:\n",
    "    data_boi_dir = subjects_dir + f\"{sbj}/\" + data_boi_fol\n",
    "    with open(data_boi_dir + \"x1.pickle\", \"rb\") as f:\n",
    "        x1_load0 = pickle.load(f)\n",
    "    with open(data_boi_dir + \"x2.pickle\", \"rb\") as f:\n",
    "        x2_load0 = pickle.load(f)\n",
    "    with open(data_boi_dir + \"y.pickle\", \"rb\") as f:\n",
    "        y_load0 = pickle.load(f)\n",
    "    for (x10, x20, y10) in zip(x1_load0, x2_load0, y_load0):\n",
    "        if y10 == 0:\n",
    "            continue\n",
    "        elif y10 == 2:\n",
    "            y10 = 0\n",
    "        x1_load.append(x10)\n",
    "        x2_load.append(x20)\n",
    "        y_load.append(y10)\n",
    "\n",
    "x1_load = np.array(x1_load)\n",
    "x2_load = np.array(x2_load)\n",
    "y_load = np.array(y_load)\n",
    "\n",
    "n_smp, frame_h, frame_w = x1_load.shape[:-1]\n",
    "\n",
    "print(n_smp, frame_h, frame_w)"
   ]
  },
  {
   "cell_type": "code",
   "execution_count": 5,
   "metadata": {},
   "outputs": [],
   "source": [
    "import matplotlib.pyplot as plt"
   ]
  },
  {
   "cell_type": "code",
   "execution_count": 10,
   "metadata": {
    "colab": {
     "base_uri": "https://localhost:8080/",
     "height": 284
    },
    "executionInfo": {
     "elapsed": 27,
     "status": "ok",
     "timestamp": 1634909786987,
     "user": {
      "displayName": "mostafa lotfi",
      "photoUrl": "https://lh3.googleusercontent.com/a-/AOh14Gj4ilTay6rvtZq-saddDY_b1Sar82sct4P4Z2d_Wg=s64",
      "userId": "11325640182532482321"
     },
     "user_tz": -210
    },
    "id": "bD1TcxjRTzbI",
    "outputId": "1d7a6ed2-de67-4f67-b5a0-988b6a3e682b"
   },
   "outputs": [
    {
     "name": "stdout",
     "output_type": "stream",
     "text": [
      "1.0\n"
     ]
    },
    {
     "data": {
      "image/png": "[encoded data removed]",
      "text/plain": [
       "<Figure size 432x288 with 1 Axes>"
      ]
     },
     "metadata": {
      "needs_background": "light"
     },
     "output_type": "display_data"
    }
   ],
   "source": [
    "smp_num = 2700\n",
    "print(y_load[smp_num])\n",
    "plt.imshow(x1_load[smp_num].reshape((frame_h, frame_w)), cmap=\"gray\")\n",
    "plt.show()"
   ]
  },
  {
   "cell_type": "code",
   "execution_count": 11,
   "metadata": {
    "id": "rDiJ8ut8BYGz"
   },
   "outputs": [],
   "source": [
    "# changing brightness\n",
    "x1_chg_bri = x1_load.copy()\n",
    "for (i, _) in enumerate(x1_chg_bri):\n",
    "    r = random.uniform(min_brightness_ratio, max_brightness_ratio)\n",
    "    x1_chg_bri[i] = (x1_chg_bri[i] * r).astype(np.uint8)\n",
    "\n",
    "del x1_load"
   ]
  },
  {
   "cell_type": "code",
   "execution_count": 12,
   "metadata": {},
   "outputs": [],
   "source": [
    "x1_shf, x2_shf, y_shf = shuffle(x1_chg_bri, x2_load, y_load)\n",
    "del x1_chg_bri"
   ]
  },
  {
   "cell_type": "code",
   "execution_count": 13,
   "metadata": {
    "colab": {
     "base_uri": "https://localhost:8080/"
    },
    "executionInfo": {
     "elapsed": 714,
     "status": "ok",
     "timestamp": 1634909787683,
     "user": {
      "displayName": "mostafa lotfi",
      "photoUrl": "https://lh3.googleusercontent.com/a-/AOh14Gj4ilTay6rvtZq-saddDY_b1Sar82sct4P4Z2d_Wg=s64",
      "userId": "11325640182532482321"
     },
     "user_tz": -210
    },
    "id": "CF1nWM2UPNmv",
    "outputId": "f549212b-efe2-483c-bde6-b6139edce9d6"
   },
   "outputs": [],
   "source": [
    "x1_scaler = 255.0\n",
    "x1 = x1_shf / x1_scaler\n",
    "del x1_shf\n",
    "\n",
    "x2_scaler = StandardScaler()\n",
    "x2 = x2_scaler.fit_transform(x2_shf)\n",
    "\n",
    "scalers = [x1_scaler, x2_scaler]"
   ]
  },
  {
   "cell_type": "code",
   "execution_count": 14,
   "metadata": {
    "colab": {
     "base_uri": "https://localhost:8080/"
    },
    "executionInfo": {
     "elapsed": 17,
     "status": "ok",
     "timestamp": 1634909787685,
     "user": {
      "displayName": "mostafa lotfi",
      "photoUrl": "https://lh3.googleusercontent.com/a-/AOh14Gj4ilTay6rvtZq-saddDY_b1Sar82sct4P4Z2d_Wg=s64",
      "userId": "11325640182532482321"
     },
     "user_tz": -210
    },
    "id": "zWswUN12p0m2",
    "outputId": "73389bb1-9b10-44f8-dba9-16201a4a32b6"
   },
   "outputs": [
    {
     "name": "stdout",
     "output_type": "stream",
     "text": [
      "(68000, 100, 100, 1) (12000, 100, 100, 1) (68000, 10) (12000, 10) (68000,) (12000,)\n"
     ]
    }
   ],
   "source": [
    "n_train = int(r_train * n_smp)\n",
    "n_val = n_smp - n_train\n",
    "x1_train, x2_train = x1[:n_train], x2[:n_train]\n",
    "x1_val, x2_val = x1[n_train:], x2[n_train:]\n",
    "y_train = y_shf[:n_train]\n",
    "y_val = y_shf[n_train:]\n",
    "\n",
    "del x1\n",
    "\n",
    "print(x1_train.shape, x1_val.shape, x2_train.shape, x2_val.shape,\n",
    "      y_train.shape, y_val.shape)"
   ]
  },
  {
   "cell_type": "code",
   "execution_count": 15,
   "metadata": {
    "id": "NTLA249QmZ58"
   },
   "outputs": [],
   "source": [
    "x_train_list = [x1_train, x2_train]\n",
    "x_val_list = [x1_val, x2_val]\n",
    "del x1_train\n",
    "del x1_val"
   ]
  },
  {
   "cell_type": "code",
   "execution_count": 16,
   "metadata": {
    "id": "ep7yoyQKrE5t"
   },
   "outputs": [],
   "source": [
    "cb = EarlyStopping(patience=patience, verbose=1, restore_best_weights=True)"
   ]
  },
  {
   "cell_type": "code",
   "execution_count": 17,
   "metadata": {
    "colab": {
     "base_uri": "https://localhost:8080/"
    },
    "executionInfo": {
     "elapsed": 630,
     "status": "ok",
     "timestamp": 1634909788307,
     "user": {
      "displayName": "mostafa lotfi",
      "photoUrl": "https://lh3.googleusercontent.com/a-/AOh14Gj4ilTay6rvtZq-saddDY_b1Sar82sct4P4Z2d_Wg=s64",
      "userId": "11325640182532482321"
     },
     "user_tz": -210
    },
    "id": "Jm2n-AyunYSL",
    "outputId": "139fa3d6-c8e1-4ddb-de02-8e3a01e03313"
   },
   "outputs": [
    {
     "name": "stdout",
     "output_type": "stream",
     "text": [
      "Model: \"model\"\n",
      "__________________________________________________________________________________________________\n",
      "Layer (type)                    Output Shape         Param #     Connected to                     \n",
      "==================================================================================================\n",
      "input_1 (InputLayer)            [(None, 100, 100, 1) 0                                            \n",
      "__________________________________________________________________________________________________\n",
      "conv2d (Conv2D)                 (None, 100, 100, 16) 1952        input_1[0][0]                    \n",
      "__________________________________________________________________________________________________\n",
      "max_pooling2d (MaxPooling2D)    (None, 50, 50, 16)   0           conv2d[0][0]                     \n",
      "__________________________________________________________________________________________________\n",
      "conv2d_1 (Conv2D)               (None, 50, 50, 32)   25120       max_pooling2d[0][0]              \n",
      "__________________________________________________________________________________________________\n",
      "max_pooling2d_1 (MaxPooling2D)  (None, 25, 25, 32)   0           conv2d_1[0][0]                   \n",
      "__________________________________________________________________________________________________\n",
      "conv2d_2 (Conv2D)               (None, 25, 25, 64)   51264       max_pooling2d_1[0][0]            \n",
      "__________________________________________________________________________________________________\n",
      "max_pooling2d_2 (MaxPooling2D)  (None, 12, 12, 64)   0           conv2d_2[0][0]                   \n",
      "__________________________________________________________________________________________________\n",
      "conv2d_3 (Conv2D)               (None, 12, 12, 128)  73856       max_pooling2d_2[0][0]            \n",
      "__________________________________________________________________________________________________\n",
      "max_pooling2d_3 (MaxPooling2D)  (None, 6, 6, 128)    0           conv2d_3[0][0]                   \n",
      "__________________________________________________________________________________________________\n",
      "flatten (Flatten)               (None, 4608)         0           max_pooling2d_3[0][0]            \n",
      "__________________________________________________________________________________________________\n",
      "dense (Dense)                   (None, 256)          1179904     flatten[0][0]                    \n",
      "__________________________________________________________________________________________________\n",
      "input_2 (InputLayer)            [(None, 10)]         0                                            \n",
      "__________________________________________________________________________________________________\n",
      "concatenate (Concatenate)       (None, 266)          0           dense[0][0]                      \n",
      "                                                                 input_2[0][0]                    \n",
      "__________________________________________________________________________________________________\n",
      "dense_1 (Dense)                 (None, 128)          34176       concatenate[0][0]                \n",
      "__________________________________________________________________________________________________\n",
      "dense_2 (Dense)                 (None, 32)           4128        dense_1[0][0]                    \n",
      "__________________________________________________________________________________________________\n",
      "dense_3 (Dense)                 (None, 8)            264         dense_2[0][0]                    \n",
      "__________________________________________________________________________________________________\n",
      "dense_4 (Dense)                 (None, 1)            9           dense_3[0][0]                    \n",
      "==================================================================================================\n",
      "Total params: 1,370,673\n",
      "Trainable params: 1,370,673\n",
      "Non-trainable params: 0\n",
      "__________________________________________________________________________________________________\n",
      "None\n"
     ]
    }
   ],
   "source": [
    "raw_model_dir = path2root + models_fol + models_boi_fol + raw_fol + f\"model{selected_model_num}.h5\"\n",
    "\n",
    "model = load_model(raw_model_dir)\n",
    "print(model.summary())"
   ]
  },
  {
   "cell_type": "code",
   "execution_count": null,
   "metadata": {
    "id": "woulgNfGVvMO"
   },
   "outputs": [],
   "source": [
    "# from tensorflow.keras.utils import plot_model\n",
    "\n",
    "# plot_model(model, show_shapes=True)"
   ]
  },
  {
   "cell_type": "code",
   "execution_count": null,
   "metadata": {
    "colab": {
     "base_uri": "https://localhost:8080/"
    },
    "executionInfo": {
     "elapsed": 20993,
     "status": "ok",
     "timestamp": 1634909809289,
     "user": {
      "displayName": "mostafa lotfi",
      "photoUrl": "https://lh3.googleusercontent.com/a-/AOh14Gj4ilTay6rvtZq-saddDY_b1Sar82sct4P4Z2d_Wg=s64",
      "userId": "11325640182532482321"
     },
     "user_tz": -210
    },
    "id": "Jfxj31nFVzaz",
    "outputId": "170f83c1-7f43-4d0a-d297-792fdbe3c370"
   },
   "outputs": [
    {
     "name": "stdout",
     "output_type": "stream",
     "text": [
      "Epoch 1/160\n",
      "3188/3188 [==============================] - 704s 203ms/step - loss: 0.2288 - val_loss: 0.1007\n",
      "Epoch 2/160\n",
      "3188/3188 [==============================] - 121s 38ms/step - loss: 0.0814 - val_loss: 0.0843\n",
      "Epoch 3/160\n",
      "3188/3188 [==============================] - 121s 38ms/step - loss: 0.0560 - val_loss: 0.0616\n",
      "Epoch 4/160\n",
      "3188/3188 [==============================] - 121s 38ms/step - loss: 0.0437 - val_loss: 0.0638\n",
      "Epoch 5/160\n",
      "3188/3188 [==============================] - 121s 38ms/step - loss: 0.0351 - val_loss: 0.0486\n",
      "Epoch 6/160\n",
      "3188/3188 [==============================] - 121s 38ms/step - loss: 0.0283 - val_loss: 0.0671\n",
      "Epoch 7/160\n",
      "3188/3188 [==============================] - 121s 38ms/step - loss: 0.0265 - val_loss: 0.0540\n",
      "Epoch 8/160\n",
      " 248/3188 [=>............................] - ETA: 1:44 - loss: 0.0262"
     ]
    }
   ],
   "source": [
    "results = model.fit(x_train_list,\n",
    "                    y_train_ctg,\n",
    "                    validation_data=(x_val_list, y_val_ctg),\n",
    "                    epochs=n_epochs,\n",
    "                    callbacks=cb)"
   ]
  },
  {
   "cell_type": "code",
   "execution_count": 25,
   "metadata": {
    "id": "BMShmu68apan"
   },
   "outputs": [],
   "source": [
    "y_prd_train = model.predict(x_train_list).argmax(1)\n",
    "y_prd_val = model.predict(x_val_list).argmax(1)"
   ]
  },
  {
   "cell_type": "code",
   "execution_count": 50,
   "metadata": {
    "colab": {
     "base_uri": "https://localhost:8080/",
     "height": 319
    },
    "executionInfo": {
     "elapsed": 41,
     "status": "ok",
     "timestamp": 1634909859534,
     "user": {
      "displayName": "mostafa lotfi",
      "photoUrl": "https://lh3.googleusercontent.com/a-/AOh14Gj4ilTay6rvtZq-saddDY_b1Sar82sct4P4Z2d_Wg=s64",
      "userId": "11325640182532482321"
     },
     "user_tz": -210
    },
    "id": "3BMYprc0cRcQ",
    "outputId": "00044cae-812c-4429-92fa-0b7c479371e0"
   },
   "outputs": [
    {
     "name": "stdout",
     "output_type": "stream",
     "text": [
      "Test\n",
      "1.0\n"
     ]
    },
    {
     "data": {
      "image/png": "[encoded data removed]",
      "text/plain": [
       "<Figure size 432x288 with 1 Axes>"
      ]
     },
     "metadata": {
      "needs_background": "light"
     },
     "output_type": "display_data"
    }
   ],
   "source": [
    "smp_num = 18\n",
    "print(\"Test\")\n",
    "print(y_train[smp_num])\n",
    "# print(y_prd_train[smp_num])\n",
    "plt.imshow(\n",
    "    (x1_train[smp_num].reshape((frame_h, frame_w)) * 255)\n",
    "    .astype(np.uint8),\n",
    "    cmap=\"gray\",\n",
    "    vmin=0,\n",
    "    vmax=255\n",
    "    )\n",
    "plt.show()"
   ]
  },
  {
   "cell_type": "code",
   "execution_count": 81,
   "metadata": {
    "colab": {
     "base_uri": "https://localhost:8080/",
     "height": 265
    },
    "executionInfo": {
     "elapsed": 907,
     "status": "ok",
     "timestamp": 1634909860417,
     "user": {
      "displayName": "mostafa lotfi",
      "photoUrl": "https://lh3.googleusercontent.com/a-/AOh14Gj4ilTay6rvtZq-saddDY_b1Sar82sct4P4Z2d_Wg=s64",
      "userId": "11325640182532482321"
     },
     "user_tz": -210
    },
    "id": "HwtFs7Wf8lKu",
    "outputId": "04235da4-808d-48f1-90a4-7810a2b0d20d"
   },
   "outputs": [
    {
     "data": {
      "image/png": "[encoded data removed]",
      "text/plain": [
       "<Figure size 432x288 with 1 Axes>"
      ]
     },
     "metadata": {
      "needs_background": "light"
     },
     "output_type": "display_data"
    }
   ],
   "source": [
    "loss = results.history[\"loss\"]\n",
    "val_loss = results.history[\"val_loss\"]\n",
    "plt.plot(loss, label=\"loss\")\n",
    "plt.plot(val_loss, label=\"val_loss\")\n",
    "plt.legend()\n",
    "plt.show()"
   ]
  },
  {
   "cell_type": "code",
   "execution_count": 26,
   "metadata": {
    "colab": {
     "base_uri": "https://localhost:8080/",
     "height": 948
    },
    "executionInfo": {
     "elapsed": 31,
     "status": "ok",
     "timestamp": 1634909860419,
     "user": {
      "displayName": "mostafa lotfi",
      "photoUrl": "https://lh3.googleusercontent.com/a-/AOh14Gj4ilTay6rvtZq-saddDY_b1Sar82sct4P4Z2d_Wg=s64",
      "userId": "11325640182532482321"
     },
     "user_tz": -210
    },
    "id": "THpnD4gSbBOT",
    "outputId": "66078240-2611-4b5f-bc34-7f8bfe4f542d"
   },
   "outputs": [
    {
     "data": {
      "image/png": "[encoded data removed]",
      "text/plain": [
       "<Figure size 1152x1152 with 1 Axes>"
      ]
     },
     "metadata": {
      "needs_background": "light"
     },
     "output_type": "display_data"
    }
   ],
   "source": [
    "from sklearn.metrics import confusion_matrix\n",
    "\n",
    "n_class = y_train_ctg.shape[1]\n",
    "cm_val = confusion_matrix(y_val, y_prd_val)\n",
    "plt.figure(figsize=(16, 16))\n",
    "plt.imshow(cm_val, cmap=plt.cm.Greens)\n",
    "class_arr = np.arange(n_class)\n",
    "plt.xticks(class_arr)\n",
    "plt.yticks(class_arr)\n",
    "plt.title('Confusion Matrix')\n",
    "plt.xlabel('Predicted labels')\n",
    "plt.ylabel('True labels')\n",
    "\n",
    "for i in range(n_class):\n",
    "    for j in range(n_class):\n",
    "        plt.text(i, j, cm_val[j][i])"
   ]
  },
  {
   "cell_type": "code",
   "execution_count": 10,
   "metadata": {},
   "outputs": [],
   "source": [
    "trained_dir = path2root + models_fol + models_boi_fol + trained_fol\n",
    "if not os.path.exists(trained_dir):\n",
    "    os.mkdir(trained_dir)"
   ]
  },
  {
   "cell_type": "code",
   "execution_count": 11,
   "metadata": {
    "colab": {
     "base_uri": "https://localhost:8080/"
    },
    "executionInfo": {
     "elapsed": 2408,
     "status": "ok",
     "timestamp": 1634909862806,
     "user": {
      "displayName": "mostafa lotfi",
      "photoUrl": "https://lh3.googleusercontent.com/a-/AOh14Gj4ilTay6rvtZq-saddDY_b1Sar82sct4P4Z2d_Wg=s64",
      "userId": "11325640182532482321"
     },
     "user_tz": -210
    },
    "id": "TdY52OXg3WR3",
    "outputId": "3eb95729-eb7c-4d28-de35-e8048fe45247"
   },
   "outputs": [],
   "source": [
    "models_numbers = []\n",
    "models_name = os.listdir(trained_dir)\n",
    "if models_name:\n",
    "    for mn in models_name:\n",
    "        if mn[:5] == \"model\":\n",
    "            mn0 = int(mn[5:-3])\n",
    "            models_numbers.append(mn0)\n",
    "    max_num = max(models_numbers)\n",
    "else:\n",
    "    max_num = 0\n",
    "\n",
    "model.save(trained_dir + f\"model{max_num+1}.h5\")\n",
    "# scalers_dir = path2root + models_fol + models_boi_fol + trained_fol + f\"scalers{max_num+1}.bin\"\n",
    "# j_dump(scalers, scalers_dir)"
   ]
  }
 ],
 "metadata": {
  "colab": {
   "authorship_tag": "ABX9TyMnUAkWPy8ifXNj7tf4BomS",
   "collapsed_sections": [],
   "mount_file_id": "1B4PqfUOfyNhoe2m45NfFDlq_4YSWkzc_",
   "name": "tr_mdl_in_blink_out.ipynb",
   "provenance": []
  },
  "kernelspec": {
   "display_name": "venv",
   "language": "python",
   "name": "venv"
  },
  "language_info": {
   "codemirror_mode": {
    "name": "ipython",
    "version": 3
   },
   "file_extension": ".py",
   "mimetype": "text/x-python",
   "name": "python",
   "nbconvert_exporter": "python",
   "pygments_lexer": "ipython3",
   "version": "3.9.6"
  }
 },
 "nbformat": 4,
 "nbformat_minor": 1
}
