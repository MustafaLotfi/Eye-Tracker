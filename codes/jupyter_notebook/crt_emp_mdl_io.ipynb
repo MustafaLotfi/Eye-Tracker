{
 "cells": [
  {
   "cell_type": "code",
   "execution_count": 1,
   "metadata": {
    "executionInfo": {
     "elapsed": 3115,
     "status": "ok",
     "timestamp": 1634906898989,
     "user": {
      "displayName": "mostafa lotfi",
      "photoUrl": "https://lh3.googleusercontent.com/a-/AOh14Gj4ilTay6rvtZq-saddDY_b1Sar82sct4P4Z2d_Wg=s64",
      "userId": "11325640182532482321"
     },
     "user_tz": -210
    },
    "id": "gdpcJ0ywSIY8"
   },
   "outputs": [],
   "source": [
    "from tensorflow.keras.layers import (Input, Conv2D, Flatten, MaxPooling2D,\n",
    "                                     Dense, Dropout, Concatenate)\n",
    "from tensorflow.keras.models import Model\n",
    "from tensorflow.keras.utils import plot_model\n",
    "import numpy as np\n",
    "import os\n",
    "import pickle"
   ]
  },
  {
   "cell_type": "code",
   "execution_count": 2,
   "metadata": {
    "executionInfo": {
     "elapsed": 28,
     "status": "ok",
     "timestamp": 1634906898992,
     "user": {
      "displayName": "mostafa lotfi",
      "photoUrl": "https://lh3.googleusercontent.com/a-/AOh14Gj4ilTay6rvtZq-saddDY_b1Sar82sct4P4Z2d_Wg=s64",
      "userId": "11325640182532482321"
     },
     "user_tz": -210
    },
    "id": "YGlf78zqN8xb"
   },
   "outputs": [],
   "source": [
    "# # Uncomment this box if the file is in google colab\n",
    "# path2root = \"/content/drive/MyDrive/Projects/EyeTracker/\""
   ]
  },
  {
   "cell_type": "code",
   "execution_count": 2,
   "metadata": {},
   "outputs": [],
   "source": [
    "# Uncomment this box if the file is in your local directory\n",
    "path2root = \"../../\""
   ]
  },
  {
   "cell_type": "code",
   "execution_count": 3,
   "metadata": {},
   "outputs": [],
   "source": [
    "subjects_fol = \"subjects/\"\n",
    "data_boi_fol = \"data-boi/\"\n",
    "models_fol = \"models/\"\n",
    "models_boi_fol = \"boi/\"\n",
    "raw_fol = \"raw/\"\n",
    "# chosen_inputs = [0, 1, 2, 6, 7, 8, 9]\n",
    "chosen_inputs = [0, 1, 2, 3, 4, 5, 6, 7, 8, 9]"
   ]
  },
  {
   "cell_type": "code",
   "execution_count": 4,
   "metadata": {
    "executionInfo": {
     "elapsed": 1534,
     "status": "ok",
     "timestamp": 1634906900506,
     "user": {
      "displayName": "mostafa lotfi",
      "photoUrl": "https://lh3.googleusercontent.com/a-/AOh14Gj4ilTay6rvtZq-saddDY_b1Sar82sct4P4Z2d_Wg=s64",
      "userId": "11325640182532482321"
     },
     "user_tz": -210
    },
    "id": "BBr2Jp0jRp-N"
   },
   "outputs": [],
   "source": [
    "data_boi_dir = path2root + subjects_fol + f\"{3}/\" + data_boi_fol\n",
    "\n",
    "with open(data_boi_dir + \"x1.pickle\", \"rb\") as f:\n",
    "    x1 = pickle.load(f)\n",
    "with open(data_boi_dir + \"x2.pickle\", \"rb\") as f:\n",
    "    x2 = pickle.load(f)\n",
    "with open(data_boi_dir + \"y.pickle\", \"rb\") as f:\n",
    "    y = pickle.load(f)\n",
    "\n",
    "x2_chs_inp = x2[:, chosen_inputs]"
   ]
  },
  {
   "cell_type": "code",
   "execution_count": 10,
   "metadata": {
    "colab": {
     "base_uri": "https://localhost:8080/"
    },
    "executionInfo": {
     "elapsed": 1366,
     "status": "ok",
     "timestamp": 1634906901865,
     "user": {
      "displayName": "mostafa lotfi",
      "photoUrl": "https://lh3.googleusercontent.com/a-/AOh14Gj4ilTay6rvtZq-saddDY_b1Sar82sct4P4Z2d_Wg=s64",
      "userId": "11325640182532482321"
     },
     "user_tz": -210
    },
    "id": "4PX0-j2gRhWL",
    "outputId": "fa4469a0-3fe3-4b6b-93b7-e3b150335149"
   },
   "outputs": [
    {
     "name": "stdout",
     "output_type": "stream",
     "text": [
      "Model: \"model_2\"\n",
      "__________________________________________________________________________________________________\n",
      "Layer (type)                    Output Shape         Param #     Connected to                     \n",
      "==================================================================================================\n",
      "input_5 (InputLayer)            [(None, 100, 100, 1) 0                                            \n",
      "__________________________________________________________________________________________________\n",
      "conv2d_8 (Conv2D)               (None, 100, 100, 16) 1952        input_5[0][0]                    \n",
      "__________________________________________________________________________________________________\n",
      "max_pooling2d_8 (MaxPooling2D)  (None, 50, 50, 16)   0           conv2d_8[0][0]                   \n",
      "__________________________________________________________________________________________________\n",
      "conv2d_9 (Conv2D)               (None, 50, 50, 32)   25120       max_pooling2d_8[0][0]            \n",
      "__________________________________________________________________________________________________\n",
      "max_pooling2d_9 (MaxPooling2D)  (None, 25, 25, 32)   0           conv2d_9[0][0]                   \n",
      "__________________________________________________________________________________________________\n",
      "conv2d_10 (Conv2D)              (None, 25, 25, 64)   51264       max_pooling2d_9[0][0]            \n",
      "__________________________________________________________________________________________________\n",
      "max_pooling2d_10 (MaxPooling2D) (None, 12, 12, 64)   0           conv2d_10[0][0]                  \n",
      "__________________________________________________________________________________________________\n",
      "conv2d_11 (Conv2D)              (None, 12, 12, 128)  73856       max_pooling2d_10[0][0]           \n",
      "__________________________________________________________________________________________________\n",
      "max_pooling2d_11 (MaxPooling2D) (None, 6, 6, 128)    0           conv2d_11[0][0]                  \n",
      "__________________________________________________________________________________________________\n",
      "flatten_2 (Flatten)             (None, 4608)         0           max_pooling2d_11[0][0]           \n",
      "__________________________________________________________________________________________________\n",
      "input_6 (InputLayer)            [(None, 10)]         0                                            \n",
      "__________________________________________________________________________________________________\n",
      "concatenate_2 (Concatenate)     (None, 4618)         0           flatten_2[0][0]                  \n",
      "                                                                 input_6[0][0]                    \n",
      "__________________________________________________________________________________________________\n",
      "dense_11 (Dense)                (None, 256)          1182464     concatenate_2[0][0]              \n",
      "__________________________________________________________________________________________________\n",
      "dense_12 (Dense)                (None, 128)          32896       dense_11[0][0]                   \n",
      "__________________________________________________________________________________________________\n",
      "dense_13 (Dense)                (None, 32)           4128        dense_12[0][0]                   \n",
      "__________________________________________________________________________________________________\n",
      "dense_14 (Dense)                (None, 8)            264         dense_13[0][0]                   \n",
      "__________________________________________________________________________________________________\n",
      "dense_15 (Dense)                (None, 1)            9           dense_14[0][0]                   \n",
      "==================================================================================================\n",
      "Total params: 1,371,953\n",
      "Trainable params: 1,371,953\n",
      "Non-trainable params: 0\n",
      "__________________________________________________________________________________________________\n",
      "None\n"
     ]
    }
   ],
   "source": [
    "input1 = Input(x1.shape[1:])\n",
    "layer = Conv2D(16, (11, 11), (1, 1), \"same\", activation=\"relu\")(input1)\n",
    "layer = MaxPooling2D((2, 2), (2, 2))(layer)\n",
    "\n",
    "layer = Conv2D(32, (7, 7), (1, 1), \"same\", activation=\"relu\")(layer)\n",
    "layer = MaxPooling2D((2, 2), (2, 2))(layer)\n",
    "\n",
    "layer = Conv2D(64, (5, 5), (1, 1), \"same\", activation=\"relu\")(layer)\n",
    "layer = MaxPooling2D((2, 2), (2, 2))(layer)\n",
    "\n",
    "layer = Conv2D(128, (3, 3), (1, 1), \"same\", activation=\"relu\")(layer)\n",
    "layer = MaxPooling2D((2, 2), (2, 2))(layer)\n",
    "\n",
    "layer = Flatten()(layer)\n",
    "\n",
    "layer = Dense(256, \"relu\")(layer)\n",
    "\n",
    "input2 = Input(x2_chs_inp.shape[1:])\n",
    "layer = Concatenate()([layer, input2])\n",
    "\n",
    "layer = Dense(128, \"relu\")(layer)\n",
    "\n",
    "# layer = Dense(64, \"relu\")(layer)\n",
    "\n",
    "layer = Dense(32, \"relu\")(layer)\n",
    "\n",
    "layer = Dense(8, \"relu\")(layer)\n",
    "\n",
    "output_layer = Dense(1, \"sigmoid\")(layer)\n",
    "\n",
    "input_layers = [input1, input2]\n",
    "\n",
    "model = Model(inputs=input_layers, outputs=output_layer)\n",
    "\n",
    "model.compile(optimizer=\"adam\", loss=\"binary_crossentropy\")\n",
    "\n",
    "print(model.summary())"
   ]
  },
  {
   "cell_type": "code",
   "execution_count": 7,
   "metadata": {
    "colab": {
     "base_uri": "https://localhost:8080/",
     "height": 1000
    },
    "executionInfo": {
     "elapsed": 32,
     "status": "ok",
     "timestamp": 1634906901869,
     "user": {
      "displayName": "mostafa lotfi",
      "photoUrl": "https://lh3.googleusercontent.com/a-/AOh14Gj4ilTay6rvtZq-saddDY_b1Sar82sct4P4Z2d_Wg=s64",
      "userId": "11325640182532482321"
     },
     "user_tz": -210
    },
    "id": "woulgNfGVvMO",
    "outputId": "1357e75d-a130-47b9-8b8a-a283a28ef9ee"
   },
   "outputs": [],
   "source": [
    "# plot_model(model, show_shapes=True)"
   ]
  },
  {
   "cell_type": "code",
   "execution_count": 6,
   "metadata": {
    "colab": {
     "base_uri": "https://localhost:8080/"
    },
    "executionInfo": {
     "elapsed": 1600,
     "status": "ok",
     "timestamp": 1634906903452,
     "user": {
      "displayName": "mostafa lotfi",
      "photoUrl": "https://lh3.googleusercontent.com/a-/AOh14Gj4ilTay6rvtZq-saddDY_b1Sar82sct4P4Z2d_Wg=s64",
      "userId": "11325640182532482321"
     },
     "user_tz": -210
    },
    "id": "Oa3y4Mfyg7g7",
    "outputId": "cf277369-f69c-4b36-9140-c5c0480876e0"
   },
   "outputs": [],
   "source": [
    "models_dir = path2root + models_fol\n",
    "if not os.path.exists(models_dir):\n",
    "    os.mkdir(models_dir)\n",
    "\n",
    "models_boi_dir = models_dir + models_boi_fol\n",
    "if not os.path.exists(models_boi_dir):\n",
    "    os.mkdir(models_boi_dir)\n",
    "\n",
    "raw_dir = models_boi_dir + raw_fol\n",
    "if not os.path.exists(raw_dir):\n",
    "    os.mkdir(raw_dir)"
   ]
  },
  {
   "cell_type": "code",
   "execution_count": 11,
   "metadata": {},
   "outputs": [],
   "source": [
    "models_numbers = []\n",
    "models_name = os.listdir(raw_dir)\n",
    "if models_name:\n",
    "    for model_name in models_name:\n",
    "        model_num = int(model_name[5:-3])\n",
    "        models_numbers.append(model_num)\n",
    "    max_num = max(models_numbers)\n",
    "else:\n",
    "    max_num = 0\n",
    "\n",
    "model.save(raw_dir + f\"model{max_num+1}.h5\")"
   ]
  }
 ],
 "metadata": {
  "colab": {
   "authorship_tag": "ABX9TyO+imeiHVHbkQtIcxwp1CO/",
   "collapsed_sections": [],
   "mount_file_id": "1uCQ0LdEXc_1zKNjksNB7MFXCz9JZIiOY",
   "name": "crt_mdl_in_blink_out.ipynb",
   "provenance": []
  },
  "kernelspec": {
   "display_name": "venv",
   "language": "python",
   "name": "venv"
  },
  "language_info": {
   "codemirror_mode": {
    "name": "ipython",
    "version": 3
   },
   "file_extension": ".py",
   "mimetype": "text/x-python",
   "name": "python",
   "nbconvert_exporter": "python",
   "pygments_lexer": "ipython3",
   "version": "3.9.6"
  }
 },
 "nbformat": 4,
 "nbformat_minor": 1
}
