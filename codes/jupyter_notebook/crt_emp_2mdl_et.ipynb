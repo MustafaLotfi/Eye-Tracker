{
 "cells": [
  {
   "cell_type": "code",
   "execution_count": 1,
   "metadata": {
    "executionInfo": {
     "elapsed": 3227,
     "status": "ok",
     "timestamp": 1635187414445,
     "user": {
      "displayName": "mostafa lotfi",
      "photoUrl": "https://lh3.googleusercontent.com/a-/AOh14Gj4ilTay6rvtZq-saddDY_b1Sar82sct4P4Z2d_Wg=s64",
      "userId": "11325640182532482321"
     },
     "user_tz": -210
    },
    "id": "gdpcJ0ywSIY8"
   },
   "outputs": [],
   "source": [
    "from tensorflow.keras.layers import (Input, Conv2D, Flatten, MaxPooling2D,\n",
    "                                     Dense, Dropout, Concatenate)\n",
    "from tensorflow.keras.models import Model\n",
    "from tensorflow.keras.utils import plot_model\n",
    "import numpy as np\n",
    "import os\n",
    "import pickle"
   ]
  },
  {
   "cell_type": "code",
   "execution_count": 2,
   "metadata": {},
   "outputs": [],
   "source": [
    "# # Uncomment this box if the file is in google colab\n",
    "# path2root = \"/content/drive/MyDrive/Projects/EyeTracker/\""
   ]
  },
  {
   "cell_type": "code",
   "execution_count": 2,
   "metadata": {},
   "outputs": [],
   "source": [
    "# Uncomment this box if the file is in your local directory\n",
    "path2root = \"../../\""
   ]
  },
  {
   "cell_type": "code",
   "execution_count": 3,
   "metadata": {
    "executionInfo": {
     "elapsed": 23,
     "status": "ok",
     "timestamp": 1635187414448,
     "user": {
      "displayName": "mostafa lotfi",
      "photoUrl": "https://lh3.googleusercontent.com/a-/AOh14Gj4ilTay6rvtZq-saddDY_b1Sar82sct4P4Z2d_Wg=s64",
      "userId": "11325640182532482321"
     },
     "user_tz": -210
    },
    "id": "YGlf78zqN8xb"
   },
   "outputs": [],
   "source": [
    "subjects_fol = \"subjects/\"\n",
    "data_et_fol = \"data-et-clb/\"\n",
    "models_fol = \"models/\"\n",
    "models_et_fol = \"et/\"\n",
    "raw_fol = \"raw/\"\n",
    "chosen_inputs = [0, 1, 2, 3, 4, 5, 6, 7, 8, 9]"
   ]
  },
  {
   "cell_type": "code",
   "execution_count": 4,
   "metadata": {
    "executionInfo": {
     "elapsed": 1441,
     "status": "ok",
     "timestamp": 1635187415872,
     "user": {
      "displayName": "mostafa lotfi",
      "photoUrl": "https://lh3.googleusercontent.com/a-/AOh14Gj4ilTay6rvtZq-saddDY_b1Sar82sct4P4Z2d_Wg=s64",
      "userId": "11325640182532482321"
     },
     "user_tz": -210
    },
    "id": "wIrwyDFyQpof"
   },
   "outputs": [],
   "source": [
    "data_et_dir = path2root + subjects_fol + f\"{3}/\" + data_et_fol\n",
    "\n",
    "with open(data_et_dir + \"x1.pickle\", \"rb\") as f:\n",
    "    x1 = pickle.load(f)\n",
    "with open(data_et_dir + \"x2.pickle\", \"rb\") as f:\n",
    "    x2 = pickle.load(f)\n",
    "with open(data_et_dir + \"y.pickle\", \"rb\") as f:\n",
    "    y = pickle.load(f)\n",
    "\n",
    "x2_chs_inp = x2[:, chosen_inputs]"
   ]
  },
  {
   "cell_type": "code",
   "execution_count": 14,
   "metadata": {
    "colab": {
     "base_uri": "https://localhost:8080/"
    },
    "executionInfo": {
     "elapsed": 944,
     "status": "ok",
     "timestamp": 1635187416811,
     "user": {
      "displayName": "mostafa lotfi",
      "photoUrl": "https://lh3.googleusercontent.com/a-/AOh14Gj4ilTay6rvtZq-saddDY_b1Sar82sct4P4Z2d_Wg=s64",
      "userId": "11325640182532482321"
     },
     "user_tz": -210
    },
    "id": "4PX0-j2gRhWL",
    "outputId": "7bc4570b-7576-48c6-9455-845aa581d904"
   },
   "outputs": [
    {
     "name": "stdout",
     "output_type": "stream",
     "text": [
      "Model: \"model_4\"\n",
      "__________________________________________________________________________________________________\n",
      "Layer (type)                    Output Shape         Param #     Connected to                     \n",
      "==================================================================================================\n",
      "input_10 (InputLayer)           [(None, 100, 100, 1) 0                                            \n",
      "__________________________________________________________________________________________________\n",
      "conv2d_15 (Conv2D)              (None, 50, 50, 16)   800         input_10[0][0]                   \n",
      "__________________________________________________________________________________________________\n",
      "conv2d_16 (Conv2D)              (None, 25, 25, 32)   12832       conv2d_15[0][0]                  \n",
      "__________________________________________________________________________________________________\n",
      "conv2d_17 (Conv2D)              (None, 12, 12, 64)   18496       conv2d_16[0][0]                  \n",
      "__________________________________________________________________________________________________\n",
      "flatten_4 (Flatten)             (None, 9216)         0           conv2d_17[0][0]                  \n",
      "__________________________________________________________________________________________________\n",
      "input_11 (InputLayer)           [(None, 10)]         0                                            \n",
      "__________________________________________________________________________________________________\n",
      "concatenate_4 (Concatenate)     (None, 9226)         0           flatten_4[0][0]                  \n",
      "                                                                 input_11[0][0]                   \n",
      "__________________________________________________________________________________________________\n",
      "dense_20 (Dense)                (None, 256)          2362112     concatenate_4[0][0]              \n",
      "__________________________________________________________________________________________________\n",
      "dense_21 (Dense)                (None, 128)          32896       dense_20[0][0]                   \n",
      "__________________________________________________________________________________________________\n",
      "dense_22 (Dense)                (None, 32)           4128        dense_21[0][0]                   \n",
      "__________________________________________________________________________________________________\n",
      "dense_23 (Dense)                (None, 5)            165         dense_22[0][0]                   \n",
      "__________________________________________________________________________________________________\n",
      "dense_24 (Dense)                (None, 1)            6           dense_23[0][0]                   \n",
      "==================================================================================================\n",
      "Total params: 2,431,435\n",
      "Trainable params: 2,431,435\n",
      "Non-trainable params: 0\n",
      "__________________________________________________________________________________________________\n",
      "None\n"
     ]
    }
   ],
   "source": [
    "input1 = Input(x1.shape[1:])\n",
    "layer = Conv2D(16, (7, 7), (2, 2), 'same', activation='relu')(input1)\n",
    "# layer = MaxPooling2D((2, 2), (2, 2))(layer)\n",
    "\n",
    "# layer = Conv2D(32, (7, 7), (1, 1), 'same', activation='relu')(layer)\n",
    "# layer = MaxPooling2D((2, 2), (2, 2))(layer)\n",
    "\n",
    "layer = Conv2D(32, (5, 5), (2, 2), 'same', activation='relu')(layer)\n",
    "# layer = MaxPooling2D((2, 2), (2, 2))(layer)\n",
    "\n",
    "layer = Conv2D(64, (3, 3), (2, 2), activation='relu')(layer)\n",
    "# layer = MaxPooling2D((2, 2), (2, 2))(layer)\n",
    "\n",
    "layer = Flatten()(layer)\n",
    "\n",
    "input2 = Input(x2_chs_inp.shape[1:])\n",
    "layer = Concatenate()([layer, input2])\n",
    "\n",
    "layer = Dense(256, 'relu')(layer)\n",
    "\n",
    "layer = Dense(128, 'relu')(layer)\n",
    "\n",
    "layer = Dense(32, 'relu')(layer)\n",
    "\n",
    "layer = Dense(5, 'relu')(layer)\n",
    "\n",
    "out = Dense(1, 'linear')(layer)\n",
    "\n",
    "input_layers = [input1, input2]\n",
    "\n",
    "model = Model(inputs=input_layers, outputs=out)\n",
    "\n",
    "model.compile(optimizer='adam', loss='mse')\n",
    "\n",
    "print(model.summary())"
   ]
  },
  {
   "cell_type": "code",
   "execution_count": 7,
   "metadata": {
    "executionInfo": {
     "elapsed": 27,
     "status": "ok",
     "timestamp": 1635187416814,
     "user": {
      "displayName": "mostafa lotfi",
      "photoUrl": "https://lh3.googleusercontent.com/a-/AOh14Gj4ilTay6rvtZq-saddDY_b1Sar82sct4P4Z2d_Wg=s64",
      "userId": "11325640182532482321"
     },
     "user_tz": -210
    },
    "id": "woulgNfGVvMO"
   },
   "outputs": [],
   "source": [
    "# plot_model(model, show_shapes=True)"
   ]
  },
  {
   "cell_type": "code",
   "execution_count": 6,
   "metadata": {},
   "outputs": [],
   "source": [
    "models_dir = path2root + models_fol\n",
    "if not os.path.exists(models_dir):\n",
    "    os.mkdir(models_dir)\n",
    "\n",
    "models_et_dir = models_dir + models_et_fol\n",
    "if not os.path.exists(models_et_dir):\n",
    "    os.mkdir(models_et_dir)\n",
    "\n",
    "raw_dir = models_et_dir + raw_fol\n",
    "if not os.path.exists(raw_dir):\n",
    "    os.mkdir(raw_dir)"
   ]
  },
  {
   "cell_type": "code",
   "execution_count": 15,
   "metadata": {
    "colab": {
     "base_uri": "https://localhost:8080/"
    },
    "executionInfo": {
     "elapsed": 3087,
     "status": "ok",
     "timestamp": 1635187419881,
     "user": {
      "displayName": "mostafa lotfi",
      "photoUrl": "https://lh3.googleusercontent.com/a-/AOh14Gj4ilTay6rvtZq-saddDY_b1Sar82sct4P4Z2d_Wg=s64",
      "userId": "11325640182532482321"
     },
     "user_tz": -210
    },
    "id": "Oa3y4Mfyg7g7",
    "outputId": "b083e78a-bb99-4410-b237-70205bdbc05e"
   },
   "outputs": [],
   "source": [
    "models_numbers = []\n",
    "models_name = os.listdir(raw_dir)\n",
    "if models_name:\n",
    "    for model_name in models_name:\n",
    "        model_num = int(model_name[5:6])\n",
    "        models_numbers.append(model_num)\n",
    "    max_num = max(models_numbers)\n",
    "else:\n",
    "    max_num = 0\n",
    "\n",
    "model.save(raw_dir + f\"model{max_num+1}-hrz.h5\")\n",
    "model.save(raw_dir + f\"model{max_num+1}-vrt.h5\")"
   ]
  }
 ],
 "metadata": {
  "colab": {
   "authorship_tag": "ABX9TyNJ55D+JOVdA6fiv2ayAPT8",
   "collapsed_sections": [],
   "mount_file_id": "1mEGliX-rV2YkSx8ASgAVoGgB28BGXYz1",
   "name": "crt_emp_2mdl_et.ipynb",
   "provenance": []
  },
  "kernelspec": {
   "display_name": "venv",
   "language": "python",
   "name": "venv"
  },
  "language_info": {
   "codemirror_mode": {
    "name": "ipython",
    "version": 3
   },
   "file_extension": ".py",
   "mimetype": "text/x-python",
   "name": "python",
   "nbconvert_exporter": "python",
   "pygments_lexer": "ipython3",
   "version": "3.9.6"
  }
 },
 "nbformat": 4,
 "nbformat_minor": 1
}
