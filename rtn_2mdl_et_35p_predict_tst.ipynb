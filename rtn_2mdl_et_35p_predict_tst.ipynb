{
  "nbformat": 4,
  "nbformat_minor": 0,
  "metadata": {
    "colab": {
      "name": "rtn_2mdl_et_35p_predict_tst.ipynb",
      "provenance": [],
      "collapsed_sections": []
    },
    "kernelspec": {
      "display_name": "Python 3 (ipykernel)",
      "language": "python",
      "name": "python3"
    },
    "language_info": {
      "codemirror_mode": {
        "name": "ipython",
        "version": 3
      },
      "file_extension": ".py",
      "mimetype": "text/x-python",
      "name": "python",
      "nbconvert_exporter": "python",
      "pygments_lexer": "ipython3",
      "version": "3.9.5"
    }
  },
  "cells": [
    {
      "cell_type": "markdown",
      "metadata": {
        "id": "s4mSPpqO8oEz"
      },
      "source": [
        "## Retraining 'eye_tracking' model for subject and predicting eye track (pixel coordinate)."
      ]
    },
    {
      "cell_type": "code",
      "metadata": {
        "id": "Ks_AbdKIb-xZ"
      },
      "source": [
        "from tensorflow.keras.callbacks import EarlyStopping\n",
        "from tensorflow.keras.models import load_model\n",
        "import numpy as np\n",
        "import pickle\n",
        "from sklearn.utils import shuffle\n",
        "from joblib import load as jload\n",
        "from joblib import dump as jdump\n",
        "import time\n",
        "import os\n",
        "# import tuning_parameters as tp"
      ],
      "execution_count": 32,
      "outputs": []
    },
    {
      "cell_type": "code",
      "metadata": {
        "colab": {
          "base_uri": "https://localhost:8080/"
        },
        "id": "b0CCDk0XctDo",
        "outputId": "6680cd7a-1258-46c7-f3b8-ebf1b678683e"
      },
      "source": [
        "from google.colab import drive\n",
        "drive.mount('/content/drive')"
      ],
      "execution_count": 33,
      "outputs": [
        {
          "output_type": "stream",
          "name": "stdout",
          "text": [
            "Drive already mounted at /content/drive; to attempt to forcibly remount, call drive.mount(\"/content/drive\", force_remount=True).\n"
          ]
        }
      ]
    },
    {
      "cell_type": "code",
      "metadata": {
        "id": "T5XUNQBvcGf6"
      },
      "source": [
        "# Parameters\n",
        "PATH2PROJECT = \"/content/drive/MyDrive/Projects/EyeTracker/\"\n",
        "target_folder = \"subjects/\"\n",
        "\n",
        "# et_public_scaler_dir = PATH2PROJECT + f\"models/eye_tracking/trained/scalers{tp.EYE_TRACKING_MODEL_NUMBER}.bin\"\n",
        "# et_public_model_dir = PATH2PROJECT + f\"models/eye_tracking/trained/model{tp.EYE_TRACKING_MODEL_NUMBER}\"\n",
        "\n",
        "EYE_TRACKING_MODEL_NUMBER = 3\n",
        "et_public_scaler_dir = PATH2PROJECT + f\"models/eye_tracking/trained/scalers{EYE_TRACKING_MODEL_NUMBER}.bin\"\n",
        "et_public_model_dir = PATH2PROJECT + f\"models/eye_tracking/trained/model{EYE_TRACKING_MODEL_NUMBER}\"\n",
        "SUBJECT_NUM = 2\n",
        "CHOSEN_INPUTS = [0, 1, 2, 6, 7, 8, 9]\n",
        "\n",
        "R_TRAIN = 0.85\n",
        "N_EPOCHS = 100\n",
        "PATIENCE = 10\n",
        "TRAINABLE_LAYERS = 1"
      ],
      "execution_count": 34,
      "outputs": []
    },
    {
      "cell_type": "code",
      "metadata": {
        "id": "C8AhjPqb8oE_"
      },
      "source": [
        "# subject_dir = PATH2PROJECT + target_folder + f\"/{tp.NUMBER}/\"\n",
        "subject_dir = PATH2PROJECT + target_folder + f\"{SUBJECT_NUM}/\"\n",
        "ibo_subject_scaler_dir = subject_dir + \"scalers_in_blink_out.bin\"\n",
        "ibo_subject_model_dir = subject_dir + \"model_in_blink_out\""
      ],
      "execution_count": 35,
      "outputs": []
    },
    {
      "cell_type": "markdown",
      "metadata": {
        "id": "wGy7E9iA8oFA"
      },
      "source": [
        "### Retraining 'eye_tracking' model with subject calibration data"
      ]
    },
    {
      "cell_type": "code",
      "metadata": {
        "colab": {
          "base_uri": "https://localhost:8080/"
        },
        "id": "bvzEN-j4cGFQ",
        "outputId": "8ae84f7e-2cca-4f92-d03d-43e5e5f431a4"
      },
      "source": [
        "et_clb_fol = subject_dir + \"eye_tracking data-calibration/\"\n",
        "print(f\"\\nLoading subject data in {et_clb_fol}\")\n",
        "with open(et_clb_fol + \"x1.pickle\", \"rb\") as f:\n",
        "    x1_load = pickle.load(f)\n",
        "with open(et_clb_fol + \"x2.pickle\", \"rb\") as f:\n",
        "    x2_load = pickle.load(f)\n",
        "with open(et_clb_fol + \"y.pickle\", \"rb\") as f:\n",
        "    y_load = pickle.load(f)\n",
        "n_smp, frame_height, frame_width = x1_load.shape[:-1]\n",
        "print(f\"Samples number: {n_smp}\")\n",
        "time.sleep(2)"
      ],
      "execution_count": 36,
      "outputs": [
        {
          "output_type": "stream",
          "name": "stdout",
          "text": [
            "\n",
            "Loading subject data in /content/drive/MyDrive/Projects/EyeTracker/subjects/2/eye_tracking data-calibration/\n",
            "Samples number: 7000\n"
          ]
        }
      ]
    },
    {
      "cell_type": "code",
      "metadata": {
        "id": "ygdBBcjud--4"
      },
      "source": [
        "import matplotlib.pyplot as plt"
      ],
      "execution_count": 37,
      "outputs": []
    },
    {
      "cell_type": "code",
      "metadata": {
        "colab": {
          "base_uri": "https://localhost:8080/",
          "height": 336
        },
        "id": "x4GOLYKnAWR-",
        "outputId": "2352588f-265d-49a7-d627-2ea272a4c1f2"
      },
      "source": [
        "# Displaying data\n",
        "SAMPLE_NUMBER = 50\n",
        "print(x2_load[SAMPLE_NUMBER])\n",
        "print(y_load[SAMPLE_NUMBER])\n",
        "plt.imshow(x1_load[SAMPLE_NUMBER].reshape((frame_height, frame_width)),\n",
        "           cmap=\"gray\", vmin=0, vmax=255)\n",
        "plt.show()"
      ],
      "execution_count": 38,
      "outputs": [
        {
          "output_type": "stream",
          "name": "stdout",
          "text": [
            "[-2.77370058e+00 -7.44353733e-02 -2.00434757e-02  3.10411937e+00\n",
            "  3.51741753e+00  6.38527849e+01  4.75242794e-01  4.60822523e-01\n",
            "  4.91144359e-01  4.77497756e-01]\n",
            "[1844  508]\n"
          ]
        },
        {
          "output_type": "display_data",
          "data": {
            "image/png": "[encoded data removed]",
            "text/plain": [
              "<Figure size 432x288 with 1 Axes>"
            ]
          },
          "metadata": {
            "needs_background": "light"
          }
        }
      ]
    },
    {
      "cell_type": "markdown",
      "metadata": {
        "id": "8AzfSjqn8oFD"
      },
      "source": [
        "#### Getting those data that looking 'in' screen"
      ]
    },
    {
      "cell_type": "code",
      "metadata": {
        "colab": {
          "base_uri": "https://localhost:8080/"
        },
        "id": "DWA57YKb8oFE",
        "outputId": "bcf52386-ae85-4ff9-af25-1f9415bebd56"
      },
      "source": [
        "print(\"\\nNormalizing data...\")\n",
        "# x2_chs_inp = x2_load[:, tp.CHOSEN_INPUTS]\n",
        "x2_chs_inp = x2_load[:, CHOSEN_INPUTS]\n",
        "scalers_ibo = jload(ibo_subject_scaler_dir)\n",
        "x1_scaler_ibo, x2_scaler_ibo = scalers_ibo\n",
        "x1 = x1_load / x1_scaler_ibo\n",
        "x2 = x2_scaler_ibo.transform(x2_chs_inp)\n",
        "time.sleep(2)"
      ],
      "execution_count": 39,
      "outputs": [
        {
          "output_type": "stream",
          "name": "stdout",
          "text": [
            "\n",
            "Normalizing data...\n"
          ]
        },
        {
          "output_type": "stream",
          "name": "stderr",
          "text": [
            "/usr/local/lib/python3.7/dist-packages/sklearn/base.py:318: UserWarning: Trying to unpickle estimator StandardScaler from version 0.24.2 when using version 0.22.2.post1. This might lead to breaking code or invalid results. Use at your own risk.\n",
            "  UserWarning)\n"
          ]
        }
      ]
    },
    {
      "cell_type": "code",
      "metadata": {
        "colab": {
          "base_uri": "https://localhost:8080/"
        },
        "id": "SJ-ojxa18oFG",
        "outputId": "92885191-edcc-4664-fa23-d57e7c2b770e"
      },
      "source": [
        "print(\"\\nLoading in_blink_out model...\")\n",
        "model_ibo = load_model(ibo_subject_model_dir)\n",
        "print(model_ibo.summary())\n",
        "time.sleep(2)"
      ],
      "execution_count": 40,
      "outputs": [
        {
          "output_type": "stream",
          "name": "stdout",
          "text": [
            "\n",
            "Loading in_blink_out model...\n",
            "Model: \"model\"\n",
            "__________________________________________________________________________________________________\n",
            "Layer (type)                    Output Shape         Param #     Connected to                     \n",
            "==================================================================================================\n",
            "input_1 (InputLayer)            [(None, 48, 44, 1)]  0                                            \n",
            "__________________________________________________________________________________________________\n",
            "conv2d (Conv2D)                 (None, 48, 44, 16)   416         input_1[0][0]                    \n",
            "__________________________________________________________________________________________________\n",
            "max_pooling2d (MaxPooling2D)    (None, 24, 22, 16)   0           conv2d[0][0]                     \n",
            "__________________________________________________________________________________________________\n",
            "conv2d_1 (Conv2D)               (None, 24, 22, 32)   12832       max_pooling2d[0][0]              \n",
            "__________________________________________________________________________________________________\n",
            "max_pooling2d_1 (MaxPooling2D)  (None, 12, 11, 32)   0           conv2d_1[0][0]                   \n",
            "__________________________________________________________________________________________________\n",
            "conv2d_2 (Conv2D)               (None, 10, 9, 64)    18496       max_pooling2d_1[0][0]            \n",
            "__________________________________________________________________________________________________\n",
            "max_pooling2d_2 (MaxPooling2D)  (None, 5, 4, 64)     0           conv2d_2[0][0]                   \n",
            "__________________________________________________________________________________________________\n",
            "flatten (Flatten)               (None, 1280)         0           max_pooling2d_2[0][0]            \n",
            "__________________________________________________________________________________________________\n",
            "dense (Dense)                   (None, 256)          327936      flatten[0][0]                    \n",
            "__________________________________________________________________________________________________\n",
            "input_2 (InputLayer)            [(None, 7)]          0                                            \n",
            "__________________________________________________________________________________________________\n",
            "concatenate (Concatenate)       (None, 263)          0           dense[0][0]                      \n",
            "                                                                 input_2[0][0]                    \n",
            "__________________________________________________________________________________________________\n",
            "dense_1 (Dense)                 (None, 128)          33792       concatenate[0][0]                \n",
            "__________________________________________________________________________________________________\n",
            "dense_2 (Dense)                 (None, 32)           4128        dense_1[0][0]                    \n",
            "__________________________________________________________________________________________________\n",
            "dense_3 (Dense)                 (None, 16)           528         dense_2[0][0]                    \n",
            "__________________________________________________________________________________________________\n",
            "dense_4 (Dense)                 (None, 3)            51          dense_3[0][0]                    \n",
            "__________________________________________________________________________________________________\n",
            "dense_5 (Dense)                 (None, 3)            12          dense_4[0][0]                    \n",
            "==================================================================================================\n",
            "Total params: 398,191\n",
            "Trainable params: 398,191\n",
            "Non-trainable params: 0\n",
            "__________________________________________________________________________________________________\n",
            "None\n"
          ]
        }
      ]
    },
    {
      "cell_type": "code",
      "metadata": {
        "colab": {
          "base_uri": "https://localhost:8080/"
        },
        "id": "KGqOn_458oFH",
        "outputId": "9080e5e9-11ac-4e42-b39f-7c5aa5181ffb"
      },
      "source": [
        "print(\"\\nPredicting those data that looking 'in' screen.\")\n",
        "x = [x1, x2]\n",
        "yhat_ibo = model_ibo.predict(x).argmax(1)\n",
        "time.sleep(2)"
      ],
      "execution_count": 41,
      "outputs": [
        {
          "output_type": "stream",
          "name": "stdout",
          "text": [
            "\n",
            "Predicting those data that looking 'in' screen.\n"
          ]
        }
      ]
    },
    {
      "cell_type": "code",
      "metadata": {
        "colab": {
          "base_uri": "https://localhost:8080/"
        },
        "id": "ySFqmNyd8oFI",
        "outputId": "75cea127-1407-47f9-a7a9-ab1be5bcdf09"
      },
      "source": [
        "# Choosing those data\n",
        "x1_new = []\n",
        "x2_new = []\n",
        "y_new = []\n",
        "for (x10, x20, y0, yht0) in zip(x1_load, x2_load, y_load, yhat_ibo):\n",
        "    if True: # yht0 != 1:\n",
        "        x1_new.append(x10)\n",
        "        x2_new.append(x20)\n",
        "        y_new.append(y0)\n",
        "\n",
        "x1_new = np.array(x1_new)\n",
        "x2_new = np.array(x2_new)\n",
        "y_new = np.array(y_new)\n",
        "n_smp_new = x1_new.shape[0]\n",
        "print(f\"New samples: {n_smp_new}\")"
      ],
      "execution_count": 42,
      "outputs": [
        {
          "output_type": "stream",
          "name": "stdout",
          "text": [
            "New samples: 7000\n"
          ]
        }
      ]
    },
    {
      "cell_type": "markdown",
      "metadata": {
        "id": "tVhzAjUV8oFJ"
      },
      "source": [
        "### Preparing modified calibration data to feeding in eye_tracking model"
      ]
    },
    {
      "cell_type": "code",
      "metadata": {
        "id": "o2yHN0I9cF6o",
        "colab": {
          "base_uri": "https://localhost:8080/"
        },
        "outputId": "adfd1167-179f-48b5-c016-91e9249c46eb"
      },
      "source": [
        "print(\"\\nNormalizing modified calibration data to feeding in eye_tracking model...\")\n",
        "# x2_chs_inp_new = x2_new[:, tp.CHOSEN_INPUTS]\n",
        "x2_chs_inp_new = x2_new[:, CHOSEN_INPUTS]\n",
        "scalers_et = jload(et_public_scaler_dir)\n",
        "x1_scaler_et, x2_scaler_et, _ = scalers_et\n",
        "\n",
        "x1_nrm = x1_new / x1_scaler_et\n",
        "x2_nrm = x2_scaler_et.transform(x2_chs_inp_new)\n",
        "\n",
        "y_scalers_et = y_new.max(0)\n",
        "y_nrm = y_new / y_scalers_et\n",
        "\n",
        "scalers_et[2] = y_scalers_et\n",
        "jdump(scalers_et, subject_dir + \"scalers_eye_tracking.bin\")"
      ],
      "execution_count": 43,
      "outputs": [
        {
          "output_type": "stream",
          "name": "stdout",
          "text": [
            "\n",
            "Normalizing modified calibration data to feeding in eye_tracking model...\n"
          ]
        },
        {
          "output_type": "execute_result",
          "data": {
            "text/plain": [
              "['/content/drive/MyDrive/Projects/EyeTracker/subjects/2/scalers_eye_tracking.bin']"
            ]
          },
          "metadata": {},
          "execution_count": 43
        }
      ]
    },
    {
      "cell_type": "code",
      "metadata": {
        "colab": {
          "base_uri": "https://localhost:8080/"
        },
        "id": "eNwyQAwL2pGS",
        "outputId": "9812cee4-8a01-4734-b479-81feed0099c2"
      },
      "source": [
        "# Shuffling and splitting data to train and test\n",
        "x1_shf, x2_shf, yx_shf, yy_shf = shuffle(x1_nrm, x2_nrm, y_nrm[:, 0], y_nrm[:, 1])\n",
        "\n",
        "n_train = int(R_TRAIN * n_smp_new)\n",
        "n_test = n_smp_new - n_train\n",
        "x1_train, x2_train = x1_shf[:n_train], x2_shf[:n_train]\n",
        "x1_test, x2_test = x1_shf[n_train:], x2_shf[n_train:]\n",
        "yx_train, yy_train = yx_shf[:n_train], yy_shf[:n_train]\n",
        "yx_test, yy_test = yx_shf[n_train:], yy_shf[n_train:]\n",
        "\n",
        "x_train = [x1_train, x2_train]\n",
        "x_test = [x1_test, x2_test]\n",
        "\n",
        "print(x1_train.shape, x1_test.shape, yx_train.shape, yx_test.shape,\n",
        "      x2_train.shape, x2_test.shape, yy_train.shape, yy_test.shape)"
      ],
      "execution_count": 44,
      "outputs": [
        {
          "output_type": "stream",
          "name": "stdout",
          "text": [
            "(5950, 48, 44, 1) (1050, 48, 44, 1) (5950,) (1050,) (5950, 7) (1050, 7) (5950,) (1050,)\n"
          ]
        }
      ]
    },
    {
      "cell_type": "code",
      "metadata": {
        "id": "PqdkxbYFcpuf"
      },
      "source": [
        "# Callback for training\n",
        "cb = EarlyStopping(patience=PATIENCE, verbose=1, restore_best_weights=True)"
      ],
      "execution_count": 45,
      "outputs": []
    },
    {
      "cell_type": "code",
      "metadata": {
        "colab": {
          "base_uri": "https://localhost:8080/"
        },
        "id": "dpT4PjQUcprr",
        "outputId": "a3aa1dfd-0002-41de-a4b3-9719987a58ea"
      },
      "source": [
        "print(\"Loading public eye_tracking models...\")\n",
        "model_x = load_model(et_public_model_dir + \"_x\")\n",
        "model_y = load_model(et_public_model_dir + \"_y\")\n",
        "# print(model1.summary())\n",
        "time.sleep(2)"
      ],
      "execution_count": 46,
      "outputs": [
        {
          "output_type": "stream",
          "name": "stdout",
          "text": [
            "Loading public eye_tracking models...\n"
          ]
        }
      ]
    },
    {
      "cell_type": "code",
      "metadata": {
        "colab": {
          "base_uri": "https://localhost:8080/"
        },
        "id": "lgxSezv4jY70",
        "outputId": "5c8f1c31-0c46-4388-c243-de3247676f9d"
      },
      "source": [
        "for (layer1, layer2) in zip(model_x.layers[:-TRAINABLE_LAYERS], model_y.layers[:-TRAINABLE_LAYERS]):\n",
        "    layer1.trainable = False\n",
        "    layer2.trainable = False\n",
        "\n",
        "print(model_x.summary())"
      ],
      "execution_count": 47,
      "outputs": [
        {
          "output_type": "stream",
          "name": "stdout",
          "text": [
            "Model: \"model\"\n",
            "__________________________________________________________________________________________________\n",
            "Layer (type)                    Output Shape         Param #     Connected to                     \n",
            "==================================================================================================\n",
            "input_1 (InputLayer)            [(None, 48, 44, 1)]  0                                            \n",
            "__________________________________________________________________________________________________\n",
            "conv2d (Conv2D)                 (None, 48, 44, 16)   416         input_1[0][0]                    \n",
            "__________________________________________________________________________________________________\n",
            "max_pooling2d (MaxPooling2D)    (None, 24, 22, 16)   0           conv2d[0][0]                     \n",
            "__________________________________________________________________________________________________\n",
            "conv2d_1 (Conv2D)               (None, 24, 22, 32)   12832       max_pooling2d[0][0]              \n",
            "__________________________________________________________________________________________________\n",
            "max_pooling2d_1 (MaxPooling2D)  (None, 12, 11, 32)   0           conv2d_1[0][0]                   \n",
            "__________________________________________________________________________________________________\n",
            "conv2d_2 (Conv2D)               (None, 10, 9, 64)    18496       max_pooling2d_1[0][0]            \n",
            "__________________________________________________________________________________________________\n",
            "max_pooling2d_2 (MaxPooling2D)  (None, 5, 4, 64)     0           conv2d_2[0][0]                   \n",
            "__________________________________________________________________________________________________\n",
            "flatten (Flatten)               (None, 1280)         0           max_pooling2d_2[0][0]            \n",
            "__________________________________________________________________________________________________\n",
            "dense (Dense)                   (None, 400)          512400      flatten[0][0]                    \n",
            "__________________________________________________________________________________________________\n",
            "input_2 (InputLayer)            [(None, 7)]          0                                            \n",
            "__________________________________________________________________________________________________\n",
            "concatenate (Concatenate)       (None, 407)          0           dense[0][0]                      \n",
            "                                                                 input_2[0][0]                    \n",
            "__________________________________________________________________________________________________\n",
            "dense_1 (Dense)                 (None, 180)          73440       concatenate[0][0]                \n",
            "__________________________________________________________________________________________________\n",
            "dense_2 (Dense)                 (None, 64)           11584       dense_1[0][0]                    \n",
            "__________________________________________________________________________________________________\n",
            "dense_3 (Dense)                 (None, 16)           1040        dense_2[0][0]                    \n",
            "__________________________________________________________________________________________________\n",
            "dense_4 (Dense)                 (None, 6)            102         dense_3[0][0]                    \n",
            "__________________________________________________________________________________________________\n",
            "dense_5 (Dense)                 (None, 1)            7           dense_4[0][0]                    \n",
            "==================================================================================================\n",
            "Total params: 630,317\n",
            "Trainable params: 7\n",
            "Non-trainable params: 630,310\n",
            "__________________________________________________________________________________________________\n",
            "None\n"
          ]
        }
      ]
    },
    {
      "cell_type": "code",
      "metadata": {
        "colab": {
          "base_uri": "https://localhost:8080/"
        },
        "id": "diMNdUZZjeLQ",
        "outputId": "282ee5b4-fde4-49ee-c57c-3fc9ae03c483"
      },
      "source": [
        "print(\"\\nStart of training for model 1 (x-pixels)\")\n",
        "results_x = model_x.fit(x_train,\n",
        "                        yx_train,\n",
        "                        validation_data=(x_test, yx_test),\n",
        "                        epochs=N_EPOCHS,\n",
        "                        callbacks=cb)\n",
        "time.sleep(2)\n",
        "print(\"End of training\")"
      ],
      "execution_count": 48,
      "outputs": [
        {
          "output_type": "stream",
          "name": "stdout",
          "text": [
            "\n",
            "Start of training for model 1 (x-pixels)\n",
            "Epoch 1/100\n",
            "186/186 [==============================] - 3s 11ms/step - loss: 0.0370 - val_loss: 0.0327\n",
            "Epoch 2/100\n",
            "186/186 [==============================] - 2s 9ms/step - loss: 0.0279 - val_loss: 0.0342\n",
            "Epoch 3/100\n",
            "186/186 [==============================] - 2s 9ms/step - loss: 0.0252 - val_loss: 0.0279\n",
            "Epoch 4/100\n",
            "186/186 [==============================] - 2s 8ms/step - loss: 0.0219 - val_loss: 0.0293\n",
            "Epoch 5/100\n",
            "186/186 [==============================] - 2s 9ms/step - loss: 0.0217 - val_loss: 0.0254\n",
            "Epoch 6/100\n",
            "186/186 [==============================] - 2s 8ms/step - loss: 0.0215 - val_loss: 0.0276\n",
            "Epoch 7/100\n",
            "186/186 [==============================] - 2s 8ms/step - loss: 0.0199 - val_loss: 0.0257\n",
            "Epoch 8/100\n",
            "186/186 [==============================] - 2s 8ms/step - loss: 0.0200 - val_loss: 0.0260\n",
            "Epoch 9/100\n",
            "186/186 [==============================] - 2s 9ms/step - loss: 0.0189 - val_loss: 0.0236\n",
            "Epoch 10/100\n",
            "186/186 [==============================] - 2s 8ms/step - loss: 0.0183 - val_loss: 0.0245\n",
            "Epoch 11/100\n",
            "186/186 [==============================] - 2s 9ms/step - loss: 0.0207 - val_loss: 0.0237\n",
            "Epoch 12/100\n",
            "186/186 [==============================] - 2s 8ms/step - loss: 0.0172 - val_loss: 0.0236\n",
            "Epoch 13/100\n",
            "186/186 [==============================] - 2s 8ms/step - loss: 0.0179 - val_loss: 0.0263\n",
            "Epoch 14/100\n",
            "186/186 [==============================] - 2s 8ms/step - loss: 0.0176 - val_loss: 0.0247\n",
            "Epoch 15/100\n",
            "186/186 [==============================] - 2s 8ms/step - loss: 0.0181 - val_loss: 0.0229\n",
            "Epoch 16/100\n",
            "186/186 [==============================] - 2s 8ms/step - loss: 0.0178 - val_loss: 0.0242\n",
            "Epoch 17/100\n",
            "186/186 [==============================] - 2s 8ms/step - loss: 0.0172 - val_loss: 0.0251\n",
            "Epoch 18/100\n",
            "186/186 [==============================] - 2s 8ms/step - loss: 0.0183 - val_loss: 0.0235\n",
            "Epoch 19/100\n",
            "186/186 [==============================] - 2s 9ms/step - loss: 0.0166 - val_loss: 0.0222\n",
            "Epoch 20/100\n",
            "186/186 [==============================] - 2s 8ms/step - loss: 0.0168 - val_loss: 0.0229\n",
            "Epoch 21/100\n",
            "186/186 [==============================] - 2s 8ms/step - loss: 0.0165 - val_loss: 0.0245\n",
            "Epoch 22/100\n",
            "186/186 [==============================] - 2s 8ms/step - loss: 0.0168 - val_loss: 0.0251\n",
            "Epoch 23/100\n",
            "186/186 [==============================] - 2s 8ms/step - loss: 0.0177 - val_loss: 0.0241\n",
            "Epoch 24/100\n",
            "186/186 [==============================] - 2s 8ms/step - loss: 0.0161 - val_loss: 0.0238\n",
            "Epoch 25/100\n",
            "186/186 [==============================] - 2s 9ms/step - loss: 0.0160 - val_loss: 0.0217\n",
            "Epoch 26/100\n",
            "186/186 [==============================] - 2s 8ms/step - loss: 0.0174 - val_loss: 0.0319\n",
            "Epoch 27/100\n",
            "186/186 [==============================] - 2s 9ms/step - loss: 0.0158 - val_loss: 0.0234\n",
            "Epoch 28/100\n",
            "186/186 [==============================] - 2s 8ms/step - loss: 0.0167 - val_loss: 0.0234\n",
            "Epoch 29/100\n",
            "186/186 [==============================] - 2s 9ms/step - loss: 0.0156 - val_loss: 0.0228\n",
            "Epoch 30/100\n",
            "186/186 [==============================] - 2s 9ms/step - loss: 0.0147 - val_loss: 0.0225\n",
            "Epoch 31/100\n",
            "186/186 [==============================] - 2s 8ms/step - loss: 0.0150 - val_loss: 0.0211\n",
            "Epoch 32/100\n",
            "186/186 [==============================] - 2s 8ms/step - loss: 0.0142 - val_loss: 0.0231\n",
            "Epoch 33/100\n",
            "186/186 [==============================] - 2s 8ms/step - loss: 0.0153 - val_loss: 0.0210\n",
            "Epoch 34/100\n",
            "186/186 [==============================] - 2s 8ms/step - loss: 0.0150 - val_loss: 0.0215\n",
            "Epoch 35/100\n",
            "186/186 [==============================] - 2s 8ms/step - loss: 0.0165 - val_loss: 0.0252\n",
            "Epoch 36/100\n",
            "186/186 [==============================] - 2s 8ms/step - loss: 0.0170 - val_loss: 0.0215\n",
            "Epoch 37/100\n",
            "186/186 [==============================] - 2s 8ms/step - loss: 0.0148 - val_loss: 0.0222\n",
            "Epoch 38/100\n",
            "186/186 [==============================] - 2s 8ms/step - loss: 0.0144 - val_loss: 0.0234\n",
            "Epoch 39/100\n",
            "186/186 [==============================] - 2s 8ms/step - loss: 0.0136 - val_loss: 0.0223\n",
            "Epoch 40/100\n",
            "186/186 [==============================] - 2s 8ms/step - loss: 0.0135 - val_loss: 0.0198\n",
            "Epoch 41/100\n",
            "186/186 [==============================] - 2s 8ms/step - loss: 0.0134 - val_loss: 0.0212\n",
            "Epoch 42/100\n",
            "186/186 [==============================] - 2s 8ms/step - loss: 0.0128 - val_loss: 0.0206\n",
            "Epoch 43/100\n",
            "186/186 [==============================] - 2s 8ms/step - loss: 0.0126 - val_loss: 0.0257\n",
            "Epoch 44/100\n",
            "186/186 [==============================] - 2s 9ms/step - loss: 0.0147 - val_loss: 0.0223\n",
            "Epoch 45/100\n",
            "186/186 [==============================] - 2s 8ms/step - loss: 0.0146 - val_loss: 0.0221\n",
            "Epoch 46/100\n",
            "186/186 [==============================] - 2s 8ms/step - loss: 0.0148 - val_loss: 0.0224\n",
            "Epoch 47/100\n",
            "186/186 [==============================] - 2s 8ms/step - loss: 0.0190 - val_loss: 0.0213\n",
            "Epoch 48/100\n",
            "186/186 [==============================] - 2s 8ms/step - loss: 0.0158 - val_loss: 0.0223\n",
            "Epoch 49/100\n",
            "186/186 [==============================] - 2s 8ms/step - loss: 0.0135 - val_loss: 0.0212\n",
            "Epoch 50/100\n",
            "186/186 [==============================] - 2s 8ms/step - loss: 0.0130 - val_loss: 0.0204\n",
            "Restoring model weights from the end of the best epoch.\n",
            "Epoch 00050: early stopping\n",
            "End of training\n"
          ]
        }
      ]
    },
    {
      "cell_type": "code",
      "metadata": {
        "colab": {
          "base_uri": "https://localhost:8080/"
        },
        "id": "vQz7jjQ5CTS8",
        "outputId": "f9c25499-ae97-4d66-8bfd-d5e13d35585d"
      },
      "source": [
        "print(\"\\nStart of training for model 2 (y-pixels)\")\n",
        "results_y = model_y.fit(x_train,\n",
        "                        yy_train,\n",
        "                        validation_data=(x_test, yy_test),\n",
        "                        epochs=N_EPOCHS,\n",
        "                        callbacks=cb)\n",
        "time.sleep(2)\n",
        "print(\"End of training\")"
      ],
      "execution_count": 49,
      "outputs": [
        {
          "output_type": "stream",
          "name": "stdout",
          "text": [
            "\n",
            "Start of training for model 2 (y-pixels)\n",
            "Epoch 1/100\n",
            "186/186 [==============================] - 2s 10ms/step - loss: 0.0885 - val_loss: 0.0698\n",
            "Epoch 2/100\n",
            "186/186 [==============================] - 2s 9ms/step - loss: 0.0621 - val_loss: 0.0574\n",
            "Epoch 3/100\n",
            "186/186 [==============================] - 2s 9ms/step - loss: 0.0553 - val_loss: 0.0715\n",
            "Epoch 4/100\n",
            "186/186 [==============================] - 2s 9ms/step - loss: 0.0526 - val_loss: 0.0526\n",
            "Epoch 5/100\n",
            "186/186 [==============================] - 2s 9ms/step - loss: 0.0472 - val_loss: 0.0540\n",
            "Epoch 6/100\n",
            "186/186 [==============================] - 2s 9ms/step - loss: 0.0468 - val_loss: 0.0481\n",
            "Epoch 7/100\n",
            "186/186 [==============================] - 2s 8ms/step - loss: 0.0407 - val_loss: 0.0442\n",
            "Epoch 8/100\n",
            "186/186 [==============================] - 2s 8ms/step - loss: 0.0391 - val_loss: 0.0549\n",
            "Epoch 9/100\n",
            "186/186 [==============================] - 2s 9ms/step - loss: 0.0409 - val_loss: 0.0424\n",
            "Epoch 10/100\n",
            "186/186 [==============================] - 2s 8ms/step - loss: 0.0381 - val_loss: 0.0363\n",
            "Epoch 11/100\n",
            "186/186 [==============================] - 2s 9ms/step - loss: 0.0357 - val_loss: 0.0404\n",
            "Epoch 12/100\n",
            "186/186 [==============================] - 2s 8ms/step - loss: 0.0352 - val_loss: 0.0460\n",
            "Epoch 13/100\n",
            "186/186 [==============================] - 2s 8ms/step - loss: 0.0323 - val_loss: 0.0429\n",
            "Epoch 14/100\n",
            "186/186 [==============================] - 2s 8ms/step - loss: 0.0358 - val_loss: 0.0394\n",
            "Epoch 15/100\n",
            "186/186 [==============================] - 2s 8ms/step - loss: 0.0342 - val_loss: 0.0383\n",
            "Epoch 16/100\n",
            "186/186 [==============================] - 2s 9ms/step - loss: 0.0320 - val_loss: 0.0459\n",
            "Epoch 17/100\n",
            "186/186 [==============================] - 2s 8ms/step - loss: 0.0321 - val_loss: 0.0353\n",
            "Epoch 18/100\n",
            "186/186 [==============================] - 2s 8ms/step - loss: 0.0306 - val_loss: 0.0343\n",
            "Epoch 19/100\n",
            "186/186 [==============================] - 2s 9ms/step - loss: 0.0293 - val_loss: 0.0377\n",
            "Epoch 20/100\n",
            "186/186 [==============================] - 2s 9ms/step - loss: 0.0268 - val_loss: 0.0311\n",
            "Epoch 21/100\n",
            "186/186 [==============================] - 2s 8ms/step - loss: 0.0260 - val_loss: 0.0346\n",
            "Epoch 22/100\n",
            "186/186 [==============================] - 2s 8ms/step - loss: 0.0245 - val_loss: 0.0348\n",
            "Epoch 23/100\n",
            "186/186 [==============================] - 2s 8ms/step - loss: 0.0295 - val_loss: 0.0283\n",
            "Epoch 24/100\n",
            "186/186 [==============================] - 2s 8ms/step - loss: 0.0268 - val_loss: 0.0329\n",
            "Epoch 25/100\n",
            "186/186 [==============================] - 2s 8ms/step - loss: 0.0265 - val_loss: 0.0340\n",
            "Epoch 26/100\n",
            "186/186 [==============================] - 2s 8ms/step - loss: 0.0264 - val_loss: 0.0307\n",
            "Epoch 27/100\n",
            "186/186 [==============================] - 2s 9ms/step - loss: 0.0253 - val_loss: 0.0397\n",
            "Epoch 28/100\n",
            "186/186 [==============================] - 2s 9ms/step - loss: 0.0238 - val_loss: 0.0364\n",
            "Epoch 29/100\n",
            "186/186 [==============================] - 2s 9ms/step - loss: 0.0225 - val_loss: 0.0252\n",
            "Epoch 30/100\n",
            "186/186 [==============================] - 2s 8ms/step - loss: 0.0219 - val_loss: 0.0255\n",
            "Epoch 31/100\n",
            "186/186 [==============================] - 2s 8ms/step - loss: 0.0217 - val_loss: 0.0309\n",
            "Epoch 32/100\n",
            "186/186 [==============================] - 2s 8ms/step - loss: 0.0239 - val_loss: 0.0279\n",
            "Epoch 33/100\n",
            "186/186 [==============================] - 2s 8ms/step - loss: 0.0194 - val_loss: 0.0286\n",
            "Epoch 34/100\n",
            "186/186 [==============================] - 2s 8ms/step - loss: 0.0194 - val_loss: 0.0257\n",
            "Epoch 35/100\n",
            "186/186 [==============================] - 2s 8ms/step - loss: 0.0199 - val_loss: 0.0306\n",
            "Epoch 36/100\n",
            "186/186 [==============================] - 2s 8ms/step - loss: 0.0224 - val_loss: 0.0295\n",
            "Epoch 37/100\n",
            "186/186 [==============================] - 2s 8ms/step - loss: 0.0200 - val_loss: 0.0297\n",
            "Epoch 38/100\n",
            "186/186 [==============================] - 2s 8ms/step - loss: 0.0180 - val_loss: 0.0265\n",
            "Epoch 39/100\n",
            "186/186 [==============================] - 2s 8ms/step - loss: 0.0168 - val_loss: 0.0282\n",
            "Restoring model weights from the end of the best epoch.\n",
            "Epoch 00039: early stopping\n",
            "End of training\n"
          ]
        }
      ]
    },
    {
      "cell_type": "code",
      "metadata": {
        "colab": {
          "base_uri": "https://localhost:8080/"
        },
        "id": "DCu14ufb8oFN",
        "outputId": "55beefd3-f9e9-4338-8b26-4486771d830e"
      },
      "source": [
        "print(\"\\nSaving models...\")\n",
        "model_x.save(subject_dir + \"model_eye_tracking_x\")\n",
        "model_y.save(subject_dir + \"model_eye_tracking_y\")\n",
        "time.sleep(2)"
      ],
      "execution_count": 50,
      "outputs": [
        {
          "output_type": "stream",
          "name": "stdout",
          "text": [
            "\n",
            "Saving models...\n",
            "INFO:tensorflow:Assets written to: /content/drive/MyDrive/Projects/EyeTracker/subjects/2/model_eye_tracking_x/assets\n",
            "INFO:tensorflow:Assets written to: /content/drive/MyDrive/Projects/EyeTracker/subjects/2/model_eye_tracking_y/assets\n"
          ]
        }
      ]
    },
    {
      "cell_type": "code",
      "metadata": {
        "id": "e9L074ihCXD6"
      },
      "source": [
        "# Predicting outputs for train and test data\n",
        "yx_hat_train = model_x.predict(x_train).reshape((n_train,))\n",
        "yx_hat_test = model_x.predict(x_test).reshape((n_test,))\n",
        "yy_hat_train = model_y.predict(x_train).reshape((n_train,))\n",
        "yy_hat_test = model_y.predict(x_test).reshape((n_test,))\n",
        "\n",
        "yx_hat_train[yx_hat_train < 0] = 0\n",
        "yx_hat_test[yx_hat_test < 0] = 0\n",
        "yy_hat_train[yy_hat_train < 0] = 0\n",
        "yy_hat_test[yy_hat_test < 0] = 0"
      ],
      "execution_count": 51,
      "outputs": []
    },
    {
      "cell_type": "code",
      "metadata": {
        "colab": {
          "base_uri": "https://localhost:8080/",
          "height": 338
        },
        "id": "FDC8rCcVjjDa",
        "outputId": "48c3b4f3-1946-4554-b0e9-6ae7c0ca6120"
      },
      "source": [
        "# Displaying data\n",
        "NUM = 2\n",
        "print(\"Train\")\n",
        "sample_train = (int(yx_train[NUM] * y_scalers_et[0]),\n",
        "                int(yy_train[NUM] * y_scalers_et[1]))\n",
        "sample_hat_train = (int(yx_hat_train[NUM] * y_scalers_et[0]),\n",
        "                    int(yy_hat_train[NUM] * y_scalers_et[1]))\n",
        "print(sample_train)\n",
        "print(sample_hat_train)\n",
        "\n",
        "print(\"Test\")\n",
        "sample_test = (int(yx_test[NUM] * y_scalers_et[0]),\n",
        "                int(yy_test[NUM] * y_scalers_et[1]))\n",
        "sample_hat_test = (int(yx_hat_test[NUM] * y_scalers_et[0]),\n",
        "                    int(yy_hat_test[NUM] * y_scalers_et[1]))\n",
        "print(sample_test)\n",
        "print(sample_hat_test)\n",
        "\n",
        "_, ax = plt.subplots(1,2)\n",
        "ax[0].imshow((x1_train[NUM] * x1_scaler_et).astype(np.uint8).\n",
        "           reshape((frame_height, frame_width)), cmap=\"gray\",vmin=0, vmax=255)\n",
        "ax[1].imshow((x1_test[NUM] * x1_scaler_et).astype(np.uint8).\n",
        "           reshape((frame_height, frame_width)), cmap=\"gray\",vmin=0, vmax=255)"
      ],
      "execution_count": 52,
      "outputs": [
        {
          "output_type": "stream",
          "name": "stdout",
          "text": [
            "Train\n",
            "(3668, 507)\n",
            "(3632, 507)\n",
            "Test\n",
            "(1843, 507)\n",
            "(2008, 525)\n"
          ]
        },
        {
          "output_type": "execute_result",
          "data": {
            "text/plain": [
              "<matplotlib.image.AxesImage at 0x7fddd87b7850>"
            ]
          },
          "metadata": {},
          "execution_count": 52
        },
        {
          "output_type": "display_data",
          "data": {
            "image/png": "[encoded data removed]",
            "text/plain": [
              "<Figure size 432x288 with 2 Axes>"
            ]
          },
          "metadata": {
            "needs_background": "light"
          }
        }
      ]
    },
    {
      "cell_type": "markdown",
      "metadata": {
        "id": "lXSSVV778oFP"
      },
      "source": [
        "### Getting sampling data that looking 'in' screen"
      ]
    },
    {
      "cell_type": "code",
      "metadata": {
        "colab": {
          "base_uri": "https://localhost:8080/"
        },
        "id": "A89vgRT88oFP",
        "outputId": "7be8e6ed-6f3b-4ec0-d134-5c51d5c16a68"
      },
      "source": [
        "eye_tracking_smp_dir = subject_dir + \"sampling data/\"\n",
        "print(f\"\\nLoading subject sampling data in {eye_tracking_smp_dir}\")\n",
        "with open(eye_tracking_smp_dir + \"t.pickle\", \"rb\") as f:\n",
        "    t_smp_load = pickle.load(f)\n",
        "with open(eye_tracking_smp_dir + \"x1.pickle\", \"rb\") as f:\n",
        "    x1_smp_load = pickle.load(f)\n",
        "with open(eye_tracking_smp_dir + \"x2.pickle\", \"rb\") as f:\n",
        "    x2_smp_load = pickle.load(f)\n",
        "\n",
        "n_sampling= t_smp_load.shape[0]\n",
        "print(f\"Number of sampling data : {n_sampling}\")"
      ],
      "execution_count": 53,
      "outputs": [
        {
          "output_type": "stream",
          "name": "stdout",
          "text": [
            "\n",
            "Loading subject sampling data in /content/drive/MyDrive/Projects/EyeTracker/subjects/2/sampling data/\n",
            "Number of sampling data : 604\n"
          ]
        }
      ]
    },
    {
      "cell_type": "code",
      "metadata": {
        "id": "44uvMv2b8oFQ"
      },
      "source": [
        "# Normalizing Sampling data for 'in_blink_out' model\n",
        "# x2_smp_chs_inp = x2_smp_load[:, tp.CHOSEN_INPUTS]\n",
        "x2_smp_chs_inp = x2_smp_load[:, CHOSEN_INPUTS]\n",
        "x1_smp = x1_smp_load / x1_scaler_ibo\n",
        "x2_smp = x2_scaler_ibo.transform(x2_smp_chs_inp)\n",
        "x_smp = [x1_smp, x2_smp]"
      ],
      "execution_count": 54,
      "outputs": []
    },
    {
      "cell_type": "code",
      "metadata": {
        "colab": {
          "base_uri": "https://localhost:8080/"
        },
        "id": "2_UMXhI68oFR",
        "outputId": "0ed86366-9414-4c01-a0f3-f743e866e6e4"
      },
      "source": [
        "print(\"\\nPredicting those data that looking 'in' screen...\")\n",
        "yhat_smp_ibo = model_ibo.predict(x_smp).argmax(1)"
      ],
      "execution_count": 55,
      "outputs": [
        {
          "output_type": "stream",
          "name": "stdout",
          "text": [
            "\n",
            "Predicting those data that looking 'in' screen...\n"
          ]
        }
      ]
    },
    {
      "cell_type": "code",
      "metadata": {
        "colab": {
          "base_uri": "https://localhost:8080/"
        },
        "id": "5AZ_BVnU8oFR",
        "outputId": "88e61602-22d4-43fc-c8c0-89c52e02ef85"
      },
      "source": [
        "# Choosing those data\n",
        "t_smp_new = []\n",
        "x1_smp_new = []\n",
        "x2_smp_new = []\n",
        "for (t0, x10, x20, yht0) in zip(t_smp_load, x1_smp_load, x2_smp_load, yhat_smp_ibo):\n",
        "    if True: # yht0 == 0:\n",
        "        t_smp_new.append(t0)\n",
        "        x1_smp_new.append(x10)\n",
        "        x2_smp_new.append(x20)\n",
        "\n",
        "t_smp_new = np.array(t_smp_new)\n",
        "x1_smp_new = np.array(x1_smp_new)\n",
        "x2_smp_new = np.array(x2_smp_new)\n",
        "n_sampling_new = x1_smp_new.shape[0]\n",
        "print(f\"New samples: {n_sampling_new}\")"
      ],
      "execution_count": 56,
      "outputs": [
        {
          "output_type": "stream",
          "name": "stdout",
          "text": [
            "New samples: 604\n"
          ]
        }
      ]
    },
    {
      "cell_type": "markdown",
      "metadata": {
        "id": "g1c4gEd_8oFS"
      },
      "source": [
        "### Predicting eye track for samling data in pixels."
      ]
    },
    {
      "cell_type": "code",
      "metadata": {
        "id": "YMJFqQru8oFS"
      },
      "source": [
        "# Normalizing Sampling data for 'eye_tracking' model\n",
        "# x2_smp_new_chs_inp = x2_smp_new[:, tp.CHOSEN_INPUTS]\n",
        "x2_smp_new_chs_inp = x2_smp_new[:, CHOSEN_INPUTS]\n",
        "x1_smp_nrm = x1_smp_new / x1_scaler_et\n",
        "x2_smp_nrm = x2_scaler_et.transform(x2_smp_new_chs_inp)\n",
        "x_smp = [x1_smp_nrm, x2_smp_nrm]"
      ],
      "execution_count": 57,
      "outputs": []
    },
    {
      "cell_type": "code",
      "metadata": {
        "colab": {
          "base_uri": "https://localhost:8080/"
        },
        "id": "QhGRU1Gp8oFS",
        "outputId": "b56be31f-2332-4b59-c6b4-c46b3ffc186b"
      },
      "source": [
        "print(\"\\nPredicting sampling data...\")\n",
        "yx_hat_smp = np.expand_dims(model_x.predict(x_smp).reshape((n_sampling_new,)), 1)\n",
        "yy_hat_smp = np.expand_dims(model_y.predict(x_smp).reshape((n_sampling_new,)), 1)\n",
        "\n",
        "pixels = (np.concatenate([yx_hat_smp, yy_hat_smp], 1) * y_scalers_et).astype(np.uint32)"
      ],
      "execution_count": 58,
      "outputs": [
        {
          "output_type": "stream",
          "name": "stdout",
          "text": [
            "\n",
            "Predicting sampling data...\n"
          ]
        }
      ]
    },
    {
      "cell_type": "code",
      "metadata": {
        "colab": {
          "base_uri": "https://localhost:8080/"
        },
        "id": "Nz2knxtl8oFT",
        "outputId": "daa99dbb-be51-4072-9232-e7e313026a7d"
      },
      "source": [
        "eye_tracking_pixels_dir = subject_dir + \"sampling data-pixels/\"\n",
        "if not os.path.exists(eye_tracking_pixels_dir):\n",
        "    os.mkdir(eye_tracking_pixels_dir)\n",
        "\n",
        "with open(eye_tracking_pixels_dir + \"t.pickle\", 'wb') as f:\n",
        "    pickle.dump(t_smp_new, f)\n",
        "with open(eye_tracking_pixels_dir + \"pixels.pickle\", 'wb') as f:\n",
        "    pickle.dump(pixels, f)\n",
        "print(\"\\nPixel data saved!!\")"
      ],
      "execution_count": 59,
      "outputs": [
        {
          "output_type": "stream",
          "name": "stdout",
          "text": [
            "\n",
            "Pixel data saved!!\n"
          ]
        }
      ]
    }
  ]
}